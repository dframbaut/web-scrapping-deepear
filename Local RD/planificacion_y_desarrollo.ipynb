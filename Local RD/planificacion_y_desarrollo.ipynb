{
  "nbformat": 4,
  "nbformat_minor": 0,
  "metadata": {
    "colab": {
      "provenance": [],
      "authorship_tag": "ABX9TyNxFDdC+ekLZRUv3fNN8ybk",
      "include_colab_link": true
    },
    "kernelspec": {
      "name": "python3",
      "display_name": "Python 3"
    },
    "language_info": {
      "name": "python"
    }
  },
  "cells": [
    {
      "cell_type": "markdown",
      "metadata": {
        "id": "view-in-github",
        "colab_type": "text"
      },
      "source": [
        "<a href=\"https://colab.research.google.com/github/dframbaut/web-scrapping-deepear/blob/main/Local%20RD/planificacion_y_desarrollo.ipynb\" target=\"_parent\"><img src=\"https://colab.research.google.com/assets/colab-badge.svg\" alt=\"Open In Colab\"/></a>"
      ]
    },
    {
      "cell_type": "code",
      "execution_count": null,
      "metadata": {
        "colab": {
          "base_uri": "https://localhost:8080/"
        },
        "id": "_taa496tcN-X",
        "outputId": "ed9ab675-622f-4d8c-f022-3c2ed087b25a"
      },
      "outputs": [
        {
          "output_type": "stream",
          "name": "stdout",
          "text": [
            "Requirement already satisfied: requests in /usr/local/lib/python3.10/dist-packages (2.32.3)\n",
            "Requirement already satisfied: charset-normalizer<4,>=2 in /usr/local/lib/python3.10/dist-packages (from requests) (3.4.0)\n",
            "Requirement already satisfied: idna<4,>=2.5 in /usr/local/lib/python3.10/dist-packages (from requests) (3.10)\n",
            "Requirement already satisfied: urllib3<3,>=1.21.1 in /usr/local/lib/python3.10/dist-packages (from requests) (2.2.3)\n",
            "Requirement already satisfied: certifi>=2017.4.17 in /usr/local/lib/python3.10/dist-packages (from requests) (2024.12.14)\n"
          ]
        }
      ],
      "source": [
        "!pip install requests"
      ]
    },
    {
      "cell_type": "code",
      "source": [
        "!pip install bs4"
      ],
      "metadata": {
        "colab": {
          "base_uri": "https://localhost:8080/"
        },
        "id": "pqW60Z65cZF6",
        "outputId": "3c625d14-311d-4843-88ac-8323685929d0"
      },
      "execution_count": null,
      "outputs": [
        {
          "output_type": "stream",
          "name": "stdout",
          "text": [
            "Collecting bs4\n",
            "  Downloading bs4-0.0.2-py2.py3-none-any.whl.metadata (411 bytes)\n",
            "Requirement already satisfied: beautifulsoup4 in /usr/local/lib/python3.10/dist-packages (from bs4) (4.12.3)\n",
            "Requirement already satisfied: soupsieve>1.2 in /usr/local/lib/python3.10/dist-packages (from beautifulsoup4->bs4) (2.6)\n",
            "Downloading bs4-0.0.2-py2.py3-none-any.whl (1.2 kB)\n",
            "Installing collected packages: bs4\n",
            "Successfully installed bs4-0.0.2\n"
          ]
        }
      ]
    },
    {
      "cell_type": "code",
      "source": [
        "!apt-get update\n",
        "!apt-get install -y ca-certificates"
      ],
      "metadata": {
        "colab": {
          "base_uri": "https://localhost:8080/"
        },
        "id": "RdzTr_42F32l",
        "outputId": "3855ae64-ec09-423f-9723-94d1b09dedfa"
      },
      "execution_count": null,
      "outputs": [
        {
          "output_type": "stream",
          "name": "stdout",
          "text": [
            "\r0% [Working]\r            \rHit:1 http://archive.ubuntu.com/ubuntu jammy InRelease\n",
            "\r0% [Waiting for headers] [Connected to cloud.r-project.org (18.154.101.112)] [Connected to r2u.stat.\r                                                                                                    \rGet:2 http://archive.ubuntu.com/ubuntu jammy-updates InRelease [128 kB]\n",
            "\r                                                                                                    \rGet:3 http://security.ubuntu.com/ubuntu jammy-security InRelease [129 kB]\n",
            "\r0% [2 InRelease 21.4 kB/128 kB 17%] [3 InRelease 48.9 kB/129 kB 38%] [Connected to cloud.r-project.o\r0% [2 InRelease 90.9 kB/128 kB 71%] [Connected to cloud.r-project.org (18.154.101.112)] [Connected t\r0% [Waiting for headers] [Waiting for headers] [Waiting for headers] [Connected to ppa.launchpadcont\r                                                                                                    \rGet:4 https://cloud.r-project.org/bin/linux/ubuntu jammy-cran40/ InRelease [3,626 B]\n",
            "\r0% [Waiting for headers] [4 InRelease 3,626 B/3,626 B 100%] [Waiting for headers] [Waiting for heade\r0% [Waiting for headers] [Waiting for headers] [Waiting for headers] [Connected to ppa.launchpadcont\r                                                                                                    \rGet:5 https://developer.download.nvidia.com/compute/cuda/repos/ubuntu2204/x86_64  InRelease [1,581 B]\n",
            "Get:6 http://archive.ubuntu.com/ubuntu jammy-backports InRelease [127 kB]\n",
            "Get:7 https://r2u.stat.illinois.edu/ubuntu jammy InRelease [6,555 B]\n",
            "Hit:8 https://ppa.launchpadcontent.net/deadsnakes/ppa/ubuntu jammy InRelease\n",
            "Hit:9 https://ppa.launchpadcontent.net/graphics-drivers/ppa/ubuntu jammy InRelease\n",
            "Hit:10 https://ppa.launchpadcontent.net/ubuntugis/ppa/ubuntu jammy InRelease\n",
            "Get:11 http://security.ubuntu.com/ubuntu jammy-security/main amd64 Packages [2,517 kB]\n",
            "Get:12 http://security.ubuntu.com/ubuntu jammy-security/restricted amd64 Packages [3,448 kB]\n",
            "Get:13 http://security.ubuntu.com/ubuntu jammy-security/universe amd64 Packages [1,226 kB]\n",
            "Get:14 http://archive.ubuntu.com/ubuntu jammy-updates/main amd64 Packages [2,840 kB]\n",
            "Get:15 http://archive.ubuntu.com/ubuntu jammy-updates/universe amd64 Packages [1,517 kB]\n",
            "Get:16 http://archive.ubuntu.com/ubuntu jammy-updates/restricted amd64 Packages [3,633 kB]\n",
            "Get:17 https://developer.download.nvidia.com/compute/cuda/repos/ubuntu2204/x86_64  Packages [1,197 kB]\n",
            "Get:18 http://archive.ubuntu.com/ubuntu jammy-backports/universe amd64 Packages [33.8 kB]\n",
            "Get:19 http://archive.ubuntu.com/ubuntu jammy-backports/main amd64 Packages [81.4 kB]\n",
            "Get:20 https://r2u.stat.illinois.edu/ubuntu jammy/main amd64 Packages [2,631 kB]\n",
            "Get:21 https://r2u.stat.illinois.edu/ubuntu jammy/main all Packages [8,564 kB]\n",
            "Fetched 28.1 MB in 8s (3,737 kB/s)\n",
            "Reading package lists... Done\n",
            "W: Skipping acquire of configured file 'main/source/Sources' as repository 'https://r2u.stat.illinois.edu/ubuntu jammy InRelease' does not seem to provide it (sources.list entry misspelt?)\n",
            "Reading package lists... Done\n",
            "Building dependency tree... Done\n",
            "Reading state information... Done\n",
            "ca-certificates is already the newest version (20240203~22.04.1).\n",
            "0 upgraded, 0 newly installed, 0 to remove and 50 not upgraded.\n"
          ]
        }
      ]
    },
    {
      "cell_type": "code",
      "source": [
        "import requests\n",
        "from bs4 import BeautifulSoup\n",
        "import pandas as pd"
      ],
      "metadata": {
        "id": "j940P61Ocdu3"
      },
      "execution_count": null,
      "outputs": []
    },
    {
      "cell_type": "markdown",
      "source": [
        "**Extraer id de la pagina principal**\n"
      ],
      "metadata": {
        "id": "jOfwKb3lQP4s"
      }
    },
    {
      "cell_type": "code",
      "source": [
        "url='https://adn.gob.do/transparencia/planificacion-y-desarrollo/'\n",
        "\n",
        "headers = {\n",
        "    \"User-Agent\": \"Mozilla/5.0 (Windows NT 10.0; Win64; x64) AppleWebKit/537.36 (KHTML, like Gecko) Chrome/117.0.0.0 Safari/537.36\"\n",
        "}\n",
        "\n",
        "response=requests.get(url,headers=headers,verify=False)\n",
        "soup=BeautifulSoup(response.text,'html.parser')\n",
        "\n",
        "a_tags=soup.find_all('a',class_='wpfdcategory catlink')\n",
        "\n",
        "# Extraer el atributo \"data-idcat\" de las etiquetas encontradas\n",
        "ids_list = [tag.get('data-idcat') for tag in a_tags]\n",
        "\n",
        "# Imprimir los valores extraídos\n",
        "print(\"IDCAT encontrados:\", ids_list)\n",
        "\n"
      ],
      "metadata": {
        "id": "tBovLAuvZd2v",
        "colab": {
          "base_uri": "https://localhost:8080/"
        },
        "outputId": "31ed30b0-1af4-4f68-aa37-d262cfdbf6b3"
      },
      "execution_count": null,
      "outputs": [
        {
          "output_type": "stream",
          "name": "stderr",
          "text": [
            "/usr/local/lib/python3.10/dist-packages/urllib3/connectionpool.py:1099: InsecureRequestWarning: Unverified HTTPS request is being made to host 'adn.gob.do'. Adding certificate verification is strongly advised. See: https://urllib3.readthedocs.io/en/latest/advanced-usage.html#tls-warnings\n",
            "  warnings.warn(\n"
          ]
        },
        {
          "output_type": "stream",
          "name": "stdout",
          "text": [
            "IDCAT encontrados: ['1584', '1859', '109', '111', '343']\n"
          ]
        }
      ]
    },
    {
      "cell_type": "markdown",
      "source": [
        "**Extraer id de las demas secciones de cada id principal**"
      ],
      "metadata": {
        "id": "8eeG71PtQa4_"
      }
    },
    {
      "cell_type": "code",
      "source": [
        "import requests\n",
        "from bs4 import BeautifulSoup\n",
        "import re\n",
        "\n",
        "# URL base\n",
        "base_url = \"https://adn.gob.do/transparencia/wp-admin/admin-ajax.php\"\n",
        "\n",
        "# Parámetros base para la solicitud\n",
        "base_params = {\n",
        "    \"juwpfisadmin\": \"false\",\n",
        "    \"action\": \"wpfd\",\n",
        "    \"task\": \"categories.display\",\n",
        "    \"view\": \"categories\",\n",
        "    \"top\": \"108\"\n",
        "}\n",
        "\n",
        "def extraer_term_taxonomy_id(base_url, params, exclude_ids):\n",
        "    \"\"\"\n",
        "    Extrae los valores de term_taxonomy_id para un ID específico,\n",
        "    excluyendo IDs ya procesados.\n",
        "\n",
        "    :param base_url: URL base para realizar la solicitud.\n",
        "    :param params: Diccionario con los parámetros de la solicitud.\n",
        "    :param exclude_ids: Conjunto de IDs que deben ser excluidos.\n",
        "    :return: Lista de nuevos term_taxonomy_id encontrados.\n",
        "    \"\"\"\n",
        "    headers = {\n",
        "        \"User-Agent\": \"Mozilla/5.0 (Windows NT 10.0; Win64; x64) AppleWebKit/537.36 (KHTML, like Gecko) Chrome/117.0.0.0 Safari/537.36\"\n",
        "    }\n",
        "\n",
        "    try:\n",
        "        # Realizar solicitud GET\n",
        "        response = requests.get(base_url, params=params, headers=headers, verify=False)\n",
        "        response.raise_for_status()  # Genera excepción si el código no es 200\n",
        "\n",
        "        # Parsear el HTML de la respuesta\n",
        "        soup = BeautifulSoup(response.text, 'html.parser')\n",
        "\n",
        "        # Convertir el contenido en texto para buscar con expresiones regulares\n",
        "        page_text = soup.get_text()\n",
        "\n",
        "        # Expresión regular para buscar valores de term_taxonomy_id\n",
        "        term_taxonomy_ids = re.findall(r'\"term_taxonomy_id\":(\\d+)', page_text)\n",
        "\n",
        "        # Filtrar IDs excluidos\n",
        "        new_ids = [id_val for id_val in term_taxonomy_ids if id_val not in exclude_ids]\n",
        "\n",
        "        return new_ids\n",
        "\n",
        "    except requests.exceptions.RequestException as e:\n",
        "        print(f\"Error durante la solicitud para ID {params['id']}: {e}\")\n",
        "        return []\n",
        "    except Exception as e:\n",
        "        print(f\"Error al procesar los datos para ID {params['id']}: {e}\")\n",
        "        return []\n",
        "\n",
        "# Iteración para obtener IDs adicionales\n",
        "processed_ids = set(ids_list)  # Conjunto para rastrear IDs ya procesados\n",
        "idcat_values2 = []  # Lista para almacenar los resultados iterativos\n",
        "iteration_count = 1  # Contador de iteraciones\n",
        "\n",
        "while True:\n",
        "    print(f\"\\nIteración {iteration_count}\")\n",
        "    nuevos_ids = []\n",
        "\n",
        "    # Iterar sobre los IDs actuales y buscar nuevos term_taxonomy_id\n",
        "    for id_val in ids_list:\n",
        "        params = base_params.copy()\n",
        "        params[\"id\"] = id_val\n",
        "\n",
        "        # Extraer term_taxonomy_id excluyendo los procesados\n",
        "        ids_extraidos = extraer_term_taxonomy_id(base_url, params, processed_ids)\n",
        "        nuevos_ids.extend(ids_extraidos)\n",
        "\n",
        "    # Eliminar duplicados y actualizar el conjunto de IDs procesados\n",
        "    nuevos_ids = list(set(nuevos_ids))  # Eliminar duplicados\n",
        "    nuevos_ids = [id_val for id_val in nuevos_ids if id_val not in processed_ids]\n",
        "\n",
        "    if not nuevos_ids:\n",
        "        print(\"No se encontraron nuevos IDs. Finalizando.\")\n",
        "        break\n",
        "\n",
        "    # Actualizar los datos para la siguiente iteración\n",
        "    idcat_values2.append(nuevos_ids)\n",
        "    processed_ids.update(nuevos_ids)\n",
        "    ids_list = nuevos_ids\n",
        "    iteration_count += 1\n",
        "\n",
        "# Fusionar todas las listas en una sola, eliminando duplicados\n",
        "final_idcat_values = list(set([item for sublist in idcat_values2 for item in sublist] + list(processed_ids)))\n",
        "\n",
        "# Mostrar los resultados finales\n",
        "print(\"\\nResultados finales:\")\n",
        "print(f\"Lista combinada de IDCAT: {final_idcat_values}\")\n",
        "\n"
      ],
      "metadata": {
        "colab": {
          "base_uri": "https://localhost:8080/"
        },
        "id": "uJ0iE9CnQhpB",
        "outputId": "d846aa61-05ed-4739-cb06-db05eb851503"
      },
      "execution_count": null,
      "outputs": [
        {
          "output_type": "stream",
          "name": "stdout",
          "text": [
            "\n",
            "Iteración 1\n"
          ]
        },
        {
          "output_type": "stream",
          "name": "stderr",
          "text": [
            "/usr/local/lib/python3.10/dist-packages/urllib3/connectionpool.py:1099: InsecureRequestWarning: Unverified HTTPS request is being made to host 'adn.gob.do'. Adding certificate verification is strongly advised. See: https://urllib3.readthedocs.io/en/latest/advanced-usage.html#tls-warnings\n",
            "  warnings.warn(\n",
            "/usr/local/lib/python3.10/dist-packages/urllib3/connectionpool.py:1099: InsecureRequestWarning: Unverified HTTPS request is being made to host 'adn.gob.do'. Adding certificate verification is strongly advised. See: https://urllib3.readthedocs.io/en/latest/advanced-usage.html#tls-warnings\n",
            "  warnings.warn(\n",
            "/usr/local/lib/python3.10/dist-packages/urllib3/connectionpool.py:1099: InsecureRequestWarning: Unverified HTTPS request is being made to host 'adn.gob.do'. Adding certificate verification is strongly advised. See: https://urllib3.readthedocs.io/en/latest/advanced-usage.html#tls-warnings\n",
            "  warnings.warn(\n",
            "/usr/local/lib/python3.10/dist-packages/urllib3/connectionpool.py:1099: InsecureRequestWarning: Unverified HTTPS request is being made to host 'adn.gob.do'. Adding certificate verification is strongly advised. See: https://urllib3.readthedocs.io/en/latest/advanced-usage.html#tls-warnings\n",
            "  warnings.warn(\n",
            "/usr/local/lib/python3.10/dist-packages/urllib3/connectionpool.py:1099: InsecureRequestWarning: Unverified HTTPS request is being made to host 'adn.gob.do'. Adding certificate verification is strongly advised. See: https://urllib3.readthedocs.io/en/latest/advanced-usage.html#tls-warnings\n",
            "  warnings.warn(\n"
          ]
        },
        {
          "output_type": "stream",
          "name": "stdout",
          "text": [
            "\n",
            "Iteración 2\n"
          ]
        },
        {
          "output_type": "stream",
          "name": "stderr",
          "text": [
            "/usr/local/lib/python3.10/dist-packages/urllib3/connectionpool.py:1099: InsecureRequestWarning: Unverified HTTPS request is being made to host 'adn.gob.do'. Adding certificate verification is strongly advised. See: https://urllib3.readthedocs.io/en/latest/advanced-usage.html#tls-warnings\n",
            "  warnings.warn(\n",
            "/usr/local/lib/python3.10/dist-packages/urllib3/connectionpool.py:1099: InsecureRequestWarning: Unverified HTTPS request is being made to host 'adn.gob.do'. Adding certificate verification is strongly advised. See: https://urllib3.readthedocs.io/en/latest/advanced-usage.html#tls-warnings\n",
            "  warnings.warn(\n",
            "/usr/local/lib/python3.10/dist-packages/urllib3/connectionpool.py:1099: InsecureRequestWarning: Unverified HTTPS request is being made to host 'adn.gob.do'. Adding certificate verification is strongly advised. See: https://urllib3.readthedocs.io/en/latest/advanced-usage.html#tls-warnings\n",
            "  warnings.warn(\n",
            "/usr/local/lib/python3.10/dist-packages/urllib3/connectionpool.py:1099: InsecureRequestWarning: Unverified HTTPS request is being made to host 'adn.gob.do'. Adding certificate verification is strongly advised. See: https://urllib3.readthedocs.io/en/latest/advanced-usage.html#tls-warnings\n",
            "  warnings.warn(\n",
            "/usr/local/lib/python3.10/dist-packages/urllib3/connectionpool.py:1099: InsecureRequestWarning: Unverified HTTPS request is being made to host 'adn.gob.do'. Adding certificate verification is strongly advised. See: https://urllib3.readthedocs.io/en/latest/advanced-usage.html#tls-warnings\n",
            "  warnings.warn(\n",
            "/usr/local/lib/python3.10/dist-packages/urllib3/connectionpool.py:1099: InsecureRequestWarning: Unverified HTTPS request is being made to host 'adn.gob.do'. Adding certificate verification is strongly advised. See: https://urllib3.readthedocs.io/en/latest/advanced-usage.html#tls-warnings\n",
            "  warnings.warn(\n",
            "/usr/local/lib/python3.10/dist-packages/urllib3/connectionpool.py:1099: InsecureRequestWarning: Unverified HTTPS request is being made to host 'adn.gob.do'. Adding certificate verification is strongly advised. See: https://urllib3.readthedocs.io/en/latest/advanced-usage.html#tls-warnings\n",
            "  warnings.warn(\n",
            "/usr/local/lib/python3.10/dist-packages/urllib3/connectionpool.py:1099: InsecureRequestWarning: Unverified HTTPS request is being made to host 'adn.gob.do'. Adding certificate verification is strongly advised. See: https://urllib3.readthedocs.io/en/latest/advanced-usage.html#tls-warnings\n",
            "  warnings.warn(\n",
            "/usr/local/lib/python3.10/dist-packages/urllib3/connectionpool.py:1099: InsecureRequestWarning: Unverified HTTPS request is being made to host 'adn.gob.do'. Adding certificate verification is strongly advised. See: https://urllib3.readthedocs.io/en/latest/advanced-usage.html#tls-warnings\n",
            "  warnings.warn(\n",
            "/usr/local/lib/python3.10/dist-packages/urllib3/connectionpool.py:1099: InsecureRequestWarning: Unverified HTTPS request is being made to host 'adn.gob.do'. Adding certificate verification is strongly advised. See: https://urllib3.readthedocs.io/en/latest/advanced-usage.html#tls-warnings\n",
            "  warnings.warn(\n",
            "/usr/local/lib/python3.10/dist-packages/urllib3/connectionpool.py:1099: InsecureRequestWarning: Unverified HTTPS request is being made to host 'adn.gob.do'. Adding certificate verification is strongly advised. See: https://urllib3.readthedocs.io/en/latest/advanced-usage.html#tls-warnings\n",
            "  warnings.warn(\n",
            "/usr/local/lib/python3.10/dist-packages/urllib3/connectionpool.py:1099: InsecureRequestWarning: Unverified HTTPS request is being made to host 'adn.gob.do'. Adding certificate verification is strongly advised. See: https://urllib3.readthedocs.io/en/latest/advanced-usage.html#tls-warnings\n",
            "  warnings.warn(\n",
            "/usr/local/lib/python3.10/dist-packages/urllib3/connectionpool.py:1099: InsecureRequestWarning: Unverified HTTPS request is being made to host 'adn.gob.do'. Adding certificate verification is strongly advised. See: https://urllib3.readthedocs.io/en/latest/advanced-usage.html#tls-warnings\n",
            "  warnings.warn(\n",
            "/usr/local/lib/python3.10/dist-packages/urllib3/connectionpool.py:1099: InsecureRequestWarning: Unverified HTTPS request is being made to host 'adn.gob.do'. Adding certificate verification is strongly advised. See: https://urllib3.readthedocs.io/en/latest/advanced-usage.html#tls-warnings\n",
            "  warnings.warn(\n",
            "/usr/local/lib/python3.10/dist-packages/urllib3/connectionpool.py:1099: InsecureRequestWarning: Unverified HTTPS request is being made to host 'adn.gob.do'. Adding certificate verification is strongly advised. See: https://urllib3.readthedocs.io/en/latest/advanced-usage.html#tls-warnings\n",
            "  warnings.warn(\n",
            "/usr/local/lib/python3.10/dist-packages/urllib3/connectionpool.py:1099: InsecureRequestWarning: Unverified HTTPS request is being made to host 'adn.gob.do'. Adding certificate verification is strongly advised. See: https://urllib3.readthedocs.io/en/latest/advanced-usage.html#tls-warnings\n",
            "  warnings.warn(\n",
            "/usr/local/lib/python3.10/dist-packages/urllib3/connectionpool.py:1099: InsecureRequestWarning: Unverified HTTPS request is being made to host 'adn.gob.do'. Adding certificate verification is strongly advised. See: https://urllib3.readthedocs.io/en/latest/advanced-usage.html#tls-warnings\n",
            "  warnings.warn(\n",
            "/usr/local/lib/python3.10/dist-packages/urllib3/connectionpool.py:1099: InsecureRequestWarning: Unverified HTTPS request is being made to host 'adn.gob.do'. Adding certificate verification is strongly advised. See: https://urllib3.readthedocs.io/en/latest/advanced-usage.html#tls-warnings\n",
            "  warnings.warn(\n",
            "/usr/local/lib/python3.10/dist-packages/urllib3/connectionpool.py:1099: InsecureRequestWarning: Unverified HTTPS request is being made to host 'adn.gob.do'. Adding certificate verification is strongly advised. See: https://urllib3.readthedocs.io/en/latest/advanced-usage.html#tls-warnings\n",
            "  warnings.warn(\n"
          ]
        },
        {
          "output_type": "stream",
          "name": "stdout",
          "text": [
            "\n",
            "Iteración 3\n"
          ]
        },
        {
          "output_type": "stream",
          "name": "stderr",
          "text": [
            "/usr/local/lib/python3.10/dist-packages/urllib3/connectionpool.py:1099: InsecureRequestWarning: Unverified HTTPS request is being made to host 'adn.gob.do'. Adding certificate verification is strongly advised. See: https://urllib3.readthedocs.io/en/latest/advanced-usage.html#tls-warnings\n",
            "  warnings.warn(\n",
            "/usr/local/lib/python3.10/dist-packages/urllib3/connectionpool.py:1099: InsecureRequestWarning: Unverified HTTPS request is being made to host 'adn.gob.do'. Adding certificate verification is strongly advised. See: https://urllib3.readthedocs.io/en/latest/advanced-usage.html#tls-warnings\n",
            "  warnings.warn(\n",
            "/usr/local/lib/python3.10/dist-packages/urllib3/connectionpool.py:1099: InsecureRequestWarning: Unverified HTTPS request is being made to host 'adn.gob.do'. Adding certificate verification is strongly advised. See: https://urllib3.readthedocs.io/en/latest/advanced-usage.html#tls-warnings\n",
            "  warnings.warn(\n",
            "/usr/local/lib/python3.10/dist-packages/urllib3/connectionpool.py:1099: InsecureRequestWarning: Unverified HTTPS request is being made to host 'adn.gob.do'. Adding certificate verification is strongly advised. See: https://urllib3.readthedocs.io/en/latest/advanced-usage.html#tls-warnings\n",
            "  warnings.warn(\n",
            "/usr/local/lib/python3.10/dist-packages/urllib3/connectionpool.py:1099: InsecureRequestWarning: Unverified HTTPS request is being made to host 'adn.gob.do'. Adding certificate verification is strongly advised. See: https://urllib3.readthedocs.io/en/latest/advanced-usage.html#tls-warnings\n",
            "  warnings.warn(\n",
            "/usr/local/lib/python3.10/dist-packages/urllib3/connectionpool.py:1099: InsecureRequestWarning: Unverified HTTPS request is being made to host 'adn.gob.do'. Adding certificate verification is strongly advised. See: https://urllib3.readthedocs.io/en/latest/advanced-usage.html#tls-warnings\n",
            "  warnings.warn(\n",
            "/usr/local/lib/python3.10/dist-packages/urllib3/connectionpool.py:1099: InsecureRequestWarning: Unverified HTTPS request is being made to host 'adn.gob.do'. Adding certificate verification is strongly advised. See: https://urllib3.readthedocs.io/en/latest/advanced-usage.html#tls-warnings\n",
            "  warnings.warn(\n",
            "/usr/local/lib/python3.10/dist-packages/urllib3/connectionpool.py:1099: InsecureRequestWarning: Unverified HTTPS request is being made to host 'adn.gob.do'. Adding certificate verification is strongly advised. See: https://urllib3.readthedocs.io/en/latest/advanced-usage.html#tls-warnings\n",
            "  warnings.warn(\n",
            "/usr/local/lib/python3.10/dist-packages/urllib3/connectionpool.py:1099: InsecureRequestWarning: Unverified HTTPS request is being made to host 'adn.gob.do'. Adding certificate verification is strongly advised. See: https://urllib3.readthedocs.io/en/latest/advanced-usage.html#tls-warnings\n",
            "  warnings.warn(\n"
          ]
        },
        {
          "output_type": "stream",
          "name": "stdout",
          "text": [
            "\n",
            "Iteración 4\n"
          ]
        },
        {
          "output_type": "stream",
          "name": "stderr",
          "text": [
            "/usr/local/lib/python3.10/dist-packages/urllib3/connectionpool.py:1099: InsecureRequestWarning: Unverified HTTPS request is being made to host 'adn.gob.do'. Adding certificate verification is strongly advised. See: https://urllib3.readthedocs.io/en/latest/advanced-usage.html#tls-warnings\n",
            "  warnings.warn(\n",
            "/usr/local/lib/python3.10/dist-packages/urllib3/connectionpool.py:1099: InsecureRequestWarning: Unverified HTTPS request is being made to host 'adn.gob.do'. Adding certificate verification is strongly advised. See: https://urllib3.readthedocs.io/en/latest/advanced-usage.html#tls-warnings\n",
            "  warnings.warn(\n",
            "/usr/local/lib/python3.10/dist-packages/urllib3/connectionpool.py:1099: InsecureRequestWarning: Unverified HTTPS request is being made to host 'adn.gob.do'. Adding certificate verification is strongly advised. See: https://urllib3.readthedocs.io/en/latest/advanced-usage.html#tls-warnings\n",
            "  warnings.warn(\n",
            "/usr/local/lib/python3.10/dist-packages/urllib3/connectionpool.py:1099: InsecureRequestWarning: Unverified HTTPS request is being made to host 'adn.gob.do'. Adding certificate verification is strongly advised. See: https://urllib3.readthedocs.io/en/latest/advanced-usage.html#tls-warnings\n",
            "  warnings.warn(\n",
            "/usr/local/lib/python3.10/dist-packages/urllib3/connectionpool.py:1099: InsecureRequestWarning: Unverified HTTPS request is being made to host 'adn.gob.do'. Adding certificate verification is strongly advised. See: https://urllib3.readthedocs.io/en/latest/advanced-usage.html#tls-warnings\n",
            "  warnings.warn(\n",
            "/usr/local/lib/python3.10/dist-packages/urllib3/connectionpool.py:1099: InsecureRequestWarning: Unverified HTTPS request is being made to host 'adn.gob.do'. Adding certificate verification is strongly advised. See: https://urllib3.readthedocs.io/en/latest/advanced-usage.html#tls-warnings\n",
            "  warnings.warn(\n",
            "/usr/local/lib/python3.10/dist-packages/urllib3/connectionpool.py:1099: InsecureRequestWarning: Unverified HTTPS request is being made to host 'adn.gob.do'. Adding certificate verification is strongly advised. See: https://urllib3.readthedocs.io/en/latest/advanced-usage.html#tls-warnings\n",
            "  warnings.warn(\n"
          ]
        },
        {
          "output_type": "stream",
          "name": "stdout",
          "text": [
            "No se encontraron nuevos IDs. Finalizando.\n",
            "\n",
            "Resultados finales:\n",
            "Lista combinada de IDCAT: ['771', '780', '769', '772', '880', '778', '1574', '776', '775', '1464', '1695', '783', '784', '475', '111', '109', '781', '777', '782', '476', '477', '770', '1853', '481', '633', '774', '343', '1576', '479', '1573', '1859', '779', '1575', '1584', '1674', '773', '932', '480', '663', '879']\n"
          ]
        }
      ]
    },
    {
      "cell_type": "code",
      "source": [
        "print(len(final_idcat_values))"
      ],
      "metadata": {
        "colab": {
          "base_uri": "https://localhost:8080/"
        },
        "id": "BCXMz4T7k2K-",
        "outputId": "1b2cf081-fb64-4482-eb50-f60c32049a1a"
      },
      "execution_count": null,
      "outputs": [
        {
          "output_type": "stream",
          "name": "stdout",
          "text": [
            "40\n"
          ]
        }
      ]
    },
    {
      "cell_type": "code",
      "source": [
        "ids_1 = [1584, 1859, 109, 111, 1573, 1574, 477, 932, 475, 476, 663, 769, 770, 771, 343, 1674, 1695, 1853, 633, 880, 879, 1575, 1464, 1576, 479, 481, 480, 772, 773, 776, 775, 774, 777, 778, 779, 780, 781, 782, 783, 784]  # Agrega los IDs que necesites"
      ],
      "metadata": {
        "id": "7On0HCkylpMX"
      },
      "execution_count": null,
      "outputs": []
    },
    {
      "cell_type": "code",
      "source": [
        "common_elements = list(set(final_idcat_values) & set(ids_1))\n",
        "print(\"Elementos comunes:\", common_elements)"
      ],
      "metadata": {
        "colab": {
          "base_uri": "https://localhost:8080/"
        },
        "id": "xj2t5vwwlwnt",
        "outputId": "50611102-97a5-4171-859a-050fb609a317"
      },
      "execution_count": null,
      "outputs": [
        {
          "output_type": "stream",
          "name": "stdout",
          "text": [
            "Elementos comunes: []\n"
          ]
        }
      ]
    },
    {
      "cell_type": "markdown",
      "source": [
        "Código"
      ],
      "metadata": {
        "id": "-TDv82aLdWvC"
      }
    },
    {
      "cell_type": "code",
      "source": [
        "import requests\n",
        "import json\n",
        "import unicodedata  # Importar unicodedata para la normalización del texto\n",
        "\n",
        "# URL base de la API\n",
        "api_url = \"https://adn.gob.do/transparencia/wp-admin/admin-ajax.php\"\n",
        "\n",
        "# Lista de IDs que deseas recorrer\n",
        "ids = final_idcat_values\n",
        "\n",
        "# Parámetros base de la solicitud\n",
        "base_params = {\n",
        "    \"juwpfisadmin\": \"false\",\n",
        "    \"action\": \"wpfd\",\n",
        "    \"task\": \"files.display\",\n",
        "    \"view\": \"files\",\n",
        "    \"page\": 1,\n",
        "    \"orderCol\": \"title\",\n",
        "    \"orderDir\": \"desc\"\n",
        "}\n",
        "\n",
        "nombres = []\n",
        "link = []\n",
        "fecha_pub = []\n",
        "fecha_vigor = []\n",
        "epigrafe = []\n",
        "\n",
        "# Función para normalizar texto (remover tildes y convertir a minúsculas)\n",
        "def normalize_text(text):\n",
        "    text = unicodedata.normalize('NFD', text)\n",
        "    text = ''.join(c for c in text if unicodedata.category(c) != 'Mn')\n",
        "    return text.lower()\n",
        "\n",
        "# Función para procesar cada ID\n",
        "def fetch_files_by_id(api_url, ids, base_params):\n",
        "    all_results = []  # Lista para almacenar resultados de todas las IDs\n",
        "\n",
        "    for current_id in ids:\n",
        "        print(f\"Procesando ID: {current_id}...\")\n",
        "\n",
        "        # Actualizar los parámetros con el ID actual\n",
        "        params = base_params.copy()\n",
        "        params[\"id\"] = current_id\n",
        "        params[\"rootcat\"] = current_id\n",
        "\n",
        "        page = 1\n",
        "        while True:\n",
        "            params[\"page\"] = page\n",
        "            response = requests.get(api_url, params=params, verify=False)\n",
        "\n",
        "            if response.status_code == 200:\n",
        "                data = response.json()\n",
        "                archivos = data.get(\"files\", [])\n",
        "\n",
        "                if not archivos:\n",
        "                    print(f\"No hay más archivos para ID: {current_id}.\")\n",
        "                    break\n",
        "\n",
        "                # Agregar los archivos procesados a la lista de resultados\n",
        "                for archivo in archivos:\n",
        "                    post_title = archivo.get(\"post_title\", \"Sin título\")\n",
        "                    normalized_title = normalize_text(post_title)\n",
        "                    nombres.append(normalized_title)\n",
        "                    epigrafe.append(normalized_title)\n",
        "                    created_time = archivo.get(\"created_time\", \"Sin fecha\")\n",
        "                    fecha_pub.append(created_time)\n",
        "                    modified_time = archivo.get(\"modified_time\", \"Sin fecha\")\n",
        "                    fecha_vigor.append(modified_time)\n",
        "                    linkdownload = archivo.get(\"linkdownload\", \"Sin enlace\")\n",
        "                    link.append(linkdownload)\n",
        "\n",
        "                    # Agregar solo los campos requeridos al resultado\n",
        "                    all_results.append({\n",
        "                        \"post_title\": normalized_title,\n",
        "                        \"created_time\": created_time,\n",
        "                        \"modified_time\": modified_time,\n",
        "                        \"linkdownload\": linkdownload\n",
        "                    })\n",
        "\n",
        "                page += 1  # Avanzar a la siguiente página\n",
        "            else:\n",
        "                print(f\"Error al procesar ID: {current_id}. Código de estado: {response.status_code}\")\n",
        "                break\n",
        "\n",
        "    return all_results\n",
        "\n",
        "# Ejecutar la función para procesar los IDs\n",
        "resultados = fetch_files_by_id(api_url, ids, base_params)\n",
        "\n",
        "# Mostrar los resultados obtenidos\n",
        "print(\"Archivos obtenidos:\")\n",
        "print(json.dumps(resultados, indent=4))\n"
      ],
      "metadata": {
        "colab": {
          "base_uri": "https://localhost:8080/"
        },
        "id": "55zpbtDYEIXE",
        "outputId": "2375b59e-e2ad-4ea4-820f-ad5ea12a6807"
      },
      "execution_count": null,
      "outputs": [
        {
          "output_type": "stream",
          "name": "stdout",
          "text": [
            "Procesando ID: 771...\n"
          ]
        },
        {
          "output_type": "stream",
          "name": "stderr",
          "text": [
            "/usr/local/lib/python3.10/dist-packages/urllib3/connectionpool.py:1099: InsecureRequestWarning: Unverified HTTPS request is being made to host 'adn.gob.do'. Adding certificate verification is strongly advised. See: https://urllib3.readthedocs.io/en/latest/advanced-usage.html#tls-warnings\n",
            "  warnings.warn(\n",
            "/usr/local/lib/python3.10/dist-packages/urllib3/connectionpool.py:1099: InsecureRequestWarning: Unverified HTTPS request is being made to host 'adn.gob.do'. Adding certificate verification is strongly advised. See: https://urllib3.readthedocs.io/en/latest/advanced-usage.html#tls-warnings\n",
            "  warnings.warn(\n"
          ]
        },
        {
          "output_type": "stream",
          "name": "stdout",
          "text": [
            "No hay más archivos para ID: 771.\n",
            "Procesando ID: 780...\n"
          ]
        },
        {
          "output_type": "stream",
          "name": "stderr",
          "text": [
            "/usr/local/lib/python3.10/dist-packages/urllib3/connectionpool.py:1099: InsecureRequestWarning: Unverified HTTPS request is being made to host 'adn.gob.do'. Adding certificate verification is strongly advised. See: https://urllib3.readthedocs.io/en/latest/advanced-usage.html#tls-warnings\n",
            "  warnings.warn(\n",
            "/usr/local/lib/python3.10/dist-packages/urllib3/connectionpool.py:1099: InsecureRequestWarning: Unverified HTTPS request is being made to host 'adn.gob.do'. Adding certificate verification is strongly advised. See: https://urllib3.readthedocs.io/en/latest/advanced-usage.html#tls-warnings\n",
            "  warnings.warn(\n",
            "/usr/local/lib/python3.10/dist-packages/urllib3/connectionpool.py:1099: InsecureRequestWarning: Unverified HTTPS request is being made to host 'adn.gob.do'. Adding certificate verification is strongly advised. See: https://urllib3.readthedocs.io/en/latest/advanced-usage.html#tls-warnings\n",
            "  warnings.warn(\n"
          ]
        },
        {
          "output_type": "stream",
          "name": "stdout",
          "text": [
            "No hay más archivos para ID: 780.\n",
            "Procesando ID: 769...\n"
          ]
        },
        {
          "output_type": "stream",
          "name": "stderr",
          "text": [
            "/usr/local/lib/python3.10/dist-packages/urllib3/connectionpool.py:1099: InsecureRequestWarning: Unverified HTTPS request is being made to host 'adn.gob.do'. Adding certificate verification is strongly advised. See: https://urllib3.readthedocs.io/en/latest/advanced-usage.html#tls-warnings\n",
            "  warnings.warn(\n",
            "/usr/local/lib/python3.10/dist-packages/urllib3/connectionpool.py:1099: InsecureRequestWarning: Unverified HTTPS request is being made to host 'adn.gob.do'. Adding certificate verification is strongly advised. See: https://urllib3.readthedocs.io/en/latest/advanced-usage.html#tls-warnings\n",
            "  warnings.warn(\n"
          ]
        },
        {
          "output_type": "stream",
          "name": "stdout",
          "text": [
            "No hay más archivos para ID: 769.\n",
            "Procesando ID: 772...\n"
          ]
        },
        {
          "output_type": "stream",
          "name": "stderr",
          "text": [
            "/usr/local/lib/python3.10/dist-packages/urllib3/connectionpool.py:1099: InsecureRequestWarning: Unverified HTTPS request is being made to host 'adn.gob.do'. Adding certificate verification is strongly advised. See: https://urllib3.readthedocs.io/en/latest/advanced-usage.html#tls-warnings\n",
            "  warnings.warn(\n",
            "/usr/local/lib/python3.10/dist-packages/urllib3/connectionpool.py:1099: InsecureRequestWarning: Unverified HTTPS request is being made to host 'adn.gob.do'. Adding certificate verification is strongly advised. See: https://urllib3.readthedocs.io/en/latest/advanced-usage.html#tls-warnings\n",
            "  warnings.warn(\n"
          ]
        },
        {
          "output_type": "stream",
          "name": "stdout",
          "text": [
            "No hay más archivos para ID: 772.\n",
            "Procesando ID: 880...\n"
          ]
        },
        {
          "output_type": "stream",
          "name": "stderr",
          "text": [
            "/usr/local/lib/python3.10/dist-packages/urllib3/connectionpool.py:1099: InsecureRequestWarning: Unverified HTTPS request is being made to host 'adn.gob.do'. Adding certificate verification is strongly advised. See: https://urllib3.readthedocs.io/en/latest/advanced-usage.html#tls-warnings\n",
            "  warnings.warn(\n",
            "/usr/local/lib/python3.10/dist-packages/urllib3/connectionpool.py:1099: InsecureRequestWarning: Unverified HTTPS request is being made to host 'adn.gob.do'. Adding certificate verification is strongly advised. See: https://urllib3.readthedocs.io/en/latest/advanced-usage.html#tls-warnings\n",
            "  warnings.warn(\n"
          ]
        },
        {
          "output_type": "stream",
          "name": "stdout",
          "text": [
            "No hay más archivos para ID: 880.\n",
            "Procesando ID: 778...\n"
          ]
        },
        {
          "output_type": "stream",
          "name": "stderr",
          "text": [
            "/usr/local/lib/python3.10/dist-packages/urllib3/connectionpool.py:1099: InsecureRequestWarning: Unverified HTTPS request is being made to host 'adn.gob.do'. Adding certificate verification is strongly advised. See: https://urllib3.readthedocs.io/en/latest/advanced-usage.html#tls-warnings\n",
            "  warnings.warn(\n",
            "/usr/local/lib/python3.10/dist-packages/urllib3/connectionpool.py:1099: InsecureRequestWarning: Unverified HTTPS request is being made to host 'adn.gob.do'. Adding certificate verification is strongly advised. See: https://urllib3.readthedocs.io/en/latest/advanced-usage.html#tls-warnings\n",
            "  warnings.warn(\n"
          ]
        },
        {
          "output_type": "stream",
          "name": "stdout",
          "text": [
            "No hay más archivos para ID: 778.\n",
            "Procesando ID: 1574...\n"
          ]
        },
        {
          "output_type": "stream",
          "name": "stderr",
          "text": [
            "/usr/local/lib/python3.10/dist-packages/urllib3/connectionpool.py:1099: InsecureRequestWarning: Unverified HTTPS request is being made to host 'adn.gob.do'. Adding certificate verification is strongly advised. See: https://urllib3.readthedocs.io/en/latest/advanced-usage.html#tls-warnings\n",
            "  warnings.warn(\n",
            "/usr/local/lib/python3.10/dist-packages/urllib3/connectionpool.py:1099: InsecureRequestWarning: Unverified HTTPS request is being made to host 'adn.gob.do'. Adding certificate verification is strongly advised. See: https://urllib3.readthedocs.io/en/latest/advanced-usage.html#tls-warnings\n",
            "  warnings.warn(\n"
          ]
        },
        {
          "output_type": "stream",
          "name": "stdout",
          "text": [
            "No hay más archivos para ID: 1574.\n",
            "Procesando ID: 776...\n"
          ]
        },
        {
          "output_type": "stream",
          "name": "stderr",
          "text": [
            "/usr/local/lib/python3.10/dist-packages/urllib3/connectionpool.py:1099: InsecureRequestWarning: Unverified HTTPS request is being made to host 'adn.gob.do'. Adding certificate verification is strongly advised. See: https://urllib3.readthedocs.io/en/latest/advanced-usage.html#tls-warnings\n",
            "  warnings.warn(\n",
            "/usr/local/lib/python3.10/dist-packages/urllib3/connectionpool.py:1099: InsecureRequestWarning: Unverified HTTPS request is being made to host 'adn.gob.do'. Adding certificate verification is strongly advised. See: https://urllib3.readthedocs.io/en/latest/advanced-usage.html#tls-warnings\n",
            "  warnings.warn(\n"
          ]
        },
        {
          "output_type": "stream",
          "name": "stdout",
          "text": [
            "No hay más archivos para ID: 776.\n",
            "Procesando ID: 775...\n"
          ]
        },
        {
          "output_type": "stream",
          "name": "stderr",
          "text": [
            "/usr/local/lib/python3.10/dist-packages/urllib3/connectionpool.py:1099: InsecureRequestWarning: Unverified HTTPS request is being made to host 'adn.gob.do'. Adding certificate verification is strongly advised. See: https://urllib3.readthedocs.io/en/latest/advanced-usage.html#tls-warnings\n",
            "  warnings.warn(\n",
            "/usr/local/lib/python3.10/dist-packages/urllib3/connectionpool.py:1099: InsecureRequestWarning: Unverified HTTPS request is being made to host 'adn.gob.do'. Adding certificate verification is strongly advised. See: https://urllib3.readthedocs.io/en/latest/advanced-usage.html#tls-warnings\n",
            "  warnings.warn(\n"
          ]
        },
        {
          "output_type": "stream",
          "name": "stdout",
          "text": [
            "No hay más archivos para ID: 775.\n",
            "Procesando ID: 1464...\n"
          ]
        },
        {
          "output_type": "stream",
          "name": "stderr",
          "text": [
            "/usr/local/lib/python3.10/dist-packages/urllib3/connectionpool.py:1099: InsecureRequestWarning: Unverified HTTPS request is being made to host 'adn.gob.do'. Adding certificate verification is strongly advised. See: https://urllib3.readthedocs.io/en/latest/advanced-usage.html#tls-warnings\n",
            "  warnings.warn(\n",
            "/usr/local/lib/python3.10/dist-packages/urllib3/connectionpool.py:1099: InsecureRequestWarning: Unverified HTTPS request is being made to host 'adn.gob.do'. Adding certificate verification is strongly advised. See: https://urllib3.readthedocs.io/en/latest/advanced-usage.html#tls-warnings\n",
            "  warnings.warn(\n"
          ]
        },
        {
          "output_type": "stream",
          "name": "stdout",
          "text": [
            "No hay más archivos para ID: 1464.\n",
            "Procesando ID: 1695...\n"
          ]
        },
        {
          "output_type": "stream",
          "name": "stderr",
          "text": [
            "/usr/local/lib/python3.10/dist-packages/urllib3/connectionpool.py:1099: InsecureRequestWarning: Unverified HTTPS request is being made to host 'adn.gob.do'. Adding certificate verification is strongly advised. See: https://urllib3.readthedocs.io/en/latest/advanced-usage.html#tls-warnings\n",
            "  warnings.warn(\n",
            "/usr/local/lib/python3.10/dist-packages/urllib3/connectionpool.py:1099: InsecureRequestWarning: Unverified HTTPS request is being made to host 'adn.gob.do'. Adding certificate verification is strongly advised. See: https://urllib3.readthedocs.io/en/latest/advanced-usage.html#tls-warnings\n",
            "  warnings.warn(\n"
          ]
        },
        {
          "output_type": "stream",
          "name": "stdout",
          "text": [
            "No hay más archivos para ID: 1695.\n",
            "Procesando ID: 783...\n"
          ]
        },
        {
          "output_type": "stream",
          "name": "stderr",
          "text": [
            "/usr/local/lib/python3.10/dist-packages/urllib3/connectionpool.py:1099: InsecureRequestWarning: Unverified HTTPS request is being made to host 'adn.gob.do'. Adding certificate verification is strongly advised. See: https://urllib3.readthedocs.io/en/latest/advanced-usage.html#tls-warnings\n",
            "  warnings.warn(\n",
            "/usr/local/lib/python3.10/dist-packages/urllib3/connectionpool.py:1099: InsecureRequestWarning: Unverified HTTPS request is being made to host 'adn.gob.do'. Adding certificate verification is strongly advised. See: https://urllib3.readthedocs.io/en/latest/advanced-usage.html#tls-warnings\n",
            "  warnings.warn(\n"
          ]
        },
        {
          "output_type": "stream",
          "name": "stdout",
          "text": [
            "No hay más archivos para ID: 783.\n",
            "Procesando ID: 784...\n"
          ]
        },
        {
          "output_type": "stream",
          "name": "stderr",
          "text": [
            "/usr/local/lib/python3.10/dist-packages/urllib3/connectionpool.py:1099: InsecureRequestWarning: Unverified HTTPS request is being made to host 'adn.gob.do'. Adding certificate verification is strongly advised. See: https://urllib3.readthedocs.io/en/latest/advanced-usage.html#tls-warnings\n",
            "  warnings.warn(\n",
            "/usr/local/lib/python3.10/dist-packages/urllib3/connectionpool.py:1099: InsecureRequestWarning: Unverified HTTPS request is being made to host 'adn.gob.do'. Adding certificate verification is strongly advised. See: https://urllib3.readthedocs.io/en/latest/advanced-usage.html#tls-warnings\n",
            "  warnings.warn(\n",
            "/usr/local/lib/python3.10/dist-packages/urllib3/connectionpool.py:1099: InsecureRequestWarning: Unverified HTTPS request is being made to host 'adn.gob.do'. Adding certificate verification is strongly advised. See: https://urllib3.readthedocs.io/en/latest/advanced-usage.html#tls-warnings\n",
            "  warnings.warn(\n"
          ]
        },
        {
          "output_type": "stream",
          "name": "stdout",
          "text": [
            "No hay más archivos para ID: 784.\n",
            "Procesando ID: 475...\n"
          ]
        },
        {
          "output_type": "stream",
          "name": "stderr",
          "text": [
            "/usr/local/lib/python3.10/dist-packages/urllib3/connectionpool.py:1099: InsecureRequestWarning: Unverified HTTPS request is being made to host 'adn.gob.do'. Adding certificate verification is strongly advised. See: https://urllib3.readthedocs.io/en/latest/advanced-usage.html#tls-warnings\n",
            "  warnings.warn(\n",
            "/usr/local/lib/python3.10/dist-packages/urllib3/connectionpool.py:1099: InsecureRequestWarning: Unverified HTTPS request is being made to host 'adn.gob.do'. Adding certificate verification is strongly advised. See: https://urllib3.readthedocs.io/en/latest/advanced-usage.html#tls-warnings\n",
            "  warnings.warn(\n"
          ]
        },
        {
          "output_type": "stream",
          "name": "stdout",
          "text": [
            "No hay más archivos para ID: 475.\n",
            "Procesando ID: 111...\n"
          ]
        },
        {
          "output_type": "stream",
          "name": "stderr",
          "text": [
            "/usr/local/lib/python3.10/dist-packages/urllib3/connectionpool.py:1099: InsecureRequestWarning: Unverified HTTPS request is being made to host 'adn.gob.do'. Adding certificate verification is strongly advised. See: https://urllib3.readthedocs.io/en/latest/advanced-usage.html#tls-warnings\n",
            "  warnings.warn(\n"
          ]
        },
        {
          "output_type": "stream",
          "name": "stdout",
          "text": [
            "No hay más archivos para ID: 111.\n",
            "Procesando ID: 109...\n"
          ]
        },
        {
          "output_type": "stream",
          "name": "stderr",
          "text": [
            "/usr/local/lib/python3.10/dist-packages/urllib3/connectionpool.py:1099: InsecureRequestWarning: Unverified HTTPS request is being made to host 'adn.gob.do'. Adding certificate verification is strongly advised. See: https://urllib3.readthedocs.io/en/latest/advanced-usage.html#tls-warnings\n",
            "  warnings.warn(\n",
            "/usr/local/lib/python3.10/dist-packages/urllib3/connectionpool.py:1099: InsecureRequestWarning: Unverified HTTPS request is being made to host 'adn.gob.do'. Adding certificate verification is strongly advised. See: https://urllib3.readthedocs.io/en/latest/advanced-usage.html#tls-warnings\n",
            "  warnings.warn(\n"
          ]
        },
        {
          "output_type": "stream",
          "name": "stdout",
          "text": [
            "No hay más archivos para ID: 109.\n",
            "Procesando ID: 781...\n"
          ]
        },
        {
          "output_type": "stream",
          "name": "stderr",
          "text": [
            "/usr/local/lib/python3.10/dist-packages/urllib3/connectionpool.py:1099: InsecureRequestWarning: Unverified HTTPS request is being made to host 'adn.gob.do'. Adding certificate verification is strongly advised. See: https://urllib3.readthedocs.io/en/latest/advanced-usage.html#tls-warnings\n",
            "  warnings.warn(\n",
            "/usr/local/lib/python3.10/dist-packages/urllib3/connectionpool.py:1099: InsecureRequestWarning: Unverified HTTPS request is being made to host 'adn.gob.do'. Adding certificate verification is strongly advised. See: https://urllib3.readthedocs.io/en/latest/advanced-usage.html#tls-warnings\n",
            "  warnings.warn(\n"
          ]
        },
        {
          "output_type": "stream",
          "name": "stdout",
          "text": [
            "No hay más archivos para ID: 781.\n",
            "Procesando ID: 777...\n"
          ]
        },
        {
          "output_type": "stream",
          "name": "stderr",
          "text": [
            "/usr/local/lib/python3.10/dist-packages/urllib3/connectionpool.py:1099: InsecureRequestWarning: Unverified HTTPS request is being made to host 'adn.gob.do'. Adding certificate verification is strongly advised. See: https://urllib3.readthedocs.io/en/latest/advanced-usage.html#tls-warnings\n",
            "  warnings.warn(\n",
            "/usr/local/lib/python3.10/dist-packages/urllib3/connectionpool.py:1099: InsecureRequestWarning: Unverified HTTPS request is being made to host 'adn.gob.do'. Adding certificate verification is strongly advised. See: https://urllib3.readthedocs.io/en/latest/advanced-usage.html#tls-warnings\n",
            "  warnings.warn(\n"
          ]
        },
        {
          "output_type": "stream",
          "name": "stdout",
          "text": [
            "No hay más archivos para ID: 777.\n",
            "Procesando ID: 782...\n"
          ]
        },
        {
          "output_type": "stream",
          "name": "stderr",
          "text": [
            "/usr/local/lib/python3.10/dist-packages/urllib3/connectionpool.py:1099: InsecureRequestWarning: Unverified HTTPS request is being made to host 'adn.gob.do'. Adding certificate verification is strongly advised. See: https://urllib3.readthedocs.io/en/latest/advanced-usage.html#tls-warnings\n",
            "  warnings.warn(\n",
            "/usr/local/lib/python3.10/dist-packages/urllib3/connectionpool.py:1099: InsecureRequestWarning: Unverified HTTPS request is being made to host 'adn.gob.do'. Adding certificate verification is strongly advised. See: https://urllib3.readthedocs.io/en/latest/advanced-usage.html#tls-warnings\n",
            "  warnings.warn(\n"
          ]
        },
        {
          "output_type": "stream",
          "name": "stdout",
          "text": [
            "No hay más archivos para ID: 782.\n",
            "Procesando ID: 476...\n"
          ]
        },
        {
          "output_type": "stream",
          "name": "stderr",
          "text": [
            "/usr/local/lib/python3.10/dist-packages/urllib3/connectionpool.py:1099: InsecureRequestWarning: Unverified HTTPS request is being made to host 'adn.gob.do'. Adding certificate verification is strongly advised. See: https://urllib3.readthedocs.io/en/latest/advanced-usage.html#tls-warnings\n",
            "  warnings.warn(\n",
            "/usr/local/lib/python3.10/dist-packages/urllib3/connectionpool.py:1099: InsecureRequestWarning: Unverified HTTPS request is being made to host 'adn.gob.do'. Adding certificate verification is strongly advised. See: https://urllib3.readthedocs.io/en/latest/advanced-usage.html#tls-warnings\n",
            "  warnings.warn(\n"
          ]
        },
        {
          "output_type": "stream",
          "name": "stdout",
          "text": [
            "No hay más archivos para ID: 476.\n",
            "Procesando ID: 477...\n"
          ]
        },
        {
          "output_type": "stream",
          "name": "stderr",
          "text": [
            "/usr/local/lib/python3.10/dist-packages/urllib3/connectionpool.py:1099: InsecureRequestWarning: Unverified HTTPS request is being made to host 'adn.gob.do'. Adding certificate verification is strongly advised. See: https://urllib3.readthedocs.io/en/latest/advanced-usage.html#tls-warnings\n",
            "  warnings.warn(\n",
            "/usr/local/lib/python3.10/dist-packages/urllib3/connectionpool.py:1099: InsecureRequestWarning: Unverified HTTPS request is being made to host 'adn.gob.do'. Adding certificate verification is strongly advised. See: https://urllib3.readthedocs.io/en/latest/advanced-usage.html#tls-warnings\n",
            "  warnings.warn(\n"
          ]
        },
        {
          "output_type": "stream",
          "name": "stdout",
          "text": [
            "No hay más archivos para ID: 477.\n",
            "Procesando ID: 770...\n"
          ]
        },
        {
          "output_type": "stream",
          "name": "stderr",
          "text": [
            "/usr/local/lib/python3.10/dist-packages/urllib3/connectionpool.py:1099: InsecureRequestWarning: Unverified HTTPS request is being made to host 'adn.gob.do'. Adding certificate verification is strongly advised. See: https://urllib3.readthedocs.io/en/latest/advanced-usage.html#tls-warnings\n",
            "  warnings.warn(\n",
            "/usr/local/lib/python3.10/dist-packages/urllib3/connectionpool.py:1099: InsecureRequestWarning: Unverified HTTPS request is being made to host 'adn.gob.do'. Adding certificate verification is strongly advised. See: https://urllib3.readthedocs.io/en/latest/advanced-usage.html#tls-warnings\n",
            "  warnings.warn(\n"
          ]
        },
        {
          "output_type": "stream",
          "name": "stdout",
          "text": [
            "No hay más archivos para ID: 770.\n",
            "Procesando ID: 1853...\n"
          ]
        },
        {
          "output_type": "stream",
          "name": "stderr",
          "text": [
            "/usr/local/lib/python3.10/dist-packages/urllib3/connectionpool.py:1099: InsecureRequestWarning: Unverified HTTPS request is being made to host 'adn.gob.do'. Adding certificate verification is strongly advised. See: https://urllib3.readthedocs.io/en/latest/advanced-usage.html#tls-warnings\n",
            "  warnings.warn(\n",
            "/usr/local/lib/python3.10/dist-packages/urllib3/connectionpool.py:1099: InsecureRequestWarning: Unverified HTTPS request is being made to host 'adn.gob.do'. Adding certificate verification is strongly advised. See: https://urllib3.readthedocs.io/en/latest/advanced-usage.html#tls-warnings\n",
            "  warnings.warn(\n"
          ]
        },
        {
          "output_type": "stream",
          "name": "stdout",
          "text": [
            "No hay más archivos para ID: 1853.\n",
            "Procesando ID: 481...\n"
          ]
        },
        {
          "output_type": "stream",
          "name": "stderr",
          "text": [
            "/usr/local/lib/python3.10/dist-packages/urllib3/connectionpool.py:1099: InsecureRequestWarning: Unverified HTTPS request is being made to host 'adn.gob.do'. Adding certificate verification is strongly advised. See: https://urllib3.readthedocs.io/en/latest/advanced-usage.html#tls-warnings\n",
            "  warnings.warn(\n",
            "/usr/local/lib/python3.10/dist-packages/urllib3/connectionpool.py:1099: InsecureRequestWarning: Unverified HTTPS request is being made to host 'adn.gob.do'. Adding certificate verification is strongly advised. See: https://urllib3.readthedocs.io/en/latest/advanced-usage.html#tls-warnings\n",
            "  warnings.warn(\n"
          ]
        },
        {
          "output_type": "stream",
          "name": "stdout",
          "text": [
            "No hay más archivos para ID: 481.\n",
            "Procesando ID: 633...\n"
          ]
        },
        {
          "output_type": "stream",
          "name": "stderr",
          "text": [
            "/usr/local/lib/python3.10/dist-packages/urllib3/connectionpool.py:1099: InsecureRequestWarning: Unverified HTTPS request is being made to host 'adn.gob.do'. Adding certificate verification is strongly advised. See: https://urllib3.readthedocs.io/en/latest/advanced-usage.html#tls-warnings\n",
            "  warnings.warn(\n",
            "/usr/local/lib/python3.10/dist-packages/urllib3/connectionpool.py:1099: InsecureRequestWarning: Unverified HTTPS request is being made to host 'adn.gob.do'. Adding certificate verification is strongly advised. See: https://urllib3.readthedocs.io/en/latest/advanced-usage.html#tls-warnings\n",
            "  warnings.warn(\n"
          ]
        },
        {
          "output_type": "stream",
          "name": "stdout",
          "text": [
            "No hay más archivos para ID: 633.\n",
            "Procesando ID: 774...\n"
          ]
        },
        {
          "output_type": "stream",
          "name": "stderr",
          "text": [
            "/usr/local/lib/python3.10/dist-packages/urllib3/connectionpool.py:1099: InsecureRequestWarning: Unverified HTTPS request is being made to host 'adn.gob.do'. Adding certificate verification is strongly advised. See: https://urllib3.readthedocs.io/en/latest/advanced-usage.html#tls-warnings\n",
            "  warnings.warn(\n",
            "/usr/local/lib/python3.10/dist-packages/urllib3/connectionpool.py:1099: InsecureRequestWarning: Unverified HTTPS request is being made to host 'adn.gob.do'. Adding certificate verification is strongly advised. See: https://urllib3.readthedocs.io/en/latest/advanced-usage.html#tls-warnings\n",
            "  warnings.warn(\n"
          ]
        },
        {
          "output_type": "stream",
          "name": "stdout",
          "text": [
            "No hay más archivos para ID: 774.\n",
            "Procesando ID: 343...\n"
          ]
        },
        {
          "output_type": "stream",
          "name": "stderr",
          "text": [
            "/usr/local/lib/python3.10/dist-packages/urllib3/connectionpool.py:1099: InsecureRequestWarning: Unverified HTTPS request is being made to host 'adn.gob.do'. Adding certificate verification is strongly advised. See: https://urllib3.readthedocs.io/en/latest/advanced-usage.html#tls-warnings\n",
            "  warnings.warn(\n"
          ]
        },
        {
          "output_type": "stream",
          "name": "stdout",
          "text": [
            "No hay más archivos para ID: 343.\n",
            "Procesando ID: 1576...\n"
          ]
        },
        {
          "output_type": "stream",
          "name": "stderr",
          "text": [
            "/usr/local/lib/python3.10/dist-packages/urllib3/connectionpool.py:1099: InsecureRequestWarning: Unverified HTTPS request is being made to host 'adn.gob.do'. Adding certificate verification is strongly advised. See: https://urllib3.readthedocs.io/en/latest/advanced-usage.html#tls-warnings\n",
            "  warnings.warn(\n",
            "/usr/local/lib/python3.10/dist-packages/urllib3/connectionpool.py:1099: InsecureRequestWarning: Unverified HTTPS request is being made to host 'adn.gob.do'. Adding certificate verification is strongly advised. See: https://urllib3.readthedocs.io/en/latest/advanced-usage.html#tls-warnings\n",
            "  warnings.warn(\n"
          ]
        },
        {
          "output_type": "stream",
          "name": "stdout",
          "text": [
            "No hay más archivos para ID: 1576.\n",
            "Procesando ID: 479...\n"
          ]
        },
        {
          "output_type": "stream",
          "name": "stderr",
          "text": [
            "/usr/local/lib/python3.10/dist-packages/urllib3/connectionpool.py:1099: InsecureRequestWarning: Unverified HTTPS request is being made to host 'adn.gob.do'. Adding certificate verification is strongly advised. See: https://urllib3.readthedocs.io/en/latest/advanced-usage.html#tls-warnings\n",
            "  warnings.warn(\n",
            "/usr/local/lib/python3.10/dist-packages/urllib3/connectionpool.py:1099: InsecureRequestWarning: Unverified HTTPS request is being made to host 'adn.gob.do'. Adding certificate verification is strongly advised. See: https://urllib3.readthedocs.io/en/latest/advanced-usage.html#tls-warnings\n",
            "  warnings.warn(\n"
          ]
        },
        {
          "output_type": "stream",
          "name": "stdout",
          "text": [
            "No hay más archivos para ID: 479.\n",
            "Procesando ID: 1573...\n"
          ]
        },
        {
          "output_type": "stream",
          "name": "stderr",
          "text": [
            "/usr/local/lib/python3.10/dist-packages/urllib3/connectionpool.py:1099: InsecureRequestWarning: Unverified HTTPS request is being made to host 'adn.gob.do'. Adding certificate verification is strongly advised. See: https://urllib3.readthedocs.io/en/latest/advanced-usage.html#tls-warnings\n",
            "  warnings.warn(\n",
            "/usr/local/lib/python3.10/dist-packages/urllib3/connectionpool.py:1099: InsecureRequestWarning: Unverified HTTPS request is being made to host 'adn.gob.do'. Adding certificate verification is strongly advised. See: https://urllib3.readthedocs.io/en/latest/advanced-usage.html#tls-warnings\n",
            "  warnings.warn(\n"
          ]
        },
        {
          "output_type": "stream",
          "name": "stdout",
          "text": [
            "No hay más archivos para ID: 1573.\n",
            "Procesando ID: 1859...\n"
          ]
        },
        {
          "output_type": "stream",
          "name": "stderr",
          "text": [
            "/usr/local/lib/python3.10/dist-packages/urllib3/connectionpool.py:1099: InsecureRequestWarning: Unverified HTTPS request is being made to host 'adn.gob.do'. Adding certificate verification is strongly advised. See: https://urllib3.readthedocs.io/en/latest/advanced-usage.html#tls-warnings\n",
            "  warnings.warn(\n",
            "/usr/local/lib/python3.10/dist-packages/urllib3/connectionpool.py:1099: InsecureRequestWarning: Unverified HTTPS request is being made to host 'adn.gob.do'. Adding certificate verification is strongly advised. See: https://urllib3.readthedocs.io/en/latest/advanced-usage.html#tls-warnings\n",
            "  warnings.warn(\n"
          ]
        },
        {
          "output_type": "stream",
          "name": "stdout",
          "text": [
            "No hay más archivos para ID: 1859.\n",
            "Procesando ID: 779...\n"
          ]
        },
        {
          "output_type": "stream",
          "name": "stderr",
          "text": [
            "/usr/local/lib/python3.10/dist-packages/urllib3/connectionpool.py:1099: InsecureRequestWarning: Unverified HTTPS request is being made to host 'adn.gob.do'. Adding certificate verification is strongly advised. See: https://urllib3.readthedocs.io/en/latest/advanced-usage.html#tls-warnings\n",
            "  warnings.warn(\n",
            "/usr/local/lib/python3.10/dist-packages/urllib3/connectionpool.py:1099: InsecureRequestWarning: Unverified HTTPS request is being made to host 'adn.gob.do'. Adding certificate verification is strongly advised. See: https://urllib3.readthedocs.io/en/latest/advanced-usage.html#tls-warnings\n",
            "  warnings.warn(\n"
          ]
        },
        {
          "output_type": "stream",
          "name": "stdout",
          "text": [
            "No hay más archivos para ID: 779.\n",
            "Procesando ID: 1575...\n"
          ]
        },
        {
          "output_type": "stream",
          "name": "stderr",
          "text": [
            "/usr/local/lib/python3.10/dist-packages/urllib3/connectionpool.py:1099: InsecureRequestWarning: Unverified HTTPS request is being made to host 'adn.gob.do'. Adding certificate verification is strongly advised. See: https://urllib3.readthedocs.io/en/latest/advanced-usage.html#tls-warnings\n",
            "  warnings.warn(\n",
            "/usr/local/lib/python3.10/dist-packages/urllib3/connectionpool.py:1099: InsecureRequestWarning: Unverified HTTPS request is being made to host 'adn.gob.do'. Adding certificate verification is strongly advised. See: https://urllib3.readthedocs.io/en/latest/advanced-usage.html#tls-warnings\n",
            "  warnings.warn(\n",
            "/usr/local/lib/python3.10/dist-packages/urllib3/connectionpool.py:1099: InsecureRequestWarning: Unverified HTTPS request is being made to host 'adn.gob.do'. Adding certificate verification is strongly advised. See: https://urllib3.readthedocs.io/en/latest/advanced-usage.html#tls-warnings\n",
            "  warnings.warn(\n"
          ]
        },
        {
          "output_type": "stream",
          "name": "stdout",
          "text": [
            "No hay más archivos para ID: 1575.\n",
            "Procesando ID: 1584...\n"
          ]
        },
        {
          "output_type": "stream",
          "name": "stderr",
          "text": [
            "/usr/local/lib/python3.10/dist-packages/urllib3/connectionpool.py:1099: InsecureRequestWarning: Unverified HTTPS request is being made to host 'adn.gob.do'. Adding certificate verification is strongly advised. See: https://urllib3.readthedocs.io/en/latest/advanced-usage.html#tls-warnings\n",
            "  warnings.warn(\n",
            "/usr/local/lib/python3.10/dist-packages/urllib3/connectionpool.py:1099: InsecureRequestWarning: Unverified HTTPS request is being made to host 'adn.gob.do'. Adding certificate verification is strongly advised. See: https://urllib3.readthedocs.io/en/latest/advanced-usage.html#tls-warnings\n",
            "  warnings.warn(\n"
          ]
        },
        {
          "output_type": "stream",
          "name": "stdout",
          "text": [
            "No hay más archivos para ID: 1584.\n",
            "Procesando ID: 1674...\n"
          ]
        },
        {
          "output_type": "stream",
          "name": "stderr",
          "text": [
            "/usr/local/lib/python3.10/dist-packages/urllib3/connectionpool.py:1099: InsecureRequestWarning: Unverified HTTPS request is being made to host 'adn.gob.do'. Adding certificate verification is strongly advised. See: https://urllib3.readthedocs.io/en/latest/advanced-usage.html#tls-warnings\n",
            "  warnings.warn(\n",
            "/usr/local/lib/python3.10/dist-packages/urllib3/connectionpool.py:1099: InsecureRequestWarning: Unverified HTTPS request is being made to host 'adn.gob.do'. Adding certificate verification is strongly advised. See: https://urllib3.readthedocs.io/en/latest/advanced-usage.html#tls-warnings\n",
            "  warnings.warn(\n"
          ]
        },
        {
          "output_type": "stream",
          "name": "stdout",
          "text": [
            "No hay más archivos para ID: 1674.\n",
            "Procesando ID: 773...\n"
          ]
        },
        {
          "output_type": "stream",
          "name": "stderr",
          "text": [
            "/usr/local/lib/python3.10/dist-packages/urllib3/connectionpool.py:1099: InsecureRequestWarning: Unverified HTTPS request is being made to host 'adn.gob.do'. Adding certificate verification is strongly advised. See: https://urllib3.readthedocs.io/en/latest/advanced-usage.html#tls-warnings\n",
            "  warnings.warn(\n"
          ]
        },
        {
          "output_type": "stream",
          "name": "stdout",
          "text": [
            "No hay más archivos para ID: 773.\n",
            "Procesando ID: 932...\n"
          ]
        },
        {
          "output_type": "stream",
          "name": "stderr",
          "text": [
            "/usr/local/lib/python3.10/dist-packages/urllib3/connectionpool.py:1099: InsecureRequestWarning: Unverified HTTPS request is being made to host 'adn.gob.do'. Adding certificate verification is strongly advised. See: https://urllib3.readthedocs.io/en/latest/advanced-usage.html#tls-warnings\n",
            "  warnings.warn(\n",
            "/usr/local/lib/python3.10/dist-packages/urllib3/connectionpool.py:1099: InsecureRequestWarning: Unverified HTTPS request is being made to host 'adn.gob.do'. Adding certificate verification is strongly advised. See: https://urllib3.readthedocs.io/en/latest/advanced-usage.html#tls-warnings\n",
            "  warnings.warn(\n"
          ]
        },
        {
          "output_type": "stream",
          "name": "stdout",
          "text": [
            "No hay más archivos para ID: 932.\n",
            "Procesando ID: 480...\n"
          ]
        },
        {
          "output_type": "stream",
          "name": "stderr",
          "text": [
            "/usr/local/lib/python3.10/dist-packages/urllib3/connectionpool.py:1099: InsecureRequestWarning: Unverified HTTPS request is being made to host 'adn.gob.do'. Adding certificate verification is strongly advised. See: https://urllib3.readthedocs.io/en/latest/advanced-usage.html#tls-warnings\n",
            "  warnings.warn(\n",
            "/usr/local/lib/python3.10/dist-packages/urllib3/connectionpool.py:1099: InsecureRequestWarning: Unverified HTTPS request is being made to host 'adn.gob.do'. Adding certificate verification is strongly advised. See: https://urllib3.readthedocs.io/en/latest/advanced-usage.html#tls-warnings\n",
            "  warnings.warn(\n"
          ]
        },
        {
          "output_type": "stream",
          "name": "stdout",
          "text": [
            "No hay más archivos para ID: 480.\n",
            "Procesando ID: 663...\n"
          ]
        },
        {
          "output_type": "stream",
          "name": "stderr",
          "text": [
            "/usr/local/lib/python3.10/dist-packages/urllib3/connectionpool.py:1099: InsecureRequestWarning: Unverified HTTPS request is being made to host 'adn.gob.do'. Adding certificate verification is strongly advised. See: https://urllib3.readthedocs.io/en/latest/advanced-usage.html#tls-warnings\n",
            "  warnings.warn(\n",
            "/usr/local/lib/python3.10/dist-packages/urllib3/connectionpool.py:1099: InsecureRequestWarning: Unverified HTTPS request is being made to host 'adn.gob.do'. Adding certificate verification is strongly advised. See: https://urllib3.readthedocs.io/en/latest/advanced-usage.html#tls-warnings\n",
            "  warnings.warn(\n"
          ]
        },
        {
          "output_type": "stream",
          "name": "stdout",
          "text": [
            "No hay más archivos para ID: 663.\n",
            "Procesando ID: 879...\n"
          ]
        },
        {
          "output_type": "stream",
          "name": "stderr",
          "text": [
            "/usr/local/lib/python3.10/dist-packages/urllib3/connectionpool.py:1099: InsecureRequestWarning: Unverified HTTPS request is being made to host 'adn.gob.do'. Adding certificate verification is strongly advised. See: https://urllib3.readthedocs.io/en/latest/advanced-usage.html#tls-warnings\n",
            "  warnings.warn(\n",
            "/usr/local/lib/python3.10/dist-packages/urllib3/connectionpool.py:1099: InsecureRequestWarning: Unverified HTTPS request is being made to host 'adn.gob.do'. Adding certificate verification is strongly advised. See: https://urllib3.readthedocs.io/en/latest/advanced-usage.html#tls-warnings\n",
            "  warnings.warn(\n"
          ]
        },
        {
          "output_type": "stream",
          "name": "stdout",
          "text": [
            "No hay más archivos para ID: 879.\n",
            "Archivos obtenidos:\n",
            "[\n",
            "    {\n",
            "        \"post_title\": \"plan operativo anual(poa) 2018\",\n",
            "        \"created_time\": \"2023-04-20 15:23:00\",\n",
            "        \"modified_time\": \"2023-04-20 15:24:48\",\n",
            "        \"linkdownload\": \"https://adn.gob.do/transparencia/download/771/2018/4517/plan-operativo-anualpoa-2018.pdf\"\n",
            "    },\n",
            "    {\n",
            "        \"post_title\": \"simon bolivar-acta de asamblea\",\n",
            "        \"created_time\": \"2023-04-20 17:16:37\",\n",
            "        \"modified_time\": \"2023-04-20 17:16:37\",\n",
            "        \"linkdownload\": \"https://adn.gob.do/transparencia/download/780/actas-asambleas-circunscripcion-3-ano-2010/4559/simon-bolivar-acta-de-asamblea.pdf\"\n",
            "    },\n",
            "    {\n",
            "        \"post_title\": \"listado de participantes villa francisca\",\n",
            "        \"created_time\": \"2023-04-20 17:15:00\",\n",
            "        \"modified_time\": \"2023-04-20 18:34:41\",\n",
            "        \"linkdownload\": \"https://adn.gob.do/transparencia/download/780/actas-asambleas-circunscripcion-3-ano-2010/4556/listado-de-participantes-villa-francisca.pdf\"\n",
            "    },\n",
            "    {\n",
            "        \"post_title\": \"listado de participantes simon bolivar\",\n",
            "        \"created_time\": \"2023-04-20 17:15:00\",\n",
            "        \"modified_time\": \"2023-04-20 18:34:24\",\n",
            "        \"linkdownload\": \"https://adn.gob.do/transparencia/download/780/actas-asambleas-circunscripcion-3-ano-2010/4554/listado-de-participantes-simon-bolivar.pdf\"\n",
            "    },\n",
            "    {\n",
            "        \"post_title\": \"listado de participantes la zurza\",\n",
            "        \"created_time\": \"2023-04-20 17:15:00\",\n",
            "        \"modified_time\": \"2023-04-20 18:34:03\",\n",
            "        \"linkdownload\": \"https://adn.gob.do/transparencia/download/780/actas-asambleas-circunscripcion-3-ano-2010/4555/listado-de-participantes-la-zurza.pdf\"\n",
            "    },\n",
            "    {\n",
            "        \"post_title\": \"listado de participantes gualey\",\n",
            "        \"created_time\": \"2023-04-20 17:15:00\",\n",
            "        \"modified_time\": \"2023-04-20 18:33:41\",\n",
            "        \"linkdownload\": \"https://adn.gob.do/transparencia/download/780/actas-asambleas-circunscripcion-3-ano-2010/4557/listado-de-participantes-gualey.pdf\"\n",
            "    },\n",
            "    {\n",
            "        \"post_title\": \"listado de participantes capotillo\",\n",
            "        \"created_time\": \"2023-04-20 17:15:00\",\n",
            "        \"modified_time\": \"2023-04-20 18:30:24\",\n",
            "        \"linkdownload\": \"https://adn.gob.do/transparencia/download/780/actas-asambleas-circunscripcion-3-ano-2010/4558/listado-de-participantes-capotillo.pdf\"\n",
            "    },\n",
            "    {\n",
            "        \"post_title\": \"listado de participantes 27 de febrero\",\n",
            "        \"created_time\": \"2023-04-20 17:15:00\",\n",
            "        \"modified_time\": \"2023-04-20 18:29:58\",\n",
            "        \"linkdownload\": \"https://adn.gob.do/transparencia/download/780/actas-asambleas-circunscripcion-3-ano-2010/4553/listado-de-participantes-27-de-febrero.pdf\"\n",
            "    },\n",
            "    {\n",
            "        \"post_title\": \"listado de participantes 24 de abril\",\n",
            "        \"created_time\": \"2023-04-20 17:15:00\",\n",
            "        \"modified_time\": \"2023-04-20 18:29:37\",\n",
            "        \"linkdownload\": \"https://adn.gob.do/transparencia/download/780/actas-asambleas-circunscripcion-3-ano-2010/4551/listado-de-participantes-24-de-abril.pdf\"\n",
            "    },\n",
            "    {\n",
            "        \"post_title\": \"acta asamblea villas agricolas\",\n",
            "        \"created_time\": \"2023-04-20 17:15:00\",\n",
            "        \"modified_time\": \"2023-04-20 18:29:16\",\n",
            "        \"linkdownload\": \"https://adn.gob.do/transparencia/download/780/actas-asambleas-circunscripcion-3-ano-2010/4552/acta-asamblea-villas-agricolas.pdf\"\n",
            "    },\n",
            "    {\n",
            "        \"post_title\": \"acta asamblea villa francisca\",\n",
            "        \"created_time\": \"2023-04-20 17:15:00\",\n",
            "        \"modified_time\": \"2023-04-20 18:28:31\",\n",
            "        \"linkdownload\": \"https://adn.gob.do/transparencia/download/780/actas-asambleas-circunscripcion-3-ano-2010/4550/acta-asamblea-villa-francisca.pdf\"\n",
            "    },\n",
            "    {\n",
            "        \"post_title\": \"acta asamblea los guandules\",\n",
            "        \"created_time\": \"2023-04-20 17:15:00\",\n",
            "        \"modified_time\": \"2023-04-20 18:26:48\",\n",
            "        \"linkdownload\": \"https://adn.gob.do/transparencia/download/780/actas-asambleas-circunscripcion-3-ano-2010/4548/acta-asamblea-los-guandules.pdf\"\n",
            "    },\n",
            "    {\n",
            "        \"post_title\": \"acta asamblea la zurza\",\n",
            "        \"created_time\": \"2023-04-20 17:15:00\",\n",
            "        \"modified_time\": \"2023-04-20 18:27:19\",\n",
            "        \"linkdownload\": \"https://adn.gob.do/transparencia/download/780/actas-asambleas-circunscripcion-3-ano-2010/4547/acta-asamblea-la-zurza.pdf\"\n",
            "    },\n",
            "    {\n",
            "        \"post_title\": \"acta asamblea gualey\",\n",
            "        \"created_time\": \"2023-04-20 17:15:00\",\n",
            "        \"modified_time\": \"2023-04-20 18:27:50\",\n",
            "        \"linkdownload\": \"https://adn.gob.do/transparencia/download/780/actas-asambleas-circunscripcion-3-ano-2010/4549/acta-asamblea-gualey.pdf\"\n",
            "    },\n",
            "    {\n",
            "        \"post_title\": \"acta asamblea capotillo\",\n",
            "        \"created_time\": \"2023-04-20 17:16:37\",\n",
            "        \"modified_time\": \"2023-04-20 17:16:37\",\n",
            "        \"linkdownload\": \"https://adn.gob.do/transparencia/download/780/actas-asambleas-circunscripcion-3-ano-2010/4560/acta-asamblea-capotillo.pdf\"\n",
            "    },\n",
            "    {\n",
            "        \"post_title\": \"acta asamblea 27 de febrero\",\n",
            "        \"created_time\": \"2023-04-20 17:16:39\",\n",
            "        \"modified_time\": \"2023-04-20 17:16:39\",\n",
            "        \"linkdownload\": \"https://adn.gob.do/transparencia/download/780/actas-asambleas-circunscripcion-3-ano-2010/4562/acta-asamblea-27-de-febrero.pdf\"\n",
            "    },\n",
            "    {\n",
            "        \"post_title\": \"acta asamblea 24 de abril\",\n",
            "        \"created_time\": \"2023-04-20 17:16:00\",\n",
            "        \"modified_time\": \"2023-04-20 18:26:08\",\n",
            "        \"linkdownload\": \"https://adn.gob.do/transparencia/download/780/actas-asambleas-circunscripcion-3-ano-2010/4561/acta-asamblea-24-de-abril.pdf\"\n",
            "    },\n",
            "    {\n",
            "        \"post_title\": \"plan operativo anual(poa) 2020\",\n",
            "        \"created_time\": \"2023-04-20 15:04:00\",\n",
            "        \"modified_time\": \"2023-04-20 15:05:31\",\n",
            "        \"linkdownload\": \"https://adn.gob.do/transparencia/download/769/2020/4515/plan-operativo-anualpoa-2020.pdf\"\n",
            "    },\n",
            "    {\n",
            "        \"post_title\": \"rendicion de cuentas segundo trimestre 2021\",\n",
            "        \"created_time\": \"2023-04-20 15:53:00\",\n",
            "        \"modified_time\": \"2023-04-20 15:58:03\",\n",
            "        \"linkdownload\": \"https://adn.gob.do/transparencia/download/772/2021/4520/rendicion-de-cuentas-segundo-trimestre-2021.pdf\"\n",
            "    },\n",
            "    {\n",
            "        \"post_title\": \"rendicion de cuenta ppm 2021\",\n",
            "        \"created_time\": \"2023-04-20 15:53:00\",\n",
            "        \"modified_time\": \"2023-04-20 15:55:16\",\n",
            "        \"linkdownload\": \"https://adn.gob.do/transparencia/download/772/2021/4518/rendicion-de-cuenta-ppm-2021.pdf\"\n",
            "    },\n",
            "    {\n",
            "        \"post_title\": \"plan de inversion 2021 - fp06\",\n",
            "        \"created_time\": \"2023-04-20 15:53:21\",\n",
            "        \"modified_time\": \"2023-04-20 15:53:21\",\n",
            "        \"linkdownload\": \"https://adn.gob.do/transparencia/download/772/2021/4519/plan-de-inversion-2021-fp06.pdf\"\n",
            "    },\n",
            "    {\n",
            "        \"post_title\": \"analisis ejecucion obras t3 2021\",\n",
            "        \"created_time\": \"2023-04-20 15:54:00\",\n",
            "        \"modified_time\": \"2023-04-20 15:58:25\",\n",
            "        \"linkdownload\": \"https://adn.gob.do/transparencia/download/772/2021/4521/analisis-ejecucion-obras-t3-2021.pdf\"\n",
            "    },\n",
            "    {\n",
            "        \"post_title\": \"informe rendicion de cuentas ppm  octubre - diciembre 2023\",\n",
            "        \"created_time\": \"2024-01-17 20:50:00\",\n",
            "        \"modified_time\": \"2024-01-17 20:51:30\",\n",
            "        \"linkdownload\": \"https://adn.gob.do/transparencia/download/880/informes/7734/informe-rendicion-de-cuentas-ppm-octubre-diciembre-2023.pdf\"\n",
            "    },\n",
            "    {\n",
            "        \"post_title\": \"informe rendicion de cuentas ppm julio - septiembre 2023\",\n",
            "        \"created_time\": \"2023-10-03 20:23:57\",\n",
            "        \"modified_time\": \"2023-10-03 20:23:57\",\n",
            "        \"linkdownload\": \"https://adn.gob.do/transparencia/download/880/informes/7006/informe-rendicion-de-cuentas-ppm-julio-septiembre-2023.pdf\"\n",
            "    },\n",
            "    {\n",
            "        \"post_title\": \"informe rendicion de cuentas ppm enero-mayo 2023\",\n",
            "        \"created_time\": \"2023-06-01 15:48:00\",\n",
            "        \"modified_time\": \"2023-06-01 15:50:51\",\n",
            "        \"linkdownload\": \"https://adn.gob.do/transparencia/download/880/informes/4940/informe-rendicion-de-cuentas-ppm-enero-mayo-2023.pdf\"\n",
            "    },\n",
            "    {\n",
            "        \"post_title\": \"informe rendicion de cuentas ppm abril - junio 2023\",\n",
            "        \"created_time\": \"2023-07-31 19:47:00\",\n",
            "        \"modified_time\": \"2023-07-31 19:48:40\",\n",
            "        \"linkdownload\": \"https://adn.gob.do/transparencia/download/880/informes/5280/informe-rendicion-de-cuentas-ppm-abril-junio-2023.pdf\"\n",
            "    },\n",
            "    {\n",
            "        \"post_title\": \"listado de participantes del ensanche quisqueya\",\n",
            "        \"created_time\": \"2023-04-20 16:30:00\",\n",
            "        \"modified_time\": \"2023-04-20 16:34:08\",\n",
            "        \"linkdownload\": \"https://adn.gob.do/transparencia/download/778/actas-asambleas-circunscripcion-1-ano-2010/4539/listado-de-participantes-del-ensanche-quisqueya.pdf\"\n",
            "    },\n",
            "    {\n",
            "        \"post_title\": \"listado de participantes del cacique\",\n",
            "        \"created_time\": \"2023-04-20 16:30:00\",\n",
            "        \"modified_time\": \"2023-04-20 16:33:35\",\n",
            "        \"linkdownload\": \"https://adn.gob.do/transparencia/download/778/actas-asambleas-circunscripcion-1-ano-2010/4537/listado-de-participantes-del-cacique.pdf\"\n",
            "    },\n",
            "    {\n",
            "        \"post_title\": \"listado de participantes ciudad colonial\",\n",
            "        \"created_time\": \"2023-04-20 16:30:00\",\n",
            "        \"modified_time\": \"2023-04-20 16:32:54\",\n",
            "        \"linkdownload\": \"https://adn.gob.do/transparencia/download/778/actas-asambleas-circunscripcion-1-ano-2010/4540/listado-de-participantes-ciudad-colonial.pdf\"\n",
            "    },\n",
            "    {\n",
            "        \"post_title\": \"acta asamblea quisqueya\",\n",
            "        \"created_time\": \"2023-04-20 16:30:00\",\n",
            "        \"modified_time\": \"2023-04-20 16:32:10\",\n",
            "        \"linkdownload\": \"https://adn.gob.do/transparencia/download/778/actas-asambleas-circunscripcion-1-ano-2010/4538/acta-asamblea-quisqueya.pdf\"\n",
            "    },\n",
            "    {\n",
            "        \"post_title\": \"acta asamblea honduras el oeste\",\n",
            "        \"created_time\": \"2023-04-20 16:30:00\",\n",
            "        \"modified_time\": \"2023-04-20 16:31:09\",\n",
            "        \"linkdownload\": \"https://adn.gob.do/transparencia/download/778/actas-asambleas-circunscripcion-1-ano-2010/4536/acta-asamblea-honduras-el-oeste.pdf\"\n",
            "    },\n",
            "    {\n",
            "        \"post_title\": \"acta asamblea el cacique 2\",\n",
            "        \"created_time\": \"2023-04-20 16:25:00\",\n",
            "        \"modified_time\": \"2023-04-20 16:27:16\",\n",
            "        \"linkdownload\": \"https://adn.gob.do/transparencia/download/778/actas-asambleas-circunscripcion-1-ano-2010/4534/acta-asamblea-el-cacique-2.pdf\"\n",
            "    },\n",
            "    {\n",
            "        \"post_title\": \"acta asamblea el cacique 1\",\n",
            "        \"created_time\": \"2023-04-20 16:25:00\",\n",
            "        \"modified_time\": \"2023-04-20 16:26:58\",\n",
            "        \"linkdownload\": \"https://adn.gob.do/transparencia/download/778/actas-asambleas-circunscripcion-1-ano-2010/4535/acta-asamblea-el-cacique-1.pdf\"\n",
            "    },\n",
            "    {\n",
            "        \"post_title\": \"acta asamblea ciudad colonial\",\n",
            "        \"created_time\": \"2023-04-20 16:25:00\",\n",
            "        \"modified_time\": \"2023-04-20 16:26:41\",\n",
            "        \"linkdownload\": \"https://adn.gob.do/transparencia/download/778/actas-asambleas-circunscripcion-1-ano-2010/4533/acta-asamblea-ciudad-colonial.pdf\"\n",
            "    },\n",
            "    {\n",
            "        \"post_title\": \"informe seguimiento poa t3 2024 julio - septiembre\",\n",
            "        \"created_time\": \"2024-10-31 18:22:00\",\n",
            "        \"modified_time\": \"2024-10-31 18:23:38\",\n",
            "        \"linkdownload\": \"https://adn.gob.do/transparencia/download/1574/informes/9712/informe-seguimiento-poa-t3-2024-julio-septiembre.pdf\"\n",
            "    },\n",
            "    {\n",
            "        \"post_title\": \"informe seguimiento poa t2 2024 abril - junio\",\n",
            "        \"created_time\": \"2024-08-02 12:29:00\",\n",
            "        \"modified_time\": \"2024-08-02 12:30:49\",\n",
            "        \"linkdownload\": \"https://adn.gob.do/transparencia/download/1574/informes/9108/informe-seguimiento-poa-t2-2024-abril-junio.pdf\"\n",
            "    },\n",
            "    {\n",
            "        \"post_title\": \"informe seguimiento poa t1 2024 enero - marzo\",\n",
            "        \"created_time\": \"2024-06-04 20:15:00\",\n",
            "        \"modified_time\": \"2024-06-04 20:15:37\",\n",
            "        \"linkdownload\": \"https://adn.gob.do/transparencia/download/1574/informes/8686/informe-seguimiento-poa-t1-2024-enero-marzo.pdf\"\n",
            "    },\n",
            "    {\n",
            "        \"post_title\": \"inversiones lavaber srl\",\n",
            "        \"created_time\": \"2023-04-20 16:06:00\",\n",
            "        \"modified_time\": \"2023-04-20 16:08:27\",\n",
            "        \"linkdownload\": \"https://adn.gob.do/transparencia/download/776/t3-2021/4529/inversiones-lavaber-srl.pdf\"\n",
            "    },\n",
            "    {\n",
            "        \"post_title\": \"enriqueta ceballos\",\n",
            "        \"created_time\": \"2023-04-20 16:06:00\",\n",
            "        \"modified_time\": \"2023-04-20 16:07:39\",\n",
            "        \"linkdownload\": \"https://adn.gob.do/transparencia/download/776/t3-2021/4527/enriqueta-ceballos.pdf\"\n",
            "    },\n",
            "    {\n",
            "        \"post_title\": \"constructora convesta srl\",\n",
            "        \"created_time\": \"2023-04-20 16:06:00\",\n",
            "        \"modified_time\": \"2023-04-20 16:07:24\",\n",
            "        \"linkdownload\": \"https://adn.gob.do/transparencia/download/776/t3-2021/4530/constructora-convesta-srl.pdf\"\n",
            "    },\n",
            "    {\n",
            "        \"post_title\": \"consorcio alfyll srl\",\n",
            "        \"created_time\": \"2023-04-20 16:06:00\",\n",
            "        \"modified_time\": \"2023-04-20 16:07:02\",\n",
            "        \"linkdownload\": \"https://adn.gob.do/transparencia/download/776/t3-2021/4528/consorcio-alfyll-srl.pdf\"\n",
            "    },\n",
            "    {\n",
            "        \"post_title\": \"artiex, srl\",\n",
            "        \"created_time\": \"2023-04-20 16:06:00\",\n",
            "        \"modified_time\": \"2023-04-20 16:06:39\",\n",
            "        \"linkdownload\": \"https://adn.gob.do/transparencia/download/776/t3-2021/4526/artiex-srl.pdf\"\n",
            "    },\n",
            "    {\n",
            "        \"post_title\": \"leinbnz garisbaldy ogando camilo\",\n",
            "        \"created_time\": \"2023-04-20 16:10:00\",\n",
            "        \"modified_time\": \"2023-04-20 16:11:18\",\n",
            "        \"linkdownload\": \"https://adn.gob.do/transparencia/download/775/t2-2021/4531/leinbnz-garisbaldy-ogando-camilo.pdf\"\n",
            "    },\n",
            "    {\n",
            "        \"post_title\": \"14504 dineba disenos interiores y ebanisteria, srl 1ra c\",\n",
            "        \"created_time\": \"2023-10-03 20:24:53\",\n",
            "        \"modified_time\": \"2023-10-03 20:24:53\",\n",
            "        \"linkdownload\": \"https://adn.gob.do/transparencia/download/1464/julio-septiembre/7012/14504-dineba-disenos-interiores-y-ebanisteria-srl-1ra-c.pdf\"\n",
            "    },\n",
            "    {\n",
            "        \"post_title\": \"14493 montval ingenieria, srl  2da c\",\n",
            "        \"created_time\": \"2023-10-03 20:24:52\",\n",
            "        \"modified_time\": \"2023-10-03 20:24:52\",\n",
            "        \"linkdownload\": \"https://adn.gob.do/transparencia/download/1464/julio-septiembre/7009/14493-montval-ingenieria-srl-2da-c.pdf\"\n",
            "    },\n",
            "    {\n",
            "        \"post_title\": \"14485 conedecan srl 1ra c\",\n",
            "        \"created_time\": \"2023-10-03 20:24:52\",\n",
            "        \"modified_time\": \"2023-10-03 20:24:52\",\n",
            "        \"linkdownload\": \"https://adn.gob.do/transparencia/download/1464/julio-septiembre/7011/14485-conedecan-srl-1ra-c.pdf\"\n",
            "    },\n",
            "    {\n",
            "        \"post_title\": \"14484 constructora phd, srl 1ra c\",\n",
            "        \"created_time\": \"2023-10-03 20:24:52\",\n",
            "        \"modified_time\": \"2023-10-03 20:24:52\",\n",
            "        \"linkdownload\": \"https://adn.gob.do/transparencia/download/1464/julio-septiembre/7008/14484-constructora-phd-srl-1ra-c.pdf\"\n",
            "    },\n",
            "    {\n",
            "        \"post_title\": \"14483 construcciones y transporte prefabricados 1ra c\",\n",
            "        \"created_time\": \"2023-10-03 20:24:52\",\n",
            "        \"modified_time\": \"2023-10-03 20:24:52\",\n",
            "        \"linkdownload\": \"https://adn.gob.do/transparencia/download/1464/julio-septiembre/7007/14483-construcciones-y-transporte-prefabricados-1ra-c.pdf\"\n",
            "    },\n",
            "    {\n",
            "        \"post_title\": \"14473 j. mendez construcciones  1ra c\",\n",
            "        \"created_time\": \"2023-10-03 20:24:54\",\n",
            "        \"modified_time\": \"2023-10-03 20:24:54\",\n",
            "        \"linkdownload\": \"https://adn.gob.do/transparencia/download/1464/julio-septiembre/7013/14473-j-mendez-construcciones-1ra-c.pdf\"\n",
            "    },\n",
            "    {\n",
            "        \"post_title\": \"14462 montval ingenieria, srl 1ra c\",\n",
            "        \"created_time\": \"2023-10-03 20:24:52\",\n",
            "        \"modified_time\": \"2023-10-03 20:24:52\",\n",
            "        \"linkdownload\": \"https://adn.gob.do/transparencia/download/1464/julio-septiembre/7010/14462-montval-ingenieria-srl-1ra-c.pdf\"\n",
            "    },\n",
            "    {\n",
            "        \"post_title\": \"14836 caecom srl - 20% avance\",\n",
            "        \"created_time\": \"2024-09-10 14:38:09\",\n",
            "        \"modified_time\": \"2024-09-10 14:38:09\",\n",
            "        \"linkdownload\": \"https://adn.gob.do/transparencia/download/1695/rendicion-de-cuentas-presupuesto-participativo-municipalppm/9281/14836-caecom-srl-20-avance.pdf\"\n",
            "    },\n",
            "    {\n",
            "        \"post_title\": \"14823 consorcio vs magon srl -20% avance\",\n",
            "        \"created_time\": \"2024-08-30 15:57:48\",\n",
            "        \"modified_time\": \"2024-08-30 15:57:48\",\n",
            "        \"linkdownload\": \"https://adn.gob.do/transparencia/download/1695/rendicion-de-cuentas-presupuesto-participativo-municipalppm/9210/14823-consorcio-vs-magon-srl-20-avance.pdf\"\n",
            "    },\n",
            "    {\n",
            "        \"post_title\": \"14817 construcciones servicios y disenos civiles dominic japt srl -20% avance\",\n",
            "        \"created_time\": \"2024-08-30 15:57:48\",\n",
            "        \"modified_time\": \"2024-08-30 15:57:48\",\n",
            "        \"linkdownload\": \"https://adn.gob.do/transparencia/download/1695/rendicion-de-cuentas-presupuesto-participativo-municipalppm/9212/14817-construcciones-servicios-y-disenos-civiles-dominic-japt-srl-20-avance.pdf\"\n",
            "    },\n",
            "    {\n",
            "        \"post_title\": \"14816 revicon srl -20% avance\",\n",
            "        \"created_time\": \"2024-08-30 15:57:48\",\n",
            "        \"modified_time\": \"2024-08-30 15:57:48\",\n",
            "        \"linkdownload\": \"https://adn.gob.do/transparencia/download/1695/rendicion-de-cuentas-presupuesto-participativo-municipalppm/9215/14816-revicon-srl-20-avance.pdf\"\n",
            "    },\n",
            "    {\n",
            "        \"post_title\": \"14815 construccion y transporte prefabricados eec srl -20% avance\",\n",
            "        \"created_time\": \"2024-08-30 15:57:48\",\n",
            "        \"modified_time\": \"2024-08-30 15:57:48\",\n",
            "        \"linkdownload\": \"https://adn.gob.do/transparencia/download/1695/rendicion-de-cuentas-presupuesto-participativo-municipalppm/9214/14815-construccion-y-transporte-prefabricados-eec-srl-20-avance.pdf\"\n",
            "    },\n",
            "    {\n",
            "        \"post_title\": \"14813 constructora fixsa srl- 20% avance\",\n",
            "        \"created_time\": \"2024-08-30 15:57:48\",\n",
            "        \"modified_time\": \"2024-08-30 15:57:48\",\n",
            "        \"linkdownload\": \"https://adn.gob.do/transparencia/download/1695/rendicion-de-cuentas-presupuesto-participativo-municipalppm/9211/14813-constructora-fixsa-srl-20-avance.pdf\"\n",
            "    },\n",
            "    {\n",
            "        \"post_title\": \"14812 constructora burgos lopez srl - 20% avance\",\n",
            "        \"created_time\": \"2024-08-30 15:57:48\",\n",
            "        \"modified_time\": \"2024-08-30 15:57:48\",\n",
            "        \"linkdownload\": \"https://adn.gob.do/transparencia/download/1695/rendicion-de-cuentas-presupuesto-participativo-municipalppm/9213/14812-constructora-burgos-lopez-srl-20-avance.pdf\"\n",
            "    },\n",
            "    {\n",
            "        \"post_title\": \"listado de participantes villa maria y mejoramiento social\",\n",
            "        \"created_time\": \"2023-04-20 19:40:00\",\n",
            "        \"modified_time\": \"2023-04-20 19:48:51\",\n",
            "        \"linkdownload\": \"https://adn.gob.do/transparencia/download/783/actas-asambleas-circunscripcion-3-ano-2011/4569/listado-de-participantes-villa-maria-y-mejoramiento-social.pdf\"\n",
            "    },\n",
            "    {\n",
            "        \"post_title\": \"listado de participantes villa consuelo\",\n",
            "        \"created_time\": \"2023-04-20 19:40:00\",\n",
            "        \"modified_time\": \"2023-04-20 19:48:33\",\n",
            "        \"linkdownload\": \"https://adn.gob.do/transparencia/download/783/actas-asambleas-circunscripcion-3-ano-2011/4575/listado-de-participantes-villa-consuelo.pdf\"\n",
            "    },\n",
            "    {\n",
            "        \"post_title\": \"listado de participantes maria auxiliadora y guachupita\",\n",
            "        \"created_time\": \"2023-04-20 19:40:00\",\n",
            "        \"modified_time\": \"2023-04-20 19:48:11\",\n",
            "        \"linkdownload\": \"https://adn.gob.do/transparencia/download/783/actas-asambleas-circunscripcion-3-ano-2011/4574/listado-de-participantes-maria-auxiliadora-y-guachupita.pdf\"\n",
            "    },\n",
            "    {\n",
            "        \"post_title\": \"listado de participantes la cienega\",\n",
            "        \"created_time\": \"2023-04-20 19:40:00\",\n",
            "        \"modified_time\": \"2023-04-20 19:47:51\",\n",
            "        \"linkdownload\": \"https://adn.gob.do/transparencia/download/783/actas-asambleas-circunscripcion-3-ano-2011/4573/listado-de-participantes-la-cienega.pdf\"\n",
            "    },\n",
            "    {\n",
            "        \"post_title\": \"acta asamblea villa maria y mejoramiento social\",\n",
            "        \"created_time\": \"2023-04-20 19:40:00\",\n",
            "        \"modified_time\": \"2023-04-20 19:42:54\",\n",
            "        \"linkdownload\": \"https://adn.gob.do/transparencia/download/783/actas-asambleas-circunscripcion-3-ano-2011/4572/acta-asamblea-villa-maria-y-mejoramiento-social.pdf\"\n",
            "    },\n",
            "    {\n",
            "        \"post_title\": \"acta asamblea villa consuelo\",\n",
            "        \"created_time\": \"2023-04-20 19:40:00\",\n",
            "        \"modified_time\": \"2023-04-20 19:43:16\",\n",
            "        \"linkdownload\": \"https://adn.gob.do/transparencia/download/783/actas-asambleas-circunscripcion-3-ano-2011/4570/acta-asamblea-villa-consuelo.pdf\"\n",
            "    },\n",
            "    {\n",
            "        \"post_title\": \"acta asamblea maria auxiliadora y guachupita\",\n",
            "        \"created_time\": \"2023-04-20 19:40:00\",\n",
            "        \"modified_time\": \"2023-04-20 19:46:31\",\n",
            "        \"linkdownload\": \"https://adn.gob.do/transparencia/download/783/actas-asambleas-circunscripcion-3-ano-2011/4576/acta-asamblea-maria-auxiliadora-y-guachupita.pdf\"\n",
            "    },\n",
            "    {\n",
            "        \"post_title\": \"acta asamblea la cienega\",\n",
            "        \"created_time\": \"2023-04-20 19:40:00\",\n",
            "        \"modified_time\": \"2023-04-20 19:42:26\",\n",
            "        \"linkdownload\": \"https://adn.gob.do/transparencia/download/783/actas-asambleas-circunscripcion-3-ano-2011/4571/acta-asamblea-la-cienega.pdf\"\n",
            "    },\n",
            "    {\n",
            "        \"post_title\": \"taller promotores\",\n",
            "        \"created_time\": \"2023-04-20 20:07:00\",\n",
            "        \"modified_time\": \"2023-04-20 20:12:35\",\n",
            "        \"linkdownload\": \"https://adn.gob.do/transparencia/download/784/mas-documentos/4585/taller-promotores.pdf\"\n",
            "    },\n",
            "    {\n",
            "        \"post_title\": \"resumen presupuesto participativo al 31 agosto 2011\",\n",
            "        \"created_time\": \"2023-04-20 20:07:00\",\n",
            "        \"modified_time\": \"2023-04-20 20:17:38\",\n",
            "        \"linkdownload\": \"https://adn.gob.do/transparencia/download/784/mas-documentos/4584/resumen-presupuesto-participativo-al-31-agosto-2011.pdf\"\n",
            "    },\n",
            "    {\n",
            "        \"post_title\": \"resumen presupuesto participativo marzo 2011\",\n",
            "        \"created_time\": \"2023-04-20 20:07:00\",\n",
            "        \"modified_time\": \"2023-04-20 20:16:57\",\n",
            "        \"linkdownload\": \"https://adn.gob.do/transparencia/download/784/mas-documentos/4583/resumen-presupuesto-participativo-marzo-2011.pdf\"\n",
            "    },\n",
            "    {\n",
            "        \"post_title\": \"resumen ejecucion obras 2011 - c3\",\n",
            "        \"created_time\": \"2023-04-20 20:07:00\",\n",
            "        \"modified_time\": \"2023-04-20 20:18:18\",\n",
            "        \"linkdownload\": \"https://adn.gob.do/transparencia/download/784/mas-documentos/4581/resumen-ejecucion-obras-2011-c3.pdf\"\n",
            "    },\n",
            "    {\n",
            "        \"post_title\": \"resumen ejecucion obras 2011 - c2\",\n",
            "        \"created_time\": \"2023-04-20 20:07:00\",\n",
            "        \"modified_time\": \"2023-04-20 20:18:42\",\n",
            "        \"linkdownload\": \"https://adn.gob.do/transparencia/download/784/mas-documentos/4579/resumen-ejecucion-obras-2011-c2.pdf\"\n",
            "    },\n",
            "    {\n",
            "        \"post_title\": \"resumen ejecucion obras 2011 - c1\",\n",
            "        \"created_time\": \"2023-04-20 20:07:00\",\n",
            "        \"modified_time\": \"2023-04-20 20:19:04\",\n",
            "        \"linkdownload\": \"https://adn.gob.do/transparencia/download/784/mas-documentos/4577/resumen-ejecucion-obras-2011-c1.pdf\"\n",
            "    },\n",
            "    {\n",
            "        \"post_title\": \"resolucion y reglamento de presupuesto participativo\",\n",
            "        \"created_time\": \"2023-04-20 20:07:44\",\n",
            "        \"modified_time\": \"2023-04-20 20:07:44\",\n",
            "        \"linkdownload\": \"https://adn.gob.do/transparencia/download/784/mas-documentos/4580/resolucion-y-reglamento-de-presupuesto-participativo.pdf\"\n",
            "    },\n",
            "    {\n",
            "        \"post_title\": \"programacion presupuesto participativo\",\n",
            "        \"created_time\": \"2023-04-20 20:07:00\",\n",
            "        \"modified_time\": \"2023-04-20 20:20:08\",\n",
            "        \"linkdownload\": \"https://adn.gob.do/transparencia/download/784/mas-documentos/4582/programacion-presupuesto-participativo.pdf\"\n",
            "    },\n",
            "    {\n",
            "        \"post_title\": \"ley_no_170-07 de presupuesto participativo\",\n",
            "        \"created_time\": \"2023-04-20 20:07:44\",\n",
            "        \"modified_time\": \"2023-04-20 20:07:44\",\n",
            "        \"linkdownload\": \"https://adn.gob.do/transparencia/download/784/mas-documentos/4578/ley_no_170-07-de-presupuesto-participativo.pdf\"\n",
            "    },\n",
            "    {\n",
            "        \"post_title\": \"informe obras presupuesto participativo\",\n",
            "        \"created_time\": \"2023-04-20 20:07:48\",\n",
            "        \"modified_time\": \"2023-04-20 20:07:48\",\n",
            "        \"linkdownload\": \"https://adn.gob.do/transparencia/download/784/mas-documentos/4588/informe-obras-presupuesto-participativo.pdf\"\n",
            "    },\n",
            "    {\n",
            "        \"post_title\": \"informe obras presupuesto participativo\",\n",
            "        \"created_time\": \"2023-04-20 20:07:00\",\n",
            "        \"modified_time\": \"2023-04-20 20:22:35\",\n",
            "        \"linkdownload\": \"https://adn.gob.do/transparencia/download/784/mas-documentos/4589/informe-obras-presupuesto-participativo-2.pdf\"\n",
            "    },\n",
            "    {\n",
            "        \"post_title\": \"dirigentes comunitarios circunscripciones 123\",\n",
            "        \"created_time\": \"2023-04-20 20:07:00\",\n",
            "        \"modified_time\": \"2023-04-20 20:15:50\",\n",
            "        \"linkdownload\": \"https://adn.gob.do/transparencia/download/784/mas-documentos/4586/dirigentes-comunitarios-circunscripciones-123.pdf\"\n",
            "    },\n",
            "    {\n",
            "        \"post_title\": \"asambleas barriales presupuesto participativo\",\n",
            "        \"created_time\": \"2023-04-20 20:07:00\",\n",
            "        \"modified_time\": \"2023-04-20 20:15:16\",\n",
            "        \"linkdownload\": \"https://adn.gob.do/transparencia/download/784/mas-documentos/4587/asambleas-barriales-presupuesto-participativo.pdf\"\n",
            "    },\n",
            "    {\n",
            "        \"post_title\": \"plan operativo anual(poa)  2022\",\n",
            "        \"created_time\": \"2022-01-12 15:51:00\",\n",
            "        \"modified_time\": \"2022-04-26 15:52:35\",\n",
            "        \"linkdownload\": \"https://adn.gob.do/transparencia/download/475/2022/2143/plan-operativo-anualpoa-2022.pdf\"\n",
            "    },\n",
            "    {\n",
            "        \"post_title\": \"guia para elaboracion y monitoreo de poa\",\n",
            "        \"created_time\": \"2022-06-20 15:58:00\",\n",
            "        \"modified_time\": \"2022-06-20 15:59:49\",\n",
            "        \"linkdownload\": \"https://adn.gob.do/transparencia/download/475/2022/2407/guia-para-elaboracion-y-monitoreo-de-poa.pdf\"\n",
            "    },\n",
            "    {\n",
            "        \"post_title\": \"guia para elaboracion memoria anual\",\n",
            "        \"created_time\": \"2022-06-20 15:58:00\",\n",
            "        \"modified_time\": \"2022-06-20 15:59:28\",\n",
            "        \"linkdownload\": \"https://adn.gob.do/transparencia/download/475/2022/2405/guia-para-elaboracion-memoria-anual.pdf\"\n",
            "    },\n",
            "    {\n",
            "        \"post_title\": \"ficha poa\",\n",
            "        \"created_time\": \"2022-06-20 15:58:00\",\n",
            "        \"modified_time\": \"2022-06-20 16:00:24\",\n",
            "        \"linkdownload\": \"https://adn.gob.do/transparencia/download/475/2022/2408/ficha-poa.xls\"\n",
            "    },\n",
            "    {\n",
            "        \"post_title\": \"plan estrategico del distrito nacional(27jul2020 ed22sep2021)\",\n",
            "        \"created_time\": \"2021-09-22 15:01:00\",\n",
            "        \"modified_time\": \"2021-12-13 15:36:41\",\n",
            "        \"linkdownload\": \"https://adn.gob.do/transparencia/download/109/plan-estrategico/549/plan-estrategico-del-distrito-nacional27jul2020-ed22sep2021.pdf\"\n",
            "    },\n",
            "    {\n",
            "        \"post_title\": \"lineamientos del plan estrategico del distrito nacional 2030\",\n",
            "        \"created_time\": \"2022-06-20 15:58:00\",\n",
            "        \"modified_time\": \"2022-06-20 15:58:45\",\n",
            "        \"linkdownload\": \"https://adn.gob.do/transparencia/download/109/plan-estrategico/2406/lineamientos-del-plan-estrategico-del-distrito-nacional-2030.pdf\"\n",
            "    },\n",
            "    {\n",
            "        \"post_title\": \"listado de participantes nordesa iii\",\n",
            "        \"created_time\": \"2023-04-20 19:06:00\",\n",
            "        \"modified_time\": \"2023-04-20 19:07:47\",\n",
            "        \"linkdownload\": \"https://adn.gob.do/transparencia/download/781/actas-asambleas-circunscripcion-1-ano-2011/4563/listado-de-participantes-nordesa-iii.pdf\"\n",
            "    },\n",
            "    {\n",
            "        \"post_title\": \"acta asamblea nordesa iii\",\n",
            "        \"created_time\": \"2023-04-20 19:06:00\",\n",
            "        \"modified_time\": \"2023-04-20 19:07:25\",\n",
            "        \"linkdownload\": \"https://adn.gob.do/transparencia/download/781/actas-asambleas-circunscripcion-1-ano-2011/4564/acta-asamblea-nordesa-iii.pdf\"\n",
            "    },\n",
            "    {\n",
            "        \"post_title\": \"evidencia de obras ppm t4 2020\",\n",
            "        \"created_time\": \"2023-04-20 16:17:58\",\n",
            "        \"modified_time\": \"2023-04-20 16:17:58\",\n",
            "        \"linkdownload\": \"https://adn.gob.do/transparencia/download/777/2020/4532/evidencia-de-obras-ppm-t4-2020.pdf\"\n",
            "    },\n",
            "    {\n",
            "        \"post_title\": \"asamblea villa claudia y mirador de las colinas\",\n",
            "        \"created_time\": \"2023-04-20 19:35:40\",\n",
            "        \"modified_time\": \"2023-04-20 19:35:40\",\n",
            "        \"linkdownload\": \"https://adn.gob.do/transparencia/download/782/actas-asambleas-circunscripcion-2-ano-2011/4567/asamblea-villa-claudia-y-mirador-de-las-colinas.pdf\"\n",
            "    },\n",
            "    {\n",
            "        \"post_title\": \"asamblea listado villa claudia y mirador de las colinas-3\",\n",
            "        \"created_time\": \"2023-04-20 19:35:40\",\n",
            "        \"modified_time\": \"2023-04-20 19:35:40\",\n",
            "        \"linkdownload\": \"https://adn.gob.do/transparencia/download/782/actas-asambleas-circunscripcion-2-ano-2011/4566/asamblea-listado-villa-claudia-y-mirador-de-las-colinas-3.pdf\"\n",
            "    },\n",
            "    {\n",
            "        \"post_title\": \"asamblea listado  la puya a.h.\",\n",
            "        \"created_time\": \"2023-04-20 19:35:40\",\n",
            "        \"modified_time\": \"2023-04-20 19:35:40\",\n",
            "        \"linkdownload\": \"https://adn.gob.do/transparencia/download/782/actas-asambleas-circunscripcion-2-ano-2011/4565/asamblea-listado-la-puya-a-h.pdf\"\n",
            "    },\n",
            "    {\n",
            "        \"post_title\": \"asamblea la puya a.h\",\n",
            "        \"created_time\": \"2023-04-20 19:35:40\",\n",
            "        \"modified_time\": \"2023-04-20 19:35:40\",\n",
            "        \"linkdownload\": \"https://adn.gob.do/transparencia/download/782/actas-asambleas-circunscripcion-2-ano-2011/4568/asamblea-la-puya-a-h.pdf\"\n",
            "    },\n",
            "    {\n",
            "        \"post_title\": \"informe de seguimiento poa 2022 (abril \\u2013 junio).\",\n",
            "        \"created_time\": \"2022-07-29 19:10:00\",\n",
            "        \"modified_time\": \"2022-07-29 19:13:37\",\n",
            "        \"linkdownload\": \"https://adn.gob.do/transparencia/download/476/informes/2542/informe-de-seguimiento-poa-2022-abril-junio.pdf\"\n",
            "    },\n",
            "    {\n",
            "        \"post_title\": \"informe de seguimiento plan operativo (poa) octubre - diciembre 2022\",\n",
            "        \"created_time\": \"2023-02-24 14:18:00\",\n",
            "        \"modified_time\": \"2023-02-24 14:19:13\",\n",
            "        \"linkdownload\": \"https://adn.gob.do/transparencia/download/476/informes/3643/informe-de-seguimiento-plan-operativo-poa-octubre-diciembre-2022.pdf\"\n",
            "    },\n",
            "    {\n",
            "        \"post_title\": \"informe de seguimiento poa 2022 t1 (enero \\u2013 marzo).\",\n",
            "        \"created_time\": \"2022-07-01 16:06:00\",\n",
            "        \"modified_time\": \"2022-07-01 16:08:04\",\n",
            "        \"linkdownload\": \"https://adn.gob.do/transparencia/download/476/informes/2451/informe-de-seguimiento-poa-2022-t1-enero-marzo.pdf\"\n",
            "    },\n",
            "    {\n",
            "        \"post_title\": \"informe de seguimiento poa (julio - septiembre)t3-2022\",\n",
            "        \"created_time\": \"2022-11-04 12:57:00\",\n",
            "        \"modified_time\": \"2022-11-04 12:58:53\",\n",
            "        \"linkdownload\": \"https://adn.gob.do/transparencia/download/476/informes/3128/informe-de-seguimiento-poa-julio-septiembret3-2022.pdf\"\n",
            "    },\n",
            "    {\n",
            "        \"post_title\": \"plan operativo anual 2023\",\n",
            "        \"created_time\": \"2023-01-19 19:42:00\",\n",
            "        \"modified_time\": \"2023-01-19 19:44:26\",\n",
            "        \"linkdownload\": \"https://adn.gob.do/transparencia/download/477/2023/3471/plan-operativo-anual-2023.pdf\"\n",
            "    },\n",
            "    {\n",
            "        \"post_title\": \"plan operativo anual(poa) 2019\",\n",
            "        \"created_time\": \"2023-04-20 15:08:00\",\n",
            "        \"modified_time\": \"2023-04-20 15:20:54\",\n",
            "        \"linkdownload\": \"https://adn.gob.do/transparencia/download/770/2019/4516/plan-operativo-anualpoa-2019.pdf\"\n",
            "    },\n",
            "    {\n",
            "        \"post_title\": \"rendicion de cuentas ppm enero -junio 2024\",\n",
            "        \"created_time\": \"2024-10-23 15:03:00\",\n",
            "        \"modified_time\": \"2024-10-23 15:08:31\",\n",
            "        \"linkdownload\": \"https://adn.gob.do/transparencia/download/1853/rendicion-de-cuentas-ppm-semestral/9673/rendicion-de-cuentas-ppm-enero-junio-2024.pdf\"\n",
            "    },\n",
            "    {\n",
            "        \"post_title\": \"construcciones servicios y  disenos dominic japt, srl 20% avance\",\n",
            "        \"created_time\": \"2022-09-09 19:44:00\",\n",
            "        \"modified_time\": \"2022-09-09 19:44:56\",\n",
            "        \"linkdownload\": \"https://adn.gob.do/transparencia/download/481/evidencias-de-pagos/2758/construcciones-servicios-y-disenos-dominic-japt-srl-20-avance.pdf\"\n",
            "    },\n",
            "    {\n",
            "        \"post_title\": \"aquino moreno construcciones, srl 20% avance\",\n",
            "        \"created_time\": \"2022-09-09 19:44:00\",\n",
            "        \"modified_time\": \"2022-09-09 19:45:42\",\n",
            "        \"linkdownload\": \"https://adn.gob.do/transparencia/download/481/evidencias-de-pagos/2757/aquino-moreno-construcciones-srl-20-avance.pdf\"\n",
            "    },\n",
            "    {\n",
            "        \"post_title\": \"resolucion no. 49 2022. que aprueba montos tope a ppm 2023\",\n",
            "        \"created_time\": \"2023-02-20 18:24:00\",\n",
            "        \"modified_time\": \"2023-02-20 18:25:11\",\n",
            "        \"linkdownload\": \"https://adn.gob.do/transparencia/download/633/2023/3610/resolucion-no-49-2022-que-aprueba-montos-tope-a-ppm-2023-2.pdf\"\n",
            "    },\n",
            "    {\n",
            "        \"post_title\": \"plan de inversion municipal - pim 2023\",\n",
            "        \"created_time\": \"2023-02-21 19:45:56\",\n",
            "        \"modified_time\": \"2023-02-21 19:45:56\",\n",
            "        \"linkdownload\": \"https://adn.gob.do/transparencia/download/633/2023/3618/plan-de-inversion-municipal-pim-2023.pdf\"\n",
            "    },\n",
            "    {\n",
            "        \"post_title\": \"fp-06 2023\",\n",
            "        \"created_time\": \"2023-02-21 19:45:54\",\n",
            "        \"modified_time\": \"2023-02-21 19:45:54\",\n",
            "        \"linkdownload\": \"https://adn.gob.do/transparencia/download/633/2023/3616/fp-06-2023.pdf\"\n",
            "    },\n",
            "    {\n",
            "        \"post_title\": \"ca-01 2023 acta de cabildo abierto\",\n",
            "        \"created_time\": \"2023-02-21 19:45:00\",\n",
            "        \"modified_time\": \"2023-02-21 19:46:53\",\n",
            "        \"linkdownload\": \"https://adn.gob.do/transparencia/download/633/2023/3617/ca-01-2023-acta-de-cabildo-abierto.pdf\"\n",
            "    },\n",
            "    {\n",
            "        \"post_title\": \"isarab disenos\",\n",
            "        \"created_time\": \"2023-04-20 16:01:00\",\n",
            "        \"modified_time\": \"2023-04-20 16:01:40\",\n",
            "        \"linkdownload\": \"https://adn.gob.do/transparencia/download/774/t1-2021/4524/isarab-disenos.pdf\"\n",
            "    },\n",
            "    {\n",
            "        \"post_title\": \"enriqueta ceballos de taveras\",\n",
            "        \"created_time\": \"2023-04-20 16:01:00\",\n",
            "        \"modified_time\": \"2023-04-20 16:02:06\",\n",
            "        \"linkdownload\": \"https://adn.gob.do/transparencia/download/774/t1-2021/4522/enriqueta-ceballos-de-taveras.pdf\"\n",
            "    },\n",
            "    {\n",
            "        \"post_title\": \"constructora irgonza\",\n",
            "        \"created_time\": \"2023-04-20 16:01:00\",\n",
            "        \"modified_time\": \"2023-04-20 16:02:28\",\n",
            "        \"linkdownload\": \"https://adn.gob.do/transparencia/download/774/t1-2021/4523/constructora-irgonza.pdf\"\n",
            "    },\n",
            "    {\n",
            "        \"post_title\": \"monval ingenieria, srl 20% avance\",\n",
            "        \"created_time\": \"2024-01-17 20:49:05\",\n",
            "        \"modified_time\": \"2024-01-17 20:49:05\",\n",
            "        \"linkdownload\": \"https://adn.gob.do/transparencia/download/1576/abril-junio/7728/monval-ingenieria-srl-20-avance-2.pdf\"\n",
            "    },\n",
            "    {\n",
            "        \"post_title\": \"j. mendez construcciones, srl 20% avance\",\n",
            "        \"created_time\": \"2024-01-17 20:49:05\",\n",
            "        \"modified_time\": \"2024-01-17 20:49:05\",\n",
            "        \"linkdownload\": \"https://adn.gob.do/transparencia/download/1576/abril-junio/7727/j-mendez-construcciones-srl-20-avance-2.pdf\"\n",
            "    },\n",
            "    {\n",
            "        \"post_title\": \"informe rendicion de cuentas ppm enero-mayo 2023\",\n",
            "        \"created_time\": \"2024-01-17 20:49:06\",\n",
            "        \"modified_time\": \"2024-01-17 20:49:06\",\n",
            "        \"linkdownload\": \"https://adn.gob.do/transparencia/download/1576/abril-junio/7729/informe-rendicion-de-cuentas-ppm-enero-mayo-2023-2.pdf\"\n",
            "    },\n",
            "    {\n",
            "        \"post_title\": \"grupo biserici, srl 20% avance\",\n",
            "        \"created_time\": \"2024-01-17 20:49:06\",\n",
            "        \"modified_time\": \"2024-01-17 20:49:06\",\n",
            "        \"linkdownload\": \"https://adn.gob.do/transparencia/download/1576/abril-junio/7730/grupo-biserici-srl-20-avance-2.pdf\"\n",
            "    },\n",
            "    {\n",
            "        \"post_title\": \"dineba disenos interiores y ebanisteria, srl 20% avance\",\n",
            "        \"created_time\": \"2024-01-17 20:49:06\",\n",
            "        \"modified_time\": \"2024-01-17 20:49:06\",\n",
            "        \"linkdownload\": \"https://adn.gob.do/transparencia/download/1576/abril-junio/7731/dineba-disenos-interiores-y-ebanisteria-srl-20-avance-2.pdf\"\n",
            "    },\n",
            "    {\n",
            "        \"post_title\": \"constructora phd, srl 20% avance\",\n",
            "        \"created_time\": \"2024-01-17 20:49:07\",\n",
            "        \"modified_time\": \"2024-01-17 20:49:07\",\n",
            "        \"linkdownload\": \"https://adn.gob.do/transparencia/download/1576/abril-junio/7733/constructora-phd-srl-20-avance-2.pdf\"\n",
            "    },\n",
            "    {\n",
            "        \"post_title\": \"conedeca, srl 20% avance\",\n",
            "        \"created_time\": \"2024-01-17 20:49:07\",\n",
            "        \"modified_time\": \"2024-01-17 20:49:07\",\n",
            "        \"linkdownload\": \"https://adn.gob.do/transparencia/download/1576/abril-junio/7732/conedeca-srl-20-avance-2.pdf\"\n",
            "    },\n",
            "    {\n",
            "        \"post_title\": \"resolucion no-42-2021- que aprueba monto y tope para ppm 2022\",\n",
            "        \"created_time\": \"2022-01-14 16:05:00\",\n",
            "        \"modified_time\": \"2022-04-04 16:08:29\",\n",
            "        \"linkdownload\": \"https://adn.gob.do/transparencia/download/479/2022/1921/resolucion-no-42-2021-que-aprueba-monto-y-tope-para-ppm-2022.pdf\"\n",
            "    },\n",
            "    {\n",
            "        \"post_title\": \"plan de inversion municipal para  2022\",\n",
            "        \"created_time\": \"2022-01-14 16:05:00\",\n",
            "        \"modified_time\": \"2022-04-04 16:07:52\",\n",
            "        \"linkdownload\": \"https://adn.gob.do/transparencia/download/479/2022/1919/plan-de-inversion-municipal-para-2022.pdf\"\n",
            "    },\n",
            "    {\n",
            "        \"post_title\": \"plan de inversion municipal presupuesto participativo ano 2022\",\n",
            "        \"created_time\": \"2022-02-21 16:24:00\",\n",
            "        \"modified_time\": \"2022-04-04 16:25:50\",\n",
            "        \"linkdownload\": \"https://adn.gob.do/transparencia/download/479/2022/1922/plan-de-inversion-municipal-presupuesto-participativo-ano-2022.pdf\"\n",
            "    },\n",
            "    {\n",
            "        \"post_title\": \"fp-06\",\n",
            "        \"created_time\": \"2022-04-04 16:05:03\",\n",
            "        \"modified_time\": \"2022-04-04 16:05:03\",\n",
            "        \"linkdownload\": \"https://adn.gob.do/transparencia/download/479/2022/1920/fp-06.pdf\"\n",
            "    },\n",
            "    {\n",
            "        \"post_title\": \"asambleas comunitarias-participacion por genero\",\n",
            "        \"created_time\": \"2022-01-14 16:05:00\",\n",
            "        \"modified_time\": \"2022-04-04 16:06:58\",\n",
            "        \"linkdownload\": \"https://adn.gob.do/transparencia/download/479/2022/1917/asambleas-comunitarias-participacion-por-genero.pdf\"\n",
            "    },\n",
            "    {\n",
            "        \"post_title\": \"adn juramenta comite e inicia asambleas de presupuesto participativo municipal 2022\",\n",
            "        \"created_time\": \"2022-01-14 16:05:00\",\n",
            "        \"modified_time\": \"2022-04-04 16:06:26\",\n",
            "        \"linkdownload\": \"https://adn.gob.do/transparencia/download/479/2022/1918/adn-juramenta-comite-e-inicia-asambleas-de-presupuesto-participativo-municipal-2022.pdf\"\n",
            "    },\n",
            "    {\n",
            "        \"post_title\": \"plan operativo anual 2024\",\n",
            "        \"created_time\": \"2024-01-16 16:40:00\",\n",
            "        \"modified_time\": \"2024-01-16 16:41:17\",\n",
            "        \"linkdownload\": \"https://adn.gob.do/transparencia/download/1573/2024/7711/plan-operativo-anual-2024.pdf\"\n",
            "    },\n",
            "    {\n",
            "        \"post_title\": \"documento plan municipal de desarrollo - 2020-2024\",\n",
            "        \"created_time\": \"2024-10-30 13:51:00\",\n",
            "        \"modified_time\": \"2024-10-30 13:52:29\",\n",
            "        \"linkdownload\": \"https://adn.gob.do/transparencia/download/1859/plan-de-desarrollo-municipalpdm/9710/documento-plan-municipal-de-desarrollo-2020-2024.pdf\"\n",
            "    },\n",
            "    {\n",
            "        \"post_title\": \"listado de participantes los rios\",\n",
            "        \"created_time\": \"2023-04-20 16:41:00\",\n",
            "        \"modified_time\": \"2023-04-20 16:43:02\",\n",
            "        \"linkdownload\": \"https://adn.gob.do/transparencia/download/779/actas-asambleas-circunscripcion-2-ano-2010/4545/listado-de-participantes-los-rios.pdf\"\n",
            "    },\n",
            "    {\n",
            "        \"post_title\": \"acta asamblea palma real\",\n",
            "        \"created_time\": \"2023-04-20 16:41:36\",\n",
            "        \"modified_time\": \"2023-04-20 16:41:36\",\n",
            "        \"linkdownload\": \"https://adn.gob.do/transparencia/download/779/actas-asambleas-circunscripcion-2-ano-2010/4546/acta-asamblea-palma-real.pdf\"\n",
            "    },\n",
            "    {\n",
            "        \"post_title\": \"acta asamblea los rios\",\n",
            "        \"created_time\": \"2023-04-20 16:41:35\",\n",
            "        \"modified_time\": \"2023-04-20 16:41:35\",\n",
            "        \"linkdownload\": \"https://adn.gob.do/transparencia/download/779/actas-asambleas-circunscripcion-2-ano-2010/4541/acta-asamblea-los-rios.pdf\"\n",
            "    },\n",
            "    {\n",
            "        \"post_title\": \"acta asamblea los peralejos\",\n",
            "        \"created_time\": \"2023-04-20 16:41:35\",\n",
            "        \"modified_time\": \"2023-04-20 16:41:35\",\n",
            "        \"linkdownload\": \"https://adn.gob.do/transparencia/download/779/actas-asambleas-circunscripcion-2-ano-2010/4542/acta-asamblea-los-peralejos.pdf\"\n",
            "    },\n",
            "    {\n",
            "        \"post_title\": \"acta asamblea ensanche la fe\",\n",
            "        \"created_time\": \"2023-04-20 16:41:36\",\n",
            "        \"modified_time\": \"2023-04-20 16:41:36\",\n",
            "        \"linkdownload\": \"https://adn.gob.do/transparencia/download/779/actas-asambleas-circunscripcion-2-ano-2010/4544/acta-asamblea-ensanche-la-fe.pdf\"\n",
            "    },\n",
            "    {\n",
            "        \"post_title\": \"acta asamblea cristo rey\",\n",
            "        \"created_time\": \"2023-04-20 16:41:00\",\n",
            "        \"modified_time\": \"2023-04-20 16:42:10\",\n",
            "        \"linkdownload\": \"https://adn.gob.do/transparencia/download/779/actas-asambleas-circunscripcion-2-ano-2010/4543/acta-asamblea-cristo-rey.pdf\"\n",
            "    },\n",
            "    {\n",
            "        \"post_title\": \"14639 montval ingenieria, srl - cubicacion final\",\n",
            "        \"created_time\": \"2024-01-17 20:44:29\",\n",
            "        \"modified_time\": \"2024-01-17 20:44:29\",\n",
            "        \"linkdownload\": \"https://adn.gob.do/transparencia/download/1575/octubre-diciembre/7724/14639-montval-ingenieria-srl-cubicacion-final.pdf\"\n",
            "    },\n",
            "    {\n",
            "        \"post_title\": \"14633 dineba disenos interiores y ebanisteria, srl - cubicacion final\",\n",
            "        \"created_time\": \"2024-01-17 20:44:29\",\n",
            "        \"modified_time\": \"2024-01-17 20:44:29\",\n",
            "        \"linkdownload\": \"https://adn.gob.do/transparencia/download/1575/octubre-diciembre/7722/14633-dineba-disenos-interiores-y-ebanisteria-srl-cubicacion-final.pdf\"\n",
            "    },\n",
            "    {\n",
            "        \"post_title\": \"14631 grupo bisirici, srl - cubicacion final\",\n",
            "        \"created_time\": \"2024-01-17 20:44:29\",\n",
            "        \"modified_time\": \"2024-01-17 20:44:29\",\n",
            "        \"linkdownload\": \"https://adn.gob.do/transparencia/download/1575/octubre-diciembre/7723/14631-grupo-bisirici-srl-cubicacion-final.pdf\"\n",
            "    },\n",
            "    {\n",
            "        \"post_title\": \"14622 conedeca - cubicacion final\",\n",
            "        \"created_time\": \"2024-01-17 20:44:29\",\n",
            "        \"modified_time\": \"2024-01-17 20:44:29\",\n",
            "        \"linkdownload\": \"https://adn.gob.do/transparencia/download/1575/octubre-diciembre/7720/14622-conedeca-cubicacion-final.pdf\"\n",
            "    },\n",
            "    {\n",
            "        \"post_title\": \"14608 constructora phd, srl - cubicacion final\",\n",
            "        \"created_time\": \"2024-01-17 20:44:29\",\n",
            "        \"modified_time\": \"2024-01-17 20:44:29\",\n",
            "        \"linkdownload\": \"https://adn.gob.do/transparencia/download/1575/octubre-diciembre/7721/14608-constructora-phd-srl-cubicacion-final.pdf\"\n",
            "    },\n",
            "    {\n",
            "        \"post_title\": \"14605 construcion y transporte prefabricados, eec, srl - cubicacion final\",\n",
            "        \"created_time\": \"2024-01-17 20:44:27\",\n",
            "        \"modified_time\": \"2024-01-17 20:44:27\",\n",
            "        \"linkdownload\": \"https://adn.gob.do/transparencia/download/1575/octubre-diciembre/7718/14605-construcion-y-transporte-prefabricados-eec-srl-cubicacion-final.pdf\"\n",
            "    },\n",
            "    {\n",
            "        \"post_title\": \"14601 j. mendez construcciones, srl - cubicacion final\",\n",
            "        \"created_time\": \"2024-01-17 20:44:26\",\n",
            "        \"modified_time\": \"2024-01-17 20:44:26\",\n",
            "        \"linkdownload\": \"https://adn.gob.do/transparencia/download/1575/octubre-diciembre/7715/14601-j-mendez-construcciones-srl-cubicacion-final.pdf\"\n",
            "    },\n",
            "    {\n",
            "        \"post_title\": \"14572 montval ingenieria, srl - 3ra cubicacion\",\n",
            "        \"created_time\": \"2024-01-17 20:44:26\",\n",
            "        \"modified_time\": \"2024-01-17 20:44:26\",\n",
            "        \"linkdownload\": \"https://adn.gob.do/transparencia/download/1575/octubre-diciembre/7716/14572-montval-ingenieria-srl-3ra-cubicacion.pdf\"\n",
            "    },\n",
            "    {\n",
            "        \"post_title\": \"14565 construccion y transporte prefabricados, eec, srl - 2da cubicacion\",\n",
            "        \"created_time\": \"2024-01-17 20:44:27\",\n",
            "        \"modified_time\": \"2024-01-17 20:44:27\",\n",
            "        \"linkdownload\": \"https://adn.gob.do/transparencia/download/1575/octubre-diciembre/7719/14565-construccion-y-transporte-prefabricados-eec-srl-2da-cubicacion.pdf\"\n",
            "    },\n",
            "    {\n",
            "        \"post_title\": \"14564 dineba disenos interiores y ebanisteria, srl - 2da cubicacion\",\n",
            "        \"created_time\": \"2024-01-17 20:44:26\",\n",
            "        \"modified_time\": \"2024-01-17 20:44:26\",\n",
            "        \"linkdownload\": \"https://adn.gob.do/transparencia/download/1575/octubre-diciembre/7714/14564-dineba-disenos-interiores-y-ebanisteria-srl-2da-cubicacion.pdf\"\n",
            "    },\n",
            "    {\n",
            "        \"post_title\": \"14553 constructora phd, srl - 2da  cubicacion\",\n",
            "        \"created_time\": \"2024-01-17 20:44:27\",\n",
            "        \"modified_time\": \"2024-01-17 20:44:27\",\n",
            "        \"linkdownload\": \"https://adn.gob.do/transparencia/download/1575/octubre-diciembre/7717/14553-constructora-phd-srl-2da-cubicacion.pdf\"\n",
            "    },\n",
            "    {\n",
            "        \"post_title\": \"14551 j. mendez construcciones, srl - 2da cubicacion\",\n",
            "        \"created_time\": \"2024-01-17 20:44:31\",\n",
            "        \"modified_time\": \"2024-01-17 20:44:31\",\n",
            "        \"linkdownload\": \"https://adn.gob.do/transparencia/download/1575/octubre-diciembre/7726/14551-j-mendez-construcciones-srl-2da-cubicacion.pdf\"\n",
            "    },\n",
            "    {\n",
            "        \"post_title\": \"14544 grupo biserici, srl - 1ra cubicacion\",\n",
            "        \"created_time\": \"2024-01-17 20:44:30\",\n",
            "        \"modified_time\": \"2024-01-17 20:44:30\",\n",
            "        \"linkdownload\": \"https://adn.gob.do/transparencia/download/1575/octubre-diciembre/7725/14544-grupo-biserici-srl-1ra-cubicacion.pdf\"\n",
            "    },\n",
            "    {\n",
            "        \"post_title\": \"memorias institucionales 2022 \\u2013 2023\",\n",
            "        \"created_time\": \"2023-07-27 20:18:00\",\n",
            "        \"modified_time\": \"2023-07-27 20:18:50\",\n",
            "        \"linkdownload\": \"https://adn.gob.do/transparencia/download/1584/memorias-institucionales/5275/memorias-institucionales-2022-2023.pdf\"\n",
            "    },\n",
            "    {\n",
            "        \"post_title\": \"memorias 2020-2021\",\n",
            "        \"created_time\": \"2021-06-04 16:01:00\",\n",
            "        \"modified_time\": \"2021-12-13 16:07:44\",\n",
            "        \"linkdownload\": \"https://adn.gob.do/transparencia/download/1584/memorias-institucionales/596/memorias-2020-2021.pdf\"\n",
            "    },\n",
            "    {\n",
            "        \"post_title\": \"memoria de gestion 2023-2024\",\n",
            "        \"created_time\": \"2024-11-25 15:37:00\",\n",
            "        \"modified_time\": \"2024-11-25 15:39:29\",\n",
            "        \"linkdownload\": \"https://adn.gob.do/transparencia/download/1584/memorias-institucionales/9798/memoria-de-gestion-2023-2024.pdf\"\n",
            "    },\n",
            "    {\n",
            "        \"post_title\": \"memoria de gestion 2021 - 2022, alcaldia del distrito nacional\",\n",
            "        \"created_time\": \"2022-04-26 19:33:00\",\n",
            "        \"modified_time\": \"2022-05-17 13:14:34\",\n",
            "        \"linkdownload\": \"https://adn.gob.do/transparencia/download/1584/memorias-institucionales/2144/memoria-de-gestion-2021-2022-alcaldia-del-distrito-nacional-3.pdf\"\n",
            "    },\n",
            "    {\n",
            "        \"post_title\": \"memoria de gestion 2019 - 2020, alcaldia del distrito nacional\",\n",
            "        \"created_time\": \"2023-04-25 16:05:00\",\n",
            "        \"modified_time\": \"2023-04-25 16:09:10\",\n",
            "        \"linkdownload\": \"https://adn.gob.do/transparencia/download/1584/memorias-institucionales/4666/memoria-de-gestion-2019-2020-alcaldia-del-distrito-nacional.pdf\"\n",
            "    },\n",
            "    {\n",
            "        \"post_title\": \"resolucion no. 67 2023 que aprueba montos topes ppm 2024\",\n",
            "        \"created_time\": \"2024-03-26 18:48:00\",\n",
            "        \"modified_time\": \"2024-03-26 18:53:08\",\n",
            "        \"linkdownload\": \"https://adn.gob.do/transparencia/download/1674/2024/8346/resolucion-no-67-2023-que-aprueba-montos-topes-ppm-2024.pdf\"\n",
            "    },\n",
            "    {\n",
            "        \"post_title\": \"plan de inversion municipal - ppm  2024\",\n",
            "        \"created_time\": \"2024-04-18 19:54:13\",\n",
            "        \"modified_time\": \"2024-04-18 19:54:13\",\n",
            "        \"linkdownload\": \"https://adn.gob.do/transparencia/download/1674/2024/8471/plan-de-inversion-municipal-ppm-2024.pdf\"\n",
            "    },\n",
            "    {\n",
            "        \"post_title\": \"informe rendicion de cuentas ppm-2024 enero - marzo 2024\",\n",
            "        \"created_time\": \"2024-04-12 20:33:00\",\n",
            "        \"modified_time\": \"2024-04-12 20:34:01\",\n",
            "        \"linkdownload\": \"https://adn.gob.do/transparencia/download/1674/2024/8451/informe-rendicion-de-cuentas-ppm-2024-enero-marzo-2024.pdf\"\n",
            "    },\n",
            "    {\n",
            "        \"post_title\": \"informe rendicion de cuentas ppm-2024 abril - junio 2024\",\n",
            "        \"created_time\": \"2024-07-17 19:51:00\",\n",
            "        \"modified_time\": \"2024-07-17 19:52:04\",\n",
            "        \"linkdownload\": \"https://adn.gob.do/transparencia/download/1674/2024/8984/informe-rendicion-de-cuentas-ppm-2024-abril-junio-2024.pdf\"\n",
            "    },\n",
            "    {\n",
            "        \"post_title\": \"informe rendicion de cuentas avances o. ppm-2024 al 1 de septiembre 2024\",\n",
            "        \"created_time\": \"2024-09-10 14:43:00\",\n",
            "        \"modified_time\": \"2024-09-10 14:43:46\",\n",
            "        \"linkdownload\": \"https://adn.gob.do/transparencia/download/1674/2024/9282/informe-rendicion-de-cuentas-avances-o-ppm-2024-al-1-de-septiembre-2024.pdf\"\n",
            "    },\n",
            "    {\n",
            "        \"post_title\": \"cromonograma de obras ppm 2024\",\n",
            "        \"created_time\": \"2024-03-26 18:48:00\",\n",
            "        \"modified_time\": \"2024-03-26 18:51:57\",\n",
            "        \"linkdownload\": \"https://adn.gob.do/transparencia/download/1674/2024/8345/cromonograma-de-obras-ppm-2024.pdf\"\n",
            "    },\n",
            "    {\n",
            "        \"post_title\": \"ca 01-2024 acta de cabildo abierto\",\n",
            "        \"created_time\": \"2024-03-26 18:48:00\",\n",
            "        \"modified_time\": \"2024-03-26 18:52:23\",\n",
            "        \"linkdownload\": \"https://adn.gob.do/transparencia/download/1674/2024/8347/ca-01-2024-acta-de-cabildo-abierto.pdf\"\n",
            "    },\n",
            "    {\n",
            "        \"post_title\": \"informe seguimiento poa t4 2023 octubre - diciembre\",\n",
            "        \"created_time\": \"2024-02-05 16:03:00\",\n",
            "        \"modified_time\": \"2024-02-05 16:03:37\",\n",
            "        \"linkdownload\": \"https://adn.gob.do/transparencia/download/932/informes/7837/informe-seguimiento-poa-t4-2023-octubre-diciembre.pdf\"\n",
            "    },\n",
            "    {\n",
            "        \"post_title\": \"informe seguimiento poa t3 2023 julio - septiembre\",\n",
            "        \"created_time\": \"2023-11-02 14:31:00\",\n",
            "        \"modified_time\": \"2023-11-02 14:32:35\",\n",
            "        \"linkdownload\": \"https://adn.gob.do/transparencia/download/932/informes/7372/informe-seguimiento-poa-t3-2023-julio-septiembre.pdf\"\n",
            "    },\n",
            "    {\n",
            "        \"post_title\": \"informe seguimiento poa t2-2023 (abril-junio)\",\n",
            "        \"created_time\": \"2023-08-01 12:42:48\",\n",
            "        \"modified_time\": \"2023-08-01 12:42:48\",\n",
            "        \"linkdownload\": \"https://adn.gob.do/transparencia/download/932/informes/5282/informe-seguimiento-poa-t2-2023-abril-junio.pdf\"\n",
            "    },\n",
            "    {\n",
            "        \"post_title\": \"informe seguimiento poa t1-2023 (enero-marzo)\",\n",
            "        \"created_time\": \"2023-08-01 12:42:48\",\n",
            "        \"modified_time\": \"2023-08-01 12:42:48\",\n",
            "        \"linkdownload\": \"https://adn.gob.do/transparencia/download/932/informes/5281/informe-seguimiento-poa-t1-2023-enero-marzo.pdf\"\n",
            "    },\n",
            "    {\n",
            "        \"post_title\": \"informe de rendicion de cuentas ppm 2022 t1 (enero \\u2013 abril).\",\n",
            "        \"created_time\": \"2022-07-01 16:08:00\",\n",
            "        \"modified_time\": \"2022-07-01 16:09:49\",\n",
            "        \"linkdownload\": \"https://adn.gob.do/transparencia/download/480/informes/2452/informe-de-rendicion-de-cuentas-ppm-2022-t1-enero-abril.pdf\"\n",
            "    },\n",
            "    {\n",
            "        \"post_title\": \"informe rendicion de cuentas ppm 2022 (enero - agosto)\",\n",
            "        \"created_time\": \"2022-09-09 19:42:00\",\n",
            "        \"modified_time\": \"2022-09-09 19:43:13\",\n",
            "        \"linkdownload\": \"https://adn.gob.do/transparencia/download/480/informes/2756/informe-rendicion-de-cuentas-ppm-2022-enero-agosto.pdf\"\n",
            "    },\n",
            "    {\n",
            "        \"post_title\": \"informe rendicion de cuentas ppm22 enero a diciembre  2022\",\n",
            "        \"created_time\": \"2023-02-13 20:01:00\",\n",
            "        \"modified_time\": \"2023-02-13 20:01:54\",\n",
            "        \"linkdownload\": \"https://adn.gob.do/transparencia/download/480/informes/3524/informe-rendicion-de-cuentas-ppm22-enero-a-diciembre-2022.pdf\"\n",
            "    },\n",
            "    {\n",
            "        \"post_title\": \"plan operativo anual(poa) 2021\",\n",
            "        \"created_time\": \"2021-09-22 15:33:00\",\n",
            "        \"modified_time\": \"2021-12-13 15:36:05\",\n",
            "        \"linkdownload\": \"https://adn.gob.do/transparencia/download/663/2021/581/plan-operativo-anualpoa-2021.pdf\"\n",
            "    },\n",
            "    {\n",
            "        \"post_title\": \"monval ingenieria, srl 20% avance\",\n",
            "        \"created_time\": \"2023-06-01 15:51:30\",\n",
            "        \"modified_time\": \"2023-06-01 15:51:30\",\n",
            "        \"linkdownload\": \"https://adn.gob.do/transparencia/download/879/evidencias-de-pagos/4943/monval-ingenieria-srl-20-avance.pdf\"\n",
            "    },\n",
            "    {\n",
            "        \"post_title\": \"j. mendez construcciones, srl 20% avance\",\n",
            "        \"created_time\": \"2023-06-01 15:51:30\",\n",
            "        \"modified_time\": \"2023-06-01 15:51:30\",\n",
            "        \"linkdownload\": \"https://adn.gob.do/transparencia/download/879/evidencias-de-pagos/4942/j-mendez-construcciones-srl-20-avance.pdf\"\n",
            "    },\n",
            "    {\n",
            "        \"post_title\": \"grupo biserici, srl 20% avance\",\n",
            "        \"created_time\": \"2023-06-01 15:51:30\",\n",
            "        \"modified_time\": \"2023-06-01 15:51:30\",\n",
            "        \"linkdownload\": \"https://adn.gob.do/transparencia/download/879/evidencias-de-pagos/4941/grupo-biserici-srl-20-avance.pdf\"\n",
            "    },\n",
            "    {\n",
            "        \"post_title\": \"dineba disenos interiores y ebanisteria, srl 20% avance\",\n",
            "        \"created_time\": \"2023-06-01 15:51:30\",\n",
            "        \"modified_time\": \"2023-06-01 15:51:30\",\n",
            "        \"linkdownload\": \"https://adn.gob.do/transparencia/download/879/evidencias-de-pagos/4945/dineba-disenos-interiores-y-ebanisteria-srl-20-avance.pdf\"\n",
            "    },\n",
            "    {\n",
            "        \"post_title\": \"constructora phd, srl 20% avance\",\n",
            "        \"created_time\": \"2023-06-01 15:51:31\",\n",
            "        \"modified_time\": \"2023-06-01 15:51:31\",\n",
            "        \"linkdownload\": \"https://adn.gob.do/transparencia/download/879/evidencias-de-pagos/4946/constructora-phd-srl-20-avance.pdf\"\n",
            "    },\n",
            "    {\n",
            "        \"post_title\": \"conedeca, srl 20% avance\",\n",
            "        \"created_time\": \"2023-06-01 15:51:30\",\n",
            "        \"modified_time\": \"2023-06-01 15:51:30\",\n",
            "        \"linkdownload\": \"https://adn.gob.do/transparencia/download/879/evidencias-de-pagos/4944/conedeca-srl-20-avance.pdf\"\n",
            "    }\n",
            "]\n"
          ]
        }
      ]
    },
    {
      "cell_type": "markdown",
      "source": [
        "Listas"
      ],
      "metadata": {
        "id": "TylR1I-SNPsk"
      }
    },
    {
      "cell_type": "code",
      "source": [
        "conteo_nombres=len(nombres)\n",
        "print(conteo_nombres)\n",
        "conteo_fecha_pub=len(fecha_pub)\n",
        "print(conteo_fecha_pub)\n",
        "conteo_fecha_vigor=len(fecha_vigor)\n",
        "print(conteo_fecha_vigor)\n",
        "conteo_link=len(link)\n",
        "print(conteo_link)\n",
        "conteo_epigrafe=len(epigrafe)\n",
        "print(conteo_epigrafe)"
      ],
      "metadata": {
        "colab": {
          "base_uri": "https://localhost:8080/"
        },
        "id": "1T0jDTA6NQ0P",
        "outputId": "40114e3c-6c60-43b5-c909-77ff2ad557fc"
      },
      "execution_count": null,
      "outputs": [
        {
          "output_type": "stream",
          "name": "stdout",
          "text": [
            "167\n",
            "167\n",
            "167\n",
            "167\n",
            "167\n"
          ]
        }
      ]
    },
    {
      "cell_type": "markdown",
      "source": [
        "Dataframe"
      ],
      "metadata": {
        "id": "rSF8GUbBYGsx"
      }
    },
    {
      "cell_type": "code",
      "source": [
        "from sre_constants import NOT_LITERAL\n",
        "# Crear un DataFrame con los datos recopilados\n",
        "data = {\n",
        "    \"title\": nombres,\n",
        "    \"external_link\": link,\n",
        "    \"created_at\": fecha_pub,\n",
        "    \"update_at\": fecha_vigor,\n",
        "    'summary':epigrafe\n",
        "}\n",
        "\n",
        "df = pd.DataFrame(data)\n",
        "\n",
        "# Agregar columnas con los valores especificados\n",
        "df['Tipo'] = None\n",
        "df['entity']='Alcaldia del distrito Nacional'\n",
        "df['classification_id']=None\n",
        "df['rtype_id']='13'\n",
        "df['gtype']='link'\n",
        "df['is_active']=True\n",
        "columnas_ordenadas = ['title','summary','update_at','external_link','entity','created_at','classification_id','rtype_id','gtype','is_active']\n",
        "\n",
        "df = df[columnas_ordenadas]\n",
        "\n",
        "\n",
        "\n",
        "# Mostrar el DataFrame resultante\n",
        "print(df)"
      ],
      "metadata": {
        "colab": {
          "base_uri": "https://localhost:8080/"
        },
        "id": "qtviwgoJYJBa",
        "outputId": "37f5e40d-aa6a-4a9d-bbc3-662f830f2975"
      },
      "execution_count": null,
      "outputs": [
        {
          "output_type": "stream",
          "name": "stdout",
          "text": [
            "                                                 title  \\\n",
            "0                 memorias institucionales 2022 – 2023   \n",
            "1                                   memorias 2020-2021   \n",
            "2                         memoria de gestion 2023-2024   \n",
            "3    memoria de gestion 2021 - 2022, alcaldia del d...   \n",
            "4    memoria de gestion 2019 - 2020, alcaldia del d...   \n",
            "..                                                 ...   \n",
            "162         ley_no_170-07 de presupuesto participativo   \n",
            "163            informe obras presupuesto participativo   \n",
            "164            informe obras presupuesto participativo   \n",
            "165      dirigentes comunitarios circunscripciones 123   \n",
            "166      asambleas barriales presupuesto participativo   \n",
            "\n",
            "                                               summary            update_at  \\\n",
            "0                 memorias institucionales 2022 – 2023  2023-07-27 20:18:50   \n",
            "1                                   memorias 2020-2021  2021-12-13 16:07:44   \n",
            "2                         memoria de gestion 2023-2024  2024-11-25 15:39:29   \n",
            "3    memoria de gestion 2021 - 2022, alcaldia del d...  2022-05-17 13:14:34   \n",
            "4    memoria de gestion 2019 - 2020, alcaldia del d...  2023-04-25 16:09:10   \n",
            "..                                                 ...                  ...   \n",
            "162         ley_no_170-07 de presupuesto participativo  2023-04-20 20:07:44   \n",
            "163            informe obras presupuesto participativo  2023-04-20 20:07:48   \n",
            "164            informe obras presupuesto participativo  2023-04-20 20:22:35   \n",
            "165      dirigentes comunitarios circunscripciones 123  2023-04-20 20:15:50   \n",
            "166      asambleas barriales presupuesto participativo  2023-04-20 20:15:16   \n",
            "\n",
            "                                         external_link  \\\n",
            "0    https://adn.gob.do/transparencia/download/1584...   \n",
            "1    https://adn.gob.do/transparencia/download/1584...   \n",
            "2    https://adn.gob.do/transparencia/download/1584...   \n",
            "3    https://adn.gob.do/transparencia/download/1584...   \n",
            "4    https://adn.gob.do/transparencia/download/1584...   \n",
            "..                                                 ...   \n",
            "162  https://adn.gob.do/transparencia/download/784/...   \n",
            "163  https://adn.gob.do/transparencia/download/784/...   \n",
            "164  https://adn.gob.do/transparencia/download/784/...   \n",
            "165  https://adn.gob.do/transparencia/download/784/...   \n",
            "166  https://adn.gob.do/transparencia/download/784/...   \n",
            "\n",
            "                             entity           created_at classification_id  \\\n",
            "0    Alcaldia del distrito Nacional  2023-07-27 20:18:00              None   \n",
            "1    Alcaldia del distrito Nacional  2021-06-04 16:01:00              None   \n",
            "2    Alcaldia del distrito Nacional  2024-11-25 15:37:00              None   \n",
            "3    Alcaldia del distrito Nacional  2022-04-26 19:33:00              None   \n",
            "4    Alcaldia del distrito Nacional  2023-04-25 16:05:00              None   \n",
            "..                              ...                  ...               ...   \n",
            "162  Alcaldia del distrito Nacional  2023-04-20 20:07:44              None   \n",
            "163  Alcaldia del distrito Nacional  2023-04-20 20:07:48              None   \n",
            "164  Alcaldia del distrito Nacional  2023-04-20 20:07:00              None   \n",
            "165  Alcaldia del distrito Nacional  2023-04-20 20:07:00              None   \n",
            "166  Alcaldia del distrito Nacional  2023-04-20 20:07:00              None   \n",
            "\n",
            "    rtype_id gtype  is_active  \n",
            "0         13  link       True  \n",
            "1         13  link       True  \n",
            "2         13  link       True  \n",
            "3         13  link       True  \n",
            "4         13  link       True  \n",
            "..       ...   ...        ...  \n",
            "162       13  link       True  \n",
            "163       13  link       True  \n",
            "164       13  link       True  \n",
            "165       13  link       True  \n",
            "166       13  link       True  \n",
            "\n",
            "[167 rows x 10 columns]\n"
          ]
        }
      ]
    },
    {
      "cell_type": "code",
      "source": [
        "# Exportar el DataFrame a un archivo CSV\n",
        "df.to_csv(\"planificacion_y_desarrollo.csv\", index=False, encoding='utf-8-sig')\n",
        "\n",
        "print(\"Archivo CSV generado exitosamente.\")"
      ],
      "metadata": {
        "colab": {
          "base_uri": "https://localhost:8080/"
        },
        "id": "8eEwpz9YZDjS",
        "outputId": "c6e66645-68a3-417a-ee70-04b2fae689aa"
      },
      "execution_count": null,
      "outputs": [
        {
          "output_type": "stream",
          "name": "stdout",
          "text": [
            "Archivo CSV generado exitosamente.\n"
          ]
        }
      ]
    },
    {
      "cell_type": "code",
      "source": [
        "from google.colab import files\n",
        "\n",
        "# Descargar el archivo generado\n",
        "files.download(\"planificacion_y_desarrollo.csv\")"
      ],
      "metadata": {
        "colab": {
          "base_uri": "https://localhost:8080/",
          "height": 17
        },
        "id": "Zz5fGyyvZQQa",
        "outputId": "08be3d47-af9a-4c0d-d6f3-8dcff61a17fb"
      },
      "execution_count": null,
      "outputs": [
        {
          "output_type": "display_data",
          "data": {
            "text/plain": [
              "<IPython.core.display.Javascript object>"
            ],
            "application/javascript": [
              "\n",
              "    async function download(id, filename, size) {\n",
              "      if (!google.colab.kernel.accessAllowed) {\n",
              "        return;\n",
              "      }\n",
              "      const div = document.createElement('div');\n",
              "      const label = document.createElement('label');\n",
              "      label.textContent = `Downloading \"${filename}\": `;\n",
              "      div.appendChild(label);\n",
              "      const progress = document.createElement('progress');\n",
              "      progress.max = size;\n",
              "      div.appendChild(progress);\n",
              "      document.body.appendChild(div);\n",
              "\n",
              "      const buffers = [];\n",
              "      let downloaded = 0;\n",
              "\n",
              "      const channel = await google.colab.kernel.comms.open(id);\n",
              "      // Send a message to notify the kernel that we're ready.\n",
              "      channel.send({})\n",
              "\n",
              "      for await (const message of channel.messages) {\n",
              "        // Send a message to notify the kernel that we're ready.\n",
              "        channel.send({})\n",
              "        if (message.buffers) {\n",
              "          for (const buffer of message.buffers) {\n",
              "            buffers.push(buffer);\n",
              "            downloaded += buffer.byteLength;\n",
              "            progress.value = downloaded;\n",
              "          }\n",
              "        }\n",
              "      }\n",
              "      const blob = new Blob(buffers, {type: 'application/binary'});\n",
              "      const a = document.createElement('a');\n",
              "      a.href = window.URL.createObjectURL(blob);\n",
              "      a.download = filename;\n",
              "      div.appendChild(a);\n",
              "      a.click();\n",
              "      div.remove();\n",
              "    }\n",
              "  "
            ]
          },
          "metadata": {}
        },
        {
          "output_type": "display_data",
          "data": {
            "text/plain": [
              "<IPython.core.display.Javascript object>"
            ],
            "application/javascript": [
              "download(\"download_8caae8fd-65c1-4fd1-b610-ef97cd6e815a\", \"planificacion_y_desarrollo.csv\", 47549)"
            ]
          },
          "metadata": {}
        }
      ]
    }
  ]
}