{
  "cells": [
    {
      "cell_type": "markdown",
      "metadata": {
        "id": "view-in-github",
        "colab_type": "text"
      },
      "source": [
        "<a href=\"https://colab.research.google.com/github/dframbaut/web-scrapping-deepear/blob/main/Te_damos_la_bienvenida_a_Colaboratory.ipynb\" target=\"_parent\"><img src=\"https://colab.research.google.com/assets/colab-badge.svg\" alt=\"Open In Colab\"/></a>"
      ]
    },
    {
      "cell_type": "code",
      "source": [
        "!pip install beautifulsoup4 requests\n"
      ],
      "metadata": {
        "colab": {
          "base_uri": "https://localhost:8080/"
        },
        "id": "EQUudiO9PnoR",
        "outputId": "bbb51fa2-55f9-4030-b4a9-9660c054f7c1"
      },
      "execution_count": 10,
      "outputs": [
        {
          "output_type": "stream",
          "name": "stdout",
          "text": [
            "Requirement already satisfied: beautifulsoup4 in /usr/local/lib/python3.10/dist-packages (4.12.3)\n",
            "Requirement already satisfied: requests in /usr/local/lib/python3.10/dist-packages (2.32.3)\n",
            "Requirement already satisfied: soupsieve>1.2 in /usr/local/lib/python3.10/dist-packages (from beautifulsoup4) (2.6)\n",
            "Requirement already satisfied: charset-normalizer<4,>=2 in /usr/local/lib/python3.10/dist-packages (from requests) (3.4.0)\n",
            "Requirement already satisfied: idna<4,>=2.5 in /usr/local/lib/python3.10/dist-packages (from requests) (3.10)\n",
            "Requirement already satisfied: urllib3<3,>=1.21.1 in /usr/local/lib/python3.10/dist-packages (from requests) (2.2.3)\n",
            "Requirement already satisfied: certifi>=2017.4.17 in /usr/local/lib/python3.10/dist-packages (from requests) (2024.8.30)\n"
          ]
        }
      ]
    },
    {
      "cell_type": "code",
      "source": [
        "!pip install requests"
      ],
      "metadata": {
        "colab": {
          "base_uri": "https://localhost:8080/"
        },
        "id": "hEmOp2z2MzMP",
        "outputId": "0ca09231-ec3f-4d6f-adbe-75a9a50057f1"
      },
      "execution_count": 3,
      "outputs": [
        {
          "output_type": "stream",
          "name": "stdout",
          "text": [
            "Requirement already satisfied: requests in /usr/local/lib/python3.10/dist-packages (2.32.3)\n",
            "Requirement already satisfied: charset-normalizer<4,>=2 in /usr/local/lib/python3.10/dist-packages (from requests) (3.4.0)\n",
            "Requirement already satisfied: idna<4,>=2.5 in /usr/local/lib/python3.10/dist-packages (from requests) (3.10)\n",
            "Requirement already satisfied: urllib3<3,>=1.21.1 in /usr/local/lib/python3.10/dist-packages (from requests) (2.2.3)\n",
            "Requirement already satisfied: certifi>=2017.4.17 in /usr/local/lib/python3.10/dist-packages (from requests) (2024.8.30)\n"
          ]
        }
      ]
    },
    {
      "cell_type": "code",
      "source": [
        "import requests\n",
        "from bs4 import BeautifulSoup\n",
        "\n",
        "#https://www.bucaramanga.gov.co/proyectos-de-normas-para-comentarios/\n",
        "\n",
        "page = requests.get('https://www.bucaramanga.gov.co/proyectos-de-normas-para-comentarios/')\n",
        "soup = BeautifulSoup(page.text, 'html.parser')\n",
        "\n",
        "# Buscar la tabla\n",
        "table = soup.find(\"table\")\n",
        "#Creacion de listas\n",
        "Nombres=[]\n",
        "Tipo=[]\n",
        "Mes=[]\n",
        "Fecha_inicio=[]\n",
        "Fecha_fin=[]\n",
        "Epigrafe=[]\n",
        "URLink=[]\n",
        "tbody = table.find(\"tbody\")\n",
        "#Recorrer y añadir celdas a cada lista\n",
        "if tbody:\n",
        "    for row_index, row in enumerate(tbody.find_all(\"tr\"), start=1):\n",
        "        for col_index, cell in enumerate(row.find_all(\"td\"), start=1):\n",
        "            cell_content = cell.get_text(strip=True)\n",
        "            a_tag = row.find('a')\n",
        "            if a_tag and a_tag.get('href'):  # Verifica si el <a> tiene un atributo href\n",
        "                Link= a_tag.get('href')\n",
        "            if col_index == 1: #Nombre\n",
        "                Nombres.append(cell_content)\n",
        "            elif col_index == 2:#Tipos\n",
        "                Tipo.append(cell_content)\n",
        "            elif col_index == 3:#Mes\n",
        "                Mes.append(cell_content)\n",
        "            elif col_index == 4: #Fecha de inicio\n",
        "                Fecha_inicio.append(cell_content)\n",
        "            elif col_index == 5: #Fecha de fin\n",
        "                Fecha_fin.append(cell_content)\n",
        "            elif col_index == 6: #Epigrafe\n",
        "                Epigrafe.append(cell_content)\n",
        "            elif col_index ==7:#Link\n",
        "                URLink.append(Link)\n",
        "#Imprimir cada una de las listas\n",
        "print(Nombres)\n",
        "print(Tipo)\n",
        "print(Mes)\n",
        "print(Fecha_inicio)\n",
        "print(Fecha_fin)\n",
        "print(Epigrafe)\n",
        "print(URLink)\n",
        "\n",
        "\n"
      ],
      "metadata": {
        "colab": {
          "base_uri": "https://localhost:8080/"
        },
        "id": "jPpSHfMiTVW6",
        "outputId": "f19ccf57-e231-4671-bfea-097789c07632"
      },
      "execution_count": 15,
      "outputs": [
        {
          "output_type": "stream",
          "name": "stdout",
          "text": [
            "['Secretaría de Desarrollo Social', 'Secretaría de Desarrollo Social', 'Secretaría de Desarrollo Social', 'Secretaría de Desarrollo Social', 'Secretaría de Desarrollo Social', 'Secretario del Interior', 'Departamento Administrativo De La Defensoría Del Espacio Publico', 'Secretario del Interior', 'Secretaria del Interior', 'Secretaría del Interior', 'Secretaría Jurídica', 'Secretaría Jurídica', 'Secretaría de Salud y Ambiente de Bucaramanga', 'Secretaría Jurídica', 'Secretaría de Desarrollo Social', 'Secretaría de Salud y Ambiente', 'Oficina de Valorización', 'Secretaría de Hacienda', 'Secretaría de Salud y Ambiente', 'Secretaría del Interior', 'Secretaría Jurídica']\n",
            "['Resolución', 'Resolución', 'Resolución', 'Resolución', 'Resolución', 'Decreto', 'Decreto', 'Decreto', 'Decreto', 'Decreto', 'Decreto', 'Decreto', 'Decreto', 'Decreto', 'Decreto', 'Decreto', 'Acuerdo Municipal', 'Decreto', 'Decreto', 'Decreto', 'Decreto']\n",
            "['Octubre', 'Octubre', 'Octubre', 'Octubre', 'Octubre', 'Octubre', 'Julio', 'Abril', 'Febrero', 'Diciembre', 'Enero', 'Agosto', 'Junio', 'Junio', 'Mayo', 'Mayo', 'Abril', 'Enero', 'DICIEMBRE', 'DICIEMBRE', 'Octubre']\n",
            "['22 de octubre de 2024', '22 de octubre de 2024', '22 de octubre de 2024', '22 de octubre de 2024', '22 de octubre de 2024', '18 de octubre de 2024', '04 de julio de 2024', '3 de abril de 2024', '20 de febrero del 2024', '15 de diciembre de 2023', '23/01/2024', '30 de agosto de 2023', '29 de junio de 2023', '22 de junio de 2023', '3 de mayo de 2023', '3 de mayo de 2023', '12 de abril de 2023', '13 de enero de 2023', '15/12/2022', '02/12/2022', '10/10/2022']\n",
            "['11 de noviembre de 2024', '11 de noviembre de 2024', '11 de noviembre de 2024', '11 de noviembre de 2024', '11 de noviembre de 2024', '22 de octubre de 2024', '11 de julio de 2024', '05 de abril de 2024', '23 de febrero del 2024', '19 de diciembre de 2023', '25/01/2024', '4 de septiembre de 2023', '6 de julio de 2023', '28 de junio de 2023', '9 de mayo de 2023', '5 de mayo de 2023', '17 de abril de 2023', '18 de enero de 2023', '22/12/2022', '07/12/2022', '13/10/2022']\n",
            "['“POR MEDIO DE LA CUAL SE SOLICITA EL RETIRO DE BENEFICIARIOS EN LA MODALIDAD SUBSIDIO DIRECTO DE BENEFICIARIOS DEL PROGRAMA COLOMBIA MAYOR DEL MUNICIPIO DE BUCARAMANGA –SANTANDER”', '“POR MEDIO DE LA CUAL SE SOLICITA ACTIVACION DE  BENEFICIARIOS DEL PROGRAMA COLOMBIA MAYOR DEL MUNICIPIO DE BUCARAMANGA –SANTANDER”', '“POR MEDIO DE LA CUAL SE REGISTRAN LOS LIBROS DE XXX XXX, XXX, XXX, XXX Y XXX, DE LA JUNTA DE ACCIÓN COMUNAL XXX, DE LA COMUNA (O CORREGIMIENTO) XXX (XX), DEL MUNICIPIO DE BUCARAMANGA”', '“POR LA CUAL SE OTORGA PERSONERIA JURIDICA, SE REGISTRAN ESTATUTOS DE LA JUNTA DE ACCION COMUNAL DEL DEL XXX, DE LA COMUNA (O CORREGIMIENTO) XXX (XX), DEL MUNICIPIO DE BUCARAMANGA”', '“POR MEDIO DE LA CUAL SE ORDENA LA INSCRIPCION Y EL RECONOCIMIENTO DE DIGNATARIOS DE LA JUNTA DE ACCION COMUNAL DEL XXX, DE LA COMUNA (O CORREGIMIENTO) XXX (XX), DEL MUNICIPIO DE BUCARAMANGAPERÍODO XXXX-XXXX”', 'POR MEDIO DEL CUAL SE CREA LA MESA MUNICIPAL DE REINCORPORACIÓN DE BUCARAMANGA Y SE DICTAN OTRAS DISPOSICIONES', 'POR MEDIO DEL CUAL SE REGLAMENTA LO CONCERNIENTE A LA ADMINISTRACIÓN Y MANTENIMIENTO DE LOS PARQUES, PLAZAS, PLAZOLETAS Y ZONAS VERDES URBANAS QUE INTEGRAN EL ESPACIO PÚBLICO DEL MUNICIPIO DE BUCARAMANGA Y SE DEROGA EL DECRETO 0084 DE 2022', '“POR MEDIO DEL CUAL SE DICTAN MEDIDAS TRANSITORIAS DE ORDEN PÚBLICO NECESARIAS PARA GARANTIZAR LA SEGURIDAD CIUDADANA Y LA PROTECCIÓN DE LOS NIÑOS, NIÑAS Y ADOLESCENTES\"', 'POR EL CUAL SE ESTABLECEN LAS TARIFAS DE LOS PARQUEADEROS PÚBLICOS DE LAS CATEGORÍAS B, C Y D DEL MUNICIPIO DE BUCARAMANGA', 'POR MEDIO DEL CUAL SE REGLAMENTA LA GESTIÓN DE LOS BIENES Y ELEMENTOS SOMETIDOS A INCAUTACION Y DECOMISO EN EL MUNICIPIO DE BUCARAMANGA Y SE DICTAN OTRAS DISPOSICIONES', 'Por medio del cual se revoca el artículo 1° del Decreto No. 0174 del 15 de diciembre de 2023 y ordena realizar elección de los integrantes de la Comisión Territorial Ciudadana para la Lucha Contra la Corrupción en el Municipio de Bucaramanga para el período 2024 a 2027”  y se modifica al artículo 10 del Decreto No 188 del 22 de noviembre del 2022', 'En virtud del numeral 8 del artículo 8 de la Ley 1437 del 2011, se publica el presente proyecto de Decreto “POR MEDIO DEL CUAL SE ADOPTA EL PLAN LOCAL DE SEGURIDAD VIAL Y SE CREA Y REGLAMENTA EL COMITÉ LOCAL DE SEGURIDAD VIAL DEL MUNICIPIO DE BUCARAMANGA”, con el objeto de recibir opiniones, sugerencias o propuestas alternativas por parte de la ciudadanía', \"en virtud del numeral 8 del artículo 8 de la Ley 1437 del 2011, se publica el presente proyecto de Decreto ''POR EL CUAL SE MODIFICA PARCIALMENTE EL DECRETO MUNICIPAL No. 0284 DEL 30 DE DICIEMBRE DE 2013 MODIFICADO POR EL DECRETO MUNICIPAL No. 0190 DEL DEL 19 DE DICIEMBRE DE 2016, con el objeto de recibir opiniones, sugerencias o propuestas alternativas por parte de la ciudadanía.\", 'En virtud del numeral 8 del artículo 8 de la Ley 1437 del 2011, se publica el presente proyecto de Decreto “POR EL CUAL SE MODIFICA EL DECRETO MUNICIPAL 0396 DEL 9 DE NOVIEMBRE DE 2020”, con el objeto de recibir opiniones, sugerencias o propuestas alternativas por parte de la ciudadanía', 'POR MEDIO DEL CUAL SE MODIFICA EL ARTÍCULO 2° DEL DECRETO 0041 DEL 07 DE ABRIL DE 2017', 'POR MEDIO DEL CUAL SE CREA/CONFORMA LA MESA TECNICA MUNICIPAL DE ENFERMEDADES HUERFANAS/RARAS DEL MUNICIPIO DE BUCARAMANGA', 'Por medio del cual se otorgan facultades al señor alcalde para declarar de utilidad pública e interés social unos predios y adquirirlos para el proyecto de infraestructura vial – construcción de la conexión oriente occidente a través del corredor comprendido entre la calle 53 y calle 54', 'En virtud del numeral 8 del artículo 8 de la Ley 1437 del 2011, se publica el presente proyecto de Decreto “Por medio del cual se implementa el programa para el fortalecimiento de empresas y creación de empleo joven, fomentando la reactivación económica en el Municipio de Bucaramanga y se dictan otras disposiciones”, con el objeto de recibir opiniones, sugerencias o propuestas alternativas por parte de la ciudadanía', 'Proyecto de Decreto “POR MEDIO DE LA CUAL SE ADOPTA E IMPLEMENTA EL PROCEDIMIENTO ADMINISTRATIVO SANCIONATORIO POR INCUMPLIMIENTO A LAS NORMAS SANITARIAS EN EL MUNICIPIO DE BUCARAMANGA Y SE DICTAN OTRAS DISPOSICIONES”', 'Proyecto de Decreto ““POR EL CUAL SE ESTABLECEN LAS TARIFAS DE LOS PARQUEADEROS PÚBLICOS DE LAS CATEGORIAS B.C Y D DEL MUNICIPIO DE BUCARAMANGA”,', 'POR MEDIO DEL CUAL SE CREA, REGLAMENTA E IMPLEMENTA LA COMISION TERRITORIAL CIUDADANA PARA LA LUCHA CONTRA LA CORRUPCIÓN EN EL MUNICIPIO DE BUCARAMANGA, DEPARTAMENTO DE SANTANDER']\n",
            "['https://www.bucaramanga.gov.co/wp-content/uploads/2024/10/RESOLUCION-RETIROS-2024-4.docx', 'https://www.bucaramanga.gov.co/wp-content/uploads/2024/10/RESOLUCION-DE-ACTIVACION-2024-5.docx', 'https://www.bucaramanga.gov.co/wp-content/uploads/2024/10/RESOLUCION-POR-MEDIO-DE-LA-CUAL-SE-REGISTRAN-LIBROS-1.docx', 'https://www.bucaramanga.gov.co/wp-content/uploads/2024/10/RESOLUCION-POR-MEDIO-DE-LA-CUAL-SE-OTORGA-PERSONERIA-JURIDICA-Y-REGISTRO-DE-ESTATUTOS-1.docx', 'https://www.bucaramanga.gov.co/wp-content/uploads/2024/10/RESOLUCION-POR-MEDIO-DE-LA-CUAL-SE-INSCRIBEN-DIGNATARIOS-1.docx', 'https://www.bucaramanga.gov.co/wp-content/uploads/2024/10/REV-F-Decreto-Mesa-de-Reincorporacion-Municipal.pdf', 'https://www.bucaramanga.gov.co/wp-content/uploads/2024/07/2-S-DADEP-202407-00049491-1.pdf', 'https://www.bucaramanga.gov.co/wp-content/uploads/2024/04/V.F-Decreto%20toque%20de%20queda%20menores%20de%20edad.pdf', 'https://www.bucaramanga.gov.co/wp-content/uploads/2024/02/FINAL%20Rev%20Juridica%20Decreto%20tarifas%20de%20parqueaderos%202024%20%28003%29.pdf', 'https://www.bucaramanga.gov.co/wp-content/uploads/2023/12/PROYECTO-DE-DECRETO-POR-MEDIO-DLE-CUAL-SE-REGLAMENTA-LA-GESTION-D-ELSO-BIENES-SOMETIDOS-A-INCAUTACION-Y-DECOMISO.pdf', 'https://www.bucaramanga.gov.co/wp-content/uploads/2024/01/DECRETO-xxx-DE-2024-revoca-parcialmente.docx', 'https://www.bucaramanga.gov.co/wp-content/uploads/2023/08/Proyecto_decreto_PLAN-LOCAL-DE-SEGURIDAD-VIAL.docx', 'https://www.bucaramanga.gov.co/wp-content/uploads/2023/06/3.-Rev.-JP-2.-YP.-Proyecto-de-Decreto-Modificación-COMSA-2.pdf', 'https://www.bucaramanga.gov.co/wp-content/uploads/2023/06/Rev.-JP-21-06-2023-PROYECTO-DE-DECRETO-QUE-MODIFICA-EL-DECRETO-0396-DE-2020-PROCEDIMIENTO-INTERNO-DERECHO-DE-PETICION-1.docx', 'https://www.bucaramanga.gov.co/wp-content/uploads/2023/05/2023.05.03.-Proyecto-de-decreto-que-modifica-el-Art.2-del-D.-0041-DE-2017.pdf', 'https://www.bucaramanga.gov.co/wp-content/uploads/2023/05/DECRETO-MESA-TECNICA-ENFERMEDADES-HUERFANAS-2023-raUL.docx', 'https://www.bucaramanga.gov.co/wp-content/uploads/2023/04/PROYECTO-FINAL-VALORIZACION-CALLES-53-Y-54-11-ABRIL-2023.docx', 'https://www.bucaramanga.gov.co/wp-content/uploads/2023/01/DECRETO-empleo-joven-revision-ano-2023.docx', 'https://www.bucaramanga.gov.co/wp-content/uploads/2022/12/DECRETO-ADOPTA-E-IMPLEMENTA-PROCESO-ADMTVO-SANCIONATORIO.pdf', 'https://www.bucaramanga.gov.co/wp-content/uploads/2022/12/Proyecto-Decreto-tarifas-parqueadero-2022-final.docx', 'https://www.bucaramanga.gov.co/wp-content/uploads/2022/10/Comision_Participacion_Ciudadana.docx']\n"
          ]
        }
      ]
    }
  ],
  "metadata": {
    "colab": {
      "name": "Te damos la bienvenida a Colaboratory",
      "provenance": [],
      "include_colab_link": true
    },
    "kernelspec": {
      "display_name": "Python 3",
      "name": "python3"
    }
  },
  "nbformat": 4,
  "nbformat_minor": 0
}