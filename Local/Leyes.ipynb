{
  "nbformat": 4,
  "nbformat_minor": 0,
  "metadata": {
    "colab": {
      "provenance": [],
      "authorship_tag": "ABX9TyPsZahu8cUMcMJp6/uJeedR",
      "include_colab_link": true
    },
    "kernelspec": {
      "name": "python3",
      "display_name": "Python 3"
    },
    "language_info": {
      "name": "python"
    }
  },
  "cells": [
    {
      "cell_type": "markdown",
      "metadata": {
        "id": "view-in-github",
        "colab_type": "text"
      },
      "source": [
        "<a href=\"https://colab.research.google.com/github/dframbaut/web-scrapping-deepear/blob/main/Economics/Leyes.ipynb\" target=\"_parent\"><img src=\"https://colab.research.google.com/assets/colab-badge.svg\" alt=\"Open In Colab\"/></a>"
      ]
    },
    {
      "cell_type": "code",
      "execution_count": null,
      "metadata": {
        "colab": {
          "base_uri": "https://localhost:8080/"
        },
        "id": "I2FyTW7uPpQm",
        "outputId": "1df7cf30-8e65-4c74-e712-9df987ce06ab"
      },
      "outputs": [
        {
          "output_type": "stream",
          "name": "stdout",
          "text": [
            "Requirement already satisfied: requests in /usr/local/lib/python3.10/dist-packages (2.32.3)\n",
            "Requirement already satisfied: charset-normalizer<4,>=2 in /usr/local/lib/python3.10/dist-packages (from requests) (3.4.0)\n",
            "Requirement already satisfied: idna<4,>=2.5 in /usr/local/lib/python3.10/dist-packages (from requests) (3.10)\n",
            "Requirement already satisfied: urllib3<3,>=1.21.1 in /usr/local/lib/python3.10/dist-packages (from requests) (2.2.3)\n",
            "Requirement already satisfied: certifi>=2017.4.17 in /usr/local/lib/python3.10/dist-packages (from requests) (2024.12.14)\n"
          ]
        }
      ],
      "source": [
        "!pip install requests"
      ]
    },
    {
      "cell_type": "code",
      "source": [
        "!pip install bs4"
      ],
      "metadata": {
        "colab": {
          "base_uri": "https://localhost:8080/"
        },
        "id": "1w7SkOxYTgpx",
        "outputId": "0743b5fa-49ff-4370-93f9-c957888ddae5"
      },
      "execution_count": null,
      "outputs": [
        {
          "output_type": "stream",
          "name": "stdout",
          "text": [
            "Collecting bs4\n",
            "  Downloading bs4-0.0.2-py2.py3-none-any.whl.metadata (411 bytes)\n",
            "Requirement already satisfied: beautifulsoup4 in /usr/local/lib/python3.10/dist-packages (from bs4) (4.12.3)\n",
            "Requirement already satisfied: soupsieve>1.2 in /usr/local/lib/python3.10/dist-packages (from beautifulsoup4->bs4) (2.6)\n",
            "Downloading bs4-0.0.2-py2.py3-none-any.whl (1.2 kB)\n",
            "Installing collected packages: bs4\n",
            "Successfully installed bs4-0.0.2\n"
          ]
        }
      ]
    },
    {
      "cell_type": "code",
      "source": [
        "!apt-get update\n",
        "!apt-get install -y google-chrome-stable\n",
        "!pip install selenium webdriver-manager\n"
      ],
      "metadata": {
        "colab": {
          "base_uri": "https://localhost:8080/"
        },
        "id": "8HUHKyyVNj8N",
        "outputId": "d86a403a-0270-4e7e-d3b0-6cf4b721851b"
      },
      "execution_count": null,
      "outputs": [
        {
          "output_type": "stream",
          "name": "stdout",
          "text": [
            "Get:1 http://security.ubuntu.com/ubuntu jammy-security InRelease [129 kB]\n",
            "Get:2 https://cloud.r-project.org/bin/linux/ubuntu jammy-cran40/ InRelease [3,626 B]\n",
            "Get:3 https://developer.download.nvidia.com/compute/cuda/repos/ubuntu2204/x86_64  InRelease [1,581 B]\n",
            "Get:4 https://r2u.stat.illinois.edu/ubuntu jammy InRelease [6,555 B]\n",
            "Hit:5 http://archive.ubuntu.com/ubuntu jammy InRelease\n",
            "Get:6 https://developer.download.nvidia.com/compute/cuda/repos/ubuntu2204/x86_64  Packages [1,196 kB]\n",
            "Get:7 http://archive.ubuntu.com/ubuntu jammy-updates InRelease [128 kB]\n",
            "Get:8 https://ppa.launchpadcontent.net/deadsnakes/ppa/ubuntu jammy InRelease [18.1 kB]\n",
            "Get:9 http://security.ubuntu.com/ubuntu jammy-security/universe amd64 Packages [1,226 kB]\n",
            "Get:10 https://ppa.launchpadcontent.net/graphics-drivers/ppa/ubuntu jammy InRelease [24.3 kB]\n",
            "Get:11 http://security.ubuntu.com/ubuntu jammy-security/main amd64 Packages [2,506 kB]\n",
            "Get:12 http://security.ubuntu.com/ubuntu jammy-security/restricted amd64 Packages [3,436 kB]\n",
            "Get:13 https://r2u.stat.illinois.edu/ubuntu jammy/main amd64 Packages [2,632 kB]\n",
            "Hit:14 https://ppa.launchpadcontent.net/ubuntugis/ppa/ubuntu jammy InRelease\n",
            "Get:15 http://archive.ubuntu.com/ubuntu jammy-backports InRelease [127 kB]\n",
            "Get:16 https://r2u.stat.illinois.edu/ubuntu jammy/main all Packages [8,559 kB]\n",
            "Get:17 https://ppa.launchpadcontent.net/deadsnakes/ppa/ubuntu jammy/main amd64 Packages [32.9 kB]\n",
            "Get:18 https://ppa.launchpadcontent.net/graphics-drivers/ppa/ubuntu jammy/main amd64 Packages [53.4 kB]\n",
            "Get:19 http://archive.ubuntu.com/ubuntu jammy-updates/universe amd64 Packages [1,517 kB]\n",
            "Get:20 http://archive.ubuntu.com/ubuntu jammy-updates/restricted amd64 Packages [3,588 kB]\n",
            "Get:21 http://archive.ubuntu.com/ubuntu jammy-updates/main amd64 Packages [2,817 kB]\n",
            "Get:22 http://archive.ubuntu.com/ubuntu jammy-backports/main amd64 Packages [111 kB]\n",
            "Get:23 http://archive.ubuntu.com/ubuntu jammy-backports/universe amd64 Packages [37.0 kB]\n",
            "Fetched 28.1 MB in 3s (9,196 kB/s)\n",
            "Reading package lists... Done\n",
            "W: Skipping acquire of configured file 'main/source/Sources' as repository 'https://r2u.stat.illinois.edu/ubuntu jammy InRelease' does not seem to provide it (sources.list entry misspelt?)\n",
            "Reading package lists... Done\n",
            "Building dependency tree... Done\n",
            "Reading state information... Done\n",
            "E: Unable to locate package google-chrome-stable\n",
            "Collecting selenium\n",
            "  Downloading selenium-4.27.1-py3-none-any.whl.metadata (7.1 kB)\n",
            "Collecting webdriver-manager\n",
            "  Downloading webdriver_manager-4.0.2-py2.py3-none-any.whl.metadata (12 kB)\n",
            "Requirement already satisfied: urllib3<3,>=1.26 in /usr/local/lib/python3.10/dist-packages (from urllib3[socks]<3,>=1.26->selenium) (2.2.3)\n",
            "Collecting trio~=0.17 (from selenium)\n",
            "  Downloading trio-0.27.0-py3-none-any.whl.metadata (8.6 kB)\n",
            "Collecting trio-websocket~=0.9 (from selenium)\n",
            "  Downloading trio_websocket-0.11.1-py3-none-any.whl.metadata (4.7 kB)\n",
            "Requirement already satisfied: certifi>=2021.10.8 in /usr/local/lib/python3.10/dist-packages (from selenium) (2024.12.14)\n",
            "Requirement already satisfied: typing_extensions~=4.9 in /usr/local/lib/python3.10/dist-packages (from selenium) (4.12.2)\n",
            "Requirement already satisfied: websocket-client~=1.8 in /usr/local/lib/python3.10/dist-packages (from selenium) (1.8.0)\n",
            "Requirement already satisfied: requests in /usr/local/lib/python3.10/dist-packages (from webdriver-manager) (2.32.3)\n",
            "Collecting python-dotenv (from webdriver-manager)\n",
            "  Downloading python_dotenv-1.0.1-py3-none-any.whl.metadata (23 kB)\n",
            "Requirement already satisfied: packaging in /usr/local/lib/python3.10/dist-packages (from webdriver-manager) (24.2)\n",
            "Requirement already satisfied: attrs>=23.2.0 in /usr/local/lib/python3.10/dist-packages (from trio~=0.17->selenium) (24.3.0)\n",
            "Collecting sortedcontainers (from trio~=0.17->selenium)\n",
            "  Downloading sortedcontainers-2.4.0-py2.py3-none-any.whl.metadata (10 kB)\n",
            "Requirement already satisfied: idna in /usr/local/lib/python3.10/dist-packages (from trio~=0.17->selenium) (3.10)\n",
            "Collecting outcome (from trio~=0.17->selenium)\n",
            "  Downloading outcome-1.3.0.post0-py2.py3-none-any.whl.metadata (2.6 kB)\n",
            "Requirement already satisfied: sniffio>=1.3.0 in /usr/local/lib/python3.10/dist-packages (from trio~=0.17->selenium) (1.3.1)\n",
            "Requirement already satisfied: exceptiongroup in /usr/local/lib/python3.10/dist-packages (from trio~=0.17->selenium) (1.2.2)\n",
            "Collecting wsproto>=0.14 (from trio-websocket~=0.9->selenium)\n",
            "  Downloading wsproto-1.2.0-py3-none-any.whl.metadata (5.6 kB)\n",
            "Requirement already satisfied: pysocks!=1.5.7,<2.0,>=1.5.6 in /usr/local/lib/python3.10/dist-packages (from urllib3[socks]<3,>=1.26->selenium) (1.7.1)\n",
            "Requirement already satisfied: charset-normalizer<4,>=2 in /usr/local/lib/python3.10/dist-packages (from requests->webdriver-manager) (3.4.0)\n",
            "Requirement already satisfied: h11<1,>=0.9.0 in /usr/local/lib/python3.10/dist-packages (from wsproto>=0.14->trio-websocket~=0.9->selenium) (0.14.0)\n",
            "Downloading selenium-4.27.1-py3-none-any.whl (9.7 MB)\n",
            "\u001b[2K   \u001b[90m━━━━━━━━━━━━━━━━━━━━━━━━━━━━━━━━━━━━━━━━\u001b[0m \u001b[32m9.7/9.7 MB\u001b[0m \u001b[31m68.4 MB/s\u001b[0m eta \u001b[36m0:00:00\u001b[0m\n",
            "\u001b[?25hDownloading webdriver_manager-4.0.2-py2.py3-none-any.whl (27 kB)\n",
            "Downloading trio-0.27.0-py3-none-any.whl (481 kB)\n",
            "\u001b[2K   \u001b[90m━━━━━━━━━━━━━━━━━━━━━━━━━━━━━━━━━━━━━━━━\u001b[0m \u001b[32m481.7/481.7 kB\u001b[0m \u001b[31m27.0 MB/s\u001b[0m eta \u001b[36m0:00:00\u001b[0m\n",
            "\u001b[?25hDownloading trio_websocket-0.11.1-py3-none-any.whl (17 kB)\n",
            "Downloading python_dotenv-1.0.1-py3-none-any.whl (19 kB)\n",
            "Downloading wsproto-1.2.0-py3-none-any.whl (24 kB)\n",
            "Downloading outcome-1.3.0.post0-py2.py3-none-any.whl (10 kB)\n",
            "Downloading sortedcontainers-2.4.0-py2.py3-none-any.whl (29 kB)\n",
            "Installing collected packages: sortedcontainers, wsproto, python-dotenv, outcome, webdriver-manager, trio, trio-websocket, selenium\n",
            "Successfully installed outcome-1.3.0.post0 python-dotenv-1.0.1 selenium-4.27.1 sortedcontainers-2.4.0 trio-0.27.0 trio-websocket-0.11.1 webdriver-manager-4.0.2 wsproto-1.2.0\n"
          ]
        }
      ]
    },
    {
      "cell_type": "markdown",
      "source": [
        "Scrapping con Beautiful Soup"
      ],
      "metadata": {
        "id": "925EGEU9UT-w"
      }
    },
    {
      "cell_type": "code",
      "source": [
        "headers = {\n",
        "    \"authority\": \"www.one.gob.do\",\n",
        "    \"method\": \"GET\",\n",
        "    \"path\": \"/datos-y-estadisticas/\",\n",
        "    \"scheme\": \"https\",\n",
        "    \"accept\": \"text/html,application/xhtml+xml,application/xml;q=0.9,image/avif,image/webp,image/apng,*/*;q=0.8,application/signed-exchange;v=b3;q=0.7\",\n",
        "    \"accept-encoding\": \"gzip, deflate, br, zstd\",\n",
        "    \"accept-language\": \"en-US,en;q=0.9\",\n",
        "    \"cache-control\": \"max-age=0\",\n",
        "    \"cookie\": \"ASP.NET_SessionId=a0a5pxdvsxdadhusyivont4q; _gid=GA1.3.1294930446.1730382064; _ga_WPZ69KLFXH=GS1.1.1730383955.1.0.1730383959.0.0.0; _ga_HRRCVTL29B=GS1.1.1730388907.2.0.1730388907.0.0.0; _ga=GA1.1.1686789838.1730382064\",\n",
        "    \"priority\": \"u=0, i\",\n",
        "    \"sec-ch-ua\": \"\\\"Chromium\\\";v=\\\"130\\\", \\\"Google Chrome\\\";v=\\\"130\\\", \\\"Not?A_Brand\\\";v=\\\"99\\\"\",\n",
        "    \"sec-ch-ua-mobile\": \"?0\",\n",
        "    \"sec-ch-ua-platform\": \"\\\"Windows\\\"\",\n",
        "    \"sec-fetch-dest\": \"document\",\n",
        "    \"sec-fetch-mode\": \"navigate\",\n",
        "    \"sec-fetch-site\": \"none\",\n",
        "    \"sec-fetch-user\": \"?1\",\n",
        "    \"upgrade-insecure-requests\": \"1\",\n",
        "    \"user-agent\": \"Mozilla/5.0 (Windows NT 10.0; Win64; x64) AppleWebKit/537.36 (KHTML, like Gecko) Chrome/130.0.0.0 Safari/537.36\"\n",
        "}"
      ],
      "metadata": {
        "id": "Gg9bNztKXJ-w"
      },
      "execution_count": null,
      "outputs": []
    },
    {
      "cell_type": "code",
      "source": [
        "import requests\n",
        "import time\n",
        "from bs4 import BeautifulSoup\n",
        "import warnings\n",
        "from urllib3.exceptions import InsecureRequestWarning\n",
        "\n",
        "# Suprimir advertencias de SSL inseguro\n",
        "warnings.filterwarnings(\"ignore\", category=InsecureRequestWarning)\n",
        "\n",
        "# URL base\n",
        "base_url = \"https://adn.gob.do/transparencia/leyes/\"\n",
        "headers = {\n",
        "    \"User-Agent\": \"Mozilla/5.0 (Windows NT 10.0; Win64; x64) AppleWebKit/537.36 (KHTML, like Gecko) Chrome/117.0.0.0 Safari/537.36\"\n",
        "}\n",
        "\n",
        "# Listas para almacenar datos\n",
        "Nombres = []\n",
        "Epigrafes = []\n",
        "Fecha_publicacion = []\n",
        "Fecha_vigor = []\n",
        "Link = []\n",
        "\n",
        "# Número de páginas\n",
        "num_paginas = 2\n",
        "\n",
        "# Iterar por cada página\n",
        "for pagina in range(1, num_paginas):\n",
        "    # Construir la URL para cada página\n",
        "    url = f\"{base_url}#78-78-wpfd-top-p{pagina}\"\n",
        "    print(f\"Accediendo a: {url}\")\n",
        "\n",
        "    # Hacer la solicitud a la página (con SSL desactivado)\n",
        "    response = requests.get(url, headers=headers, verify=False)\n",
        "    time.sleep(3)  # Esperar para evitar bloqueos\n",
        "\n",
        "    if response.status_code == 200:\n",
        "        # Analizar el contenido HTML con BeautifulSoup\n",
        "        soup = BeautifulSoup(response.text, 'html.parser')\n",
        "\n",
        "        # Buscar el div con la clase \"wpfd_list\"\n",
        "        wpfd_info_div = soup.find('div', class_='wpfd_list')\n",
        "        if wpfd_info_div:\n",
        "            # Encontrar los elementos <h3> y <a> dentro del div\n",
        "            h3_tags = wpfd_info_div.find_all('h3')\n",
        "            a_tags = wpfd_info_div.find_all('a', class_='wpfd_downloadlink')\n",
        "\n",
        "            # Procesar cada h3 encontrado\n",
        "            for h3 in h3_tags:\n",
        "                # Obtener el texto del h3\n",
        "                text = h3.get_text(strip=True)\n",
        "                Nombres.append(text)\n",
        "                print(f\"Nombre agregado: {text}\")\n",
        "                link_p = a.get('href')\n",
        "                Link.append(link_p)\n",
        "                print(f\"Enlace agregado: {link_p}\")\n",
        "\n",
        "\n",
        "        else:\n",
        "            print(f\"No se encontró el div 'wpfd_list' en la página {pagina}.\")\n",
        "    else:\n",
        "        print(f\"Error al acceder a la página {pagina}. Código de estado: {response.status_code}\")\n",
        "\n",
        "# Imprimir los resultados finales\n",
        "print(\"Nombres:\", Nombres)\n",
        "print(\"Enlaces:\", Link)\n",
        "\n",
        "\n",
        "\n"
      ],
      "metadata": {
        "colab": {
          "base_uri": "https://localhost:8080/"
        },
        "id": "8px81NO7Usgd",
        "outputId": "30318022-9f83-42de-dfb6-683df1fbfb17"
      },
      "execution_count": 32,
      "outputs": [
        {
          "output_type": "stream",
          "name": "stdout",
          "text": [
            "Accediendo a: https://adn.gob.do/transparencia/leyes/#78-78-wpfd-top-p1\n",
            "Nombre agregado: Ley-No.-6-06-de-Credito-Publico\n",
            "Enlace agregado: https://adn.gob.do/transparencia/download/78/leyes/415/ley-176-07-del-distrito-nacional-y-los-municipios.pdf\n",
            "Nombre agregado: Ley-No-498-06-de-Planificacion-e-Inversion-Publica\n",
            "Enlace agregado: https://adn.gob.do/transparencia/download/78/leyes/415/ley-176-07-del-distrito-nacional-y-los-municipios.pdf\n",
            "Nombre agregado: Ley-567-05-de-Tesoreria-Nacional\n",
            "Enlace agregado: https://adn.gob.do/transparencia/download/78/leyes/415/ley-176-07-del-distrito-nacional-y-los-municipios.pdf\n",
            "Nombre agregado: Ley-488-08.-Regimen-Regulatorio-Para-el-Desarrollo-y-Competitividad-de-las-MIPYMES\n",
            "Enlace agregado: https://adn.gob.do/transparencia/download/78/leyes/415/ley-176-07-del-distrito-nacional-y-los-municipios.pdf\n",
            "Nombre agregado: Ley-423-06-Ley-Organica-de-Presupuesto-Publico-RD\n",
            "Enlace agregado: https://adn.gob.do/transparencia/download/78/leyes/415/ley-176-07-del-distrito-nacional-y-los-municipios.pdf\n",
            "Nombre agregado: Ley-340-06-de-Compras-y-Contrataciones\n",
            "Enlace agregado: https://adn.gob.do/transparencia/download/78/leyes/415/ley-176-07-del-distrito-nacional-y-los-municipios.pdf\n",
            "Nombre agregado: Ley-311-14-Sobre-Declaracion-Jurada-Patrimonio\n",
            "Enlace agregado: https://adn.gob.do/transparencia/download/78/leyes/415/ley-176-07-del-distrito-nacional-y-los-municipios.pdf\n",
            "Nombre agregado: Ley-247-12-Organica-de-la-Adm.-Publica\n",
            "Enlace agregado: https://adn.gob.do/transparencia/download/78/leyes/415/ley-176-07-del-distrito-nacional-y-los-municipios.pdf\n",
            "Nombre agregado: Ley-200-04-Ley-General-de-Libre-Acceso-a-la-Informacion (1)\n",
            "Enlace agregado: https://adn.gob.do/transparencia/download/78/leyes/415/ley-176-07-del-distrito-nacional-y-los-municipios.pdf\n",
            "Nombre agregado: Ley-176-07-del-Distrito-Nacional-y-los-Municipios\n",
            "Enlace agregado: https://adn.gob.do/transparencia/download/78/leyes/415/ley-176-07-del-distrito-nacional-y-los-municipios.pdf\n",
            "Nombres: ['Ley-No.-6-06-de-Credito-Publico', 'Ley-No-498-06-de-Planificacion-e-Inversion-Publica', 'Ley-567-05-de-Tesoreria-Nacional', 'Ley-488-08.-Regimen-Regulatorio-Para-el-Desarrollo-y-Competitividad-de-las-MIPYMES', 'Ley-423-06-Ley-Organica-de-Presupuesto-Publico-RD', 'Ley-340-06-de-Compras-y-Contrataciones', 'Ley-311-14-Sobre-Declaracion-Jurada-Patrimonio', 'Ley-247-12-Organica-de-la-Adm.-Publica', 'Ley-200-04-Ley-General-de-Libre-Acceso-a-la-Informacion (1)', 'Ley-176-07-del-Distrito-Nacional-y-los-Municipios']\n",
            "Enlaces: ['https://adn.gob.do/transparencia/download/78/leyes/415/ley-176-07-del-distrito-nacional-y-los-municipios.pdf', 'https://adn.gob.do/transparencia/download/78/leyes/415/ley-176-07-del-distrito-nacional-y-los-municipios.pdf', 'https://adn.gob.do/transparencia/download/78/leyes/415/ley-176-07-del-distrito-nacional-y-los-municipios.pdf', 'https://adn.gob.do/transparencia/download/78/leyes/415/ley-176-07-del-distrito-nacional-y-los-municipios.pdf', 'https://adn.gob.do/transparencia/download/78/leyes/415/ley-176-07-del-distrito-nacional-y-los-municipios.pdf', 'https://adn.gob.do/transparencia/download/78/leyes/415/ley-176-07-del-distrito-nacional-y-los-municipios.pdf', 'https://adn.gob.do/transparencia/download/78/leyes/415/ley-176-07-del-distrito-nacional-y-los-municipios.pdf', 'https://adn.gob.do/transparencia/download/78/leyes/415/ley-176-07-del-distrito-nacional-y-los-municipios.pdf', 'https://adn.gob.do/transparencia/download/78/leyes/415/ley-176-07-del-distrito-nacional-y-los-municipios.pdf', 'https://adn.gob.do/transparencia/download/78/leyes/415/ley-176-07-del-distrito-nacional-y-los-municipios.pdf']\n"
          ]
        }
      ]
    },
    {
      "cell_type": "code",
      "source": [
        "conteo_nombres = len(Nombres)\n",
        "conteo_link = len(Link)\n",
        "print(f\"Conteo de Nombres: {conteo_nombres}\")\n",
        "print(f\"Conteo de Link: {conteo_link}\")\n"
      ],
      "metadata": {
        "colab": {
          "base_uri": "https://localhost:8080/"
        },
        "id": "rwicfv9nm2yw",
        "outputId": "1c17a35e-1851-4654-b2f3-f3ec034a33cf"
      },
      "execution_count": 33,
      "outputs": [
        {
          "output_type": "stream",
          "name": "stdout",
          "text": [
            "Conteo de Nombres: 10\n",
            "Conteo de Link: 10\n"
          ]
        }
      ]
    },
    {
      "cell_type": "code",
      "source": [
        "import pandas as pd\n"
      ],
      "metadata": {
        "id": "LKJPAPiTudlb"
      },
      "execution_count": 34,
      "outputs": []
    },
    {
      "cell_type": "code",
      "source": [
        "from sre_constants import NOT_LITERAL\n",
        "# Crear un DataFrame con los datos recopilados\n",
        "data = {\n",
        "    \"Seccion\": Nombres,\n",
        "    \"Link\": Link,\n",
        "}\n",
        "\n",
        "df = pd.DataFrame(data)\n",
        "\n",
        "# Agregar columnas con los valores especificados\n",
        "df['Codigo_ISO'] = 'DOM'\n",
        "df['Categoria'] = 'Sector Externo'\n",
        "df['Fuente'] = 'ONE'\n",
        "df['Pais'] = 'República Dominicana'\n",
        "df['Departamento'] = 'Nacional'\n",
        "df['Subcategoría'] = 'Ley'\n",
        "df['Cod_seccion'] = 'Código Sección'\n",
        "df['Desc_Seccion'] = 'Sección'\n",
        "df['Cod_capitulo'] = 'Código Capítulo'\n",
        "df['Desc_Capitulo'] = 'Capítulo'\n",
        "df['Cod_Partida'] = 'Código Partida'\n",
        "df['Desc_Partida'] = 'Partida'\n",
        "df['Cod_Arancel'] = 'Código Arancel'\n",
        "df['Desc_Arancel'] = 'Arancel'\n",
        "df['Region'] = 'Región'\n",
        "df['Pais_Destino'] = 'País Destino'\n",
        "df['Via_Transporte'] = 'Vía Transporte'\n",
        "df['Regimen_Aduanero'] = 'Régimen Aduanero'\n",
        "df['Colecturia_ID'] = 'Colecturía ID'\n",
        "df['Colecturia'] = 'Colecturía'\n",
        "\n",
        "# Mostrar el DataFrame resultante\n",
        "print(df)"
      ],
      "metadata": {
        "colab": {
          "base_uri": "https://localhost:8080/"
        },
        "id": "RX-yuhp3uvPw",
        "outputId": "3b4f3ab2-e791-458f-9730-044389944828"
      },
      "execution_count": 35,
      "outputs": [
        {
          "output_type": "stream",
          "name": "stdout",
          "text": [
            "                                             Seccion  \\\n",
            "0                    Ley-No.-6-06-de-Credito-Publico   \n",
            "1  Ley-No-498-06-de-Planificacion-e-Inversion-Pub...   \n",
            "2                   Ley-567-05-de-Tesoreria-Nacional   \n",
            "3  Ley-488-08.-Regimen-Regulatorio-Para-el-Desarr...   \n",
            "4  Ley-423-06-Ley-Organica-de-Presupuesto-Publico-RD   \n",
            "5             Ley-340-06-de-Compras-y-Contrataciones   \n",
            "6     Ley-311-14-Sobre-Declaracion-Jurada-Patrimonio   \n",
            "7             Ley-247-12-Organica-de-la-Adm.-Publica   \n",
            "8  Ley-200-04-Ley-General-de-Libre-Acceso-a-la-In...   \n",
            "9  Ley-176-07-del-Distrito-Nacional-y-los-Municipios   \n",
            "\n",
            "                                                Link Codigo_ISO  \\\n",
            "0  https://adn.gob.do/transparencia/download/78/l...        DOM   \n",
            "1  https://adn.gob.do/transparencia/download/78/l...        DOM   \n",
            "2  https://adn.gob.do/transparencia/download/78/l...        DOM   \n",
            "3  https://adn.gob.do/transparencia/download/78/l...        DOM   \n",
            "4  https://adn.gob.do/transparencia/download/78/l...        DOM   \n",
            "5  https://adn.gob.do/transparencia/download/78/l...        DOM   \n",
            "6  https://adn.gob.do/transparencia/download/78/l...        DOM   \n",
            "7  https://adn.gob.do/transparencia/download/78/l...        DOM   \n",
            "8  https://adn.gob.do/transparencia/download/78/l...        DOM   \n",
            "9  https://adn.gob.do/transparencia/download/78/l...        DOM   \n",
            "\n",
            "        Categoria Fuente                  Pais Departamento Subcategoría  \\\n",
            "0  Sector Externo    ONE  República Dominicana     Nacional          Ley   \n",
            "1  Sector Externo    ONE  República Dominicana     Nacional          Ley   \n",
            "2  Sector Externo    ONE  República Dominicana     Nacional          Ley   \n",
            "3  Sector Externo    ONE  República Dominicana     Nacional          Ley   \n",
            "4  Sector Externo    ONE  República Dominicana     Nacional          Ley   \n",
            "5  Sector Externo    ONE  República Dominicana     Nacional          Ley   \n",
            "6  Sector Externo    ONE  República Dominicana     Nacional          Ley   \n",
            "7  Sector Externo    ONE  República Dominicana     Nacional          Ley   \n",
            "8  Sector Externo    ONE  República Dominicana     Nacional          Ley   \n",
            "9  Sector Externo    ONE  República Dominicana     Nacional          Ley   \n",
            "\n",
            "      Cod_seccion Desc_Seccion  ...     Cod_Partida Desc_Partida  \\\n",
            "0  Código Sección      Sección  ...  Código Partida      Partida   \n",
            "1  Código Sección      Sección  ...  Código Partida      Partida   \n",
            "2  Código Sección      Sección  ...  Código Partida      Partida   \n",
            "3  Código Sección      Sección  ...  Código Partida      Partida   \n",
            "4  Código Sección      Sección  ...  Código Partida      Partida   \n",
            "5  Código Sección      Sección  ...  Código Partida      Partida   \n",
            "6  Código Sección      Sección  ...  Código Partida      Partida   \n",
            "7  Código Sección      Sección  ...  Código Partida      Partida   \n",
            "8  Código Sección      Sección  ...  Código Partida      Partida   \n",
            "9  Código Sección      Sección  ...  Código Partida      Partida   \n",
            "\n",
            "      Cod_Arancel Desc_Arancel  Region  Pais_Destino  Via_Transporte  \\\n",
            "0  Código Arancel      Arancel  Región  País Destino  Vía Transporte   \n",
            "1  Código Arancel      Arancel  Región  País Destino  Vía Transporte   \n",
            "2  Código Arancel      Arancel  Región  País Destino  Vía Transporte   \n",
            "3  Código Arancel      Arancel  Región  País Destino  Vía Transporte   \n",
            "4  Código Arancel      Arancel  Región  País Destino  Vía Transporte   \n",
            "5  Código Arancel      Arancel  Región  País Destino  Vía Transporte   \n",
            "6  Código Arancel      Arancel  Región  País Destino  Vía Transporte   \n",
            "7  Código Arancel      Arancel  Región  País Destino  Vía Transporte   \n",
            "8  Código Arancel      Arancel  Región  País Destino  Vía Transporte   \n",
            "9  Código Arancel      Arancel  Región  País Destino  Vía Transporte   \n",
            "\n",
            "   Regimen_Aduanero  Colecturia_ID  Colecturia  \n",
            "0  Régimen Aduanero  Colecturía ID  Colecturía  \n",
            "1  Régimen Aduanero  Colecturía ID  Colecturía  \n",
            "2  Régimen Aduanero  Colecturía ID  Colecturía  \n",
            "3  Régimen Aduanero  Colecturía ID  Colecturía  \n",
            "4  Régimen Aduanero  Colecturía ID  Colecturía  \n",
            "5  Régimen Aduanero  Colecturía ID  Colecturía  \n",
            "6  Régimen Aduanero  Colecturía ID  Colecturía  \n",
            "7  Régimen Aduanero  Colecturía ID  Colecturía  \n",
            "8  Régimen Aduanero  Colecturía ID  Colecturía  \n",
            "9  Régimen Aduanero  Colecturía ID  Colecturía  \n",
            "\n",
            "[10 rows x 22 columns]\n"
          ]
        }
      ]
    },
    {
      "cell_type": "code",
      "source": [
        "# Exportar el DataFrame a un archivo CSV\n",
        "df.to_csv(\"Leyes.csv\", index=False, encoding='utf-8-sig')\n",
        "\n",
        "print(\"Archivo CSV generado exitosamente.\")"
      ],
      "metadata": {
        "colab": {
          "base_uri": "https://localhost:8080/"
        },
        "id": "9Zbx2UniwL7L",
        "outputId": "236a213d-2f7f-4a3a-eeb1-2aae903752a5"
      },
      "execution_count": 36,
      "outputs": [
        {
          "output_type": "stream",
          "name": "stdout",
          "text": [
            "Archivo CSV generado exitosamente.\n"
          ]
        }
      ]
    },
    {
      "cell_type": "code",
      "source": [
        "from google.colab import files\n",
        "\n",
        "# Descargar el archivo generado\n",
        "files.download(\"Leyes.csv\")"
      ],
      "metadata": {
        "colab": {
          "base_uri": "https://localhost:8080/",
          "height": 17
        },
        "id": "e78zYmcIwbZj",
        "outputId": "4fb20243-1e35-4c53-cc4f-f078b3538927"
      },
      "execution_count": null,
      "outputs": [
        {
          "output_type": "display_data",
          "data": {
            "text/plain": [
              "<IPython.core.display.Javascript object>"
            ],
            "application/javascript": [
              "\n",
              "    async function download(id, filename, size) {\n",
              "      if (!google.colab.kernel.accessAllowed) {\n",
              "        return;\n",
              "      }\n",
              "      const div = document.createElement('div');\n",
              "      const label = document.createElement('label');\n",
              "      label.textContent = `Downloading \"${filename}\": `;\n",
              "      div.appendChild(label);\n",
              "      const progress = document.createElement('progress');\n",
              "      progress.max = size;\n",
              "      div.appendChild(progress);\n",
              "      document.body.appendChild(div);\n",
              "\n",
              "      const buffers = [];\n",
              "      let downloaded = 0;\n",
              "\n",
              "      const channel = await google.colab.kernel.comms.open(id);\n",
              "      // Send a message to notify the kernel that we're ready.\n",
              "      channel.send({})\n",
              "\n",
              "      for await (const message of channel.messages) {\n",
              "        // Send a message to notify the kernel that we're ready.\n",
              "        channel.send({})\n",
              "        if (message.buffers) {\n",
              "          for (const buffer of message.buffers) {\n",
              "            buffers.push(buffer);\n",
              "            downloaded += buffer.byteLength;\n",
              "            progress.value = downloaded;\n",
              "          }\n",
              "        }\n",
              "      }\n",
              "      const blob = new Blob(buffers, {type: 'application/binary'});\n",
              "      const a = document.createElement('a');\n",
              "      a.href = window.URL.createObjectURL(blob);\n",
              "      a.download = filename;\n",
              "      div.appendChild(a);\n",
              "      a.click();\n",
              "      div.remove();\n",
              "    }\n",
              "  "
            ]
          },
          "metadata": {}
        },
        {
          "output_type": "display_data",
          "data": {
            "text/plain": [
              "<IPython.core.display.Javascript object>"
            ],
            "application/javascript": [
              "download(\"download_f21b3ded-ef02-4fc0-9ad4-ba6cd8daa5e0\", \"Leyes.csv\", 4238)"
            ]
          },
          "metadata": {}
        }
      ]
    },
    {
      "cell_type": "markdown",
      "source": [
        "Con Selenium"
      ],
      "metadata": {
        "id": "3u0xsAlXYIDh"
      }
    },
    {
      "cell_type": "code",
      "source": [
        "%%shell\n",
        "\n",
        "# Configurar los repositorios de Debian Buster para instalar Chromium\n",
        "cat > /etc/apt/sources.list.d/debian.list <<'EOF'\n",
        "deb [arch=amd64 signed-by=/usr/share/keyrings/debian-buster.gpg] http://deb.debian.org/debian buster main\n",
        "deb [arch=amd64 signed-by=/usr/share/keyrings/debian-buster-updates.gpg] http://deb.debian.org/debian buster-updates main\n",
        "deb [arch=amd64 signed-by=/usr/share/keyrings/debian-security-buster.gpg] http://deb.debian.org/debian-security buster/updates main\n",
        "EOF\n",
        "\n",
        "# Importar claves GPG y guardarlas en la ubicación correcta\n",
        "gpg --keyserver keyserver.ubuntu.com --recv-keys DCC9EFBF77E11517\n",
        "gpg --export --armor DCC9EFBF77E11517 | gpg --dearmour -o /usr/share/keyrings/debian-buster.gpg\n",
        "\n",
        "gpg --keyserver keyserver.ubuntu.com --recv-keys 648ACFD622F3D138\n",
        "gpg --export --armor 648ACFD622F3D138 | gpg --dearmour -o /usr/share/keyrings/debian-buster-updates.gpg\n",
        "\n",
        "gpg --keyserver keyserver.ubuntu.com --recv-keys 112695A0E562B32A\n",
        "gpg --export --armor 112695A0E562B32A | gpg --dearmour -o /usr/share/keyrings/debian-security-buster.gpg\n",
        "\n",
        "# Preferir el repositorio de Debian solo para los paquetes chromium*\n",
        "cat > /etc/apt/preferences.d/chromium.pref << 'EOF'\n",
        "Package: *\n",
        "Pin: release a=eoan\n",
        "Pin-Priority: 500\n",
        "\n",
        "\n",
        "Package: *\n",
        "Pin: origin \"deb.debian.org\"\n",
        "Pin-Priority: 300\n",
        "\n",
        "\n",
        "Package: chromium*\n",
        "Pin: origin \"deb.debian.org\"\n",
        "Pin-Priority: 700\n",
        "EOF\n",
        "\n",
        "# Actualizar la lista de paquetes\n",
        "apt-get update\n",
        "\n",
        "# Instalar Chromium y Chromium Driver\n",
        "apt-get install -y chromium chromium-driver\n",
        "\n",
        "# Instalar Selenium\n",
        "pip install selenium\n"
      ],
      "metadata": {
        "colab": {
          "base_uri": "https://localhost:8080/"
        },
        "id": "zyKUBiIGY_3R",
        "outputId": "b0320512-22e0-41e2-f9d0-6a8c05b739ff"
      },
      "execution_count": null,
      "outputs": [
        {
          "output_type": "stream",
          "name": "stdout",
          "text": [
            "gpg: key DCC9EFBF77E11517: \"Debian Stable Release Key (10/buster) <debian-release@lists.debian.org>\" not changed\n",
            "gpg: Total number processed: 1\n",
            "gpg:              unchanged: 1\n",
            "gpg: cannot open '/dev/tty': No such device or address\n",
            "gpg: [stdout]: write error: Broken pipe\n",
            "gpg: filter_flush failed on close: Broken pipe\n",
            "gpg: key DC30D7C23CBBABEE: \"Debian Archive Automatic Signing Key (10/buster) <ftpmaster@debian.org>\" not changed\n",
            "gpg: Total number processed: 1\n",
            "gpg:              unchanged: 1\n",
            "gpg: cannot open '/dev/tty': No such device or address\n",
            "gpg: [stdout]: write error: Broken pipe\n",
            "gpg: filter_flush failed on close: Broken pipe\n",
            "gpg: key 4DFAB270CAA96DFA: \"Debian Security Archive Automatic Signing Key (10/buster) <ftpmaster@debian.org>\" not changed\n",
            "gpg: Total number processed: 1\n",
            "gpg:              unchanged: 1\n",
            "gpg: cannot open '/dev/tty': No such device or address\n",
            "gpg: [stdout]: write error: Broken pipe\n",
            "gpg: filter_flush failed on close: Broken pipe\n",
            "Hit:1 http://deb.debian.org/debian buster InRelease\n",
            "Hit:2 http://deb.debian.org/debian buster-updates InRelease\n",
            "Hit:3 http://deb.debian.org/debian-security buster/updates InRelease\n",
            "Hit:4 http://security.ubuntu.com/ubuntu jammy-security InRelease\n",
            "Hit:5 https://cloud.r-project.org/bin/linux/ubuntu jammy-cran40/ InRelease\n",
            "Hit:6 https://developer.download.nvidia.com/compute/cuda/repos/ubuntu2204/x86_64  InRelease\n",
            "Hit:7 https://r2u.stat.illinois.edu/ubuntu jammy InRelease\n",
            "Hit:8 http://archive.ubuntu.com/ubuntu jammy InRelease\n",
            "Hit:9 http://archive.ubuntu.com/ubuntu jammy-updates InRelease\n",
            "Hit:10 http://archive.ubuntu.com/ubuntu jammy-backports InRelease\n",
            "Hit:11 https://ppa.launchpadcontent.net/deadsnakes/ppa/ubuntu jammy InRelease\n",
            "Hit:12 https://ppa.launchpadcontent.net/graphics-drivers/ppa/ubuntu jammy InRelease\n",
            "Hit:13 https://ppa.launchpadcontent.net/ubuntugis/ppa/ubuntu jammy InRelease\n",
            "Reading package lists... Done\n",
            "W: Skipping acquire of configured file 'main/source/Sources' as repository 'https://r2u.stat.illinois.edu/ubuntu jammy InRelease' does not seem to provide it (sources.list entry misspelt?)\n",
            "Reading package lists... Done\n",
            "Building dependency tree... Done\n",
            "Reading state information... Done\n",
            "chromium is already the newest version (90.0.4430.212-1~deb10u1).\n",
            "chromium-driver is already the newest version (90.0.4430.212-1~deb10u1).\n",
            "0 upgraded, 0 newly installed, 0 to remove and 53 not upgraded.\n",
            "Requirement already satisfied: selenium in /usr/local/lib/python3.10/dist-packages (4.27.1)\n",
            "Requirement already satisfied: urllib3<3,>=1.26 in /usr/local/lib/python3.10/dist-packages (from urllib3[socks]<3,>=1.26->selenium) (2.2.3)\n",
            "Requirement already satisfied: trio~=0.17 in /usr/local/lib/python3.10/dist-packages (from selenium) (0.27.0)\n",
            "Requirement already satisfied: trio-websocket~=0.9 in /usr/local/lib/python3.10/dist-packages (from selenium) (0.11.1)\n",
            "Requirement already satisfied: certifi>=2021.10.8 in /usr/local/lib/python3.10/dist-packages (from selenium) (2024.12.14)\n",
            "Requirement already satisfied: typing_extensions~=4.9 in /usr/local/lib/python3.10/dist-packages (from selenium) (4.12.2)\n",
            "Requirement already satisfied: websocket-client~=1.8 in /usr/local/lib/python3.10/dist-packages (from selenium) (1.8.0)\n",
            "Requirement already satisfied: attrs>=23.2.0 in /usr/local/lib/python3.10/dist-packages (from trio~=0.17->selenium) (24.3.0)\n",
            "Requirement already satisfied: sortedcontainers in /usr/local/lib/python3.10/dist-packages (from trio~=0.17->selenium) (2.4.0)\n",
            "Requirement already satisfied: idna in /usr/local/lib/python3.10/dist-packages (from trio~=0.17->selenium) (3.10)\n",
            "Requirement already satisfied: outcome in /usr/local/lib/python3.10/dist-packages (from trio~=0.17->selenium) (1.3.0.post0)\n",
            "Requirement already satisfied: sniffio>=1.3.0 in /usr/local/lib/python3.10/dist-packages (from trio~=0.17->selenium) (1.3.1)\n",
            "Requirement already satisfied: exceptiongroup in /usr/local/lib/python3.10/dist-packages (from trio~=0.17->selenium) (1.2.2)\n",
            "Requirement already satisfied: wsproto>=0.14 in /usr/local/lib/python3.10/dist-packages (from trio-websocket~=0.9->selenium) (1.2.0)\n",
            "Requirement already satisfied: pysocks!=1.5.7,<2.0,>=1.5.6 in /usr/local/lib/python3.10/dist-packages (from urllib3[socks]<3,>=1.26->selenium) (1.7.1)\n",
            "Requirement already satisfied: h11<1,>=0.9.0 in /usr/local/lib/python3.10/dist-packages (from wsproto>=0.14->trio-websocket~=0.9->selenium) (0.14.0)\n"
          ]
        },
        {
          "output_type": "execute_result",
          "data": {
            "text/plain": []
          },
          "metadata": {},
          "execution_count": 30
        }
      ]
    },
    {
      "cell_type": "code",
      "source": [
        "%%shell\n",
        "# Actualizar repositorios y descargar Chromium\n",
        "apt-get update\n",
        "apt-get install -y chromium chromium-driver\n",
        "\n",
        "# Instalar Selenium si no está instalado\n",
        "pip install selenium"
      ],
      "metadata": {
        "colab": {
          "base_uri": "https://localhost:8080/"
        },
        "id": "chGzcPrfaVHr",
        "outputId": "6e0d79bf-ea60-4e3d-89f4-ebd1a903d659"
      },
      "execution_count": null,
      "outputs": [
        {
          "output_type": "stream",
          "name": "stdout",
          "text": [
            "\r0% [Working]\r            \rHit:1 http://deb.debian.org/debian buster InRelease\n",
            "\r0% [Connecting to archive.ubuntu.com (91.189.91.82)] [Waiting for headers] [Connecting to cloud.r-pr\r                                                                                                    \rHit:2 http://deb.debian.org/debian buster-updates InRelease\n",
            "\r0% [Waiting for headers] [Waiting for headers] [Connecting to cloud.r-project.org (18.154.101.44)] [\r                                                                                                    \rHit:3 http://security.ubuntu.com/ubuntu jammy-security InRelease\n",
            "\r0% [Waiting for headers] [Connecting to cloud.r-project.org (18.154.101.44)] [Connecting to r2u.stat\r                                                                                                    \rHit:4 http://deb.debian.org/debian-security buster/updates InRelease\n",
            "Hit:5 http://archive.ubuntu.com/ubuntu jammy InRelease\n",
            "Hit:6 http://archive.ubuntu.com/ubuntu jammy-updates InRelease\n",
            "Hit:7 https://developer.download.nvidia.com/compute/cuda/repos/ubuntu2204/x86_64  InRelease\n",
            "Hit:8 https://cloud.r-project.org/bin/linux/ubuntu jammy-cran40/ InRelease\n",
            "Hit:9 http://archive.ubuntu.com/ubuntu jammy-backports InRelease\n",
            "Hit:10 https://r2u.stat.illinois.edu/ubuntu jammy InRelease\n",
            "Hit:11 https://ppa.launchpadcontent.net/deadsnakes/ppa/ubuntu jammy InRelease\n",
            "Hit:12 https://ppa.launchpadcontent.net/graphics-drivers/ppa/ubuntu jammy InRelease\n",
            "Hit:13 https://ppa.launchpadcontent.net/ubuntugis/ppa/ubuntu jammy InRelease\n",
            "Reading package lists... Done\n",
            "W: Skipping acquire of configured file 'main/source/Sources' as repository 'https://r2u.stat.illinois.edu/ubuntu jammy InRelease' does not seem to provide it (sources.list entry misspelt?)\n",
            "Reading package lists... Done\n",
            "Building dependency tree... Done\n",
            "Reading state information... Done\n",
            "chromium is already the newest version (90.0.4430.212-1~deb10u1).\n",
            "chromium-driver is already the newest version (90.0.4430.212-1~deb10u1).\n",
            "0 upgraded, 0 newly installed, 0 to remove and 53 not upgraded.\n",
            "Requirement already satisfied: selenium in /usr/local/lib/python3.10/dist-packages (4.27.1)\n",
            "Requirement already satisfied: urllib3<3,>=1.26 in /usr/local/lib/python3.10/dist-packages (from urllib3[socks]<3,>=1.26->selenium) (2.2.3)\n",
            "Requirement already satisfied: trio~=0.17 in /usr/local/lib/python3.10/dist-packages (from selenium) (0.27.0)\n",
            "Requirement already satisfied: trio-websocket~=0.9 in /usr/local/lib/python3.10/dist-packages (from selenium) (0.11.1)\n",
            "Requirement already satisfied: certifi>=2021.10.8 in /usr/local/lib/python3.10/dist-packages (from selenium) (2024.12.14)\n",
            "Requirement already satisfied: typing_extensions~=4.9 in /usr/local/lib/python3.10/dist-packages (from selenium) (4.12.2)\n",
            "Requirement already satisfied: websocket-client~=1.8 in /usr/local/lib/python3.10/dist-packages (from selenium) (1.8.0)\n",
            "Requirement already satisfied: attrs>=23.2.0 in /usr/local/lib/python3.10/dist-packages (from trio~=0.17->selenium) (24.3.0)\n",
            "Requirement already satisfied: sortedcontainers in /usr/local/lib/python3.10/dist-packages (from trio~=0.17->selenium) (2.4.0)\n",
            "Requirement already satisfied: idna in /usr/local/lib/python3.10/dist-packages (from trio~=0.17->selenium) (3.10)\n",
            "Requirement already satisfied: outcome in /usr/local/lib/python3.10/dist-packages (from trio~=0.17->selenium) (1.3.0.post0)\n",
            "Requirement already satisfied: sniffio>=1.3.0 in /usr/local/lib/python3.10/dist-packages (from trio~=0.17->selenium) (1.3.1)\n",
            "Requirement already satisfied: exceptiongroup in /usr/local/lib/python3.10/dist-packages (from trio~=0.17->selenium) (1.2.2)\n",
            "Requirement already satisfied: wsproto>=0.14 in /usr/local/lib/python3.10/dist-packages (from trio-websocket~=0.9->selenium) (1.2.0)\n",
            "Requirement already satisfied: pysocks!=1.5.7,<2.0,>=1.5.6 in /usr/local/lib/python3.10/dist-packages (from urllib3[socks]<3,>=1.26->selenium) (1.7.1)\n",
            "Requirement already satisfied: h11<1,>=0.9.0 in /usr/local/lib/python3.10/dist-packages (from wsproto>=0.14->trio-websocket~=0.9->selenium) (0.14.0)\n"
          ]
        },
        {
          "output_type": "execute_result",
          "data": {
            "text/plain": []
          },
          "metadata": {},
          "execution_count": 12
        }
      ]
    },
    {
      "cell_type": "code",
      "source": [
        "from selenium import webdriver\n",
        "from selenium.webdriver.chrome.service import Service\n",
        "from selenium.webdriver.chrome.options import Options\n",
        "\n",
        "# Configurar las opciones de Chromium\n",
        "chrome_options = Options()\n",
        "chrome_options.add_argument(\"--headless\")  # Modo sin interfaz gráfica\n",
        "chrome_options.add_argument(\"--no-sandbox\")  # Requerido por Colab\n",
        "chrome_options.add_argument(\"--disable-dev-shm-usage\")  # Evitar problemas de espacio\n",
        "chrome_options.add_argument(\"--remote-debugging-port=9222\")  # Puerto para depuración remota\n",
        "chrome_options.add_argument(\"--disable-gpu\")  # Opcional: evita errores gráficos\n",
        "chrome_options.binary_location = \"/usr/bin/chromium-browser\"  # Ubicación de Chromium\n",
        "\n",
        "# Iniciar el controlador de Selenium con Chromium\n",
        "driver = webdriver.Chrome(\n",
        "    service=Service(\"/usr/bin/chromedriver\"), options=chrome_options\n",
        ")\n",
        "\n",
        "# Verificar que funcione correctamente\n",
        "driver.get(\"https://www.google.com\")\n",
        "print(driver.title)  # Debería imprimir \"Google\"\n",
        "\n",
        "# Cerrar el navegador\n",
        "driver.quit()\n"
      ],
      "metadata": {
        "colab": {
          "base_uri": "https://localhost:8080/",
          "height": 703
        },
        "id": "t0eiSZ9EZQKa",
        "outputId": "5522b1cd-200e-4a65-eaa2-93deec3f0f58"
      },
      "execution_count": null,
      "outputs": [
        {
          "output_type": "error",
          "ename": "WebDriverException",
          "evalue": "Message: unknown error: no chrome binary at /usr/bin/chromium-browser\nStacktrace:\n#0 0x5829bd81d7f9 <unknown>\n#1 0x5829bd7bd3b3 <unknown>\n#2 0x5829bd505016 <unknown>\n#3 0x5829bd525d6c <unknown>\n#4 0x5829bd52489a <unknown>\n#5 0x5829bd56200a <unknown>\n#6 0x5829bd55cc93 <unknown>\n#7 0x5829bd52ece4 <unknown>\n#8 0x5829bd5304d2 <unknown>\n#9 0x5829bd7e9542 <unknown>\n#10 0x5829bd7f8ce7 <unknown>\n#11 0x5829bd7f89e4 <unknown>\n#12 0x5829bd7fd13a <unknown>\n#13 0x5829bd7f95b9 <unknown>\n#14 0x5829bd7dee00 <unknown>\n#15 0x5829bd8105d2 <unknown>\n#16 0x5829bd810778 <unknown>\n#17 0x5829bd828a1f <unknown>\n#18 0x78aad4e3fac3 <unknown>\n#19 0x78aad4ed1850 <unknown>\n",
          "traceback": [
            "\u001b[0;31m---------------------------------------------------------------------------\u001b[0m",
            "\u001b[0;31mWebDriverException\u001b[0m                        Traceback (most recent call last)",
            "\u001b[0;32m<ipython-input-13-ff15355829c4>\u001b[0m in \u001b[0;36m<cell line: 15>\u001b[0;34m()\u001b[0m\n\u001b[1;32m     13\u001b[0m \u001b[0;34m\u001b[0m\u001b[0m\n\u001b[1;32m     14\u001b[0m \u001b[0;31m# Iniciar el controlador de Selenium con Chromium\u001b[0m\u001b[0;34m\u001b[0m\u001b[0;34m\u001b[0m\u001b[0m\n\u001b[0;32m---> 15\u001b[0;31m driver = webdriver.Chrome(\n\u001b[0m\u001b[1;32m     16\u001b[0m     \u001b[0mservice\u001b[0m\u001b[0;34m=\u001b[0m\u001b[0mService\u001b[0m\u001b[0;34m(\u001b[0m\u001b[0;34m\"/usr/bin/chromedriver\"\u001b[0m\u001b[0;34m)\u001b[0m\u001b[0;34m,\u001b[0m \u001b[0moptions\u001b[0m\u001b[0;34m=\u001b[0m\u001b[0mchrome_options\u001b[0m\u001b[0;34m\u001b[0m\u001b[0;34m\u001b[0m\u001b[0m\n\u001b[1;32m     17\u001b[0m )\n",
            "\u001b[0;32m/usr/local/lib/python3.10/dist-packages/selenium/webdriver/chrome/webdriver.py\u001b[0m in \u001b[0;36m__init__\u001b[0;34m(self, options, service, keep_alive)\u001b[0m\n\u001b[1;32m     43\u001b[0m         \u001b[0moptions\u001b[0m \u001b[0;34m=\u001b[0m \u001b[0moptions\u001b[0m \u001b[0;32mif\u001b[0m \u001b[0moptions\u001b[0m \u001b[0;32melse\u001b[0m \u001b[0mOptions\u001b[0m\u001b[0;34m(\u001b[0m\u001b[0;34m)\u001b[0m\u001b[0;34m\u001b[0m\u001b[0;34m\u001b[0m\u001b[0m\n\u001b[1;32m     44\u001b[0m \u001b[0;34m\u001b[0m\u001b[0m\n\u001b[0;32m---> 45\u001b[0;31m         super().__init__(\n\u001b[0m\u001b[1;32m     46\u001b[0m             \u001b[0mbrowser_name\u001b[0m\u001b[0;34m=\u001b[0m\u001b[0mDesiredCapabilities\u001b[0m\u001b[0;34m.\u001b[0m\u001b[0mCHROME\u001b[0m\u001b[0;34m[\u001b[0m\u001b[0;34m\"browserName\"\u001b[0m\u001b[0;34m]\u001b[0m\u001b[0;34m,\u001b[0m\u001b[0;34m\u001b[0m\u001b[0;34m\u001b[0m\u001b[0m\n\u001b[1;32m     47\u001b[0m             \u001b[0mvendor_prefix\u001b[0m\u001b[0;34m=\u001b[0m\u001b[0;34m\"goog\"\u001b[0m\u001b[0;34m,\u001b[0m\u001b[0;34m\u001b[0m\u001b[0;34m\u001b[0m\u001b[0m\n",
            "\u001b[0;32m/usr/local/lib/python3.10/dist-packages/selenium/webdriver/chromium/webdriver.py\u001b[0m in \u001b[0;36m__init__\u001b[0;34m(self, browser_name, vendor_prefix, options, service, keep_alive)\u001b[0m\n\u001b[1;32m     64\u001b[0m \u001b[0;34m\u001b[0m\u001b[0m\n\u001b[1;32m     65\u001b[0m         \u001b[0;32mtry\u001b[0m\u001b[0;34m:\u001b[0m\u001b[0;34m\u001b[0m\u001b[0;34m\u001b[0m\u001b[0m\n\u001b[0;32m---> 66\u001b[0;31m             \u001b[0msuper\u001b[0m\u001b[0;34m(\u001b[0m\u001b[0;34m)\u001b[0m\u001b[0;34m.\u001b[0m\u001b[0m__init__\u001b[0m\u001b[0;34m(\u001b[0m\u001b[0mcommand_executor\u001b[0m\u001b[0;34m=\u001b[0m\u001b[0mexecutor\u001b[0m\u001b[0;34m,\u001b[0m \u001b[0moptions\u001b[0m\u001b[0;34m=\u001b[0m\u001b[0moptions\u001b[0m\u001b[0;34m)\u001b[0m\u001b[0;34m\u001b[0m\u001b[0;34m\u001b[0m\u001b[0m\n\u001b[0m\u001b[1;32m     67\u001b[0m         \u001b[0;32mexcept\u001b[0m \u001b[0mException\u001b[0m\u001b[0;34m:\u001b[0m\u001b[0;34m\u001b[0m\u001b[0;34m\u001b[0m\u001b[0m\n\u001b[1;32m     68\u001b[0m             \u001b[0mself\u001b[0m\u001b[0;34m.\u001b[0m\u001b[0mquit\u001b[0m\u001b[0;34m(\u001b[0m\u001b[0;34m)\u001b[0m\u001b[0;34m\u001b[0m\u001b[0;34m\u001b[0m\u001b[0m\n",
            "\u001b[0;32m/usr/local/lib/python3.10/dist-packages/selenium/webdriver/remote/webdriver.py\u001b[0m in \u001b[0;36m__init__\u001b[0;34m(self, command_executor, keep_alive, file_detector, options, locator_converter, web_element_cls, client_config)\u001b[0m\n\u001b[1;32m    239\u001b[0m         \u001b[0mself\u001b[0m\u001b[0;34m.\u001b[0m\u001b[0m_authenticator_id\u001b[0m \u001b[0;34m=\u001b[0m \u001b[0;32mNone\u001b[0m\u001b[0;34m\u001b[0m\u001b[0;34m\u001b[0m\u001b[0m\n\u001b[1;32m    240\u001b[0m         \u001b[0mself\u001b[0m\u001b[0;34m.\u001b[0m\u001b[0mstart_client\u001b[0m\u001b[0;34m(\u001b[0m\u001b[0;34m)\u001b[0m\u001b[0;34m\u001b[0m\u001b[0;34m\u001b[0m\u001b[0m\n\u001b[0;32m--> 241\u001b[0;31m         \u001b[0mself\u001b[0m\u001b[0;34m.\u001b[0m\u001b[0mstart_session\u001b[0m\u001b[0;34m(\u001b[0m\u001b[0mcapabilities\u001b[0m\u001b[0;34m)\u001b[0m\u001b[0;34m\u001b[0m\u001b[0;34m\u001b[0m\u001b[0m\n\u001b[0m\u001b[1;32m    242\u001b[0m         \u001b[0mself\u001b[0m\u001b[0;34m.\u001b[0m\u001b[0m_fedcm\u001b[0m \u001b[0;34m=\u001b[0m \u001b[0mFedCM\u001b[0m\u001b[0;34m(\u001b[0m\u001b[0mself\u001b[0m\u001b[0;34m)\u001b[0m\u001b[0;34m\u001b[0m\u001b[0;34m\u001b[0m\u001b[0m\n\u001b[1;32m    243\u001b[0m \u001b[0;34m\u001b[0m\u001b[0m\n",
            "\u001b[0;32m/usr/local/lib/python3.10/dist-packages/selenium/webdriver/remote/webdriver.py\u001b[0m in \u001b[0;36mstart_session\u001b[0;34m(self, capabilities)\u001b[0m\n\u001b[1;32m    327\u001b[0m \u001b[0;34m\u001b[0m\u001b[0m\n\u001b[1;32m    328\u001b[0m         \u001b[0mcaps\u001b[0m \u001b[0;34m=\u001b[0m \u001b[0m_create_caps\u001b[0m\u001b[0;34m(\u001b[0m\u001b[0mcapabilities\u001b[0m\u001b[0;34m)\u001b[0m\u001b[0;34m\u001b[0m\u001b[0;34m\u001b[0m\u001b[0m\n\u001b[0;32m--> 329\u001b[0;31m         \u001b[0mresponse\u001b[0m \u001b[0;34m=\u001b[0m \u001b[0mself\u001b[0m\u001b[0;34m.\u001b[0m\u001b[0mexecute\u001b[0m\u001b[0;34m(\u001b[0m\u001b[0mCommand\u001b[0m\u001b[0;34m.\u001b[0m\u001b[0mNEW_SESSION\u001b[0m\u001b[0;34m,\u001b[0m \u001b[0mcaps\u001b[0m\u001b[0;34m)\u001b[0m\u001b[0;34m[\u001b[0m\u001b[0;34m\"value\"\u001b[0m\u001b[0;34m]\u001b[0m\u001b[0;34m\u001b[0m\u001b[0;34m\u001b[0m\u001b[0m\n\u001b[0m\u001b[1;32m    330\u001b[0m         \u001b[0mself\u001b[0m\u001b[0;34m.\u001b[0m\u001b[0msession_id\u001b[0m \u001b[0;34m=\u001b[0m \u001b[0mresponse\u001b[0m\u001b[0;34m.\u001b[0m\u001b[0mget\u001b[0m\u001b[0;34m(\u001b[0m\u001b[0;34m\"sessionId\"\u001b[0m\u001b[0;34m)\u001b[0m\u001b[0;34m\u001b[0m\u001b[0;34m\u001b[0m\u001b[0m\n\u001b[1;32m    331\u001b[0m         \u001b[0mself\u001b[0m\u001b[0;34m.\u001b[0m\u001b[0mcaps\u001b[0m \u001b[0;34m=\u001b[0m \u001b[0mresponse\u001b[0m\u001b[0;34m.\u001b[0m\u001b[0mget\u001b[0m\u001b[0;34m(\u001b[0m\u001b[0;34m\"capabilities\"\u001b[0m\u001b[0;34m)\u001b[0m\u001b[0;34m\u001b[0m\u001b[0;34m\u001b[0m\u001b[0m\n",
            "\u001b[0;32m/usr/local/lib/python3.10/dist-packages/selenium/webdriver/remote/webdriver.py\u001b[0m in \u001b[0;36mexecute\u001b[0;34m(self, driver_command, params)\u001b[0m\n\u001b[1;32m    382\u001b[0m         \u001b[0mresponse\u001b[0m \u001b[0;34m=\u001b[0m \u001b[0mself\u001b[0m\u001b[0;34m.\u001b[0m\u001b[0mcommand_executor\u001b[0m\u001b[0;34m.\u001b[0m\u001b[0mexecute\u001b[0m\u001b[0;34m(\u001b[0m\u001b[0mdriver_command\u001b[0m\u001b[0;34m,\u001b[0m \u001b[0mparams\u001b[0m\u001b[0;34m)\u001b[0m\u001b[0;34m\u001b[0m\u001b[0;34m\u001b[0m\u001b[0m\n\u001b[1;32m    383\u001b[0m         \u001b[0;32mif\u001b[0m \u001b[0mresponse\u001b[0m\u001b[0;34m:\u001b[0m\u001b[0;34m\u001b[0m\u001b[0;34m\u001b[0m\u001b[0m\n\u001b[0;32m--> 384\u001b[0;31m             \u001b[0mself\u001b[0m\u001b[0;34m.\u001b[0m\u001b[0merror_handler\u001b[0m\u001b[0;34m.\u001b[0m\u001b[0mcheck_response\u001b[0m\u001b[0;34m(\u001b[0m\u001b[0mresponse\u001b[0m\u001b[0;34m)\u001b[0m\u001b[0;34m\u001b[0m\u001b[0;34m\u001b[0m\u001b[0m\n\u001b[0m\u001b[1;32m    385\u001b[0m             \u001b[0mresponse\u001b[0m\u001b[0;34m[\u001b[0m\u001b[0;34m\"value\"\u001b[0m\u001b[0;34m]\u001b[0m \u001b[0;34m=\u001b[0m \u001b[0mself\u001b[0m\u001b[0;34m.\u001b[0m\u001b[0m_unwrap_value\u001b[0m\u001b[0;34m(\u001b[0m\u001b[0mresponse\u001b[0m\u001b[0;34m.\u001b[0m\u001b[0mget\u001b[0m\u001b[0;34m(\u001b[0m\u001b[0;34m\"value\"\u001b[0m\u001b[0;34m,\u001b[0m \u001b[0;32mNone\u001b[0m\u001b[0;34m)\u001b[0m\u001b[0;34m)\u001b[0m\u001b[0;34m\u001b[0m\u001b[0;34m\u001b[0m\u001b[0m\n\u001b[1;32m    386\u001b[0m             \u001b[0;32mreturn\u001b[0m \u001b[0mresponse\u001b[0m\u001b[0;34m\u001b[0m\u001b[0;34m\u001b[0m\u001b[0m\n",
            "\u001b[0;32m/usr/local/lib/python3.10/dist-packages/selenium/webdriver/remote/errorhandler.py\u001b[0m in \u001b[0;36mcheck_response\u001b[0;34m(self, response)\u001b[0m\n\u001b[1;32m    230\u001b[0m                 \u001b[0malert_text\u001b[0m \u001b[0;34m=\u001b[0m \u001b[0mvalue\u001b[0m\u001b[0;34m[\u001b[0m\u001b[0;34m\"alert\"\u001b[0m\u001b[0;34m]\u001b[0m\u001b[0;34m.\u001b[0m\u001b[0mget\u001b[0m\u001b[0;34m(\u001b[0m\u001b[0;34m\"text\"\u001b[0m\u001b[0;34m)\u001b[0m\u001b[0;34m\u001b[0m\u001b[0;34m\u001b[0m\u001b[0m\n\u001b[1;32m    231\u001b[0m             \u001b[0;32mraise\u001b[0m \u001b[0mexception_class\u001b[0m\u001b[0;34m(\u001b[0m\u001b[0mmessage\u001b[0m\u001b[0;34m,\u001b[0m \u001b[0mscreen\u001b[0m\u001b[0;34m,\u001b[0m \u001b[0mstacktrace\u001b[0m\u001b[0;34m,\u001b[0m \u001b[0malert_text\u001b[0m\u001b[0;34m)\u001b[0m  \u001b[0;31m# type: ignore[call-arg]  # mypy is not smart enough here\u001b[0m\u001b[0;34m\u001b[0m\u001b[0;34m\u001b[0m\u001b[0m\n\u001b[0;32m--> 232\u001b[0;31m         \u001b[0;32mraise\u001b[0m \u001b[0mexception_class\u001b[0m\u001b[0;34m(\u001b[0m\u001b[0mmessage\u001b[0m\u001b[0;34m,\u001b[0m \u001b[0mscreen\u001b[0m\u001b[0;34m,\u001b[0m \u001b[0mstacktrace\u001b[0m\u001b[0;34m)\u001b[0m\u001b[0;34m\u001b[0m\u001b[0;34m\u001b[0m\u001b[0m\n\u001b[0m",
            "\u001b[0;31mWebDriverException\u001b[0m: Message: unknown error: no chrome binary at /usr/bin/chromium-browser\nStacktrace:\n#0 0x5829bd81d7f9 <unknown>\n#1 0x5829bd7bd3b3 <unknown>\n#2 0x5829bd505016 <unknown>\n#3 0x5829bd525d6c <unknown>\n#4 0x5829bd52489a <unknown>\n#5 0x5829bd56200a <unknown>\n#6 0x5829bd55cc93 <unknown>\n#7 0x5829bd52ece4 <unknown>\n#8 0x5829bd5304d2 <unknown>\n#9 0x5829bd7e9542 <unknown>\n#10 0x5829bd7f8ce7 <unknown>\n#11 0x5829bd7f89e4 <unknown>\n#12 0x5829bd7fd13a <unknown>\n#13 0x5829bd7f95b9 <unknown>\n#14 0x5829bd7dee00 <unknown>\n#15 0x5829bd8105d2 <unknown>\n#16 0x5829bd810778 <unknown>\n#17 0x5829bd828a1f <unknown>\n#18 0x78aad4e3fac3 <unknown>\n#19 0x78aad4ed1850 <unknown>\n"
          ]
        }
      ]
    },
    {
      "cell_type": "code",
      "source": [
        "!pip install --upgrade webdriver-manager"
      ],
      "metadata": {
        "colab": {
          "base_uri": "https://localhost:8080/"
        },
        "id": "-_OkOWdhhcGj",
        "outputId": "d15c3bfe-47f5-4f17-9754-44aec0eeee2b"
      },
      "execution_count": null,
      "outputs": [
        {
          "output_type": "stream",
          "name": "stdout",
          "text": [
            "Requirement already satisfied: webdriver-manager in /usr/local/lib/python3.10/dist-packages (4.0.2)\n",
            "Requirement already satisfied: requests in /usr/local/lib/python3.10/dist-packages (from webdriver-manager) (2.32.3)\n",
            "Requirement already satisfied: python-dotenv in /usr/local/lib/python3.10/dist-packages (from webdriver-manager) (1.0.1)\n",
            "Requirement already satisfied: packaging in /usr/local/lib/python3.10/dist-packages (from webdriver-manager) (24.2)\n",
            "Requirement already satisfied: charset-normalizer<4,>=2 in /usr/local/lib/python3.10/dist-packages (from requests->webdriver-manager) (3.4.0)\n",
            "Requirement already satisfied: idna<4,>=2.5 in /usr/local/lib/python3.10/dist-packages (from requests->webdriver-manager) (3.10)\n",
            "Requirement already satisfied: urllib3<3,>=1.21.1 in /usr/local/lib/python3.10/dist-packages (from requests->webdriver-manager) (2.2.3)\n",
            "Requirement already satisfied: certifi>=2017.4.17 in /usr/local/lib/python3.10/dist-packages (from requests->webdriver-manager) (2024.12.14)\n"
          ]
        }
      ]
    },
    {
      "cell_type": "code",
      "source": [
        "from selenium import webdriver\n",
        "from selenium.webdriver.chrome.service import Service\n",
        "from selenium.webdriver.common.by import By\n",
        "from selenium.webdriver.chrome.options import Options\n",
        "# Import the ChromeDriverManager specifically for the compatible Chrome version\n",
        "from webdriver_manager.chrome import ChromeDriverManager\n",
        "# Import ChromeType from the correct location\n",
        "from webdriver_manager.core.utils import ChromeType\n",
        "\n",
        "\n",
        "# Configuración de Selenium\n",
        "chrome_options = Options()\n",
        "chrome_options.add_argument(\"--headless\")  # Ejecutar sin interfaz gráfica\n",
        "chrome_options.add_argument(\"--no-sandbox\")\n",
        "chrome_options.add_argument(\"--disable-dev-shm-usage\")\n",
        "#Add the binary location for chrome\n",
        "chrome_options.binary_location = \"/usr/bin/chromium-browser\"  # Ubicación de Chromium\n",
        "\n",
        "# Inicializar el navegador, specifying the ChromeType as GOOGLE\n",
        "# and installing the driver for the existing Chromium version (90)\n",
        "driver = webdriver.Chrome(service=Service(ChromeDriverManager(chrome_type=ChromeType.GOOGLE, version=\"90\").install()), options=chrome_options)\n",
        "\n",
        "\n",
        "# Listas para almacenar datos\n",
        "Nombres = []\n",
        "Link = []\n",
        "\n",
        "# URL que deseas procesar\n",
        "url = 'https://adn.gob.do/transparencia/leyes/#78-78-wpfd-top-p2'\n",
        "print(f\"Accediendo a: {url}\")\n",
        "\n",
        "try:\n",
        "    # Acceder a la página con Selenium\n",
        "    driver.get(url)\n",
        "\n",
        "    # Esperar unos segundos para que se cargue el contenido dinámico (si es necesario)\n",
        "    driver.implicitly_wait(5)\n",
        "\n",
        "    # Buscar el div con la clase \"wpfd_list\"\n",
        "    wpfd_info_div = driver.find_element(By.CLASS_NAME, 'wpfd_list')\n",
        "\n",
        "    # Encontrar los elementos <h3> y <a> dentro del div\n",
        "    h3_tags = wpfd_info_div.find_elements(By.TAG_NAME, 'h3')\n",
        "    a_tags = wpfd_info_div.find_elements(By.CLASS_NAME, 'wpfd_downloadlink')\n",
        "\n",
        "    # Procesar cada <h3> encontrado\n",
        "    for h3 in h3_tags:\n",
        "        # Obtener el texto del h3\n",
        "        text = h3.text.strip()\n",
        "\n",
        "        # Verificar si el texto ya está en la lista antes de agregarlo\n",
        "        if text not in Nombres:\n",
        "            Nombres.append(text)\n",
        "            print(f\"Nombre agregado: {text}\")\n",
        "\n",
        "    # Procesar cada enlace encontrado\n",
        "    for a in a_tags:\n",
        "        # Obtener el enlace\n",
        "        link_p = a.get_attribute('href')\n",
        "\n",
        "        # Verificar si el enlace ya está en la lista antes de agregarlo\n",
        "        if link_p not in Link:\n",
        "            Link.append(link_p)\n",
        "            print(f\"Enlace agregado: {link_p}\")\n",
        "except Exception as e:\n",
        "    print(f\"Error al procesar la página: {e}\")\n",
        "finally:\n",
        "    # Cerrar el navegador\n",
        "    driver.quit()\n",
        "\n",
        "# Imprimir los resultados finales\n",
        "print(\"Nombres:\", Nombres)\n",
        "print(\"Enlaces:\", Link)"
      ],
      "metadata": {
        "colab": {
          "base_uri": "https://localhost:8080/",
          "height": 401
        },
        "id": "hjjbnkJ3YFhq",
        "outputId": "ce387c68-a280-40d0-f903-7ed18ec33f6a"
      },
      "execution_count": null,
      "outputs": [
        {
          "output_type": "error",
          "ename": "ImportError",
          "evalue": "cannot import name 'ChromeType' from 'webdriver_manager.core.utils' (/usr/local/lib/python3.10/dist-packages/webdriver_manager/core/utils.py)",
          "traceback": [
            "\u001b[0;31m---------------------------------------------------------------------------\u001b[0m",
            "\u001b[0;31mImportError\u001b[0m                               Traceback (most recent call last)",
            "\u001b[0;32m<ipython-input-29-8e067a89f484>\u001b[0m in \u001b[0;36m<cell line: 8>\u001b[0;34m()\u001b[0m\n\u001b[1;32m      6\u001b[0m \u001b[0;32mfrom\u001b[0m \u001b[0mwebdriver_manager\u001b[0m\u001b[0;34m.\u001b[0m\u001b[0mchrome\u001b[0m \u001b[0;32mimport\u001b[0m \u001b[0mChromeDriverManager\u001b[0m\u001b[0;34m\u001b[0m\u001b[0;34m\u001b[0m\u001b[0m\n\u001b[1;32m      7\u001b[0m \u001b[0;31m# Import ChromeType from the correct location\u001b[0m\u001b[0;34m\u001b[0m\u001b[0;34m\u001b[0m\u001b[0m\n\u001b[0;32m----> 8\u001b[0;31m \u001b[0;32mfrom\u001b[0m \u001b[0mwebdriver_manager\u001b[0m\u001b[0;34m.\u001b[0m\u001b[0mcore\u001b[0m\u001b[0;34m.\u001b[0m\u001b[0mutils\u001b[0m \u001b[0;32mimport\u001b[0m \u001b[0mChromeType\u001b[0m\u001b[0;34m\u001b[0m\u001b[0;34m\u001b[0m\u001b[0m\n\u001b[0m\u001b[1;32m      9\u001b[0m \u001b[0;34m\u001b[0m\u001b[0m\n\u001b[1;32m     10\u001b[0m \u001b[0;34m\u001b[0m\u001b[0m\n",
            "\u001b[0;31mImportError\u001b[0m: cannot import name 'ChromeType' from 'webdriver_manager.core.utils' (/usr/local/lib/python3.10/dist-packages/webdriver_manager/core/utils.py)",
            "",
            "\u001b[0;31m---------------------------------------------------------------------------\u001b[0;32m\nNOTE: If your import is failing due to a missing package, you can\nmanually install dependencies using either !pip or !apt.\n\nTo view examples of installing some common dependencies, click the\n\"Open Examples\" button below.\n\u001b[0;31m---------------------------------------------------------------------------\u001b[0m\n"
          ],
          "errorDetails": {
            "actions": [
              {
                "action": "open_url",
                "actionText": "Open Examples",
                "url": "/notebooks/snippets/importing_libraries.ipynb"
              }
            ]
          }
        }
      ]
    }
  ]
}
