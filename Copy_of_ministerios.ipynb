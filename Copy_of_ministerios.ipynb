{
  "nbformat": 4,
  "nbformat_minor": 0,
  "metadata": {
    "colab": {
      "provenance": [],
      "authorship_tag": "ABX9TyPuYfNOdaG1jX/9CUKFPDuE",
      "include_colab_link": true
    },
    "kernelspec": {
      "name": "python3",
      "display_name": "Python 3"
    },
    "language_info": {
      "name": "python"
    }
  },
  "cells": [
    {
      "cell_type": "markdown",
      "metadata": {
        "id": "view-in-github",
        "colab_type": "text"
      },
      "source": [
        "<a href=\"https://colab.research.google.com/github/dframbaut/web-scrapping-deepear/blob/main/Copy_of_ministerios.ipynb\" target=\"_parent\"><img src=\"https://colab.research.google.com/assets/colab-badge.svg\" alt=\"Open In Colab\"/></a>"
      ]
    },
    {
      "cell_type": "code",
      "source": [
        "!pip install PyPDF2"
      ],
      "metadata": {
        "colab": {
          "base_uri": "https://localhost:8080/"
        },
        "id": "qN0PNSOjdGh5",
        "outputId": "8bffb3e7-526e-4827-edcb-9f2bb6c0671b"
      },
      "execution_count": null,
      "outputs": [
        {
          "output_type": "stream",
          "name": "stdout",
          "text": [
            "Collecting PyPDF2\n",
            "  Downloading pypdf2-3.0.1-py3-none-any.whl.metadata (6.8 kB)\n",
            "Downloading pypdf2-3.0.1-py3-none-any.whl (232 kB)\n",
            "\u001b[?25l   \u001b[90m━━━━━━━━━━━━━━━━━━━━━━━━━━━━━━━━━━━━━━━━\u001b[0m \u001b[32m0.0/232.6 kB\u001b[0m \u001b[31m?\u001b[0m eta \u001b[36m-:--:--\u001b[0m\r\u001b[2K   \u001b[91m━━━━━━━━━━━━━━━━━━━━━━━━━━\u001b[0m\u001b[90m╺\u001b[0m\u001b[90m━━━━━━━━━━━━━\u001b[0m \u001b[32m153.6/232.6 kB\u001b[0m \u001b[31m4.3 MB/s\u001b[0m eta \u001b[36m0:00:01\u001b[0m\r\u001b[2K   \u001b[90m━━━━━━━━━━━━━━━━━━━━━━━━━━━━━━━━━━━━━━━━\u001b[0m \u001b[32m232.6/232.6 kB\u001b[0m \u001b[31m4.7 MB/s\u001b[0m eta \u001b[36m0:00:00\u001b[0m\n",
            "\u001b[?25hInstalling collected packages: PyPDF2\n",
            "Successfully installed PyPDF2-3.0.1\n"
          ]
        }
      ]
    },
    {
      "cell_type": "code",
      "source": [
        "!pip install tabula-py\n"
      ],
      "metadata": {
        "colab": {
          "base_uri": "https://localhost:8080/"
        },
        "id": "pq47eE-JfC2E",
        "outputId": "9d782588-aaa6-4546-8efc-bc843edf29b2"
      },
      "execution_count": null,
      "outputs": [
        {
          "output_type": "stream",
          "name": "stdout",
          "text": [
            "Collecting tabula-py\n",
            "  Downloading tabula_py-2.10.0-py3-none-any.whl.metadata (7.6 kB)\n",
            "Requirement already satisfied: pandas>=0.25.3 in /usr/local/lib/python3.10/dist-packages (from tabula-py) (2.2.2)\n",
            "Requirement already satisfied: numpy>1.24.4 in /usr/local/lib/python3.10/dist-packages (from tabula-py) (1.26.4)\n",
            "Requirement already satisfied: distro in /usr/local/lib/python3.10/dist-packages (from tabula-py) (1.9.0)\n",
            "Requirement already satisfied: python-dateutil>=2.8.2 in /usr/local/lib/python3.10/dist-packages (from pandas>=0.25.3->tabula-py) (2.8.2)\n",
            "Requirement already satisfied: pytz>=2020.1 in /usr/local/lib/python3.10/dist-packages (from pandas>=0.25.3->tabula-py) (2024.2)\n",
            "Requirement already satisfied: tzdata>=2022.7 in /usr/local/lib/python3.10/dist-packages (from pandas>=0.25.3->tabula-py) (2024.2)\n",
            "Requirement already satisfied: six>=1.5 in /usr/local/lib/python3.10/dist-packages (from python-dateutil>=2.8.2->pandas>=0.25.3->tabula-py) (1.17.0)\n",
            "Downloading tabula_py-2.10.0-py3-none-any.whl (12.0 MB)\n",
            "\u001b[2K   \u001b[90m━━━━━━━━━━━━━━━━━━━━━━━━━━━━━━━━━━━━━━━━\u001b[0m \u001b[32m12.0/12.0 MB\u001b[0m \u001b[31m53.4 MB/s\u001b[0m eta \u001b[36m0:00:00\u001b[0m\n",
            "\u001b[?25hInstalling collected packages: tabula-py\n",
            "Successfully installed tabula-py-2.10.0\n"
          ]
        }
      ]
    },
    {
      "cell_type": "code",
      "source": [
        "lista_de_tablas=[]"
      ],
      "metadata": {
        "id": "8mhcX0bjJOKD"
      },
      "execution_count": null,
      "outputs": []
    },
    {
      "cell_type": "markdown",
      "source": [
        "**Ministerio de agricultura y desarrollo rural**"
      ],
      "metadata": {
        "id": "L_JEioIijAAj"
      }
    },
    {
      "cell_type": "code",
      "source": [
        "import requests\n",
        "\n",
        "# URL del PDF\n",
        "url = \"https://www.minagricultura.gov.co/Normatividad/Proyectos%20Normativos/Documento_de_consulta-bfaf1cce1.pdf\"\n",
        "nombre_archivo = \"Agenda_Firma_consulta_publica_min_agricultura.pdf\"\n",
        "\n",
        "# Descargar el archivo\n",
        "response = requests.get(url)\n",
        "with open(nombre_archivo, \"wb\") as archivo:\n",
        "    archivo.write(response.content)\n",
        "\n",
        "print(f\"Archivo descargado como {nombre_archivo}\")"
      ],
      "metadata": {
        "colab": {
          "base_uri": "https://localhost:8080/"
        },
        "id": "GoBq9oLEjfs3",
        "outputId": "e9fa3636-6612-48af-a516-992ce38bb6b5"
      },
      "execution_count": null,
      "outputs": [
        {
          "output_type": "stream",
          "name": "stdout",
          "text": [
            "Archivo descargado como Agenda_Firma_consulta_publica_min_agricultura.pdf\n"
          ]
        }
      ]
    },
    {
      "cell_type": "markdown",
      "source": [
        "Pagina 1"
      ],
      "metadata": {
        "id": "DW02vEbYuON0"
      }
    },
    {
      "cell_type": "code",
      "source": [
        "from tabula import read_pdf\n",
        "import pandas as pd\n",
        "\n",
        "# Ruta del PDF\n",
        "ruta_pdf = \"Agenda_Firma_consulta_publica_min_agricultura.pdf\" #https://www.minagricultura.gov.co/Normatividad/Proyectos%20Normativos/Documento_de_consulta-bfaf1cce1.pdf\n",
        "\n",
        "# Extraer la tabla específica (ajusta la página según corresponda)\n",
        "tablas = read_pdf(\n",
        "    ruta_pdf,\n",
        "    pages=1,  # Cambia el número de la página donde está la tabla\n",
        "    lattice=True,  # Usa 'lattice' si la tabla tiene bordes claros\n",
        "    pandas_options={\"header\": None},  # Indica que no hay encabezado\n",
        ")\n",
        "\n",
        "# Asumimos que es la primera tabla extraída\n",
        "tabla1_1 = tablas[1]\n",
        "\n",
        "# Eliminar la fila del encabezado si está presente\n",
        "tabla1_1 = tabla1_1.iloc[1:]\n",
        "\n",
        "# Reemplazar \\r por espacios en blanco\n",
        "tabla1_1 = tabla1_1.replace('\\r', ' ', regex=True)\n",
        "\n",
        "tabla1_1['sector'] = 'Agroindustria'\n",
        "\n",
        "# Convertir el DataFrame en una estructura funcional\n",
        "tabla1_1 = tabla1_1.reset_index(drop=True)  # Reiniciar el índice para ordenarlo correctamente\n",
        "\n",
        "#Anadir a la lista\n",
        "lista_de_tablas.append(tabla1_1)\n",
        "\n",
        "# Mostrar la tabla\n",
        "print(tabla1_1.head())\n"
      ],
      "metadata": {
        "colab": {
          "base_uri": "https://localhost:8080/"
        },
        "id": "JgWoXKeKjTpY",
        "outputId": "7e6152bf-81ee-43bf-d669-9e64829a5ec5"
      },
      "execution_count": null,
      "outputs": [
        {
          "output_type": "stream",
          "name": "stderr",
          "text": [
            "WARNING:tabula.backend:Failed to import jpype dependencies. Fallback to subprocess.\n",
            "WARNING:tabula.backend:No module named 'jpype'\n",
            "WARNING:tabula.backend:Got stderr: Dec 20, 2024 7:37:54 PM org.apache.pdfbox.pdmodel.font.FileSystemFontProvider loadDiskCache\n",
            "WARNING: New fonts found, font cache will be re-built\n",
            "Dec 20, 2024 7:37:54 PM org.apache.pdfbox.pdmodel.font.FileSystemFontProvider <init>\n",
            "WARNING: Building on-disk font cache, this may take a while\n",
            "Dec 20, 2024 7:37:54 PM org.apache.pdfbox.pdmodel.font.FileSystemFontProvider <init>\n",
            "WARNING: Finished building on-disk font cache, found 17 fonts\n",
            "\n"
          ]
        },
        {
          "output_type": "stream",
          "name": "stdout",
          "text": [
            "                                                   0  \\\n",
            "0  Por el cual se modifica la estructurainterna d...   \n",
            "1  Por el cual se modifica la Planta de Personal ...   \n",
            "2  Pormediodelcualsemodificaelartículo 2.16.3.4.5...   \n",
            "3  Porelcualsereglamentaelartículo359dela Ley 229...   \n",
            "4  Por el cual se modifican los artículos 2.14.20...   \n",
            "\n",
            "                                                   1  \\\n",
            "0                            SecretariaGeneral AUNAP   \n",
            "1                            SecretariaGeneral AUNAP   \n",
            "2     DirecciónTécnicade InspecciónyVigilancia AUNAP   \n",
            "3  Direcciónde OrdenamientoSocialde la Propiedad ...   \n",
            "4  Direcciónde OrdenamientoSocialde la Propiedad ...   \n",
            "\n",
            "                           2  \\\n",
            "0     Tania Marcela Peñafiel   \n",
            "1     Tania Marcela Peñafiel   \n",
            "2  Ronal Jose Fortich Rodelo   \n",
            "3  José Luis Quiroga Pacheco   \n",
            "4  José Luis Quiroga Pacheco   \n",
            "\n",
            "                                                   3  \\\n",
            "0                                 Secretaria General   \n",
            "1                                 Secretaria General   \n",
            "2        Director Técnico de Inspección y Vigilancia   \n",
            "3  Director de Ordenamiento Social de la Propieda...   \n",
            "4  Director de Ordenamiento Social de la Propieda...   \n",
            "\n",
            "                                                   4  \\\n",
            "0    Departamento Administrativodela Función Pública   \n",
            "1    Departamento Administrativodela Función Pública   \n",
            "2             AutoridadNacional deAcuiculturay Pesca   \n",
            "3  Ministeriode Agricultura,Agencia de Desarrollo...   \n",
            "4                      Ministeriode Agricultura, ANT   \n",
            "\n",
            "                                              5  \\\n",
            "0  Ministerio de Agricultura y Desarrollo Rural   \n",
            "1  Ministerio de Agricultura y Desarrollo Rural   \n",
            "2  Ministerio de Agricultura y Desarrollo Rural   \n",
            "3            MADR,AUNAP,ANT, AGROSAVIA,ADR,UPRA   \n",
            "4                            MADR, MIN INTERIOR   \n",
            "\n",
            "                                                   6  \\\n",
            "0  Numeral 16 del artículo 189 de la Constitución...   \n",
            "1  Numeral 16 del artículo 189 de la Constitución...   \n",
            "2  Numeral 11 del artículo 189 de la Constitución...   \n",
            "3    Artículo189dela ConstituciónPolíticade Colombia   \n",
            "4    Artículo189dela ConstituciónPolíticade Colombia   \n",
            "\n",
            "                                                   7  \\\n",
            "0  Modifica estructura de la Autoridad Nacional d...   \n",
            "1  ModificalaPlantadePersonaldelaAutoridadNaciona...   \n",
            "2  Modificala diposicióninmediata de los producto...   \n",
            "3  Regalementar las disposiciones contenidas en e...   \n",
            "4  CompromisosIT1-14,eIT1-15,queconsisten,enla mo...   \n",
            "\n",
            "                                 8         9                 10  11  12  13  \\\n",
            "0            DecretoLey4181de 2011   Decreto  Iniciativa propia  No  No  No   \n",
            "1            DecretoLey4181de 2011   Decreto  Iniciativa propia  No  No  No   \n",
            "2             Decreto 1071 de 2015   Decreto  Iniciativa propia  No  No  No   \n",
            "3  Artículo359delaley 2294 de 2023   Decreto                Ley  Si  No  si   \n",
            "4  Artículo356delaley 2294 de 2023  Decretos                Ley  Si  No  si   \n",
            "\n",
            "   14                                                 15  \\\n",
            "0  No                                                N/A   \n",
            "1  No                                                N/A   \n",
            "2  No                                                N/A   \n",
            "3  No                                                N/A   \n",
            "4  Si  CompromisosIT1-14,e IT1-15delPND (Indígenas)mo...   \n",
            "\n",
            "                           16         sector  \n",
            "0  SUJETOA CRONOGRAMA INTERNO  Agroindustria  \n",
            "1  SUJETOA CRONOGRAMA INTERNO  Agroindustria  \n",
            "2  SUJETOA CRONOGRAMA INTERNO  Agroindustria  \n",
            "3  SUJETOA CRONOGRAMA INTERNO  Agroindustria  \n",
            "4                  15/01/2024  Agroindustria  \n"
          ]
        }
      ]
    },
    {
      "cell_type": "markdown",
      "source": [
        "Pagina 2"
      ],
      "metadata": {
        "id": "brTsXXnYuKeh"
      }
    },
    {
      "cell_type": "code",
      "source": [
        "from tabula import read_pdf\n",
        "import pandas as pd\n",
        "\n",
        "# Ruta del PDF\n",
        "ruta_pdf = \"Agenda_Firma_consulta_publica_min_agricultura.pdf\" #https://www.minagricultura.gov.co/Normatividad/Proyectos%20Normativos/Documento_de_consulta-bfaf1cce1.pdf\n",
        "\n",
        "# Extraer la tabla\n",
        "tablas = read_pdf(\n",
        "    ruta_pdf,\n",
        "    pages=2,\n",
        "    lattice=True,\n",
        "    pandas_options={\"header\": None},  # Indica que no hay encabezado\n",
        ")\n",
        "\n",
        "# Asumimos que es la primera tabla extraída\n",
        "tabla2_2 = tablas[0]\n",
        "\n",
        "# Eliminar la fila del encabezado si está presente\n",
        "tabla2_2 = tabla2_2.iloc[0:]\n",
        "\n",
        "# Reemplazar \\r por espacios en blanco\n",
        "tabla2_2 = tabla2_2.replace('\\r', ' ', regex=True)\n",
        "\n",
        "# Convertir el DataFrame en una estructura funcional\n",
        "tabla2_2 = tabla2_2.reset_index(drop=True)  # Reiniciar el índice para ordenarlo correctamente\n",
        "\n",
        "tabla2_2['sector'] = 'Agroindustria'\n",
        "\n",
        "\n",
        "#Anadir a la lista\n",
        "lista_de_tablas.append(tabla2_2)\n",
        "\n",
        "# Mostrar la tabla\n",
        "print(tabla2_2.head())"
      ],
      "metadata": {
        "colab": {
          "base_uri": "https://localhost:8080/"
        },
        "id": "hNsvvMPXkgQD",
        "outputId": "652285e5-9f6c-4e73-fbbf-649b91920675"
      },
      "execution_count": null,
      "outputs": [
        {
          "output_type": "stream",
          "name": "stdout",
          "text": [
            "                                                   0  \\\n",
            "0  PormediodelcualseadicionalaParte26al Libro 2 d...   \n",
            "1  Decreto \"Por el cual se adiciona el Título 25 ...   \n",
            "2  relacionado con el Programa Especial de Acceso...   \n",
            "3                                                NaN   \n",
            "4                                                NaN   \n",
            "\n",
            "                                            1                         2  \\\n",
            "0                                         DAE          Astolfo Aramburo   \n",
            "1                                         DAE          Astolfo Aramburo   \n",
            "2                                         DAE          Astolfo Aramburo   \n",
            "3  GrupodeGestiónde Registro y Etapa Judicial  Paula Andrea Villa Vélez   \n",
            "4                          Secretaría General   Jaqueline Campos Rincón   \n",
            "\n",
            "                                   3  \\\n",
            "0        Director de Asuntos Étnicos   \n",
            "1        Director de Asuntos Étnicos   \n",
            "2        Director de Asuntos Étnicos   \n",
            "3  Directora Jurídica de Restitución   \n",
            "4                 Secretaria General   \n",
            "\n",
            "                                                   4  \\\n",
            "0                           MinHacienda - MADR - ANT   \n",
            "1                                           MADR-ANT   \n",
            "2                              MinJusticia-MADR- ANT   \n",
            "3  Ministeriode Agriculturay Desarrollo Rural Age...   \n",
            "4  Ministeriode Agriculturay Desarrollo Rural Dep...   \n",
            "\n",
            "                                              5  \\\n",
            "0                            MinHacienda - MADR   \n",
            "1                                      MADR-ANT   \n",
            "2                              MinJusticia-MADR   \n",
            "3  Ministerio de Agricultura y Desarrollo Rural   \n",
            "4  Ministerio de Agricultura y Desarrollo Rural   \n",
            "\n",
            "                                                   6  \\\n",
            "0                 ConstituciónPolítica, artículo 189   \n",
            "1                 ConstituciónPolítica, artículo 189   \n",
            "2                 ConstituciónPolítica, artículo 189   \n",
            "3  Numeral 11 del artículo 189 delaConstituciónPo...   \n",
            "4  Numeral 14 del artículo 189 de la Constitución...   \n",
            "\n",
            "                                                   7  \\\n",
            "0  Esteesuninstrumentonormativoqueencabeza MinHac...   \n",
            "1  Esteproyectofueobjetodeconsultay protocolizado...   \n",
            "2  6.2. del Acuerdo Final para la terminación del...   \n",
            "3  pErsiotarbizlaecieórn uantep rdoigchr am carte...   \n",
            "4  Modificarlaestructuraydefinicióndefuncionespar...   \n",
            "\n",
            "                                                   8        9  \\\n",
            "0                                                PND  Decreto   \n",
            "1                 Decreto-Ley902de 2017, artículo 17  Decreto   \n",
            "2                               Decreto 1069 de 2015  Decreto   \n",
            "3  Se adiciona el capítulo 10altítulo6dela parte ...  Decreto   \n",
            "4               Modificacióndel Decreto 4801 de 2011  Decreto   \n",
            "\n",
            "                  10  11  12  13  14   15          16         sector  \n",
            "0                NaN  No  No  No  No  NaN         NaN  Agroindustria  \n",
            "1                NaN  No  No  SI  No  NaN         NaN  Agroindustria  \n",
            "2                NaN  No  No  No  No  NaN         NaN  Agroindustria  \n",
            "3  Iniciativa propia  No  No  No  No  NaN  12/06/2024  Agroindustria  \n",
            "4  Iniciativa propia  No  No  No  No  NaN         NaN  Agroindustria  \n"
          ]
        }
      ]
    },
    {
      "cell_type": "markdown",
      "source": [
        "Pagina 3"
      ],
      "metadata": {
        "id": "oa2bb_aEuWTr"
      }
    },
    {
      "cell_type": "code",
      "source": [
        "from tabula import read_pdf\n",
        "import pandas as pd\n",
        "\n",
        "# Ruta del PDF\n",
        "ruta_pdf = \"Agenda_Firma_consulta_publica_min_agricultura.pdf\" #https://www.minagricultura.gov.co/Normatividad/Proyectos%20Normativos/Documento_de_consulta-bfaf1cce1.pdf\n",
        "\n",
        "# Extraer la tabla\n",
        "tablas = read_pdf(\n",
        "    ruta_pdf,\n",
        "    pages=3,\n",
        "    lattice=True,\n",
        "    pandas_options={\"header\": None},  # Indica que no hay encabezado\n",
        ")\n",
        "\n",
        "# Asumimos que es la primera tabla extraída\n",
        "tabla2_3 = tablas[0]\n",
        "\n",
        "# Eliminar la fila del encabezado si está presente\n",
        "tabla2_3 = tabla2_3.iloc[0:]\n",
        "\n",
        "# Reemplazar \\r por espacios en blanco\n",
        "tabla2_3= tabla2_3.replace('\\r', ' ', regex=True)\n",
        "\n",
        "tabla2_3['sector'] = 'Agroindustria'\n",
        "\n",
        "\n",
        "\n",
        "tabla2_3 = tabla2_3.reset_index(drop=True)  # Reiniciar el índice para ordenarlo correctamente\n",
        "\n",
        "\n",
        "lista_de_tablas.append(tabla2_3)\n",
        "\n",
        "# Mostrar la tabla\n",
        "print(tabla2_3.head())"
      ],
      "metadata": {
        "colab": {
          "base_uri": "https://localhost:8080/"
        },
        "id": "CSmEYpX2s4O_",
        "outputId": "ab51ec3c-88cb-4d08-bcd3-24d87d27b645"
      },
      "execution_count": null,
      "outputs": [
        {
          "output_type": "stream",
          "name": "stdout",
          "text": [
            "                                                   0  \\\n",
            "0  Porelcualseregulan:elartículo5osobrela titular...   \n",
            "1  Por el cual se reglamenta el Artículo 4o de la...   \n",
            "2  Por medio del cualse reglamentanlos Artículos ...   \n",
            "3  Por el cual se reglamenta el Artículo 60 de la...   \n",
            "4  Porelcualsereglamentanlasoperacionesde maquila...   \n",
            "\n",
            "                                                 1  \\\n",
            "0  DIRECCIONDE CADENAS AGRÍCOLAS Y FORESTALES MADR   \n",
            "1  DIRECCIONDE CADENAS AGRÍCOLAS Y FORESTALES MADR   \n",
            "2  DIRECCIONDE CADENAS AGRÍCOLAS Y FORESTALES MADR   \n",
            "3  DIRECCIONDE CADENAS AGRÍCOLAS Y FORESTALES MADR   \n",
            "4  DIRECCIONDE CADENAS AGRÍCOLAS Y FORESTALES MADR   \n",
            "\n",
            "                                    2  \\\n",
            "0                         Ruth Ibarra   \n",
            "1  Daniel Aguillón / Martha Castañeda   \n",
            "2                         Ruth Ibarra   \n",
            "3  Daniel Aguillón / Martha Castañeda   \n",
            "4     Daniel Aguillón / Eudoro Castro   \n",
            "\n",
            "                                                   3  \\\n",
            "0                           Coordinadora Ciclo Corto   \n",
            "1  Coordinador cultivos de ciclo largo / Secretar...   \n",
            "2                           Coordinadora Ciclo Corto   \n",
            "3  Coordinador cultivos de ciclo largo / Secretar...   \n",
            "4  Coordinador de cultivos de ciclo largo / Secre...   \n",
            "\n",
            "                                        4  \\\n",
            "0  MADR,Ministeriode Justiciaydel Derecho   \n",
            "1                                    MADR   \n",
            "2                                    MADR   \n",
            "3                           MADR, Finagro   \n",
            "4                                    MADR   \n",
            "\n",
            "                                          5                               6  \\\n",
            "0  MADR,Ministeriode Justicia y del Derecho  Artículo208C.P.,Ley498 de 1998   \n",
            "1                                      MADR  Artículo208C.P.,Ley498 de 1998   \n",
            "2                                      MADR  Artículo208C.P.,Ley498 de 1998   \n",
            "3                                      MADR  Artículo208C.P.,Ley498 de 1998   \n",
            "4                                      MADR  Artículo208C.P.,Ley498 de 1998   \n",
            "\n",
            "                                                   7  \\\n",
            "0  Autorización para actividades relacionadas con...   \n",
            "1       Registro de guaduales bamsusales Categoría 3   \n",
            "2  ReactivacióndelFondodeFomentoFiquero,polìticad...   \n",
            "3  Condiciones para el otorgamento del Certificad...   \n",
            "4  Operacionesdemaquilasujetasacuotadeestabilizac...   \n",
            "\n",
            "                                                   8                       9  \\\n",
            "0                                   Ley 2204 de 2022  Decreto Reglamentari o   \n",
            "1                                   Ley 2206 de 2022  Decreto Reglamentari o   \n",
            "2                                   Ley 2311 de 2023  Decreto Reglamentari o   \n",
            "3                                   Ley 2294 de 2003  Decreto Reglamentari o   \n",
            "4  Decreto 1071 de 2015 compilatorio(Decreto 2354...  Decreto Reglamentari o   \n",
            "\n",
            "     10  11                                                 12  13         14  \\\n",
            "0  MADR  No                                                 Si  Si         No   \n",
            "1  MADR  No                                                 Si  Si         No   \n",
            "2  MADR  No  Sienla medidaen quereactiva elfondode fomentoq...  No  Modificar   \n",
            "3  MADR  No                                                 No  Si  Adicionar   \n",
            "4  MADR  No  Sienla medidaque generaun costode cuota parafi...  Si  Adicionar   \n",
            "\n",
            "                                                  15  \\\n",
            "0                                                N/A   \n",
            "1                                                N/A   \n",
            "2   Decreto3107de1985, adicionaeldecreto1071 de 2015   \n",
            "3                               Decreto 1824 de 1994   \n",
            "4  Decreto2354de1996, modificado por el Decreto 1...   \n",
            "\n",
            "                           16         sector  \n",
            "0  SUJETOA CRONOGRAMA INTERNO  Agroindustria  \n",
            "1  SUJETOA CRONOGRAMA INTERNO  Agroindustria  \n",
            "2  SUJETOA CRONOGRAMA INTERNO  Agroindustria  \n",
            "3  SUJETOA CRONOGRAMA INTERNO  Agroindustria  \n",
            "4  SUJETOA CRONOGRAMA INTERNO  Agroindustria  \n"
          ]
        }
      ]
    },
    {
      "cell_type": "markdown",
      "source": [
        "Pagina 4"
      ],
      "metadata": {
        "id": "pb1vMuL1uHIV"
      }
    },
    {
      "cell_type": "code",
      "source": [
        "from tabula import read_pdf\n",
        "import pandas as pd\n",
        "\n",
        "# Ruta del PDF\n",
        "ruta_pdf = \"Agenda_Firma_consulta_publica_min_agricultura.pdf\" #https://www.minagricultura.gov.co/Normatividad/Proyectos%20Normativos/Documento_de_consulta-bfaf1cce1.pdf\n",
        "\n",
        "# Extraer la tabla específica\n",
        "tablas = read_pdf(\n",
        "    ruta_pdf,\n",
        "    pages=4,\n",
        "    lattice=True,\n",
        "    pandas_options={\"header\": None},  #no hay encabezado\n",
        ")\n",
        "\n",
        "# Unica tabla\n",
        "tabla2_4 = tablas[0]\n",
        "\n",
        "# Eliminar la fila del encabezado (por si acaso)\n",
        "tabla2_4 = tabla2_4.iloc[0:]\n",
        "\n",
        "# Reemplazar \\r por espacios en blanco\n",
        "tabla2_4= tabla2_4.replace('\\r', ' ', regex=True)\n",
        "\n",
        "tabla2_4['sector'] = 'Agroindustria'\n",
        "\n",
        "# Convertir el DataFrame en una estructura funcional\n",
        "tabla2_4 = tabla2_4.reset_index(drop=True)  # Reiniciar el índice para ordenarlo correctamente\n",
        "\n",
        "#Anadir a la lista\n",
        "lista_de_tablas.append(tabla2_4)\n",
        "\n",
        "# Mostrar la tabla\n",
        "print(tabla2_4.head())"
      ],
      "metadata": {
        "colab": {
          "base_uri": "https://localhost:8080/"
        },
        "id": "Rky8JC0Btjig",
        "outputId": "e6871c35-7eb8-47c4-d0e8-ad06021fa5e8"
      },
      "execution_count": null,
      "outputs": [
        {
          "output_type": "stream",
          "name": "stdout",
          "text": [
            "                                                   0  \\\n",
            "0  Por el cual se modifican losArticulos 2.10.1.1...   \n",
            "1  Pormediodelcualsemodificayadicionael Capítulo ...   \n",
            "2  \"Por el cual se sustituye el Título 4 de la Pa...   \n",
            "\n",
            "                                                   1  \\\n",
            "0  DIRECCIÓNDE CADENASPECUARIAS PESQUERASY ACUÍCOLAS   \n",
            "1  DIRECCIÓNDE CADENASPECUARIAS PESQUERASY ACUÍCOLAS   \n",
            "2  DIRECCIÓNDE CADENASPECUARIAS PESQUERASY ACUÍCOLAS   \n",
            "\n",
            "                                                   2  \\\n",
            "0  GERMAN RODRIGUEZ / LILIANA BARBOSA/ DIEGO SALA...   \n",
            "1                                       SANDRA MUÑOZ   \n",
            "2                     GERMAN RODRIGUEZ / NESTOR DAZA   \n",
            "\n",
            "                                                   3  \\\n",
            "0  Coordinador Pecuario / Profesional Especializa...   \n",
            "1             Coordinadora Grupo pesquero y acuícola   \n",
            "2   Coordinador Pecuario / Profesional Especializado   \n",
            "\n",
            "                                                   4  \\\n",
            "0         Ministeriode Agriculturay Desarrollo Rural   \n",
            "1  Ministeriode Agriculturay DesarrolloRural, Aut...   \n",
            "2         Ministeriode Agriculturay Desarrollo Rural   \n",
            "\n",
            "                                              5  \\\n",
            "0  Ministerio de Agricultura y Desarrollo Rural   \n",
            "1  Ministerio de Agricultura y Desarrollo Rural   \n",
            "2  Ministerio de Agricultura y Desarrollo Rural   \n",
            "\n",
            "                                                   6  \\\n",
            "0  Numeral 11 del artículo 189 de la Constitución...   \n",
            "1  numeral11 del artículo 189 delaConstituciónPol...   \n",
            "2  Numeral 11 del artículo 189 de la Constitución...   \n",
            "\n",
            "                                                   7  \\\n",
            "0  Conformidaddedeudas-constituciontitulosejecuti...   \n",
            "1  •Ampliar el alcance del Comité Ejecutivo para ...   \n",
            "2  Conformaciónyeleccionmiembrosorganosdirectivos...   \n",
            "\n",
            "                                                   8        9  \\\n",
            "0  Articulo2.10.1.1.4 paragrafos1°y2°, Articulo2....  Decreto   \n",
            "1  Capítulo 2 de la Parte s16delLibro2del Decreto...  Decreto   \n",
            "2  Título 4 de la Parte 10 del Libro 2 del Decret...  Decreto   \n",
            "\n",
            "                  10  11  12  13  14   15                          16  \\\n",
            "0  Iniciativa propia  NO  NO  NO  NO  N/A  SUJETOA CRONOGRAMA INTERNO   \n",
            "1  Iniciativa propia  NO  NO  NO  NO  N/A  SUJETOA CRONOGRAMA INTERNO   \n",
            "2  Iniciativa propia  NO  NO  NO  NO  N/A  SUJETOA CRONOGRAMA INTERNO   \n",
            "\n",
            "          sector  \n",
            "0  Agroindustria  \n",
            "1  Agroindustria  \n",
            "2  Agroindustria  \n"
          ]
        }
      ]
    },
    {
      "cell_type": "markdown",
      "source": [
        "Excel Ministerio de Comercio, Turismo y Cultura"
      ],
      "metadata": {
        "id": "reErxuvIxrJh"
      }
    },
    {
      "cell_type": "code",
      "source": [
        "from google.colab import files\n",
        "import pandas as pd\n",
        "\n",
        "archivo_subido = files.upload()\n",
        "\n",
        "# Leer el archivo Excel\n",
        "nombre_archivo = list(archivo_subido.keys())[0]  # Obtiene el nombre del archivo subido\n",
        "df = pd.read_excel(nombre_archivo)\n",
        "\n",
        "# Mostrar las primeras filas del dataframe\n",
        "print(df.head())\n"
      ],
      "metadata": {
        "colab": {
          "base_uri": "https://localhost:8080/",
          "height": 680
        },
        "id": "otRWXKn9zE2d",
        "outputId": "68b7ba00-833d-40c0-987e-144759258ca7"
      },
      "execution_count": null,
      "outputs": [
        {
          "output_type": "display_data",
          "data": {
            "text/plain": [
              "<IPython.core.display.HTML object>"
            ],
            "text/html": [
              "\n",
              "     <input type=\"file\" id=\"files-c85853ab-2421-40f3-b0dd-9f3aad30d5ff\" name=\"files[]\" multiple disabled\n",
              "        style=\"border:none\" />\n",
              "     <output id=\"result-c85853ab-2421-40f3-b0dd-9f3aad30d5ff\">\n",
              "      Upload widget is only available when the cell has been executed in the\n",
              "      current browser session. Please rerun this cell to enable.\n",
              "      </output>\n",
              "      <script>// Copyright 2017 Google LLC\n",
              "//\n",
              "// Licensed under the Apache License, Version 2.0 (the \"License\");\n",
              "// you may not use this file except in compliance with the License.\n",
              "// You may obtain a copy of the License at\n",
              "//\n",
              "//      http://www.apache.org/licenses/LICENSE-2.0\n",
              "//\n",
              "// Unless required by applicable law or agreed to in writing, software\n",
              "// distributed under the License is distributed on an \"AS IS\" BASIS,\n",
              "// WITHOUT WARRANTIES OR CONDITIONS OF ANY KIND, either express or implied.\n",
              "// See the License for the specific language governing permissions and\n",
              "// limitations under the License.\n",
              "\n",
              "/**\n",
              " * @fileoverview Helpers for google.colab Python module.\n",
              " */\n",
              "(function(scope) {\n",
              "function span(text, styleAttributes = {}) {\n",
              "  const element = document.createElement('span');\n",
              "  element.textContent = text;\n",
              "  for (const key of Object.keys(styleAttributes)) {\n",
              "    element.style[key] = styleAttributes[key];\n",
              "  }\n",
              "  return element;\n",
              "}\n",
              "\n",
              "// Max number of bytes which will be uploaded at a time.\n",
              "const MAX_PAYLOAD_SIZE = 100 * 1024;\n",
              "\n",
              "function _uploadFiles(inputId, outputId) {\n",
              "  const steps = uploadFilesStep(inputId, outputId);\n",
              "  const outputElement = document.getElementById(outputId);\n",
              "  // Cache steps on the outputElement to make it available for the next call\n",
              "  // to uploadFilesContinue from Python.\n",
              "  outputElement.steps = steps;\n",
              "\n",
              "  return _uploadFilesContinue(outputId);\n",
              "}\n",
              "\n",
              "// This is roughly an async generator (not supported in the browser yet),\n",
              "// where there are multiple asynchronous steps and the Python side is going\n",
              "// to poll for completion of each step.\n",
              "// This uses a Promise to block the python side on completion of each step,\n",
              "// then passes the result of the previous step as the input to the next step.\n",
              "function _uploadFilesContinue(outputId) {\n",
              "  const outputElement = document.getElementById(outputId);\n",
              "  const steps = outputElement.steps;\n",
              "\n",
              "  const next = steps.next(outputElement.lastPromiseValue);\n",
              "  return Promise.resolve(next.value.promise).then((value) => {\n",
              "    // Cache the last promise value to make it available to the next\n",
              "    // step of the generator.\n",
              "    outputElement.lastPromiseValue = value;\n",
              "    return next.value.response;\n",
              "  });\n",
              "}\n",
              "\n",
              "/**\n",
              " * Generator function which is called between each async step of the upload\n",
              " * process.\n",
              " * @param {string} inputId Element ID of the input file picker element.\n",
              " * @param {string} outputId Element ID of the output display.\n",
              " * @return {!Iterable<!Object>} Iterable of next steps.\n",
              " */\n",
              "function* uploadFilesStep(inputId, outputId) {\n",
              "  const inputElement = document.getElementById(inputId);\n",
              "  inputElement.disabled = false;\n",
              "\n",
              "  const outputElement = document.getElementById(outputId);\n",
              "  outputElement.innerHTML = '';\n",
              "\n",
              "  const pickedPromise = new Promise((resolve) => {\n",
              "    inputElement.addEventListener('change', (e) => {\n",
              "      resolve(e.target.files);\n",
              "    });\n",
              "  });\n",
              "\n",
              "  const cancel = document.createElement('button');\n",
              "  inputElement.parentElement.appendChild(cancel);\n",
              "  cancel.textContent = 'Cancel upload';\n",
              "  const cancelPromise = new Promise((resolve) => {\n",
              "    cancel.onclick = () => {\n",
              "      resolve(null);\n",
              "    };\n",
              "  });\n",
              "\n",
              "  // Wait for the user to pick the files.\n",
              "  const files = yield {\n",
              "    promise: Promise.race([pickedPromise, cancelPromise]),\n",
              "    response: {\n",
              "      action: 'starting',\n",
              "    }\n",
              "  };\n",
              "\n",
              "  cancel.remove();\n",
              "\n",
              "  // Disable the input element since further picks are not allowed.\n",
              "  inputElement.disabled = true;\n",
              "\n",
              "  if (!files) {\n",
              "    return {\n",
              "      response: {\n",
              "        action: 'complete',\n",
              "      }\n",
              "    };\n",
              "  }\n",
              "\n",
              "  for (const file of files) {\n",
              "    const li = document.createElement('li');\n",
              "    li.append(span(file.name, {fontWeight: 'bold'}));\n",
              "    li.append(span(\n",
              "        `(${file.type || 'n/a'}) - ${file.size} bytes, ` +\n",
              "        `last modified: ${\n",
              "            file.lastModifiedDate ? file.lastModifiedDate.toLocaleDateString() :\n",
              "                                    'n/a'} - `));\n",
              "    const percent = span('0% done');\n",
              "    li.appendChild(percent);\n",
              "\n",
              "    outputElement.appendChild(li);\n",
              "\n",
              "    const fileDataPromise = new Promise((resolve) => {\n",
              "      const reader = new FileReader();\n",
              "      reader.onload = (e) => {\n",
              "        resolve(e.target.result);\n",
              "      };\n",
              "      reader.readAsArrayBuffer(file);\n",
              "    });\n",
              "    // Wait for the data to be ready.\n",
              "    let fileData = yield {\n",
              "      promise: fileDataPromise,\n",
              "      response: {\n",
              "        action: 'continue',\n",
              "      }\n",
              "    };\n",
              "\n",
              "    // Use a chunked sending to avoid message size limits. See b/62115660.\n",
              "    let position = 0;\n",
              "    do {\n",
              "      const length = Math.min(fileData.byteLength - position, MAX_PAYLOAD_SIZE);\n",
              "      const chunk = new Uint8Array(fileData, position, length);\n",
              "      position += length;\n",
              "\n",
              "      const base64 = btoa(String.fromCharCode.apply(null, chunk));\n",
              "      yield {\n",
              "        response: {\n",
              "          action: 'append',\n",
              "          file: file.name,\n",
              "          data: base64,\n",
              "        },\n",
              "      };\n",
              "\n",
              "      let percentDone = fileData.byteLength === 0 ?\n",
              "          100 :\n",
              "          Math.round((position / fileData.byteLength) * 100);\n",
              "      percent.textContent = `${percentDone}% done`;\n",
              "\n",
              "    } while (position < fileData.byteLength);\n",
              "  }\n",
              "\n",
              "  // All done.\n",
              "  yield {\n",
              "    response: {\n",
              "      action: 'complete',\n",
              "    }\n",
              "  };\n",
              "}\n",
              "\n",
              "scope.google = scope.google || {};\n",
              "scope.google.colab = scope.google.colab || {};\n",
              "scope.google.colab._files = {\n",
              "  _uploadFiles,\n",
              "  _uploadFilesContinue,\n",
              "};\n",
              "})(self);\n",
              "</script> "
            ]
          },
          "metadata": {}
        },
        {
          "output_type": "stream",
          "name": "stdout",
          "text": [
            "Saving 31-10-2024-Agenda-Regulatoria-2025.xlsx to 31-10-2024-Agenda-Regulatoria-2025.xlsx\n",
            "  Agenda Regulatoria \\n 2024\\n\\nEn cumplimiento del Decreto 1081 de 2015 artículo 2.1.2.1.20. Agenda Regulatoria   \\\n",
            "0                                                NaN                                                                \n",
            "1                              Nombre de la entidad                                                                 \n",
            "2                           Responsable del proceso                                                                 \n",
            "3  Fecha de publicación inicial (salida a consult...                                                                \n",
            "4  Fecha de publicación final (después de consult...                                                                \n",
            "\n",
            "  Unnamed: 1 Unnamed: 2                                         Unnamed: 3  \\\n",
            "0        NaN        NaN                                                NaN   \n",
            "1        NaN        NaN        MINISTERIO DE COMERCIO, INDUSTRIA Y TURISMO   \n",
            "2        NaN        NaN  MONICA FERNANDA YAJAIRA LEONEL - DIEGO FERNAND...   \n",
            "3        NaN        NaN                                2024-11-01 00:00:00   \n",
            "4        NaN        NaN                                2024-11-03 00:00:00   \n",
            "\n",
            "  Unnamed: 4 Unnamed: 5 Unnamed: 6 Unnamed: 7 Unnamed: 8 Unnamed: 9  \\\n",
            "0        NaN        NaN        NaN        NaN        NaN        NaN   \n",
            "1        NaN        NaN        NaN        NaN        NaN        NaN   \n",
            "2        NaN        NaN        NaN        NaN        NaN        NaN   \n",
            "3        NaN        NaN        NaN        NaN        NaN        NaN   \n",
            "4        NaN        NaN        NaN        NaN        NaN        NaN   \n",
            "\n",
            "  Unnamed: 10 Unnamed: 11 Unnamed: 12 Unnamed: 13 Unnamed: 14 Unnamed: 15  \\\n",
            "0         NaN         NaN         NaN         NaN         NaN         NaN   \n",
            "1         NaN         NaN         NaN         NaN         NaN         NaN   \n",
            "2         NaN         NaN         NaN         NaN         NaN         NaN   \n",
            "3         NaN         NaN         NaN         NaN         NaN         NaN   \n",
            "4         NaN         NaN         NaN         NaN         NaN         NaN   \n",
            "\n",
            "  Unnamed: 16  \n",
            "0         NaN  \n",
            "1         NaN  \n",
            "2         NaN  \n",
            "3         NaN  \n",
            "4         NaN  \n"
          ]
        }
      ]
    },
    {
      "cell_type": "code",
      "source": [
        "import pandas as pd\n",
        "\n",
        "# Ruta del archivo de Excel\n",
        "archivo_excel = \"31-10-2024-Agenda-Regulatoria-2025.xlsx\"\n",
        "\n",
        "# Leer la hoja de cálculo\n",
        "hojas = pd.ExcelFile(archivo_excel)\n",
        "\n",
        "df = hojas.parse(sheet_name=hojas.sheet_names[0])\n",
        "\n",
        "# Buscar la fila que contiene \"Información del proyecto a reglamentar\" para poder omitirla y seguir con las columnas que hay que extraer\n",
        "indice_inicio = df[df.isin(['Información del proyecto a reglamentar']).any(axis=1)].index[0]\n",
        "\n",
        "# Omitir la encontrada y el encabezado\n",
        "df_filtrado = df.iloc[indice_inicio + 2:].reset_index(drop=True)\n",
        "\n",
        "# Identificar la última columna del DataFrame para poderla convertir a string\n",
        "ultima_columna = df_filtrado.columns[-1]\n",
        "\n",
        "# Convertir a string\n",
        "df_filtrado[ultima_columna] = df_filtrado[ultima_columna].astype(str)\n",
        "\n",
        "# Eliminar el encabezado configurando columnas sin nombre\n",
        "df_filtrado.columns = range(df_filtrado.shape[1])\n",
        "\n",
        "df_filtrado['sector']='Turismo'\n",
        "\n",
        "# Mostrar las primeras filas del DataFrame\n",
        "print(df_filtrado.head())\n",
        "\n",
        "lista_de_tablas.append(df_filtrado)\n"
      ],
      "metadata": {
        "colab": {
          "base_uri": "https://localhost:8080/"
        },
        "id": "mZOhb_MWx70X",
        "outputId": "ab39e28b-88ec-4772-f8e7-61d3a311d83c"
      },
      "execution_count": null,
      "outputs": [
        {
          "output_type": "stream",
          "name": "stdout",
          "text": [
            "                                                   0  \\\n",
            "0  Proyecto de Decreto sobre normas de contabilid...   \n",
            "1  Proyecto de Decreto sobre normas de aseguramie...   \n",
            "2  Proyecto de Decreto sobre normas NIIF de Infor...   \n",
            "3  Proyecto de Decreto por el cual se modifican u...   \n",
            "4  Proyecto de Decreto por el cual se modifican p...   \n",
            "\n",
            "                                                   1              2  \\\n",
            "0  Viceministerio de Desarrollo Empresarial / Dir...  Hernán Zúñiga   \n",
            "1  Viceministerio de Desarrollo Empresarial / Dir...  Hernán Zúñiga   \n",
            "2  Viceministerio de Desarrollo Empresarial / Dir...  Hernán Zúñiga   \n",
            "3  Viceministerio de Desarrollo Empresarial / Dir...  Hernán Zúñiga   \n",
            "4  Viceministerio de Desarrollo Empresarial / Dir...  Hernán Zúñiga   \n",
            "\n",
            "                        3                                                  4  \\\n",
            "0  Director de Regulación      Consejo Técnico de la Contaduría Pública-CTCP   \n",
            "1  Director de Regulación      Consejo Técnico de la Contaduría Pública-CTCP   \n",
            "2  Director de Regulación      Consejo Técnico de la Contaduría Pública-CTCP   \n",
            "3  Director de Regulación    Ministerio de Hacienda y Crédito Público y DIAN   \n",
            "4  Director de Regulación  Ministerio  de Haciendra y Crédito Público y S...   \n",
            "\n",
            "                                                   5  \\\n",
            "0  Presidencia de la República, Ministerios de Ha...   \n",
            "1  Presidencia de la República, Ministerios de Ha...   \n",
            "2  Presidencia de la República, Ministerios de Ha...   \n",
            "3  Presidencia de la República, Ministerios de Ha...   \n",
            "4  Presidencia de la República, Ministerios de Ha...   \n",
            "\n",
            "                                                   6  \\\n",
            "0                     Art. 6° de la Ley 1314 de 2009   \n",
            "1                     Art. 6° de la Ley 1314 de 2009   \n",
            "2                     Art. 6° de la Ley 1314 de 2009   \n",
            "3  Numeral 11 del artículo 189 de la Constitución...   \n",
            "4  el numeral 11 del artículo 189 de la Constituc...   \n",
            "\n",
            "                                                   7  \\\n",
            "0  Incorporación a la legislación nacional de los...   \n",
            "1  Incorporación a la legislación nacional de los...   \n",
            "2  Incorporación a la legislación nacional de los...   \n",
            "3  Modificación al Decreto 1154 de 2020, respecto...   \n",
            "4  Modificar y adicionar al Decreto 587 de 2016, ...   \n",
            "\n",
            "                                                   8        9   10  11   12  \\\n",
            "0  Ley 1314 de 2009 y el Decreto Único Reglamenta...  Decreto  Ley  No  No    \n",
            "1  Ley 1314 de 2009 y el Decreto Único Reglamenta...  Decreto  Ley  No  No    \n",
            "2  Ley 1314 de 2009 y el Decreto Único Reglamenta...  Decreto  Ley  No  No    \n",
            "3                               Decreto 1154 de 2020  Decreto  Ley  No  No    \n",
            "4                                Decreto 587 de 2016  Decreto  Ley  No  No    \n",
            "\n",
            "    13   14   15                   16   sector  \n",
            "0   No  No   NaN  2025-10-01 00:00:00  Turismo  \n",
            "1   No  No   NaN  2025-10-01 00:00:00  Turismo  \n",
            "2  No   No   NaN  2025-10-01 00:00:00  Turismo  \n",
            "3  No   No   NaN  2025-10-01 00:00:00  Turismo  \n",
            "4  No   No   NaN  2025-06-17 00:00:00  Turismo  \n"
          ]
        }
      ]
    },
    {
      "cell_type": "markdown",
      "source": [
        "Fusionar las tablas"
      ],
      "metadata": {
        "id": "V7WEA5SOdo5d"
      }
    },
    {
      "cell_type": "code",
      "source": [
        "tabla_fusionada = pd.concat(lista_de_tablas, ignore_index=True)\n",
        "\n",
        "import pandas as pd\n",
        "\n",
        "# Columnas que no se usan en el csv final\n",
        "#5 es la columna entidades firmantes\n",
        "columnas_a_eliminar = [2,3,4, 6, 10, 15]\n",
        "\n",
        "# Eliminar las columnas\n",
        "tabla_final = tabla_fusionada.drop(columns=columnas_a_eliminar)\n",
        "\n",
        "# Nombres de columnas, omito la columna de entidades firmantes\n",
        "nombres_columnas = {\n",
        "    tabla_final.columns[0]: 'nombre',\n",
        "    tabla_final.columns[1]: 'dependencia',\n",
        "    tabla_final.columns[2]: 'entidades',\n",
        "    tabla_final.columns[3]: 'objeto',\n",
        "    tabla_final.columns[4]: 'norma_modifica',\n",
        "    tabla_final.columns[5]: 'tipo',\n",
        "    tabla_final.columns[6]: 'es_reglamentario',\n",
        "    tabla_final.columns[7]: 'tiene_costo',\n",
        "    tabla_final.columns[8]: 'adopta_algun_trámite',\n",
        "    tabla_final.columns[9]:'deroga',\n",
        "    tabla_final.columns[10]: 'fecha_consulta',\n",
        "    tabla_final.columns[11]:'sector'\n",
        "\n",
        "}\n",
        "\n",
        "\n",
        "# Asignar los nuevos nombres a las columnas\n",
        "tabla_final.rename(columns=nombres_columnas, inplace=True)\n",
        "\n",
        "columnas_si_no=['es_reglamentario','tiene_costo','adopta_algun_trámite','deroga']\n",
        "\n",
        "\n",
        "# Volver texto de las columnas a minúsculas y reemplazar 'si'/'no'\n",
        "for columna in columnas_si_no:\n",
        "    # Convertir a minúsculas\n",
        "    tabla_final[columna] = tabla_final[columna].str.lower()\n",
        "\n",
        "    # Reemplazar 'si' por True y 'no' por False\n",
        "    tabla_final[columna] = tabla_final[columna].replace({'si': True, 'no': False}, regex=True)\n",
        "\n",
        "\n",
        "tabla_final['entidades'] = tabla_final['entidades'].apply(lambda x: f'{{\"entidades\": [\"{x}\"]}}')\n",
        "\n",
        "tabla_final['norma_modifica'] = tabla_final['norma_modifica'].fillna('No definido')\n",
        "\n",
        "\n",
        "\n",
        "\n",
        "# Definir el nuevo orden de las columnas\n",
        "nuevo_orden = ['nombre', 'entidades',\n",
        "               'dependencia',\n",
        "               'objeto', 'norma_modifica', 'tipo',\n",
        "               'es_reglamentario', 'tiene_costo', 'adopta_algun_trámite','fecha_consulta','deroga','sector']\n",
        "\n",
        "# Reorganizar las columnas\n",
        "tabla_final = tabla_final[nuevo_orden]\n",
        "\n",
        "\n",
        "# Verificar nuevo orden\n",
        "\n",
        "# CSV\n",
        "\n",
        "archivo_final = \"tabla_final.csv\"\n",
        "tabla_final.to_csv(archivo_final, index=False, encoding=\"utf-8\")\n",
        "\n",
        "print(f\"Tabla guardada en {archivo_final}\")\n",
        "\n"
      ],
      "metadata": {
        "colab": {
          "base_uri": "https://localhost:8080/"
        },
        "id": "3SM3SKKwZNIo",
        "outputId": "9d086606-f97c-4e05-9980-ac3f3de1ae54"
      },
      "execution_count": null,
      "outputs": [
        {
          "output_type": "stream",
          "name": "stdout",
          "text": [
            "Tabla guardada en tabla_final.csv\n"
          ]
        },
        {
          "output_type": "stream",
          "name": "stderr",
          "text": [
            "<ipython-input-35-7f505fb801f7>:42: FutureWarning: Downcasting behavior in `replace` is deprecated and will be removed in a future version. To retain the old behavior, explicitly call `result.infer_objects(copy=False)`. To opt-in to the future behavior, set `pd.set_option('future.no_silent_downcasting', True)`\n",
            "  tabla_final[columna] = tabla_final[columna].replace({'si': True, 'no': False}, regex=True)\n"
          ]
        }
      ]
    },
    {
      "cell_type": "markdown",
      "source": [
        "Tablas sin columnas innecesarias"
      ],
      "metadata": {
        "id": "AVhnou9_eArh"
      }
    },
    {
      "cell_type": "code",
      "source": [
        "from google.colab import files\n",
        "\n",
        "# Descargar el archivo generado\n",
        "files.download(\"tabla_final.csv\")"
      ],
      "metadata": {
        "colab": {
          "base_uri": "https://localhost:8080/",
          "height": 17
        },
        "id": "eKob267nKLj1",
        "outputId": "03a67a80-19f0-4dfc-db31-26e7ec378a90"
      },
      "execution_count": null,
      "outputs": [
        {
          "output_type": "display_data",
          "data": {
            "text/plain": [
              "<IPython.core.display.Javascript object>"
            ],
            "application/javascript": [
              "\n",
              "    async function download(id, filename, size) {\n",
              "      if (!google.colab.kernel.accessAllowed) {\n",
              "        return;\n",
              "      }\n",
              "      const div = document.createElement('div');\n",
              "      const label = document.createElement('label');\n",
              "      label.textContent = `Downloading \"${filename}\": `;\n",
              "      div.appendChild(label);\n",
              "      const progress = document.createElement('progress');\n",
              "      progress.max = size;\n",
              "      div.appendChild(progress);\n",
              "      document.body.appendChild(div);\n",
              "\n",
              "      const buffers = [];\n",
              "      let downloaded = 0;\n",
              "\n",
              "      const channel = await google.colab.kernel.comms.open(id);\n",
              "      // Send a message to notify the kernel that we're ready.\n",
              "      channel.send({})\n",
              "\n",
              "      for await (const message of channel.messages) {\n",
              "        // Send a message to notify the kernel that we're ready.\n",
              "        channel.send({})\n",
              "        if (message.buffers) {\n",
              "          for (const buffer of message.buffers) {\n",
              "            buffers.push(buffer);\n",
              "            downloaded += buffer.byteLength;\n",
              "            progress.value = downloaded;\n",
              "          }\n",
              "        }\n",
              "      }\n",
              "      const blob = new Blob(buffers, {type: 'application/binary'});\n",
              "      const a = document.createElement('a');\n",
              "      a.href = window.URL.createObjectURL(blob);\n",
              "      a.download = filename;\n",
              "      div.appendChild(a);\n",
              "      a.click();\n",
              "      div.remove();\n",
              "    }\n",
              "  "
            ]
          },
          "metadata": {}
        },
        {
          "output_type": "display_data",
          "data": {
            "text/plain": [
              "<IPython.core.display.Javascript object>"
            ],
            "application/javascript": [
              "download(\"download_d454a89b-65b6-4c3f-92a5-899b7d617a20\", \"tabla_final.csv\", 34932)"
            ]
          },
          "metadata": {}
        }
      ]
    }
  ]
}