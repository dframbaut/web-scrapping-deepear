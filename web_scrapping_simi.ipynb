{
  "nbformat": 4,
  "nbformat_minor": 0,
  "metadata": {
    "colab": {
      "provenance": [],
      "authorship_tag": "ABX9TyOjXh0H8OcnEQDbE47phf8V",
      "include_colab_link": true
    },
    "kernelspec": {
      "name": "python3",
      "display_name": "Python 3"
    },
    "language_info": {
      "name": "python"
    }
  },
  "cells": [
    {
      "cell_type": "markdown",
      "metadata": {
        "id": "view-in-github",
        "colab_type": "text"
      },
      "source": [
        "<a href=\"https://colab.research.google.com/github/dframbaut/web-scrapping-deepear/blob/main/web_scrapping_simi.ipynb\" target=\"_parent\"><img src=\"https://colab.research.google.com/assets/colab-badge.svg\" alt=\"Open In Colab\"/></a>"
      ]
    },
    {
      "cell_type": "code",
      "execution_count": 3,
      "metadata": {
        "colab": {
          "base_uri": "https://localhost:8080/"
        },
        "id": "bOPHamS5rqIb",
        "outputId": "7a49c775-301d-4a99-eec6-cf378e625160"
      },
      "outputs": [
        {
          "output_type": "stream",
          "name": "stdout",
          "text": [
            "Collecting selenium\n",
            "  Downloading selenium-4.27.1-py3-none-any.whl.metadata (7.1 kB)\n",
            "Requirement already satisfied: urllib3<3,>=1.26 in /usr/local/lib/python3.10/dist-packages (from urllib3[socks]<3,>=1.26->selenium) (2.2.3)\n",
            "Collecting trio~=0.17 (from selenium)\n",
            "  Downloading trio-0.27.0-py3-none-any.whl.metadata (8.6 kB)\n",
            "Collecting trio-websocket~=0.9 (from selenium)\n",
            "  Downloading trio_websocket-0.11.1-py3-none-any.whl.metadata (4.7 kB)\n",
            "Requirement already satisfied: certifi>=2021.10.8 in /usr/local/lib/python3.10/dist-packages (from selenium) (2024.8.30)\n",
            "Requirement already satisfied: typing_extensions~=4.9 in /usr/local/lib/python3.10/dist-packages (from selenium) (4.12.2)\n",
            "Requirement already satisfied: websocket-client~=1.8 in /usr/local/lib/python3.10/dist-packages (from selenium) (1.8.0)\n",
            "Requirement already satisfied: attrs>=23.2.0 in /usr/local/lib/python3.10/dist-packages (from trio~=0.17->selenium) (24.2.0)\n",
            "Collecting sortedcontainers (from trio~=0.17->selenium)\n",
            "  Downloading sortedcontainers-2.4.0-py2.py3-none-any.whl.metadata (10 kB)\n",
            "Requirement already satisfied: idna in /usr/local/lib/python3.10/dist-packages (from trio~=0.17->selenium) (3.10)\n",
            "Collecting outcome (from trio~=0.17->selenium)\n",
            "  Downloading outcome-1.3.0.post0-py2.py3-none-any.whl.metadata (2.6 kB)\n",
            "Requirement already satisfied: sniffio>=1.3.0 in /usr/local/lib/python3.10/dist-packages (from trio~=0.17->selenium) (1.3.1)\n",
            "Requirement already satisfied: exceptiongroup in /usr/local/lib/python3.10/dist-packages (from trio~=0.17->selenium) (1.2.2)\n",
            "Collecting wsproto>=0.14 (from trio-websocket~=0.9->selenium)\n",
            "  Downloading wsproto-1.2.0-py3-none-any.whl.metadata (5.6 kB)\n",
            "Requirement already satisfied: pysocks!=1.5.7,<2.0,>=1.5.6 in /usr/local/lib/python3.10/dist-packages (from urllib3[socks]<3,>=1.26->selenium) (1.7.1)\n",
            "Requirement already satisfied: h11<1,>=0.9.0 in /usr/local/lib/python3.10/dist-packages (from wsproto>=0.14->trio-websocket~=0.9->selenium) (0.14.0)\n",
            "Downloading selenium-4.27.1-py3-none-any.whl (9.7 MB)\n",
            "\u001b[2K   \u001b[90m━━━━━━━━━━━━━━━━━━━━━━━━━━━━━━━━━━━━━━━━\u001b[0m \u001b[32m9.7/9.7 MB\u001b[0m \u001b[31m65.4 MB/s\u001b[0m eta \u001b[36m0:00:00\u001b[0m\n",
            "\u001b[?25hDownloading trio-0.27.0-py3-none-any.whl (481 kB)\n",
            "\u001b[2K   \u001b[90m━━━━━━━━━━━━━━━━━━━━━━━━━━━━━━━━━━━━━━━━\u001b[0m \u001b[32m481.7/481.7 kB\u001b[0m \u001b[31m29.8 MB/s\u001b[0m eta \u001b[36m0:00:00\u001b[0m\n",
            "\u001b[?25hDownloading trio_websocket-0.11.1-py3-none-any.whl (17 kB)\n",
            "Downloading wsproto-1.2.0-py3-none-any.whl (24 kB)\n",
            "Downloading outcome-1.3.0.post0-py2.py3-none-any.whl (10 kB)\n",
            "Downloading sortedcontainers-2.4.0-py2.py3-none-any.whl (29 kB)\n",
            "Installing collected packages: sortedcontainers, wsproto, outcome, trio, trio-websocket, selenium\n",
            "Successfully installed outcome-1.3.0.post0 selenium-4.27.1 sortedcontainers-2.4.0 trio-0.27.0 trio-websocket-0.11.1 wsproto-1.2.0\n"
          ]
        }
      ],
      "source": [
        "!pip install selenium"
      ]
    },
    {
      "cell_type": "code",
      "source": [
        "!apt-get update"
      ],
      "metadata": {
        "colab": {
          "base_uri": "https://localhost:8080/"
        },
        "id": "tAWVeId_sSST",
        "outputId": "861e03aa-97d4-4739-fd1f-33b4d4cb4180"
      },
      "execution_count": 4,
      "outputs": [
        {
          "output_type": "stream",
          "name": "stdout",
          "text": [
            "\r0% [Working]\r            \rGet:1 https://cloud.r-project.org/bin/linux/ubuntu jammy-cran40/ InRelease [3,626 B]\n",
            "Get:2 https://developer.download.nvidia.com/compute/cuda/repos/ubuntu2204/x86_64  InRelease [1,581 B]\n",
            "Get:3 https://developer.download.nvidia.com/compute/cuda/repos/ubuntu2204/x86_64  Packages [1,192 kB]\n",
            "Hit:4 http://archive.ubuntu.com/ubuntu jammy InRelease\n",
            "Get:5 http://security.ubuntu.com/ubuntu jammy-security InRelease [129 kB]\n",
            "Get:6 http://archive.ubuntu.com/ubuntu jammy-updates InRelease [128 kB]\n",
            "Get:7 https://r2u.stat.illinois.edu/ubuntu jammy InRelease [6,555 B]\n",
            "Get:8 https://ppa.launchpadcontent.net/deadsnakes/ppa/ubuntu jammy InRelease [18.1 kB]\n",
            "Get:9 http://archive.ubuntu.com/ubuntu jammy-backports InRelease [127 kB]\n",
            "Get:10 http://security.ubuntu.com/ubuntu jammy-security/main amd64 Packages [2,454 kB]\n",
            "Get:11 https://r2u.stat.illinois.edu/ubuntu jammy/main amd64 Packages [2,626 kB]\n",
            "Hit:12 https://ppa.launchpadcontent.net/graphics-drivers/ppa/ubuntu jammy InRelease\n",
            "Hit:13 https://ppa.launchpadcontent.net/ubuntugis/ppa/ubuntu jammy InRelease\n",
            "Get:14 http://archive.ubuntu.com/ubuntu jammy-updates/main amd64 Packages [2,738 kB]\n",
            "Get:15 https://ppa.launchpadcontent.net/deadsnakes/ppa/ubuntu jammy/main amd64 Packages [32.9 kB]\n",
            "Get:16 https://r2u.stat.illinois.edu/ubuntu jammy/main all Packages [8,531 kB]\n",
            "Fetched 18.0 MB in 4s (4,491 kB/s)\n",
            "Reading package lists... Done\n",
            "W: Skipping acquire of configured file 'main/source/Sources' as repository 'https://r2u.stat.illinois.edu/ubuntu jammy InRelease' does not seem to provide it (sources.list entry misspelt?)\n"
          ]
        }
      ]
    },
    {
      "cell_type": "code",
      "source": [
        "!apt-get install -y chromium-chromedriver"
      ],
      "metadata": {
        "colab": {
          "base_uri": "https://localhost:8080/"
        },
        "id": "AIektahgsbYi",
        "outputId": "ebf43ded-44f1-4fae-9e1a-7d7d4fe1bc1f"
      },
      "execution_count": 5,
      "outputs": [
        {
          "output_type": "stream",
          "name": "stdout",
          "text": [
            "Reading package lists... Done\n",
            "Building dependency tree... Done\n",
            "Reading state information... Done\n",
            "The following additional packages will be installed:\n",
            "  apparmor chromium-browser libfuse3-3 liblzo2-2 libudev1 snapd squashfs-tools systemd-hwe-hwdb\n",
            "  udev\n",
            "Suggested packages:\n",
            "  apparmor-profiles-extra apparmor-utils fuse3 zenity | kdialog\n",
            "The following NEW packages will be installed:\n",
            "  apparmor chromium-browser chromium-chromedriver libfuse3-3 liblzo2-2 snapd squashfs-tools\n",
            "  systemd-hwe-hwdb udev\n",
            "The following packages will be upgraded:\n",
            "  libudev1\n",
            "1 upgraded, 9 newly installed, 0 to remove and 51 not upgraded.\n",
            "Need to get 30.2 MB of archives.\n",
            "After this operation, 123 MB of additional disk space will be used.\n",
            "Get:1 http://archive.ubuntu.com/ubuntu jammy-updates/main amd64 apparmor amd64 3.0.4-2ubuntu2.4 [598 kB]\n",
            "Get:2 http://archive.ubuntu.com/ubuntu jammy/main amd64 liblzo2-2 amd64 2.10-2build3 [53.7 kB]\n",
            "Get:3 http://archive.ubuntu.com/ubuntu jammy/main amd64 squashfs-tools amd64 1:4.5-3build1 [159 kB]\n",
            "Get:4 http://archive.ubuntu.com/ubuntu jammy-updates/main amd64 libudev1 amd64 249.11-0ubuntu3.12 [78.2 kB]\n",
            "Get:5 http://archive.ubuntu.com/ubuntu jammy-updates/main amd64 udev amd64 249.11-0ubuntu3.12 [1,557 kB]\n",
            "Get:6 http://archive.ubuntu.com/ubuntu jammy/main amd64 libfuse3-3 amd64 3.10.5-1build1 [81.2 kB]\n",
            "Get:7 http://archive.ubuntu.com/ubuntu jammy-updates/main amd64 snapd amd64 2.66.1+22.04 [27.6 MB]\n",
            "Get:8 http://archive.ubuntu.com/ubuntu jammy-updates/universe amd64 chromium-browser amd64 1:85.0.4183.83-0ubuntu2.22.04.1 [49.2 kB]\n",
            "Get:9 http://archive.ubuntu.com/ubuntu jammy-updates/universe amd64 chromium-chromedriver amd64 1:85.0.4183.83-0ubuntu2.22.04.1 [2,308 B]\n",
            "Get:10 http://archive.ubuntu.com/ubuntu jammy-updates/main amd64 systemd-hwe-hwdb all 249.11.5 [3,228 B]\n",
            "Fetched 30.2 MB in 4s (7,162 kB/s)\n",
            "Preconfiguring packages ...\n",
            "Selecting previously unselected package apparmor.\n",
            "(Reading database ... 123632 files and directories currently installed.)\n",
            "Preparing to unpack .../apparmor_3.0.4-2ubuntu2.4_amd64.deb ...\n",
            "Unpacking apparmor (3.0.4-2ubuntu2.4) ...\n",
            "Selecting previously unselected package liblzo2-2:amd64.\n",
            "Preparing to unpack .../liblzo2-2_2.10-2build3_amd64.deb ...\n",
            "Unpacking liblzo2-2:amd64 (2.10-2build3) ...\n",
            "Selecting previously unselected package squashfs-tools.\n",
            "Preparing to unpack .../squashfs-tools_1%3a4.5-3build1_amd64.deb ...\n",
            "Unpacking squashfs-tools (1:4.5-3build1) ...\n",
            "Preparing to unpack .../libudev1_249.11-0ubuntu3.12_amd64.deb ...\n",
            "Unpacking libudev1:amd64 (249.11-0ubuntu3.12) over (249.11-0ubuntu3.10) ...\n",
            "Setting up libudev1:amd64 (249.11-0ubuntu3.12) ...\n",
            "Selecting previously unselected package udev.\n",
            "(Reading database ... 123840 files and directories currently installed.)\n",
            "Preparing to unpack .../udev_249.11-0ubuntu3.12_amd64.deb ...\n",
            "Unpacking udev (249.11-0ubuntu3.12) ...\n",
            "Selecting previously unselected package libfuse3-3:amd64.\n",
            "Preparing to unpack .../libfuse3-3_3.10.5-1build1_amd64.deb ...\n",
            "Unpacking libfuse3-3:amd64 (3.10.5-1build1) ...\n",
            "Selecting previously unselected package snapd.\n",
            "Preparing to unpack .../snapd_2.66.1+22.04_amd64.deb ...\n",
            "Unpacking snapd (2.66.1+22.04) ...\n",
            "Setting up apparmor (3.0.4-2ubuntu2.4) ...\n",
            "Created symlink /etc/systemd/system/sysinit.target.wants/apparmor.service → /lib/systemd/system/apparmor.service.\n",
            "Setting up liblzo2-2:amd64 (2.10-2build3) ...\n",
            "Setting up squashfs-tools (1:4.5-3build1) ...\n",
            "Setting up udev (249.11-0ubuntu3.12) ...\n",
            "invoke-rc.d: could not determine current runlevel\n",
            "invoke-rc.d: policy-rc.d denied execution of start.\n",
            "Setting up libfuse3-3:amd64 (3.10.5-1build1) ...\n",
            "Setting up snapd (2.66.1+22.04) ...\n",
            "Created symlink /etc/systemd/system/multi-user.target.wants/snapd.apparmor.service → /lib/systemd/system/snapd.apparmor.service.\n",
            "Created symlink /etc/systemd/system/multi-user.target.wants/snapd.autoimport.service → /lib/systemd/system/snapd.autoimport.service.\n",
            "Created symlink /etc/systemd/system/multi-user.target.wants/snapd.core-fixup.service → /lib/systemd/system/snapd.core-fixup.service.\n",
            "Created symlink /etc/systemd/system/multi-user.target.wants/snapd.recovery-chooser-trigger.service → /lib/systemd/system/snapd.recovery-chooser-trigger.service.\n",
            "Created symlink /etc/systemd/system/multi-user.target.wants/snapd.seeded.service → /lib/systemd/system/snapd.seeded.service.\n",
            "Created symlink /etc/systemd/system/cloud-final.service.wants/snapd.seeded.service → /lib/systemd/system/snapd.seeded.service.\n",
            "Unit /lib/systemd/system/snapd.seeded.service is added as a dependency to a non-existent unit cloud-final.service.\n",
            "Created symlink /etc/systemd/system/multi-user.target.wants/snapd.service → /lib/systemd/system/snapd.service.\n",
            "Created symlink /etc/systemd/system/timers.target.wants/snapd.snap-repair.timer → /lib/systemd/system/snapd.snap-repair.timer.\n",
            "Created symlink /etc/systemd/system/sockets.target.wants/snapd.socket → /lib/systemd/system/snapd.socket.\n",
            "Created symlink /etc/systemd/system/final.target.wants/snapd.system-shutdown.service → /lib/systemd/system/snapd.system-shutdown.service.\n",
            "Selecting previously unselected package chromium-browser.\n",
            "(Reading database ... 124069 files and directories currently installed.)\n",
            "Preparing to unpack .../chromium-browser_1%3a85.0.4183.83-0ubuntu2.22.04.1_amd64.deb ...\n",
            "=> Installing the chromium snap\n",
            "==> Checking connectivity with the snap store\n",
            "===> System doesn't have a working snapd, skipping\n",
            "Unpacking chromium-browser (1:85.0.4183.83-0ubuntu2.22.04.1) ...\n",
            "Selecting previously unselected package chromium-chromedriver.\n",
            "Preparing to unpack .../chromium-chromedriver_1%3a85.0.4183.83-0ubuntu2.22.04.1_amd64.deb ...\n",
            "Unpacking chromium-chromedriver (1:85.0.4183.83-0ubuntu2.22.04.1) ...\n",
            "Selecting previously unselected package systemd-hwe-hwdb.\n",
            "Preparing to unpack .../systemd-hwe-hwdb_249.11.5_all.deb ...\n",
            "Unpacking systemd-hwe-hwdb (249.11.5) ...\n",
            "Setting up systemd-hwe-hwdb (249.11.5) ...\n",
            "Setting up chromium-browser (1:85.0.4183.83-0ubuntu2.22.04.1) ...\n",
            "update-alternatives: using /usr/bin/chromium-browser to provide /usr/bin/x-www-browser (x-www-browser) in auto mode\n",
            "update-alternatives: using /usr/bin/chromium-browser to provide /usr/bin/gnome-www-browser (gnome-www-browser) in auto mode\n",
            "Setting up chromium-chromedriver (1:85.0.4183.83-0ubuntu2.22.04.1) ...\n",
            "Processing triggers for udev (249.11-0ubuntu3.12) ...\n",
            "Processing triggers for hicolor-icon-theme (0.17-2) ...\n",
            "Processing triggers for libc-bin (2.35-0ubuntu3.4) ...\n",
            "/sbin/ldconfig.real: /usr/local/lib/libtbb.so.12 is not a symbolic link\n",
            "\n",
            "/sbin/ldconfig.real: /usr/local/lib/libtcm.so.1 is not a symbolic link\n",
            "\n",
            "/sbin/ldconfig.real: /usr/local/lib/libtbbmalloc_proxy.so.2 is not a symbolic link\n",
            "\n",
            "/sbin/ldconfig.real: /usr/local/lib/libhwloc.so.15 is not a symbolic link\n",
            "\n",
            "/sbin/ldconfig.real: /usr/local/lib/libtbbmalloc.so.2 is not a symbolic link\n",
            "\n",
            "/sbin/ldconfig.real: /usr/local/lib/libur_adapter_level_zero.so.0 is not a symbolic link\n",
            "\n",
            "/sbin/ldconfig.real: /usr/local/lib/libtbbbind_2_5.so.3 is not a symbolic link\n",
            "\n",
            "/sbin/ldconfig.real: /usr/local/lib/libtcm_debug.so.1 is not a symbolic link\n",
            "\n",
            "/sbin/ldconfig.real: /usr/local/lib/libumf.so.0 is not a symbolic link\n",
            "\n",
            "/sbin/ldconfig.real: /usr/local/lib/libtbbbind_2_0.so.3 is not a symbolic link\n",
            "\n",
            "/sbin/ldconfig.real: /usr/local/lib/libtbbbind.so.3 is not a symbolic link\n",
            "\n",
            "/sbin/ldconfig.real: /usr/local/lib/libur_adapter_opencl.so.0 is not a symbolic link\n",
            "\n",
            "/sbin/ldconfig.real: /usr/local/lib/libur_loader.so.0 is not a symbolic link\n",
            "\n",
            "Processing triggers for man-db (2.10.2-1) ...\n",
            "Processing triggers for dbus (1.12.20-2ubuntu4.1) ...\n"
          ]
        }
      ]
    },
    {
      "cell_type": "code",
      "source": [
        "!cp /usr/lib/chromium-browser/chromedriver /usr/bin\n"
      ],
      "metadata": {
        "colab": {
          "base_uri": "https://localhost:8080/"
        },
        "id": "bV_3fUlystJc",
        "outputId": "b0cdb1e5-4931-4350-de35-6699e6967ae7"
      },
      "execution_count": 6,
      "outputs": [
        {
          "output_type": "stream",
          "name": "stdout",
          "text": [
            "cp: '/usr/lib/chromium-browser/chromedriver' and '/usr/bin/chromedriver' are the same file\n"
          ]
        }
      ]
    },
    {
      "cell_type": "code",
      "source": [
        "# Configurar Selenium para Colab\n",
        "from selenium import webdriver\n",
        "from selenium.webdriver.common.by import By\n",
        "import time\n",
        "\n",
        "# Configuración del navegador en modo headless\n",
        "options = webdriver.ChromeOptions()\n",
        "options.add_argument('--headless')  # Modo sin interfaz gráfica\n",
        "options.add_argument('--no-sandbox')  # Necesario para Colab\n",
        "options.add_argument('--disable-dev-shm-usage')  # Evitar problemas de memoria\n",
        "options.add_argument('--disable-gpu')\n",
        "\n",
        "# Inicializar el controlador del navegador\n",
        "driver = webdriver.Chrome(options=options)\n",
        "\n",
        "# URL base\n",
        "url = \"https://simi.concejodemedellin.gov.co/simi3/invitados/proyectos/acuerdos.xhtml\"\n",
        "\n",
        "# Inicializar listas para almacenar los datos\n",
        "Nombres = []\n",
        "Fechas = []\n",
        "Epigrafe = []\n",
        "Tipo = []\n",
        "botones = []\n",
        "\n",
        "try:\n",
        "    # Navegar al sitio web\n",
        "    driver.get(url)\n",
        "\n",
        "    # Esperar a que la página cargue completamente\n",
        "    time.sleep(5)\n",
        "\n",
        "    while True:  # Bucle para recorrer todas las páginas\n",
        "        print(\"Procesando página...\")\n",
        "\n",
        "        # Localizar la tabla en la página actual\n",
        "        table = driver.find_element(By.TAG_NAME, \"table\")\n",
        "        tbody = table.find_element(By.TAG_NAME, \"tbody\")\n",
        "        rows = tbody.find_elements(By.TAG_NAME, \"tr\")\n",
        "        # Localizar todos los botones con \"ui-button\"\n",
        "        buttons = driver.find_elements(By.CLASS_NAME, \"ui-button\")  # buscar todos los botones\n",
        "\n",
        "        # Procesar cada fila de la tabla\n",
        "        for row_index, row in enumerate(rows, start=1):\n",
        "            cells = row.find_elements(By.TAG_NAME, \"td\")\n",
        "            for col_index, cell in enumerate(cells, start=1):\n",
        "                cell_content = cell.text.strip()\n",
        "                if col_index == 1:  # Nombre\n",
        "                    Nombres.append(cell_content)\n",
        "                elif col_index == 2:  # Fecha\n",
        "                    Fechas.append(cell_content)\n",
        "                elif col_index == 3:  # Epígrafe\n",
        "                    Epigrafe.append(cell_content)\n",
        "                elif col_index == 4:  # Tipo\n",
        "                    Tipo.append(cell_content)\n",
        "                elif col_index == 5:  # Enlace\n",
        "                  for i, button in enumerate(buttons, start=1):\n",
        "                    onclick_text = button.get_attribute(\"onclick\")\n",
        "                    if onclick_text:  # Solo agregar si el atributo 'onclick' no está vacío\n",
        "                      botones.append(onclick_text)\n",
        "\n",
        "        # Intentar hacer clic en el siguiente botón numérico\n",
        "        try:\n",
        "            # Buscar todos los botones de paginación\n",
        "            page_buttons = driver.find_elements(By.CSS_SELECTOR, \".ui-paginator-page\")#Busca todos los marcados por \".ui-paginator-page\"\n",
        "\n",
        "            # Buscar el siguiente botón de la paginación\n",
        "            for button in page_buttons:\n",
        "                if button.text and button.text.isdigit():\n",
        "                    page_number = int(button.text)\n",
        "                    if page_number > 1:  # Ignorar la página 1, ya que es la página inicial\n",
        "                        button.click()\n",
        "                        time.sleep(3)  # Esperar a que la página cargue\n",
        "                        break\n",
        "            if len(page_buttons) == 0 or page_buttons[-1].text == '10':  # Recorrer de la pagina 0 hasta la 10\n",
        "                print(\"Última página alcanzada.\")\n",
        "                break\n",
        "\n",
        "        except Exception as e:\n",
        "            print(\"Error al navegar a la siguiente página:\", e)\n",
        "            break\n",
        "\n",
        "    # Imprimir las listas de datos extraídos\n",
        "    print(\"Nombres:\", Nombres)\n",
        "    print(\"Fechas:\", Fechas)\n",
        "    print(\"Epígrafe:\", Epigrafe)\n",
        "    print(\"Tipo:\", Tipo)\n",
        "    print(\"Botones:\", botones)\n",
        "\n",
        "finally:\n",
        "    # Cerrar el navegador\n",
        "    driver.quit()\n"
      ],
      "metadata": {
        "colab": {
          "base_uri": "https://localhost:8080/"
        },
        "id": "-uQAONWHsztw",
        "outputId": "26746ba0-a3a0-4955-d420-faa9c5e9db31"
      },
      "execution_count": 9,
      "outputs": [
        {
          "output_type": "stream",
          "name": "stdout",
          "text": [
            "Procesando página...\n",
            "Error al navegar a la siguiente página: Message: stale element reference: stale element not found in the current frame\n",
            "  (Session info: chrome=131.0.6778.87); For documentation on this error, please visit: https://www.selenium.dev/documentation/webdriver/troubleshooting/errors#stale-element-reference-exception\n",
            "Stacktrace:\n",
            "#0 0x573d2b99434a <unknown>\n",
            "#1 0x573d2b4aa6e0 <unknown>\n",
            "#2 0x573d2b4b04a3 <unknown>\n",
            "#3 0x573d2b4b2968 <unknown>\n",
            "#4 0x573d2b4b29f3 <unknown>\n",
            "#5 0x573d2b4f3ba2 <unknown>\n",
            "#6 0x573d2b51d462 <unknown>\n",
            "#7 0x573d2b4eda18 <unknown>\n",
            "#8 0x573d2b51d62e <unknown>\n",
            "#9 0x573d2b53bed7 <unknown>\n",
            "#10 0x573d2b51d203 <unknown>\n",
            "#11 0x573d2b4ebcc0 <unknown>\n",
            "#12 0x573d2b4ecc9e <unknown>\n",
            "#13 0x573d2b961d3b <unknown>\n",
            "#14 0x573d2b965cc2 <unknown>\n",
            "#15 0x573d2b94eb6c <unknown>\n",
            "#16 0x573d2b966837 <unknown>\n",
            "#17 0x573d2b93410f <unknown>\n",
            "#18 0x573d2b9835a8 <unknown>\n",
            "#19 0x573d2b983770 <unknown>\n",
            "#20 0x573d2b9931c6 <unknown>\n",
            "#21 0x79510666dac3 <unknown>\n",
            "\n",
            "Nombres: ['16-2024', '14-2024', '13-2024', '12-2024', '11-2024', '10-2024', '9-2024', '8-2024', '7-2024', '6-2024']\n",
            "Fechas: ['25-2024', '22-2024', '24-2024', '19-2024', '15-2024', '17-2024', '12-2024', '16-2024', '13-2024', '14-2024']\n",
            "Epígrafe: ['“Por medio del cual se fija el porcentaje ambiental del impuesto predial como sobretasa con destino a la protección del Medio Ambiente y de los Recursos Naturales Renovables en el Distrito Especial de Ciencia Tecnología e Innovación de Medellín para el año 2025”', '“Por medio del cual se fija el incremento salarial que regirá en el año 2025”', '“Por medio del cual se autoriza al Alcalde de Medellín para comprometer vigencias futuras ordinarias y excepcionales\"', '“Por medio del cual se adopta la Política Pública de Gestión de la Migración del Distrito Especial de Ciencia, Tecnología e Innovación de Medellín”', 'Por medio del cual se modifica el Acuerdo 79 de 2013 y se dictan otras disposiciones', 'Por medio del cual se autoriza al Alcalde de Medellín para comprometer vigencias futuras ordinarias y excepcionales.', 'Por medio del cual se autoriza la enajenación de unas participaciones accionarias, y se dictan otras disposiciones.', 'Por medio del cual se adiciona y modifica el Acuerdo 093 de 2023', '“Por medio del cual se crean Comisarías de Familia y se modifica la estructura orgánica y funcional del nivel central del Distrito Especial de Ciencia, Tecnología e Innovación de Medellín”', 'Por medio del cual se autoriza al alcalde del Distrito Especial de Ciencia, Tecnología e Innovación de Medellín para que efectúe aportes a algunas entidades descentralizadas indirectas del orden distrital']\n",
            "Tipo: ['Acuerdo sancionado', 'Acuerdo sancionado', 'Acuerdo sancionado', 'Acuerdo sancionado', 'Acuerdo sancionado', 'Acuerdo sancionado', 'Acuerdo sancionado', 'Acuerdo sancionado', 'Acuerdo sancionado', 'Acuerdo sancionado']\n",
            "Botones: ['PrimeFaces.ab({s:\"proyectosdt-id:0:j_idt52\",f:\"forma_acuerdo\",p:\"proyectosdt-id:0:j_idt52\",u:\"pa-invitados-id pa-detail-id\",onco:function(xhr,status,args,data){PF(\\'paInvitadosDialog\\').show();}});return false;', 'PrimeFaces.ab({s:\"proyectosdt-id:1:j_idt52\",f:\"forma_acuerdo\",p:\"proyectosdt-id:1:j_idt52\",u:\"pa-invitados-id pa-detail-id\",onco:function(xhr,status,args,data){PF(\\'paInvitadosDialog\\').show();}});return false;', 'PrimeFaces.ab({s:\"proyectosdt-id:2:j_idt52\",f:\"forma_acuerdo\",p:\"proyectosdt-id:2:j_idt52\",u:\"pa-invitados-id pa-detail-id\",onco:function(xhr,status,args,data){PF(\\'paInvitadosDialog\\').show();}});return false;', 'PrimeFaces.ab({s:\"proyectosdt-id:3:j_idt52\",f:\"forma_acuerdo\",p:\"proyectosdt-id:3:j_idt52\",u:\"pa-invitados-id pa-detail-id\",onco:function(xhr,status,args,data){PF(\\'paInvitadosDialog\\').show();}});return false;', 'PrimeFaces.ab({s:\"proyectosdt-id:4:j_idt52\",f:\"forma_acuerdo\",p:\"proyectosdt-id:4:j_idt52\",u:\"pa-invitados-id pa-detail-id\",onco:function(xhr,status,args,data){PF(\\'paInvitadosDialog\\').show();}});return false;', 'PrimeFaces.ab({s:\"proyectosdt-id:5:j_idt52\",f:\"forma_acuerdo\",p:\"proyectosdt-id:5:j_idt52\",u:\"pa-invitados-id pa-detail-id\",onco:function(xhr,status,args,data){PF(\\'paInvitadosDialog\\').show();}});return false;', 'PrimeFaces.ab({s:\"proyectosdt-id:6:j_idt52\",f:\"forma_acuerdo\",p:\"proyectosdt-id:6:j_idt52\",u:\"pa-invitados-id pa-detail-id\",onco:function(xhr,status,args,data){PF(\\'paInvitadosDialog\\').show();}});return false;', 'PrimeFaces.ab({s:\"proyectosdt-id:7:j_idt52\",f:\"forma_acuerdo\",p:\"proyectosdt-id:7:j_idt52\",u:\"pa-invitados-id pa-detail-id\",onco:function(xhr,status,args,data){PF(\\'paInvitadosDialog\\').show();}});return false;', 'PrimeFaces.ab({s:\"proyectosdt-id:8:j_idt52\",f:\"forma_acuerdo\",p:\"proyectosdt-id:8:j_idt52\",u:\"pa-invitados-id pa-detail-id\",onco:function(xhr,status,args,data){PF(\\'paInvitadosDialog\\').show();}});return false;', 'PrimeFaces.ab({s:\"proyectosdt-id:9:j_idt52\",f:\"forma_acuerdo\",p:\"proyectosdt-id:9:j_idt52\",u:\"pa-invitados-id pa-detail-id\",onco:function(xhr,status,args,data){PF(\\'paInvitadosDialog\\').show();}});return false;', 'PrimeFaces.ab({s:\"proyectosdt-id:0:j_idt52\",f:\"forma_acuerdo\",p:\"proyectosdt-id:0:j_idt52\",u:\"pa-invitados-id pa-detail-id\",onco:function(xhr,status,args,data){PF(\\'paInvitadosDialog\\').show();}});return false;', 'PrimeFaces.ab({s:\"proyectosdt-id:1:j_idt52\",f:\"forma_acuerdo\",p:\"proyectosdt-id:1:j_idt52\",u:\"pa-invitados-id pa-detail-id\",onco:function(xhr,status,args,data){PF(\\'paInvitadosDialog\\').show();}});return false;', 'PrimeFaces.ab({s:\"proyectosdt-id:2:j_idt52\",f:\"forma_acuerdo\",p:\"proyectosdt-id:2:j_idt52\",u:\"pa-invitados-id pa-detail-id\",onco:function(xhr,status,args,data){PF(\\'paInvitadosDialog\\').show();}});return false;', 'PrimeFaces.ab({s:\"proyectosdt-id:3:j_idt52\",f:\"forma_acuerdo\",p:\"proyectosdt-id:3:j_idt52\",u:\"pa-invitados-id pa-detail-id\",onco:function(xhr,status,args,data){PF(\\'paInvitadosDialog\\').show();}});return false;', 'PrimeFaces.ab({s:\"proyectosdt-id:4:j_idt52\",f:\"forma_acuerdo\",p:\"proyectosdt-id:4:j_idt52\",u:\"pa-invitados-id pa-detail-id\",onco:function(xhr,status,args,data){PF(\\'paInvitadosDialog\\').show();}});return false;', 'PrimeFaces.ab({s:\"proyectosdt-id:5:j_idt52\",f:\"forma_acuerdo\",p:\"proyectosdt-id:5:j_idt52\",u:\"pa-invitados-id pa-detail-id\",onco:function(xhr,status,args,data){PF(\\'paInvitadosDialog\\').show();}});return false;', 'PrimeFaces.ab({s:\"proyectosdt-id:6:j_idt52\",f:\"forma_acuerdo\",p:\"proyectosdt-id:6:j_idt52\",u:\"pa-invitados-id pa-detail-id\",onco:function(xhr,status,args,data){PF(\\'paInvitadosDialog\\').show();}});return false;', 'PrimeFaces.ab({s:\"proyectosdt-id:7:j_idt52\",f:\"forma_acuerdo\",p:\"proyectosdt-id:7:j_idt52\",u:\"pa-invitados-id pa-detail-id\",onco:function(xhr,status,args,data){PF(\\'paInvitadosDialog\\').show();}});return false;', 'PrimeFaces.ab({s:\"proyectosdt-id:8:j_idt52\",f:\"forma_acuerdo\",p:\"proyectosdt-id:8:j_idt52\",u:\"pa-invitados-id pa-detail-id\",onco:function(xhr,status,args,data){PF(\\'paInvitadosDialog\\').show();}});return false;', 'PrimeFaces.ab({s:\"proyectosdt-id:9:j_idt52\",f:\"forma_acuerdo\",p:\"proyectosdt-id:9:j_idt52\",u:\"pa-invitados-id pa-detail-id\",onco:function(xhr,status,args,data){PF(\\'paInvitadosDialog\\').show();}});return false;', 'PrimeFaces.ab({s:\"proyectosdt-id:0:j_idt52\",f:\"forma_acuerdo\",p:\"proyectosdt-id:0:j_idt52\",u:\"pa-invitados-id pa-detail-id\",onco:function(xhr,status,args,data){PF(\\'paInvitadosDialog\\').show();}});return false;', 'PrimeFaces.ab({s:\"proyectosdt-id:1:j_idt52\",f:\"forma_acuerdo\",p:\"proyectosdt-id:1:j_idt52\",u:\"pa-invitados-id pa-detail-id\",onco:function(xhr,status,args,data){PF(\\'paInvitadosDialog\\').show();}});return false;', 'PrimeFaces.ab({s:\"proyectosdt-id:2:j_idt52\",f:\"forma_acuerdo\",p:\"proyectosdt-id:2:j_idt52\",u:\"pa-invitados-id pa-detail-id\",onco:function(xhr,status,args,data){PF(\\'paInvitadosDialog\\').show();}});return false;', 'PrimeFaces.ab({s:\"proyectosdt-id:3:j_idt52\",f:\"forma_acuerdo\",p:\"proyectosdt-id:3:j_idt52\",u:\"pa-invitados-id pa-detail-id\",onco:function(xhr,status,args,data){PF(\\'paInvitadosDialog\\').show();}});return false;', 'PrimeFaces.ab({s:\"proyectosdt-id:4:j_idt52\",f:\"forma_acuerdo\",p:\"proyectosdt-id:4:j_idt52\",u:\"pa-invitados-id pa-detail-id\",onco:function(xhr,status,args,data){PF(\\'paInvitadosDialog\\').show();}});return false;', 'PrimeFaces.ab({s:\"proyectosdt-id:5:j_idt52\",f:\"forma_acuerdo\",p:\"proyectosdt-id:5:j_idt52\",u:\"pa-invitados-id pa-detail-id\",onco:function(xhr,status,args,data){PF(\\'paInvitadosDialog\\').show();}});return false;', 'PrimeFaces.ab({s:\"proyectosdt-id:6:j_idt52\",f:\"forma_acuerdo\",p:\"proyectosdt-id:6:j_idt52\",u:\"pa-invitados-id pa-detail-id\",onco:function(xhr,status,args,data){PF(\\'paInvitadosDialog\\').show();}});return false;', 'PrimeFaces.ab({s:\"proyectosdt-id:7:j_idt52\",f:\"forma_acuerdo\",p:\"proyectosdt-id:7:j_idt52\",u:\"pa-invitados-id pa-detail-id\",onco:function(xhr,status,args,data){PF(\\'paInvitadosDialog\\').show();}});return false;', 'PrimeFaces.ab({s:\"proyectosdt-id:8:j_idt52\",f:\"forma_acuerdo\",p:\"proyectosdt-id:8:j_idt52\",u:\"pa-invitados-id pa-detail-id\",onco:function(xhr,status,args,data){PF(\\'paInvitadosDialog\\').show();}});return false;', 'PrimeFaces.ab({s:\"proyectosdt-id:9:j_idt52\",f:\"forma_acuerdo\",p:\"proyectosdt-id:9:j_idt52\",u:\"pa-invitados-id pa-detail-id\",onco:function(xhr,status,args,data){PF(\\'paInvitadosDialog\\').show();}});return false;', 'PrimeFaces.ab({s:\"proyectosdt-id:0:j_idt52\",f:\"forma_acuerdo\",p:\"proyectosdt-id:0:j_idt52\",u:\"pa-invitados-id pa-detail-id\",onco:function(xhr,status,args,data){PF(\\'paInvitadosDialog\\').show();}});return false;', 'PrimeFaces.ab({s:\"proyectosdt-id:1:j_idt52\",f:\"forma_acuerdo\",p:\"proyectosdt-id:1:j_idt52\",u:\"pa-invitados-id pa-detail-id\",onco:function(xhr,status,args,data){PF(\\'paInvitadosDialog\\').show();}});return false;', 'PrimeFaces.ab({s:\"proyectosdt-id:2:j_idt52\",f:\"forma_acuerdo\",p:\"proyectosdt-id:2:j_idt52\",u:\"pa-invitados-id pa-detail-id\",onco:function(xhr,status,args,data){PF(\\'paInvitadosDialog\\').show();}});return false;', 'PrimeFaces.ab({s:\"proyectosdt-id:3:j_idt52\",f:\"forma_acuerdo\",p:\"proyectosdt-id:3:j_idt52\",u:\"pa-invitados-id pa-detail-id\",onco:function(xhr,status,args,data){PF(\\'paInvitadosDialog\\').show();}});return false;', 'PrimeFaces.ab({s:\"proyectosdt-id:4:j_idt52\",f:\"forma_acuerdo\",p:\"proyectosdt-id:4:j_idt52\",u:\"pa-invitados-id pa-detail-id\",onco:function(xhr,status,args,data){PF(\\'paInvitadosDialog\\').show();}});return false;', 'PrimeFaces.ab({s:\"proyectosdt-id:5:j_idt52\",f:\"forma_acuerdo\",p:\"proyectosdt-id:5:j_idt52\",u:\"pa-invitados-id pa-detail-id\",onco:function(xhr,status,args,data){PF(\\'paInvitadosDialog\\').show();}});return false;', 'PrimeFaces.ab({s:\"proyectosdt-id:6:j_idt52\",f:\"forma_acuerdo\",p:\"proyectosdt-id:6:j_idt52\",u:\"pa-invitados-id pa-detail-id\",onco:function(xhr,status,args,data){PF(\\'paInvitadosDialog\\').show();}});return false;', 'PrimeFaces.ab({s:\"proyectosdt-id:7:j_idt52\",f:\"forma_acuerdo\",p:\"proyectosdt-id:7:j_idt52\",u:\"pa-invitados-id pa-detail-id\",onco:function(xhr,status,args,data){PF(\\'paInvitadosDialog\\').show();}});return false;', 'PrimeFaces.ab({s:\"proyectosdt-id:8:j_idt52\",f:\"forma_acuerdo\",p:\"proyectosdt-id:8:j_idt52\",u:\"pa-invitados-id pa-detail-id\",onco:function(xhr,status,args,data){PF(\\'paInvitadosDialog\\').show();}});return false;', 'PrimeFaces.ab({s:\"proyectosdt-id:9:j_idt52\",f:\"forma_acuerdo\",p:\"proyectosdt-id:9:j_idt52\",u:\"pa-invitados-id pa-detail-id\",onco:function(xhr,status,args,data){PF(\\'paInvitadosDialog\\').show();}});return false;', 'PrimeFaces.ab({s:\"proyectosdt-id:0:j_idt52\",f:\"forma_acuerdo\",p:\"proyectosdt-id:0:j_idt52\",u:\"pa-invitados-id pa-detail-id\",onco:function(xhr,status,args,data){PF(\\'paInvitadosDialog\\').show();}});return false;', 'PrimeFaces.ab({s:\"proyectosdt-id:1:j_idt52\",f:\"forma_acuerdo\",p:\"proyectosdt-id:1:j_idt52\",u:\"pa-invitados-id pa-detail-id\",onco:function(xhr,status,args,data){PF(\\'paInvitadosDialog\\').show();}});return false;', 'PrimeFaces.ab({s:\"proyectosdt-id:2:j_idt52\",f:\"forma_acuerdo\",p:\"proyectosdt-id:2:j_idt52\",u:\"pa-invitados-id pa-detail-id\",onco:function(xhr,status,args,data){PF(\\'paInvitadosDialog\\').show();}});return false;', 'PrimeFaces.ab({s:\"proyectosdt-id:3:j_idt52\",f:\"forma_acuerdo\",p:\"proyectosdt-id:3:j_idt52\",u:\"pa-invitados-id pa-detail-id\",onco:function(xhr,status,args,data){PF(\\'paInvitadosDialog\\').show();}});return false;', 'PrimeFaces.ab({s:\"proyectosdt-id:4:j_idt52\",f:\"forma_acuerdo\",p:\"proyectosdt-id:4:j_idt52\",u:\"pa-invitados-id pa-detail-id\",onco:function(xhr,status,args,data){PF(\\'paInvitadosDialog\\').show();}});return false;', 'PrimeFaces.ab({s:\"proyectosdt-id:5:j_idt52\",f:\"forma_acuerdo\",p:\"proyectosdt-id:5:j_idt52\",u:\"pa-invitados-id pa-detail-id\",onco:function(xhr,status,args,data){PF(\\'paInvitadosDialog\\').show();}});return false;', 'PrimeFaces.ab({s:\"proyectosdt-id:6:j_idt52\",f:\"forma_acuerdo\",p:\"proyectosdt-id:6:j_idt52\",u:\"pa-invitados-id pa-detail-id\",onco:function(xhr,status,args,data){PF(\\'paInvitadosDialog\\').show();}});return false;', 'PrimeFaces.ab({s:\"proyectosdt-id:7:j_idt52\",f:\"forma_acuerdo\",p:\"proyectosdt-id:7:j_idt52\",u:\"pa-invitados-id pa-detail-id\",onco:function(xhr,status,args,data){PF(\\'paInvitadosDialog\\').show();}});return false;', 'PrimeFaces.ab({s:\"proyectosdt-id:8:j_idt52\",f:\"forma_acuerdo\",p:\"proyectosdt-id:8:j_idt52\",u:\"pa-invitados-id pa-detail-id\",onco:function(xhr,status,args,data){PF(\\'paInvitadosDialog\\').show();}});return false;', 'PrimeFaces.ab({s:\"proyectosdt-id:9:j_idt52\",f:\"forma_acuerdo\",p:\"proyectosdt-id:9:j_idt52\",u:\"pa-invitados-id pa-detail-id\",onco:function(xhr,status,args,data){PF(\\'paInvitadosDialog\\').show();}});return false;', 'PrimeFaces.ab({s:\"proyectosdt-id:0:j_idt52\",f:\"forma_acuerdo\",p:\"proyectosdt-id:0:j_idt52\",u:\"pa-invitados-id pa-detail-id\",onco:function(xhr,status,args,data){PF(\\'paInvitadosDialog\\').show();}});return false;', 'PrimeFaces.ab({s:\"proyectosdt-id:1:j_idt52\",f:\"forma_acuerdo\",p:\"proyectosdt-id:1:j_idt52\",u:\"pa-invitados-id pa-detail-id\",onco:function(xhr,status,args,data){PF(\\'paInvitadosDialog\\').show();}});return false;', 'PrimeFaces.ab({s:\"proyectosdt-id:2:j_idt52\",f:\"forma_acuerdo\",p:\"proyectosdt-id:2:j_idt52\",u:\"pa-invitados-id pa-detail-id\",onco:function(xhr,status,args,data){PF(\\'paInvitadosDialog\\').show();}});return false;', 'PrimeFaces.ab({s:\"proyectosdt-id:3:j_idt52\",f:\"forma_acuerdo\",p:\"proyectosdt-id:3:j_idt52\",u:\"pa-invitados-id pa-detail-id\",onco:function(xhr,status,args,data){PF(\\'paInvitadosDialog\\').show();}});return false;', 'PrimeFaces.ab({s:\"proyectosdt-id:4:j_idt52\",f:\"forma_acuerdo\",p:\"proyectosdt-id:4:j_idt52\",u:\"pa-invitados-id pa-detail-id\",onco:function(xhr,status,args,data){PF(\\'paInvitadosDialog\\').show();}});return false;', 'PrimeFaces.ab({s:\"proyectosdt-id:5:j_idt52\",f:\"forma_acuerdo\",p:\"proyectosdt-id:5:j_idt52\",u:\"pa-invitados-id pa-detail-id\",onco:function(xhr,status,args,data){PF(\\'paInvitadosDialog\\').show();}});return false;', 'PrimeFaces.ab({s:\"proyectosdt-id:6:j_idt52\",f:\"forma_acuerdo\",p:\"proyectosdt-id:6:j_idt52\",u:\"pa-invitados-id pa-detail-id\",onco:function(xhr,status,args,data){PF(\\'paInvitadosDialog\\').show();}});return false;', 'PrimeFaces.ab({s:\"proyectosdt-id:7:j_idt52\",f:\"forma_acuerdo\",p:\"proyectosdt-id:7:j_idt52\",u:\"pa-invitados-id pa-detail-id\",onco:function(xhr,status,args,data){PF(\\'paInvitadosDialog\\').show();}});return false;', 'PrimeFaces.ab({s:\"proyectosdt-id:8:j_idt52\",f:\"forma_acuerdo\",p:\"proyectosdt-id:8:j_idt52\",u:\"pa-invitados-id pa-detail-id\",onco:function(xhr,status,args,data){PF(\\'paInvitadosDialog\\').show();}});return false;', 'PrimeFaces.ab({s:\"proyectosdt-id:9:j_idt52\",f:\"forma_acuerdo\",p:\"proyectosdt-id:9:j_idt52\",u:\"pa-invitados-id pa-detail-id\",onco:function(xhr,status,args,data){PF(\\'paInvitadosDialog\\').show();}});return false;', 'PrimeFaces.ab({s:\"proyectosdt-id:0:j_idt52\",f:\"forma_acuerdo\",p:\"proyectosdt-id:0:j_idt52\",u:\"pa-invitados-id pa-detail-id\",onco:function(xhr,status,args,data){PF(\\'paInvitadosDialog\\').show();}});return false;', 'PrimeFaces.ab({s:\"proyectosdt-id:1:j_idt52\",f:\"forma_acuerdo\",p:\"proyectosdt-id:1:j_idt52\",u:\"pa-invitados-id pa-detail-id\",onco:function(xhr,status,args,data){PF(\\'paInvitadosDialog\\').show();}});return false;', 'PrimeFaces.ab({s:\"proyectosdt-id:2:j_idt52\",f:\"forma_acuerdo\",p:\"proyectosdt-id:2:j_idt52\",u:\"pa-invitados-id pa-detail-id\",onco:function(xhr,status,args,data){PF(\\'paInvitadosDialog\\').show();}});return false;', 'PrimeFaces.ab({s:\"proyectosdt-id:3:j_idt52\",f:\"forma_acuerdo\",p:\"proyectosdt-id:3:j_idt52\",u:\"pa-invitados-id pa-detail-id\",onco:function(xhr,status,args,data){PF(\\'paInvitadosDialog\\').show();}});return false;', 'PrimeFaces.ab({s:\"proyectosdt-id:4:j_idt52\",f:\"forma_acuerdo\",p:\"proyectosdt-id:4:j_idt52\",u:\"pa-invitados-id pa-detail-id\",onco:function(xhr,status,args,data){PF(\\'paInvitadosDialog\\').show();}});return false;', 'PrimeFaces.ab({s:\"proyectosdt-id:5:j_idt52\",f:\"forma_acuerdo\",p:\"proyectosdt-id:5:j_idt52\",u:\"pa-invitados-id pa-detail-id\",onco:function(xhr,status,args,data){PF(\\'paInvitadosDialog\\').show();}});return false;', 'PrimeFaces.ab({s:\"proyectosdt-id:6:j_idt52\",f:\"forma_acuerdo\",p:\"proyectosdt-id:6:j_idt52\",u:\"pa-invitados-id pa-detail-id\",onco:function(xhr,status,args,data){PF(\\'paInvitadosDialog\\').show();}});return false;', 'PrimeFaces.ab({s:\"proyectosdt-id:7:j_idt52\",f:\"forma_acuerdo\",p:\"proyectosdt-id:7:j_idt52\",u:\"pa-invitados-id pa-detail-id\",onco:function(xhr,status,args,data){PF(\\'paInvitadosDialog\\').show();}});return false;', 'PrimeFaces.ab({s:\"proyectosdt-id:8:j_idt52\",f:\"forma_acuerdo\",p:\"proyectosdt-id:8:j_idt52\",u:\"pa-invitados-id pa-detail-id\",onco:function(xhr,status,args,data){PF(\\'paInvitadosDialog\\').show();}});return false;', 'PrimeFaces.ab({s:\"proyectosdt-id:9:j_idt52\",f:\"forma_acuerdo\",p:\"proyectosdt-id:9:j_idt52\",u:\"pa-invitados-id pa-detail-id\",onco:function(xhr,status,args,data){PF(\\'paInvitadosDialog\\').show();}});return false;', 'PrimeFaces.ab({s:\"proyectosdt-id:0:j_idt52\",f:\"forma_acuerdo\",p:\"proyectosdt-id:0:j_idt52\",u:\"pa-invitados-id pa-detail-id\",onco:function(xhr,status,args,data){PF(\\'paInvitadosDialog\\').show();}});return false;', 'PrimeFaces.ab({s:\"proyectosdt-id:1:j_idt52\",f:\"forma_acuerdo\",p:\"proyectosdt-id:1:j_idt52\",u:\"pa-invitados-id pa-detail-id\",onco:function(xhr,status,args,data){PF(\\'paInvitadosDialog\\').show();}});return false;', 'PrimeFaces.ab({s:\"proyectosdt-id:2:j_idt52\",f:\"forma_acuerdo\",p:\"proyectosdt-id:2:j_idt52\",u:\"pa-invitados-id pa-detail-id\",onco:function(xhr,status,args,data){PF(\\'paInvitadosDialog\\').show();}});return false;', 'PrimeFaces.ab({s:\"proyectosdt-id:3:j_idt52\",f:\"forma_acuerdo\",p:\"proyectosdt-id:3:j_idt52\",u:\"pa-invitados-id pa-detail-id\",onco:function(xhr,status,args,data){PF(\\'paInvitadosDialog\\').show();}});return false;', 'PrimeFaces.ab({s:\"proyectosdt-id:4:j_idt52\",f:\"forma_acuerdo\",p:\"proyectosdt-id:4:j_idt52\",u:\"pa-invitados-id pa-detail-id\",onco:function(xhr,status,args,data){PF(\\'paInvitadosDialog\\').show();}});return false;', 'PrimeFaces.ab({s:\"proyectosdt-id:5:j_idt52\",f:\"forma_acuerdo\",p:\"proyectosdt-id:5:j_idt52\",u:\"pa-invitados-id pa-detail-id\",onco:function(xhr,status,args,data){PF(\\'paInvitadosDialog\\').show();}});return false;', 'PrimeFaces.ab({s:\"proyectosdt-id:6:j_idt52\",f:\"forma_acuerdo\",p:\"proyectosdt-id:6:j_idt52\",u:\"pa-invitados-id pa-detail-id\",onco:function(xhr,status,args,data){PF(\\'paInvitadosDialog\\').show();}});return false;', 'PrimeFaces.ab({s:\"proyectosdt-id:7:j_idt52\",f:\"forma_acuerdo\",p:\"proyectosdt-id:7:j_idt52\",u:\"pa-invitados-id pa-detail-id\",onco:function(xhr,status,args,data){PF(\\'paInvitadosDialog\\').show();}});return false;', 'PrimeFaces.ab({s:\"proyectosdt-id:8:j_idt52\",f:\"forma_acuerdo\",p:\"proyectosdt-id:8:j_idt52\",u:\"pa-invitados-id pa-detail-id\",onco:function(xhr,status,args,data){PF(\\'paInvitadosDialog\\').show();}});return false;', 'PrimeFaces.ab({s:\"proyectosdt-id:9:j_idt52\",f:\"forma_acuerdo\",p:\"proyectosdt-id:9:j_idt52\",u:\"pa-invitados-id pa-detail-id\",onco:function(xhr,status,args,data){PF(\\'paInvitadosDialog\\').show();}});return false;', 'PrimeFaces.ab({s:\"proyectosdt-id:0:j_idt52\",f:\"forma_acuerdo\",p:\"proyectosdt-id:0:j_idt52\",u:\"pa-invitados-id pa-detail-id\",onco:function(xhr,status,args,data){PF(\\'paInvitadosDialog\\').show();}});return false;', 'PrimeFaces.ab({s:\"proyectosdt-id:1:j_idt52\",f:\"forma_acuerdo\",p:\"proyectosdt-id:1:j_idt52\",u:\"pa-invitados-id pa-detail-id\",onco:function(xhr,status,args,data){PF(\\'paInvitadosDialog\\').show();}});return false;', 'PrimeFaces.ab({s:\"proyectosdt-id:2:j_idt52\",f:\"forma_acuerdo\",p:\"proyectosdt-id:2:j_idt52\",u:\"pa-invitados-id pa-detail-id\",onco:function(xhr,status,args,data){PF(\\'paInvitadosDialog\\').show();}});return false;', 'PrimeFaces.ab({s:\"proyectosdt-id:3:j_idt52\",f:\"forma_acuerdo\",p:\"proyectosdt-id:3:j_idt52\",u:\"pa-invitados-id pa-detail-id\",onco:function(xhr,status,args,data){PF(\\'paInvitadosDialog\\').show();}});return false;', 'PrimeFaces.ab({s:\"proyectosdt-id:4:j_idt52\",f:\"forma_acuerdo\",p:\"proyectosdt-id:4:j_idt52\",u:\"pa-invitados-id pa-detail-id\",onco:function(xhr,status,args,data){PF(\\'paInvitadosDialog\\').show();}});return false;', 'PrimeFaces.ab({s:\"proyectosdt-id:5:j_idt52\",f:\"forma_acuerdo\",p:\"proyectosdt-id:5:j_idt52\",u:\"pa-invitados-id pa-detail-id\",onco:function(xhr,status,args,data){PF(\\'paInvitadosDialog\\').show();}});return false;', 'PrimeFaces.ab({s:\"proyectosdt-id:6:j_idt52\",f:\"forma_acuerdo\",p:\"proyectosdt-id:6:j_idt52\",u:\"pa-invitados-id pa-detail-id\",onco:function(xhr,status,args,data){PF(\\'paInvitadosDialog\\').show();}});return false;', 'PrimeFaces.ab({s:\"proyectosdt-id:7:j_idt52\",f:\"forma_acuerdo\",p:\"proyectosdt-id:7:j_idt52\",u:\"pa-invitados-id pa-detail-id\",onco:function(xhr,status,args,data){PF(\\'paInvitadosDialog\\').show();}});return false;', 'PrimeFaces.ab({s:\"proyectosdt-id:8:j_idt52\",f:\"forma_acuerdo\",p:\"proyectosdt-id:8:j_idt52\",u:\"pa-invitados-id pa-detail-id\",onco:function(xhr,status,args,data){PF(\\'paInvitadosDialog\\').show();}});return false;', 'PrimeFaces.ab({s:\"proyectosdt-id:9:j_idt52\",f:\"forma_acuerdo\",p:\"proyectosdt-id:9:j_idt52\",u:\"pa-invitados-id pa-detail-id\",onco:function(xhr,status,args,data){PF(\\'paInvitadosDialog\\').show();}});return false;', 'PrimeFaces.ab({s:\"proyectosdt-id:0:j_idt52\",f:\"forma_acuerdo\",p:\"proyectosdt-id:0:j_idt52\",u:\"pa-invitados-id pa-detail-id\",onco:function(xhr,status,args,data){PF(\\'paInvitadosDialog\\').show();}});return false;', 'PrimeFaces.ab({s:\"proyectosdt-id:1:j_idt52\",f:\"forma_acuerdo\",p:\"proyectosdt-id:1:j_idt52\",u:\"pa-invitados-id pa-detail-id\",onco:function(xhr,status,args,data){PF(\\'paInvitadosDialog\\').show();}});return false;', 'PrimeFaces.ab({s:\"proyectosdt-id:2:j_idt52\",f:\"forma_acuerdo\",p:\"proyectosdt-id:2:j_idt52\",u:\"pa-invitados-id pa-detail-id\",onco:function(xhr,status,args,data){PF(\\'paInvitadosDialog\\').show();}});return false;', 'PrimeFaces.ab({s:\"proyectosdt-id:3:j_idt52\",f:\"forma_acuerdo\",p:\"proyectosdt-id:3:j_idt52\",u:\"pa-invitados-id pa-detail-id\",onco:function(xhr,status,args,data){PF(\\'paInvitadosDialog\\').show();}});return false;', 'PrimeFaces.ab({s:\"proyectosdt-id:4:j_idt52\",f:\"forma_acuerdo\",p:\"proyectosdt-id:4:j_idt52\",u:\"pa-invitados-id pa-detail-id\",onco:function(xhr,status,args,data){PF(\\'paInvitadosDialog\\').show();}});return false;', 'PrimeFaces.ab({s:\"proyectosdt-id:5:j_idt52\",f:\"forma_acuerdo\",p:\"proyectosdt-id:5:j_idt52\",u:\"pa-invitados-id pa-detail-id\",onco:function(xhr,status,args,data){PF(\\'paInvitadosDialog\\').show();}});return false;', 'PrimeFaces.ab({s:\"proyectosdt-id:6:j_idt52\",f:\"forma_acuerdo\",p:\"proyectosdt-id:6:j_idt52\",u:\"pa-invitados-id pa-detail-id\",onco:function(xhr,status,args,data){PF(\\'paInvitadosDialog\\').show();}});return false;', 'PrimeFaces.ab({s:\"proyectosdt-id:7:j_idt52\",f:\"forma_acuerdo\",p:\"proyectosdt-id:7:j_idt52\",u:\"pa-invitados-id pa-detail-id\",onco:function(xhr,status,args,data){PF(\\'paInvitadosDialog\\').show();}});return false;', 'PrimeFaces.ab({s:\"proyectosdt-id:8:j_idt52\",f:\"forma_acuerdo\",p:\"proyectosdt-id:8:j_idt52\",u:\"pa-invitados-id pa-detail-id\",onco:function(xhr,status,args,data){PF(\\'paInvitadosDialog\\').show();}});return false;', 'PrimeFaces.ab({s:\"proyectosdt-id:9:j_idt52\",f:\"forma_acuerdo\",p:\"proyectosdt-id:9:j_idt52\",u:\"pa-invitados-id pa-detail-id\",onco:function(xhr,status,args,data){PF(\\'paInvitadosDialog\\').show();}});return false;']\n"
          ]
        }
      ]
    }
  ]
}