{
  "cells": [
    {
      "cell_type": "markdown",
      "metadata": {
        "id": "view-in-github",
        "colab_type": "text"
      },
      "source": [
        "<a href=\"https://colab.research.google.com/github/dframbaut/web-scrapping-deepear/blob/main/Proyectonormasparacomentarios.ipynb\" target=\"_parent\"><img src=\"https://colab.research.google.com/assets/colab-badge.svg\" alt=\"Open In Colab\"/></a>"
      ]
    },
    {
      "cell_type": "markdown",
      "source": [
        "Proyectos de Normas para comentarios"
      ],
      "metadata": {
        "id": "GK86-Y1bhHFT"
      }
    },
    {
      "cell_type": "code",
      "source": [
        "!pip install beautifulsoup4 requests\n"
      ],
      "metadata": {
        "colab": {
          "base_uri": "https://localhost:8080/"
        },
        "id": "EQUudiO9PnoR",
        "outputId": "bbb51fa2-55f9-4030-b4a9-9660c054f7c1"
      },
      "execution_count": 10,
      "outputs": [
        {
          "output_type": "stream",
          "name": "stdout",
          "text": [
            "Requirement already satisfied: beautifulsoup4 in /usr/local/lib/python3.10/dist-packages (4.12.3)\n",
            "Requirement already satisfied: requests in /usr/local/lib/python3.10/dist-packages (2.32.3)\n",
            "Requirement already satisfied: soupsieve>1.2 in /usr/local/lib/python3.10/dist-packages (from beautifulsoup4) (2.6)\n",
            "Requirement already satisfied: charset-normalizer<4,>=2 in /usr/local/lib/python3.10/dist-packages (from requests) (3.4.0)\n",
            "Requirement already satisfied: idna<4,>=2.5 in /usr/local/lib/python3.10/dist-packages (from requests) (3.10)\n",
            "Requirement already satisfied: urllib3<3,>=1.21.1 in /usr/local/lib/python3.10/dist-packages (from requests) (2.2.3)\n",
            "Requirement already satisfied: certifi>=2017.4.17 in /usr/local/lib/python3.10/dist-packages (from requests) (2024.8.30)\n"
          ]
        }
      ]
    },
    {
      "cell_type": "code",
      "source": [
        "!pip install requests"
      ],
      "metadata": {
        "colab": {
          "base_uri": "https://localhost:8080/"
        },
        "id": "hEmOp2z2MzMP",
        "outputId": "0ca09231-ec3f-4d6f-adbe-75a9a50057f1"
      },
      "execution_count": 3,
      "outputs": [
        {
          "output_type": "stream",
          "name": "stdout",
          "text": [
            "Requirement already satisfied: requests in /usr/local/lib/python3.10/dist-packages (2.32.3)\n",
            "Requirement already satisfied: charset-normalizer<4,>=2 in /usr/local/lib/python3.10/dist-packages (from requests) (3.4.0)\n",
            "Requirement already satisfied: idna<4,>=2.5 in /usr/local/lib/python3.10/dist-packages (from requests) (3.10)\n",
            "Requirement already satisfied: urllib3<3,>=1.21.1 in /usr/local/lib/python3.10/dist-packages (from requests) (2.2.3)\n",
            "Requirement already satisfied: certifi>=2017.4.17 in /usr/local/lib/python3.10/dist-packages (from requests) (2024.8.30)\n"
          ]
        }
      ]
    },
    {
      "cell_type": "code",
      "source": [
        "import requests\n",
        "from bs4 import BeautifulSoup\n",
        "\n",
        "#https://www.bucaramanga.gov.co/proyectos-de-normas-para-comentarios/\n",
        "\n",
        "page = requests.get('https://www.bucaramanga.gov.co/proyectos-de-normas-para-comentarios/')\n",
        "soup = BeautifulSoup(page.text, 'html.parser')\n",
        "\n",
        "# Buscar la tabla\n",
        "table = soup.find(\"table\", id=\"tablepress-517\")\n",
        "#Creacion de listas\n",
        "Nombres=[]\n",
        "Tipo=[]\n",
        "Mes=[]\n",
        "Fecha_inicio=[]\n",
        "Fecha_fin=[]\n",
        "Epigrafe=[]\n",
        "URLink=[]\n",
        "tbody = table.find(\"tbody\")\n",
        "#Recorrer y añadir celdas a cada lista\n",
        "if tbody:\n",
        "    for row_index, row in enumerate(tbody.find_all(\"tr\"), start=1):\n",
        "        for col_index, cell in enumerate(row.find_all(\"td\"), start=1):\n",
        "            cell_content = cell.get_text(strip=True)\n",
        "            a_tag = row.find('a')\n",
        "            if a_tag and a_tag.get('href'):  # Verifica si el <a> tiene un atributo href\n",
        "                Link= a_tag.get('href')\n",
        "            if col_index == 1: #Nombre\n",
        "                Nombres.append(cell_content)\n",
        "            elif col_index == 2:#Tipos\n",
        "                Tipo.append(cell_content)\n",
        "            elif col_index == 3:#Mes\n",
        "                Mes.append(cell_content)\n",
        "            elif col_index == 4: #Fecha de inicio\n",
        "                Fecha_inicio.append(cell_content)\n",
        "            elif col_index == 5: #Fecha de fin\n",
        "                Fecha_fin.append(cell_content)\n",
        "            elif col_index == 6: #Epigrafe\n",
        "                Epigrafe.append(cell_content)\n",
        "            elif col_index ==7:#Link\n",
        "                URLink.append(Link)\n",
        "#Imprimir cada una de las listas\n",
        "print(Nombres)\n",
        "print(Tipo)\n",
        "print(Mes)\n",
        "print(Fecha_inicio)\n",
        "print(Fecha_fin)\n",
        "print(Epigrafe)\n",
        "print(URLink)\n",
        "\n",
        "\n"
      ],
      "metadata": {
        "colab": {
          "base_uri": "https://localhost:8080/"
        },
        "id": "jPpSHfMiTVW6",
        "outputId": "e0374e1a-795d-4861-f4bc-b613a63fb4ea"
      },
      "execution_count": 19,
      "outputs": [
        {
          "output_type": "stream",
          "name": "stdout",
          "text": [
            "['Secretaría de Desarrollo Social', 'Secretaría de Desarrollo Social', 'Secretaría de Desarrollo Social', 'Secretaría de Desarrollo Social', 'Secretaría de Desarrollo Social', 'Secretario del Interior', 'Departamento Administrativo De La Defensoría Del Espacio Publico', 'Secretario del Interior', 'Secretaria del Interior', 'Secretaría del Interior', 'Secretaría Jurídica', 'Secretaría Jurídica', 'Secretaría de Salud y Ambiente de Bucaramanga', 'Secretaría Jurídica', 'Secretaría de Desarrollo Social', 'Secretaría de Salud y Ambiente', 'Oficina de Valorización', 'Secretaría de Hacienda', 'Secretaría de Salud y Ambiente', 'Secretaría del Interior', 'Secretaría Jurídica']\n",
            "['Resolución', 'Resolución', 'Resolución', 'Resolución', 'Resolución', 'Decreto', 'Decreto', 'Decreto', 'Decreto', 'Decreto', 'Decreto', 'Decreto', 'Decreto', 'Decreto', 'Decreto', 'Decreto', 'Acuerdo Municipal', 'Decreto', 'Decreto', 'Decreto', 'Decreto']\n",
            "['Octubre', 'Octubre', 'Octubre', 'Octubre', 'Octubre', 'Octubre', 'Julio', 'Abril', 'Febrero', 'Diciembre', 'Enero', 'Agosto', 'Junio', 'Junio', 'Mayo', 'Mayo', 'Abril', 'Enero', 'DICIEMBRE', 'DICIEMBRE', 'Octubre']\n",
            "['22 de octubre de 2024', '22 de octubre de 2024', '22 de octubre de 2024', '22 de octubre de 2024', '22 de octubre de 2024', '18 de octubre de 2024', '04 de julio de 2024', '3 de abril de 2024', '20 de febrero del 2024', '15 de diciembre de 2023', '23/01/2024', '30 de agosto de 2023', '29 de junio de 2023', '22 de junio de 2023', '3 de mayo de 2023', '3 de mayo de 2023', '12 de abril de 2023', '13 de enero de 2023', '15/12/2022', '02/12/2022', '10/10/2022']\n",
            "['11 de noviembre de 2024', '11 de noviembre de 2024', '11 de noviembre de 2024', '11 de noviembre de 2024', '11 de noviembre de 2024', '22 de octubre de 2024', '11 de julio de 2024', '05 de abril de 2024', '23 de febrero del 2024', '19 de diciembre de 2023', '25/01/2024', '4 de septiembre de 2023', '6 de julio de 2023', '28 de junio de 2023', '9 de mayo de 2023', '5 de mayo de 2023', '17 de abril de 2023', '18 de enero de 2023', '22/12/2022', '07/12/2022', '13/10/2022']\n",
            "['“POR MEDIO DE LA CUAL SE SOLICITA EL RETIRO DE BENEFICIARIOS EN LA MODALIDAD SUBSIDIO DIRECTO DE BENEFICIARIOS DEL PROGRAMA COLOMBIA MAYOR DEL MUNICIPIO DE BUCARAMANGA –SANTANDER”', '“POR MEDIO DE LA CUAL SE SOLICITA ACTIVACION DE  BENEFICIARIOS DEL PROGRAMA COLOMBIA MAYOR DEL MUNICIPIO DE BUCARAMANGA –SANTANDER”', '“POR MEDIO DE LA CUAL SE REGISTRAN LOS LIBROS DE XXX XXX, XXX, XXX, XXX Y XXX, DE LA JUNTA DE ACCIÓN COMUNAL XXX, DE LA COMUNA (O CORREGIMIENTO) XXX (XX), DEL MUNICIPIO DE BUCARAMANGA”', '“POR LA CUAL SE OTORGA PERSONERIA JURIDICA, SE REGISTRAN ESTATUTOS DE LA JUNTA DE ACCION COMUNAL DEL DEL XXX, DE LA COMUNA (O CORREGIMIENTO) XXX (XX), DEL MUNICIPIO DE BUCARAMANGA”', '“POR MEDIO DE LA CUAL SE ORDENA LA INSCRIPCION Y EL RECONOCIMIENTO DE DIGNATARIOS DE LA JUNTA DE ACCION COMUNAL DEL XXX, DE LA COMUNA (O CORREGIMIENTO) XXX (XX), DEL MUNICIPIO DE BUCARAMANGAPERÍODO XXXX-XXXX”', 'POR MEDIO DEL CUAL SE CREA LA MESA MUNICIPAL DE REINCORPORACIÓN DE BUCARAMANGA Y SE DICTAN OTRAS DISPOSICIONES', 'POR MEDIO DEL CUAL SE REGLAMENTA LO CONCERNIENTE A LA ADMINISTRACIÓN Y MANTENIMIENTO DE LOS PARQUES, PLAZAS, PLAZOLETAS Y ZONAS VERDES URBANAS QUE INTEGRAN EL ESPACIO PÚBLICO DEL MUNICIPIO DE BUCARAMANGA Y SE DEROGA EL DECRETO 0084 DE 2022', '“POR MEDIO DEL CUAL SE DICTAN MEDIDAS TRANSITORIAS DE ORDEN PÚBLICO NECESARIAS PARA GARANTIZAR LA SEGURIDAD CIUDADANA Y LA PROTECCIÓN DE LOS NIÑOS, NIÑAS Y ADOLESCENTES\"', 'POR EL CUAL SE ESTABLECEN LAS TARIFAS DE LOS PARQUEADEROS PÚBLICOS DE LAS CATEGORÍAS B, C Y D DEL MUNICIPIO DE BUCARAMANGA', 'POR MEDIO DEL CUAL SE REGLAMENTA LA GESTIÓN DE LOS BIENES Y ELEMENTOS SOMETIDOS A INCAUTACION Y DECOMISO EN EL MUNICIPIO DE BUCARAMANGA Y SE DICTAN OTRAS DISPOSICIONES', 'Por medio del cual se revoca el artículo 1° del Decreto No. 0174 del 15 de diciembre de 2023 y ordena realizar elección de los integrantes de la Comisión Territorial Ciudadana para la Lucha Contra la Corrupción en el Municipio de Bucaramanga para el período 2024 a 2027”  y se modifica al artículo 10 del Decreto No 188 del 22 de noviembre del 2022', 'En virtud del numeral 8 del artículo 8 de la Ley 1437 del 2011, se publica el presente proyecto de Decreto “POR MEDIO DEL CUAL SE ADOPTA EL PLAN LOCAL DE SEGURIDAD VIAL Y SE CREA Y REGLAMENTA EL COMITÉ LOCAL DE SEGURIDAD VIAL DEL MUNICIPIO DE BUCARAMANGA”, con el objeto de recibir opiniones, sugerencias o propuestas alternativas por parte de la ciudadanía', \"en virtud del numeral 8 del artículo 8 de la Ley 1437 del 2011, se publica el presente proyecto de Decreto ''POR EL CUAL SE MODIFICA PARCIALMENTE EL DECRETO MUNICIPAL No. 0284 DEL 30 DE DICIEMBRE DE 2013 MODIFICADO POR EL DECRETO MUNICIPAL No. 0190 DEL DEL 19 DE DICIEMBRE DE 2016, con el objeto de recibir opiniones, sugerencias o propuestas alternativas por parte de la ciudadanía.\", 'En virtud del numeral 8 del artículo 8 de la Ley 1437 del 2011, se publica el presente proyecto de Decreto “POR EL CUAL SE MODIFICA EL DECRETO MUNICIPAL 0396 DEL 9 DE NOVIEMBRE DE 2020”, con el objeto de recibir opiniones, sugerencias o propuestas alternativas por parte de la ciudadanía', 'POR MEDIO DEL CUAL SE MODIFICA EL ARTÍCULO 2° DEL DECRETO 0041 DEL 07 DE ABRIL DE 2017', 'POR MEDIO DEL CUAL SE CREA/CONFORMA LA MESA TECNICA MUNICIPAL DE ENFERMEDADES HUERFANAS/RARAS DEL MUNICIPIO DE BUCARAMANGA', 'Por medio del cual se otorgan facultades al señor alcalde para declarar de utilidad pública e interés social unos predios y adquirirlos para el proyecto de infraestructura vial – construcción de la conexión oriente occidente a través del corredor comprendido entre la calle 53 y calle 54', 'En virtud del numeral 8 del artículo 8 de la Ley 1437 del 2011, se publica el presente proyecto de Decreto “Por medio del cual se implementa el programa para el fortalecimiento de empresas y creación de empleo joven, fomentando la reactivación económica en el Municipio de Bucaramanga y se dictan otras disposiciones”, con el objeto de recibir opiniones, sugerencias o propuestas alternativas por parte de la ciudadanía', 'Proyecto de Decreto “POR MEDIO DE LA CUAL SE ADOPTA E IMPLEMENTA EL PROCEDIMIENTO ADMINISTRATIVO SANCIONATORIO POR INCUMPLIMIENTO A LAS NORMAS SANITARIAS EN EL MUNICIPIO DE BUCARAMANGA Y SE DICTAN OTRAS DISPOSICIONES”', 'Proyecto de Decreto ““POR EL CUAL SE ESTABLECEN LAS TARIFAS DE LOS PARQUEADEROS PÚBLICOS DE LAS CATEGORIAS B.C Y D DEL MUNICIPIO DE BUCARAMANGA”,', 'POR MEDIO DEL CUAL SE CREA, REGLAMENTA E IMPLEMENTA LA COMISION TERRITORIAL CIUDADANA PARA LA LUCHA CONTRA LA CORRUPCIÓN EN EL MUNICIPIO DE BUCARAMANGA, DEPARTAMENTO DE SANTANDER']\n",
            "['https://www.bucaramanga.gov.co/wp-content/uploads/2024/10/RESOLUCION-RETIROS-2024-4.docx', 'https://www.bucaramanga.gov.co/wp-content/uploads/2024/10/RESOLUCION-DE-ACTIVACION-2024-5.docx', 'https://www.bucaramanga.gov.co/wp-content/uploads/2024/10/RESOLUCION-POR-MEDIO-DE-LA-CUAL-SE-REGISTRAN-LIBROS-1.docx', 'https://www.bucaramanga.gov.co/wp-content/uploads/2024/10/RESOLUCION-POR-MEDIO-DE-LA-CUAL-SE-OTORGA-PERSONERIA-JURIDICA-Y-REGISTRO-DE-ESTATUTOS-1.docx', 'https://www.bucaramanga.gov.co/wp-content/uploads/2024/10/RESOLUCION-POR-MEDIO-DE-LA-CUAL-SE-INSCRIBEN-DIGNATARIOS-1.docx', 'https://www.bucaramanga.gov.co/wp-content/uploads/2024/10/REV-F-Decreto-Mesa-de-Reincorporacion-Municipal.pdf', 'https://www.bucaramanga.gov.co/wp-content/uploads/2024/07/2-S-DADEP-202407-00049491-1.pdf', 'https://www.bucaramanga.gov.co/wp-content/uploads/2024/04/V.F-Decreto%20toque%20de%20queda%20menores%20de%20edad.pdf', 'https://www.bucaramanga.gov.co/wp-content/uploads/2024/02/FINAL%20Rev%20Juridica%20Decreto%20tarifas%20de%20parqueaderos%202024%20%28003%29.pdf', 'https://www.bucaramanga.gov.co/wp-content/uploads/2023/12/PROYECTO-DE-DECRETO-POR-MEDIO-DLE-CUAL-SE-REGLAMENTA-LA-GESTION-D-ELSO-BIENES-SOMETIDOS-A-INCAUTACION-Y-DECOMISO.pdf', 'https://www.bucaramanga.gov.co/wp-content/uploads/2024/01/DECRETO-xxx-DE-2024-revoca-parcialmente.docx', 'https://www.bucaramanga.gov.co/wp-content/uploads/2023/08/Proyecto_decreto_PLAN-LOCAL-DE-SEGURIDAD-VIAL.docx', 'https://www.bucaramanga.gov.co/wp-content/uploads/2023/06/3.-Rev.-JP-2.-YP.-Proyecto-de-Decreto-Modificación-COMSA-2.pdf', 'https://www.bucaramanga.gov.co/wp-content/uploads/2023/06/Rev.-JP-21-06-2023-PROYECTO-DE-DECRETO-QUE-MODIFICA-EL-DECRETO-0396-DE-2020-PROCEDIMIENTO-INTERNO-DERECHO-DE-PETICION-1.docx', 'https://www.bucaramanga.gov.co/wp-content/uploads/2023/05/2023.05.03.-Proyecto-de-decreto-que-modifica-el-Art.2-del-D.-0041-DE-2017.pdf', 'https://www.bucaramanga.gov.co/wp-content/uploads/2023/05/DECRETO-MESA-TECNICA-ENFERMEDADES-HUERFANAS-2023-raUL.docx', 'https://www.bucaramanga.gov.co/wp-content/uploads/2023/04/PROYECTO-FINAL-VALORIZACION-CALLES-53-Y-54-11-ABRIL-2023.docx', 'https://www.bucaramanga.gov.co/wp-content/uploads/2023/01/DECRETO-empleo-joven-revision-ano-2023.docx', 'https://www.bucaramanga.gov.co/wp-content/uploads/2022/12/DECRETO-ADOPTA-E-IMPLEMENTA-PROCESO-ADMTVO-SANCIONATORIO.pdf', 'https://www.bucaramanga.gov.co/wp-content/uploads/2022/12/Proyecto-Decreto-tarifas-parqueadero-2022-final.docx', 'https://www.bucaramanga.gov.co/wp-content/uploads/2022/10/Comision_Participacion_Ciudadana.docx']\n"
          ]
        }
      ]
    },
    {
      "cell_type": "code",
      "source": [
        "!pip install selenium\n"
      ],
      "metadata": {
        "id": "E_9bInlzmhP3",
        "outputId": "0434186f-ebea-4bac-d884-e0c4daa8379e",
        "colab": {
          "base_uri": "https://localhost:8080/"
        }
      },
      "execution_count": 21,
      "outputs": [
        {
          "output_type": "stream",
          "name": "stdout",
          "text": [
            "Collecting selenium\n",
            "  Downloading selenium-4.27.1-py3-none-any.whl.metadata (7.1 kB)\n",
            "Requirement already satisfied: urllib3<3,>=1.26 in /usr/local/lib/python3.10/dist-packages (from urllib3[socks]<3,>=1.26->selenium) (2.2.3)\n",
            "Collecting trio~=0.17 (from selenium)\n",
            "  Downloading trio-0.27.0-py3-none-any.whl.metadata (8.6 kB)\n",
            "Collecting trio-websocket~=0.9 (from selenium)\n",
            "  Downloading trio_websocket-0.11.1-py3-none-any.whl.metadata (4.7 kB)\n",
            "Requirement already satisfied: certifi>=2021.10.8 in /usr/local/lib/python3.10/dist-packages (from selenium) (2024.8.30)\n",
            "Requirement already satisfied: typing_extensions~=4.9 in /usr/local/lib/python3.10/dist-packages (from selenium) (4.12.2)\n",
            "Requirement already satisfied: websocket-client~=1.8 in /usr/local/lib/python3.10/dist-packages (from selenium) (1.8.0)\n",
            "Requirement already satisfied: attrs>=23.2.0 in /usr/local/lib/python3.10/dist-packages (from trio~=0.17->selenium) (24.2.0)\n",
            "Collecting sortedcontainers (from trio~=0.17->selenium)\n",
            "  Downloading sortedcontainers-2.4.0-py2.py3-none-any.whl.metadata (10 kB)\n",
            "Requirement already satisfied: idna in /usr/local/lib/python3.10/dist-packages (from trio~=0.17->selenium) (3.10)\n",
            "Collecting outcome (from trio~=0.17->selenium)\n",
            "  Downloading outcome-1.3.0.post0-py2.py3-none-any.whl.metadata (2.6 kB)\n",
            "Requirement already satisfied: sniffio>=1.3.0 in /usr/local/lib/python3.10/dist-packages (from trio~=0.17->selenium) (1.3.1)\n",
            "Requirement already satisfied: exceptiongroup in /usr/local/lib/python3.10/dist-packages (from trio~=0.17->selenium) (1.2.2)\n",
            "Collecting wsproto>=0.14 (from trio-websocket~=0.9->selenium)\n",
            "  Downloading wsproto-1.2.0-py3-none-any.whl.metadata (5.6 kB)\n",
            "Requirement already satisfied: pysocks!=1.5.7,<2.0,>=1.5.6 in /usr/local/lib/python3.10/dist-packages (from urllib3[socks]<3,>=1.26->selenium) (1.7.1)\n",
            "Requirement already satisfied: h11<1,>=0.9.0 in /usr/local/lib/python3.10/dist-packages (from wsproto>=0.14->trio-websocket~=0.9->selenium) (0.14.0)\n",
            "Downloading selenium-4.27.1-py3-none-any.whl (9.7 MB)\n",
            "\u001b[2K   \u001b[90m━━━━━━━━━━━━━━━━━━━━━━━━━━━━━━━━━━━━━━━━\u001b[0m \u001b[32m9.7/9.7 MB\u001b[0m \u001b[31m44.0 MB/s\u001b[0m eta \u001b[36m0:00:00\u001b[0m\n",
            "\u001b[?25hDownloading trio-0.27.0-py3-none-any.whl (481 kB)\n",
            "\u001b[2K   \u001b[90m━━━━━━━━━━━━━━━━━━━━━━━━━━━━━━━━━━━━━━━━\u001b[0m \u001b[32m481.7/481.7 kB\u001b[0m \u001b[31m22.5 MB/s\u001b[0m eta \u001b[36m0:00:00\u001b[0m\n",
            "\u001b[?25hDownloading trio_websocket-0.11.1-py3-none-any.whl (17 kB)\n",
            "Downloading wsproto-1.2.0-py3-none-any.whl (24 kB)\n",
            "Downloading outcome-1.3.0.post0-py2.py3-none-any.whl (10 kB)\n",
            "Downloading sortedcontainers-2.4.0-py2.py3-none-any.whl (29 kB)\n",
            "Installing collected packages: sortedcontainers, wsproto, outcome, trio, trio-websocket, selenium\n",
            "Successfully installed outcome-1.3.0.post0 selenium-4.27.1 sortedcontainers-2.4.0 trio-0.27.0 trio-websocket-0.11.1 wsproto-1.2.0\n"
          ]
        }
      ]
    },
    {
      "cell_type": "code",
      "source": [
        "!apt-get update\n"
      ],
      "metadata": {
        "id": "O8lX04_Dm0us",
        "outputId": "3fbe0af5-88c0-4352-87c5-e753d0172281",
        "colab": {
          "base_uri": "https://localhost:8080/"
        }
      },
      "execution_count": 23,
      "outputs": [
        {
          "output_type": "stream",
          "name": "stdout",
          "text": [
            "\r0% [Working]\r            \rGet:1 https://cloud.r-project.org/bin/linux/ubuntu jammy-cran40/ InRelease [3,626 B]\n",
            "\r0% [Waiting for headers] [Waiting for headers] [1 InRelease 3,626 B/3,626 B 100%] [Connected to r2u.\r0% [Waiting for headers] [Waiting for headers] [Connected to r2u.stat.illinois.edu (192.17.190.167)]\r                                                                                                    \rGet:2 https://developer.download.nvidia.com/compute/cuda/repos/ubuntu2204/x86_64  InRelease [1,581 B]\n",
            "\r0% [Waiting for headers] [Waiting for headers] [Connected to r2u.stat.illinois.edu (192.17.190.167)]\r                                                                                                    \rGet:3 http://security.ubuntu.com/ubuntu jammy-security InRelease [129 kB]\n",
            "Hit:4 http://archive.ubuntu.com/ubuntu jammy InRelease\n",
            "Get:5 https://r2u.stat.illinois.edu/ubuntu jammy InRelease [6,555 B]\n",
            "Get:6 http://archive.ubuntu.com/ubuntu jammy-updates InRelease [128 kB]\n",
            "Get:7 https://developer.download.nvidia.com/compute/cuda/repos/ubuntu2204/x86_64  Packages [1,192 kB]\n",
            "Get:8 https://ppa.launchpadcontent.net/deadsnakes/ppa/ubuntu jammy InRelease [18.1 kB]\n",
            "Hit:9 https://ppa.launchpadcontent.net/graphics-drivers/ppa/ubuntu jammy InRelease\n",
            "Get:10 http://archive.ubuntu.com/ubuntu jammy-backports InRelease [127 kB]\n",
            "Hit:11 https://ppa.launchpadcontent.net/ubuntugis/ppa/ubuntu jammy InRelease\n",
            "Get:12 https://r2u.stat.illinois.edu/ubuntu jammy/main all Packages [8,532 kB]\n",
            "Get:13 http://security.ubuntu.com/ubuntu jammy-security/main amd64 Packages [2,454 kB]\n",
            "Get:14 https://ppa.launchpadcontent.net/deadsnakes/ppa/ubuntu jammy/main amd64 Packages [32.9 kB]\n",
            "Get:15 https://r2u.stat.illinois.edu/ubuntu jammy/main amd64 Packages [2,626 kB]\n",
            "Get:16 http://archive.ubuntu.com/ubuntu jammy-updates/main amd64 Packages [2,738 kB]\n",
            "Fetched 18.0 MB in 3s (6,670 kB/s)\n",
            "Reading package lists... Done\n",
            "W: Skipping acquire of configured file 'main/source/Sources' as repository 'https://r2u.stat.illinois.edu/ubuntu jammy InRelease' does not seem to provide it (sources.list entry misspelt?)\n"
          ]
        }
      ]
    },
    {
      "cell_type": "code",
      "source": [
        "!apt-get install -y chromium-chromedriver"
      ],
      "metadata": {
        "id": "tFoTJGtsnURu",
        "outputId": "dc2b28fb-e98c-44f8-bb4b-722850b54eed",
        "colab": {
          "base_uri": "https://localhost:8080/"
        }
      },
      "execution_count": 24,
      "outputs": [
        {
          "output_type": "stream",
          "name": "stdout",
          "text": [
            "Reading package lists... Done\n",
            "Building dependency tree... Done\n",
            "Reading state information... Done\n",
            "The following additional packages will be installed:\n",
            "  apparmor chromium-browser libfuse3-3 liblzo2-2 libudev1 snapd squashfs-tools systemd-hwe-hwdb\n",
            "  udev\n",
            "Suggested packages:\n",
            "  apparmor-profiles-extra apparmor-utils fuse3 zenity | kdialog\n",
            "The following NEW packages will be installed:\n",
            "  apparmor chromium-browser chromium-chromedriver libfuse3-3 liblzo2-2 snapd squashfs-tools\n",
            "  systemd-hwe-hwdb udev\n",
            "The following packages will be upgraded:\n",
            "  libudev1\n",
            "1 upgraded, 9 newly installed, 0 to remove and 49 not upgraded.\n",
            "Need to get 30.2 MB of archives.\n",
            "After this operation, 123 MB of additional disk space will be used.\n",
            "Get:1 http://archive.ubuntu.com/ubuntu jammy-updates/main amd64 apparmor amd64 3.0.4-2ubuntu2.4 [598 kB]\n",
            "Get:2 http://archive.ubuntu.com/ubuntu jammy/main amd64 liblzo2-2 amd64 2.10-2build3 [53.7 kB]\n",
            "Get:3 http://archive.ubuntu.com/ubuntu jammy/main amd64 squashfs-tools amd64 1:4.5-3build1 [159 kB]\n",
            "Get:4 http://archive.ubuntu.com/ubuntu jammy-updates/main amd64 libudev1 amd64 249.11-0ubuntu3.12 [78.2 kB]\n",
            "Get:5 http://archive.ubuntu.com/ubuntu jammy-updates/main amd64 udev amd64 249.11-0ubuntu3.12 [1,557 kB]\n",
            "Get:6 http://archive.ubuntu.com/ubuntu jammy/main amd64 libfuse3-3 amd64 3.10.5-1build1 [81.2 kB]\n",
            "Get:7 http://archive.ubuntu.com/ubuntu jammy-updates/main amd64 snapd amd64 2.66.1+22.04 [27.6 MB]\n",
            "Get:8 http://archive.ubuntu.com/ubuntu jammy-updates/universe amd64 chromium-browser amd64 1:85.0.4183.83-0ubuntu2.22.04.1 [49.2 kB]\n",
            "Get:9 http://archive.ubuntu.com/ubuntu jammy-updates/universe amd64 chromium-chromedriver amd64 1:85.0.4183.83-0ubuntu2.22.04.1 [2,308 B]\n",
            "Get:10 http://archive.ubuntu.com/ubuntu jammy-updates/main amd64 systemd-hwe-hwdb all 249.11.5 [3,228 B]\n",
            "Fetched 30.2 MB in 2s (16.8 MB/s)\n",
            "Preconfiguring packages ...\n",
            "Selecting previously unselected package apparmor.\n",
            "(Reading database ... 123632 files and directories currently installed.)\n",
            "Preparing to unpack .../apparmor_3.0.4-2ubuntu2.4_amd64.deb ...\n",
            "Unpacking apparmor (3.0.4-2ubuntu2.4) ...\n",
            "Selecting previously unselected package liblzo2-2:amd64.\n",
            "Preparing to unpack .../liblzo2-2_2.10-2build3_amd64.deb ...\n",
            "Unpacking liblzo2-2:amd64 (2.10-2build3) ...\n",
            "Selecting previously unselected package squashfs-tools.\n",
            "Preparing to unpack .../squashfs-tools_1%3a4.5-3build1_amd64.deb ...\n",
            "Unpacking squashfs-tools (1:4.5-3build1) ...\n",
            "Preparing to unpack .../libudev1_249.11-0ubuntu3.12_amd64.deb ...\n",
            "Unpacking libudev1:amd64 (249.11-0ubuntu3.12) over (249.11-0ubuntu3.10) ...\n",
            "Setting up libudev1:amd64 (249.11-0ubuntu3.12) ...\n",
            "Selecting previously unselected package udev.\n",
            "(Reading database ... 123840 files and directories currently installed.)\n",
            "Preparing to unpack .../udev_249.11-0ubuntu3.12_amd64.deb ...\n",
            "Unpacking udev (249.11-0ubuntu3.12) ...\n",
            "Selecting previously unselected package libfuse3-3:amd64.\n",
            "Preparing to unpack .../libfuse3-3_3.10.5-1build1_amd64.deb ...\n",
            "Unpacking libfuse3-3:amd64 (3.10.5-1build1) ...\n",
            "Selecting previously unselected package snapd.\n",
            "Preparing to unpack .../snapd_2.66.1+22.04_amd64.deb ...\n",
            "Unpacking snapd (2.66.1+22.04) ...\n",
            "Setting up apparmor (3.0.4-2ubuntu2.4) ...\n",
            "Created symlink /etc/systemd/system/sysinit.target.wants/apparmor.service → /lib/systemd/system/apparmor.service.\n",
            "Setting up liblzo2-2:amd64 (2.10-2build3) ...\n",
            "Setting up squashfs-tools (1:4.5-3build1) ...\n",
            "Setting up udev (249.11-0ubuntu3.12) ...\n",
            "invoke-rc.d: could not determine current runlevel\n",
            "invoke-rc.d: policy-rc.d denied execution of start.\n",
            "Setting up libfuse3-3:amd64 (3.10.5-1build1) ...\n",
            "Setting up snapd (2.66.1+22.04) ...\n",
            "Created symlink /etc/systemd/system/multi-user.target.wants/snapd.apparmor.service → /lib/systemd/system/snapd.apparmor.service.\n",
            "Created symlink /etc/systemd/system/multi-user.target.wants/snapd.autoimport.service → /lib/systemd/system/snapd.autoimport.service.\n",
            "Created symlink /etc/systemd/system/multi-user.target.wants/snapd.core-fixup.service → /lib/systemd/system/snapd.core-fixup.service.\n",
            "Created symlink /etc/systemd/system/multi-user.target.wants/snapd.recovery-chooser-trigger.service → /lib/systemd/system/snapd.recovery-chooser-trigger.service.\n",
            "Created symlink /etc/systemd/system/multi-user.target.wants/snapd.seeded.service → /lib/systemd/system/snapd.seeded.service.\n",
            "Created symlink /etc/systemd/system/cloud-final.service.wants/snapd.seeded.service → /lib/systemd/system/snapd.seeded.service.\n",
            "Unit /lib/systemd/system/snapd.seeded.service is added as a dependency to a non-existent unit cloud-final.service.\n",
            "Created symlink /etc/systemd/system/multi-user.target.wants/snapd.service → /lib/systemd/system/snapd.service.\n",
            "Created symlink /etc/systemd/system/timers.target.wants/snapd.snap-repair.timer → /lib/systemd/system/snapd.snap-repair.timer.\n",
            "Created symlink /etc/systemd/system/sockets.target.wants/snapd.socket → /lib/systemd/system/snapd.socket.\n",
            "Created symlink /etc/systemd/system/final.target.wants/snapd.system-shutdown.service → /lib/systemd/system/snapd.system-shutdown.service.\n",
            "Selecting previously unselected package chromium-browser.\n",
            "(Reading database ... 124069 files and directories currently installed.)\n",
            "Preparing to unpack .../chromium-browser_1%3a85.0.4183.83-0ubuntu2.22.04.1_amd64.deb ...\n",
            "=> Installing the chromium snap\n",
            "==> Checking connectivity with the snap store\n",
            "===> System doesn't have a working snapd, skipping\n",
            "Unpacking chromium-browser (1:85.0.4183.83-0ubuntu2.22.04.1) ...\n",
            "Selecting previously unselected package chromium-chromedriver.\n",
            "Preparing to unpack .../chromium-chromedriver_1%3a85.0.4183.83-0ubuntu2.22.04.1_amd64.deb ...\n",
            "Unpacking chromium-chromedriver (1:85.0.4183.83-0ubuntu2.22.04.1) ...\n",
            "Selecting previously unselected package systemd-hwe-hwdb.\n",
            "Preparing to unpack .../systemd-hwe-hwdb_249.11.5_all.deb ...\n",
            "Unpacking systemd-hwe-hwdb (249.11.5) ...\n",
            "Setting up systemd-hwe-hwdb (249.11.5) ...\n",
            "Setting up chromium-browser (1:85.0.4183.83-0ubuntu2.22.04.1) ...\n",
            "update-alternatives: using /usr/bin/chromium-browser to provide /usr/bin/x-www-browser (x-www-browser) in auto mode\n",
            "update-alternatives: using /usr/bin/chromium-browser to provide /usr/bin/gnome-www-browser (gnome-www-browser) in auto mode\n",
            "Setting up chromium-chromedriver (1:85.0.4183.83-0ubuntu2.22.04.1) ...\n",
            "Processing triggers for udev (249.11-0ubuntu3.12) ...\n",
            "Processing triggers for hicolor-icon-theme (0.17-2) ...\n",
            "Processing triggers for libc-bin (2.35-0ubuntu3.4) ...\n",
            "/sbin/ldconfig.real: /usr/local/lib/libtbb.so.12 is not a symbolic link\n",
            "\n",
            "/sbin/ldconfig.real: /usr/local/lib/libtcm.so.1 is not a symbolic link\n",
            "\n",
            "/sbin/ldconfig.real: /usr/local/lib/libtbbmalloc_proxy.so.2 is not a symbolic link\n",
            "\n",
            "/sbin/ldconfig.real: /usr/local/lib/libhwloc.so.15 is not a symbolic link\n",
            "\n",
            "/sbin/ldconfig.real: /usr/local/lib/libtbbmalloc.so.2 is not a symbolic link\n",
            "\n",
            "/sbin/ldconfig.real: /usr/local/lib/libur_adapter_level_zero.so.0 is not a symbolic link\n",
            "\n",
            "/sbin/ldconfig.real: /usr/local/lib/libtbbbind_2_5.so.3 is not a symbolic link\n",
            "\n",
            "/sbin/ldconfig.real: /usr/local/lib/libtcm_debug.so.1 is not a symbolic link\n",
            "\n",
            "/sbin/ldconfig.real: /usr/local/lib/libumf.so.0 is not a symbolic link\n",
            "\n",
            "/sbin/ldconfig.real: /usr/local/lib/libtbbbind_2_0.so.3 is not a symbolic link\n",
            "\n",
            "/sbin/ldconfig.real: /usr/local/lib/libtbbbind.so.3 is not a symbolic link\n",
            "\n",
            "/sbin/ldconfig.real: /usr/local/lib/libur_adapter_opencl.so.0 is not a symbolic link\n",
            "\n",
            "/sbin/ldconfig.real: /usr/local/lib/libur_loader.so.0 is not a symbolic link\n",
            "\n",
            "Processing triggers for man-db (2.10.2-1) ...\n",
            "Processing triggers for dbus (1.12.20-2ubuntu4.1) ...\n"
          ]
        }
      ]
    },
    {
      "cell_type": "code",
      "source": [
        "!cp /usr/lib/chromium-browser/chromedriver /usr/bin"
      ],
      "metadata": {
        "id": "0eyIEgZlnga0",
        "outputId": "4f47c080-714e-445b-fc90-e4cb6c196561",
        "colab": {
          "base_uri": "https://localhost:8080/"
        }
      },
      "execution_count": 25,
      "outputs": [
        {
          "output_type": "stream",
          "name": "stdout",
          "text": [
            "cp: '/usr/lib/chromium-browser/chromedriver' and '/usr/bin/chromedriver' are the same file\n"
          ]
        }
      ]
    },
    {
      "cell_type": "code",
      "source": [
        "from selenium import webdriver\n",
        "from selenium.webdriver.chrome.options import Options\n",
        "from bs4 import BeautifulSoup\n",
        "import time\n",
        "\n",
        "# Configuración del navegador\n",
        "options = Options()\n",
        "options.add_argument('--headless')  # Navegación sin interfaz gráfica\n",
        "options.add_argument('--no-sandbox')  # Necesario para Colab\n",
        "options.add_argument('--disable-dev-shm-usage')  # Evitar problemas de memoria\n",
        "options.add_argument('--disable-gpu')\n",
        "\n",
        "# Inicializar el controlador de Selenium\n",
        "driver = webdriver.Chrome(options=options)\n",
        "\n",
        "# URL base\n",
        "url = \"https://www.bucaramanga.gov.co/proyectos-de-normas-para-comentarios/\"\n",
        "driver.get(url)\n",
        "\n",
        "# Inicializar listas\n",
        "Nombres, Tipo, Mes, Fecha_inicio, Fecha_fin, Epigrafe, URLink = [], [], [], [], [], [], []\n",
        "\n",
        "# Función para extraer datos de la tabla en la página actual\n",
        "def extract_table_data():\n",
        "    soup = BeautifulSoup(driver.page_source, 'html.parser')\n",
        "    table = soup.find(\"table\", id=\"tablepress-517\")\n",
        "    if table:\n",
        "        tbody = table.find(\"tbody\")\n",
        "        if tbody:\n",
        "            for row in tbody.find_all(\"tr\"):\n",
        "                row_name = row_type = row_month = row_start_date = row_end_date = row_epigraph = row_link = None\n",
        "                for col_index, cell in enumerate(row.find_all(\"td\"), start=1):\n",
        "                    cell_content = cell.get_text(strip=True)\n",
        "                    a_tag = cell.find('a')\n",
        "                    if a_tag and a_tag.get('href'):\n",
        "                        row_link = a_tag.get('href')\n",
        "                    if col_index == 1: row_name = cell_content\n",
        "                    elif col_index == 2: row_type = cell_content\n",
        "                    elif col_index == 3: row_month = cell_content\n",
        "                    elif col_index == 4: row_start_date = cell_content\n",
        "                    elif col_index == 5: row_end_date = cell_content\n",
        "                    elif col_index == 6: row_epigraph = cell_content\n",
        "                if row_name: Nombres.append(row_name)\n",
        "                if row_type: Tipo.append(row_type)\n",
        "                if row_month: Mes.append(row_month)\n",
        "                if row_start_date: Fecha_inicio.append(row_start_date)\n",
        "                if row_end_date: Fecha_fin.append(row_end_date)\n",
        "                if row_epigraph: Epigrafe.append(row_epigraph)\n",
        "                if row_link: URLink.append(row_link)\n",
        "\n",
        "# Extraer datos de la primera página\n",
        "extract_table_data()\n",
        "\n",
        "# Navegar por las páginas siguientes\n",
        "while True:\n",
        "    try:\n",
        "        next_button = driver.find_element(\"id\", \"tablepress-517_next\")\n",
        "        if \"disabled\" in next_button.get_attribute(\"class\"):\n",
        "            break  # Salir si el botón está deshabilitado\n",
        "        next_button.click()\n",
        "        time.sleep(2)  # Esperar a que la página se actualice\n",
        "        extract_table_data()\n",
        "    except Exception as e:\n",
        "        print(\"Error al navegar:\", e)\n",
        "        break\n",
        "\n",
        "# Cerrar el navegador\n",
        "driver.quit()\n",
        "\n",
        "# Mostrar los datos extraídos\n",
        "print(\"Nombres:\", Nombres)\n",
        "print(\"Tipos:\", Tipo)\n",
        "print(\"Mes:\", Mes)\n",
        "print(\"Fechas de inicio:\", Fecha_inicio)\n",
        "print(\"Fechas de fin:\", Fecha_fin)\n",
        "print(\"Epígrafes:\", Epigrafe)\n",
        "print(\"Links:\", URLink)"
      ],
      "metadata": {
        "id": "sSECMrEwnlmq",
        "outputId": "4bd7b0e6-aa8d-4988-bd2e-c2129ca7e6c7",
        "colab": {
          "base_uri": "https://localhost:8080/"
        }
      },
      "execution_count": 26,
      "outputs": [
        {
          "output_type": "stream",
          "name": "stdout",
          "text": [
            "Nombres: ['Secretaría de Desarrollo Social', 'Secretaría de Desarrollo Social', 'Secretaría de Desarrollo Social', 'Secretaría de Desarrollo Social', 'Secretaría de Desarrollo Social', 'Secretario del Interior', 'Departamento Administrativo De La Defensoría Del Espacio Publico', 'Secretario del Interior', 'Secretaria del Interior', 'Secretaría del Interior', 'Secretaría Jurídica', 'Secretaría Jurídica', 'Secretaría de Salud y Ambiente de Bucaramanga', 'Secretaría Jurídica', 'Secretaría de Desarrollo Social', 'Secretaría de Salud y Ambiente', 'Oficina de Valorización', 'Secretaría de Hacienda', 'Secretaría de Salud y Ambiente', 'Secretaría del Interior', 'Secretaría Jurídica']\n",
            "Tipos: ['Resolución', 'Resolución', 'Resolución', 'Resolución', 'Resolución', 'Decreto', 'Decreto', 'Decreto', 'Decreto', 'Decreto', 'Decreto', 'Decreto', 'Decreto', 'Decreto', 'Decreto', 'Decreto', 'Acuerdo Municipal', 'Decreto', 'Decreto', 'Decreto', 'Decreto']\n",
            "Mes: ['Octubre', 'Octubre', 'Octubre', 'Octubre', 'Octubre', 'Octubre', 'Julio', 'Abril', 'Febrero', 'Diciembre', 'Enero', 'Agosto', 'Junio', 'Junio', 'Mayo', 'Mayo', 'Abril', 'Enero', 'DICIEMBRE', 'DICIEMBRE', 'Octubre']\n",
            "Fechas de inicio: ['22 de octubre de 2024', '22 de octubre de 2024', '22 de octubre de 2024', '22 de octubre de 2024', '22 de octubre de 2024', '18 de octubre de 2024', '04 de julio de 2024', '3 de abril de 2024', '20 de febrero del 2024', '15 de diciembre de 2023', '23/01/2024', '30 de agosto de 2023', '29 de junio de 2023', '22 de junio de 2023', '3 de mayo de 2023', '3 de mayo de 2023', '12 de abril de 2023', '13 de enero de 2023', '15/12/2022', '02/12/2022', '10/10/2022']\n",
            "Fechas de fin: ['11 de noviembre de 2024', '11 de noviembre de 2024', '11 de noviembre de 2024', '11 de noviembre de 2024', '11 de noviembre de 2024', '22 de octubre de 2024', '11 de julio de 2024', '05 de abril de 2024', '23 de febrero del 2024', '19 de diciembre de 2023', '25/01/2024', '4 de septiembre de 2023', '6 de julio de 2023', '28 de junio de 2023', '9 de mayo de 2023', '5 de mayo de 2023', '17 de abril de 2023', '18 de enero de 2023', '22/12/2022', '07/12/2022', '13/10/2022']\n",
            "Epígrafes: ['“POR MEDIO DE LA CUAL SE SOLICITA EL RETIRO DE BENEFICIARIOS EN LA MODALIDAD SUBSIDIO DIRECTO DE BENEFICIARIOS DEL PROGRAMA COLOMBIA MAYOR DEL MUNICIPIO DE BUCARAMANGA –SANTANDER”', '“POR MEDIO DE LA CUAL SE SOLICITA ACTIVACION DE  BENEFICIARIOS DEL PROGRAMA COLOMBIA MAYOR DEL MUNICIPIO DE BUCARAMANGA –SANTANDER”', '“POR MEDIO DE LA CUAL SE REGISTRAN LOS LIBROS DE XXX XXX, XXX, XXX, XXX Y XXX, DE LA JUNTA DE ACCIÓN COMUNAL XXX, DE LA COMUNA (O CORREGIMIENTO) XXX (XX), DEL MUNICIPIO DE BUCARAMANGA”', '“POR LA CUAL SE OTORGA PERSONERIA JURIDICA, SE REGISTRAN ESTATUTOS DE LA JUNTA DE ACCION COMUNAL DEL DEL XXX, DE LA COMUNA (O CORREGIMIENTO) XXX (XX), DEL MUNICIPIO DE BUCARAMANGA”', '“POR MEDIO DE LA CUAL SE ORDENA LA INSCRIPCION Y EL RECONOCIMIENTO DE DIGNATARIOS DE LA JUNTA DE ACCION COMUNAL DEL XXX, DE LA COMUNA (O CORREGIMIENTO) XXX (XX), DEL MUNICIPIO DE BUCARAMANGAPERÍODO XXXX-XXXX”', 'POR MEDIO DEL CUAL SE CREA LA MESA MUNICIPAL DE REINCORPORACIÓN DE BUCARAMANGA Y SE DICTAN OTRAS DISPOSICIONES', 'POR MEDIO DEL CUAL SE REGLAMENTA LO CONCERNIENTE A LA ADMINISTRACIÓN Y MANTENIMIENTO DE LOS PARQUES, PLAZAS, PLAZOLETAS Y ZONAS VERDES URBANAS QUE INTEGRAN EL ESPACIO PÚBLICO DEL MUNICIPIO DE BUCARAMANGA Y SE DEROGA EL DECRETO 0084 DE 2022', '“POR MEDIO DEL CUAL SE DICTAN MEDIDAS TRANSITORIAS DE ORDEN PÚBLICO NECESARIAS PARA GARANTIZAR LA SEGURIDAD CIUDADANA Y LA PROTECCIÓN DE LOS NIÑOS, NIÑAS Y ADOLESCENTES\"', 'POR EL CUAL SE ESTABLECEN LAS TARIFAS DE LOS PARQUEADEROS PÚBLICOS DE LAS CATEGORÍAS B, C Y D DEL MUNICIPIO DE BUCARAMANGA', 'POR MEDIO DEL CUAL SE REGLAMENTA LA GESTIÓN DE LOS BIENES Y ELEMENTOS SOMETIDOS A INCAUTACION Y DECOMISO EN EL MUNICIPIO DE BUCARAMANGA Y SE DICTAN OTRAS DISPOSICIONES', 'Por medio del cual se revoca el artículo 1° del Decreto No. 0174 del 15 de diciembre de 2023 y ordena realizar elección de los integrantes de la Comisión Territorial Ciudadana para la Lucha Contra la Corrupción en el Municipio de Bucaramanga para el período 2024 a 2027”  y se modifica al artículo 10 del Decreto No 188 del 22 de noviembre del 2022', 'En virtud del numeral 8 del artículo 8 de la Ley 1437 del 2011, se publica el presente proyecto de Decreto “POR MEDIO DEL CUAL SE ADOPTA EL PLAN LOCAL DE SEGURIDAD VIAL Y SE CREA Y REGLAMENTA EL COMITÉ LOCAL DE SEGURIDAD VIAL DEL MUNICIPIO DE BUCARAMANGA”, con el objeto de recibir opiniones, sugerencias o propuestas alternativas por parte de la ciudadanía', \"en virtud del numeral 8 del artículo 8 de la Ley 1437 del 2011, se publica el presente proyecto de Decreto ''POR EL CUAL SE MODIFICA PARCIALMENTE EL DECRETO MUNICIPAL No. 0284 DEL 30 DE DICIEMBRE DE 2013 MODIFICADO POR EL DECRETO MUNICIPAL No. 0190 DEL DEL 19 DE DICIEMBRE DE 2016, con el objeto de recibir opiniones, sugerencias o propuestas alternativas por parte de la ciudadanía.\", 'En virtud del numeral 8 del artículo 8 de la Ley 1437 del 2011, se publica el presente proyecto de Decreto “POR EL CUAL SE MODIFICA EL DECRETO MUNICIPAL 0396 DEL 9 DE NOVIEMBRE DE 2020”, con el objeto de recibir opiniones, sugerencias o propuestas alternativas por parte de la ciudadanía', 'POR MEDIO DEL CUAL SE MODIFICA EL ARTÍCULO 2° DEL DECRETO 0041 DEL 07 DE ABRIL DE 2017', 'POR MEDIO DEL CUAL SE CREA/CONFORMA LA MESA TECNICA MUNICIPAL DE ENFERMEDADES HUERFANAS/RARAS DEL MUNICIPIO DE BUCARAMANGA', 'Por medio del cual se otorgan facultades al señor alcalde para declarar de utilidad pública e interés social unos predios y adquirirlos para el proyecto de infraestructura vial – construcción de la conexión oriente occidente a través del corredor comprendido entre la calle 53 y calle 54', 'En virtud del numeral 8 del artículo 8 de la Ley 1437 del 2011, se publica el presente proyecto de Decreto “Por medio del cual se implementa el programa para el fortalecimiento de empresas y creación de empleo joven, fomentando la reactivación económica en el Municipio de Bucaramanga y se dictan otras disposiciones”, con el objeto de recibir opiniones, sugerencias o propuestas alternativas por parte de la ciudadanía', 'Proyecto de Decreto “POR MEDIO DE LA CUAL SE ADOPTA E IMPLEMENTA EL PROCEDIMIENTO ADMINISTRATIVO SANCIONATORIO POR INCUMPLIMIENTO A LAS NORMAS SANITARIAS EN EL MUNICIPIO DE BUCARAMANGA Y SE DICTAN OTRAS DISPOSICIONES”', 'Proyecto de Decreto ““POR EL CUAL SE ESTABLECEN LAS TARIFAS DE LOS PARQUEADEROS PÚBLICOS DE LAS CATEGORIAS B.C Y D DEL MUNICIPIO DE BUCARAMANGA”,', 'POR MEDIO DEL CUAL SE CREA, REGLAMENTA E IMPLEMENTA LA COMISION TERRITORIAL CIUDADANA PARA LA LUCHA CONTRA LA CORRUPCIÓN EN EL MUNICIPIO DE BUCARAMANGA, DEPARTAMENTO DE SANTANDER']\n",
            "Links: ['https://www.bucaramanga.gov.co/wp-content/uploads/2024/10/RESOLUCION-RETIROS-2024-4.docx', 'https://www.bucaramanga.gov.co/wp-content/uploads/2024/10/RESOLUCION-DE-ACTIVACION-2024-5.docx', 'https://www.bucaramanga.gov.co/wp-content/uploads/2024/10/RESOLUCION-POR-MEDIO-DE-LA-CUAL-SE-REGISTRAN-LIBROS-1.docx', 'https://www.bucaramanga.gov.co/wp-content/uploads/2024/10/RESOLUCION-POR-MEDIO-DE-LA-CUAL-SE-OTORGA-PERSONERIA-JURIDICA-Y-REGISTRO-DE-ESTATUTOS-1.docx', 'https://www.bucaramanga.gov.co/wp-content/uploads/2024/10/RESOLUCION-POR-MEDIO-DE-LA-CUAL-SE-INSCRIBEN-DIGNATARIOS-1.docx', 'https://www.bucaramanga.gov.co/wp-content/uploads/2024/10/REV-F-Decreto-Mesa-de-Reincorporacion-Municipal.pdf', 'https://www.bucaramanga.gov.co/wp-content/uploads/2024/07/2-S-DADEP-202407-00049491-1.pdf', 'https://www.bucaramanga.gov.co/wp-content/uploads/2024/04/V.F-Decreto%20toque%20de%20queda%20menores%20de%20edad.pdf', 'https://www.bucaramanga.gov.co/wp-content/uploads/2024/02/FINAL%20Rev%20Juridica%20Decreto%20tarifas%20de%20parqueaderos%202024%20%28003%29.pdf', 'https://www.bucaramanga.gov.co/wp-content/uploads/2023/12/PROYECTO-DE-DECRETO-POR-MEDIO-DLE-CUAL-SE-REGLAMENTA-LA-GESTION-D-ELSO-BIENES-SOMETIDOS-A-INCAUTACION-Y-DECOMISO.pdf', 'https://www.bucaramanga.gov.co/wp-content/uploads/2024/01/DECRETO-xxx-DE-2024-revoca-parcialmente.docx', 'https://www.bucaramanga.gov.co/wp-content/uploads/2023/08/Proyecto_decreto_PLAN-LOCAL-DE-SEGURIDAD-VIAL.docx', 'https://www.bucaramanga.gov.co/wp-content/uploads/2023/06/3.-Rev.-JP-2.-YP.-Proyecto-de-Decreto-Modificación-COMSA-2.pdf', 'https://www.bucaramanga.gov.co/wp-content/uploads/2023/06/Rev.-JP-21-06-2023-PROYECTO-DE-DECRETO-QUE-MODIFICA-EL-DECRETO-0396-DE-2020-PROCEDIMIENTO-INTERNO-DERECHO-DE-PETICION-1.docx', 'https://www.bucaramanga.gov.co/wp-content/uploads/2023/05/2023.05.03.-Proyecto-de-decreto-que-modifica-el-Art.2-del-D.-0041-DE-2017.pdf', 'https://www.bucaramanga.gov.co/wp-content/uploads/2023/05/DECRETO-MESA-TECNICA-ENFERMEDADES-HUERFANAS-2023-raUL.docx', 'https://www.bucaramanga.gov.co/wp-content/uploads/2023/04/PROYECTO-FINAL-VALORIZACION-CALLES-53-Y-54-11-ABRIL-2023.docx', 'https://www.bucaramanga.gov.co/wp-content/uploads/2023/01/DECRETO-empleo-joven-revision-ano-2023.docx', 'https://www.bucaramanga.gov.co/wp-content/uploads/2022/12/DECRETO-ADOPTA-E-IMPLEMENTA-PROCESO-ADMTVO-SANCIONATORIO.pdf', 'https://www.bucaramanga.gov.co/wp-content/uploads/2022/12/Proyecto-Decreto-tarifas-parqueadero-2022-final.docx', 'https://www.bucaramanga.gov.co/wp-content/uploads/2022/10/Comision_Participacion_Ciudadana.docx']\n"
          ]
        }
      ]
    }
  ],
  "metadata": {
    "colab": {
      "name": "Te damos la bienvenida a Colaboratory",
      "provenance": [],
      "include_colab_link": true
    },
    "kernelspec": {
      "display_name": "Python 3",
      "name": "python3"
    }
  },
  "nbformat": 4,
  "nbformat_minor": 0
}
